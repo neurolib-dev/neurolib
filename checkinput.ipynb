{
 "cells": [
  {
   "cell_type": "code",
   "execution_count": 13,
   "metadata": {},
   "outputs": [
    {
     "name": "stdout",
     "output_type": "stream",
     "text": [
      "The autoreload extension is already loaded. To reload it, use:\n",
      "  %reload_ext autoreload\n"
     ]
    }
   ],
   "source": [
    "# change to the root directory of the project\n",
    "import os\n",
    "if os.getcwd().split(\"/\")[-1] == \"examples\":\n",
    "    os.chdir('..')\n",
    "    \n",
    "import matplotlib.pyplot as plt\n",
    "\n",
    "import numpy as np\n",
    "from neurolib.models.aln import ALNModel\n",
    "from neurolib.models.fhn import FHNModel\n",
    "\n",
    "np.set_printoptions(precision=5)\n",
    "    \n",
    "# This will reload all imports as soon as the code changes\n",
    "%load_ext autoreload\n",
    "%autoreload 2"
   ]
  },
  {
   "cell_type": "code",
   "execution_count": 48,
   "metadata": {},
   "outputs": [
    {
     "name": "stdout",
     "output_type": "stream",
     "text": [
      "rates exc init =  [[0.00714]]\n",
      "start ind =  41\n",
      "Nx1 -array as input\n",
      "Nx1 -array as input\n",
      "Nx1 -array as input\n",
      "rates exc output =  (1, 41) [[0.00714 0.00714 0.00714 0.00714 0.00714 0.00714 0.00714 0.00714 0.00714\n",
      "  0.00714 0.00714 0.00714 0.00714 0.00714 0.00714 0.00714 0.00714 0.00714\n",
      "  0.00714 0.00714 0.00714 0.00714 0.00714 0.00714 0.00714 0.00714 0.00714\n",
      "  0.00714 0.00714 0.00714 0.00714 0.00714 0.00714 0.00714 0.00714 0.00714\n",
      "  0.00714 0.00714 0.00714 0.00714 0.00714]]\n",
      "ext_exc_current input =  [0.]\n",
      "ext_exc_current after adjusting =  [[0. 0. 0. 0. 0. 0. 0. 0. 0. 0. 0. 0. 0. 0. 0. 0. 0. 0. 0. 0. 0. 0. 0. 0.\n",
      "  0. 0. 0. 0. 0. 0. 0. 0. 0. 0. 0. 0. 0. 0. 0. 0. 0. 0. 0. 0.]]\n",
      "rates exc init =  [[0.00561]\n",
      " [0.00754]\n",
      " [0.00499]]\n",
      "start ind =  41\n",
      "Nx1 -array as input\n",
      "Nx1 -array as input\n",
      "Nx1 -array as input\n",
      "rates exc output =  (3, 41) [[0.00561 0.00561 0.00561 0.00561 0.00561 0.00561 0.00561 0.00561 0.00561\n",
      "  0.00561 0.00561 0.00561 0.00561 0.00561 0.00561 0.00561 0.00561 0.00561\n",
      "  0.00561 0.00561 0.00561 0.00561 0.00561 0.00561 0.00561 0.00561 0.00561\n",
      "  0.00561 0.00561 0.00561 0.00561 0.00561 0.00561 0.00561 0.00561 0.00561\n",
      "  0.00561 0.00561 0.00561 0.00561 0.00561]\n",
      " [0.00754 0.00754 0.00754 0.00754 0.00754 0.00754 0.00754 0.00754 0.00754\n",
      "  0.00754 0.00754 0.00754 0.00754 0.00754 0.00754 0.00754 0.00754 0.00754\n",
      "  0.00754 0.00754 0.00754 0.00754 0.00754 0.00754 0.00754 0.00754 0.00754\n",
      "  0.00754 0.00754 0.00754 0.00754 0.00754 0.00754 0.00754 0.00754 0.00754\n",
      "  0.00754 0.00754 0.00754 0.00754 0.00754]\n",
      " [0.00499 0.00499 0.00499 0.00499 0.00499 0.00499 0.00499 0.00499 0.00499\n",
      "  0.00499 0.00499 0.00499 0.00499 0.00499 0.00499 0.00499 0.00499 0.00499\n",
      "  0.00499 0.00499 0.00499 0.00499 0.00499 0.00499 0.00499 0.00499 0.00499\n",
      "  0.00499 0.00499 0.00499 0.00499 0.00499 0.00499 0.00499 0.00499 0.00499\n",
      "  0.00499 0.00499 0.00499 0.00499 0.00499]]\n",
      "ext_exc_current input =  [0. 0. 0.]\n",
      "ext_exc_current after adjusting =  [[0. 0. 0. 0. 0. 0. 0. 0. 0. 0. 0. 0. 0. 0. 0. 0. 0. 0. 0. 0. 0. 0. 0. 0.\n",
      "  0. 0. 0. 0. 0. 0. 0. 0. 0. 0. 0. 0. 0. 0. 0. 0. 0. 0. 0. 0.]\n",
      " [0. 0. 0. 0. 0. 0. 0. 0. 0. 0. 0. 0. 0. 0. 0. 0. 0. 0. 0. 0. 0. 0. 0. 0.\n",
      "  0. 0. 0. 0. 0. 0. 0. 0. 0. 0. 0. 0. 0. 0. 0. 0. 0. 0. 0. 0.]\n",
      " [0. 0. 0. 0. 0. 0. 0. 0. 0. 0. 0. 0. 0. 0. 0. 0. 0. 0. 0. 0. 0. 0. 0. 0.\n",
      "  0. 0. 0. 0. 0. 0. 0. 0. 0. 0. 0. 0. 0. 0. 0. 0. 0. 0. 0. 0.]]\n"
     ]
    }
   ],
   "source": [
    "model = ALNModel()\n",
    "\n",
    "c_mat = np.array([[0, 0, 0], [0, 0, 0], [0, 0, 0]])\n",
    "fiber_matrix = np.zeros((len(c_mat), len(c_mat)))\n",
    "modelNW = ALNModel(Cmat = c_mat, Dmat = fiber_matrix)\n",
    "\n",
    "init = model.init_vars\n",
    "output = model.state_vars\n",
    "\n",
    "model.params.duration = 0.3\n",
    "modelNW.params.duration = 0.3\n",
    "\n",
    "model.run()\n",
    "modelNW.run()"
   ]
  },
  {
   "cell_type": "code",
   "execution_count": 82,
   "metadata": {},
   "outputs": [
    {
     "name": "stdout",
     "output_type": "stream",
     "text": [
      "rates exc init =  0.1\n",
      "start ind =  41\n",
      "just float as input\n",
      "Nx1 -array as input\n",
      "Nx1 -array as input\n",
      "rates exc output =  (3, 41) [[0.1 0.1 0.1 0.1 0.1 0.1 0.1 0.1 0.1 0.1 0.1 0.1 0.1 0.1 0.1 0.1 0.1 0.1\n",
      "  0.1 0.1 0.1 0.1 0.1 0.1 0.1 0.1 0.1 0.1 0.1 0.1 0.1 0.1 0.1 0.1 0.1 0.1\n",
      "  0.1 0.1 0.1 0.1 0.1]\n",
      " [0.1 0.1 0.1 0.1 0.1 0.1 0.1 0.1 0.1 0.1 0.1 0.1 0.1 0.1 0.1 0.1 0.1 0.1\n",
      "  0.1 0.1 0.1 0.1 0.1 0.1 0.1 0.1 0.1 0.1 0.1 0.1 0.1 0.1 0.1 0.1 0.1 0.1\n",
      "  0.1 0.1 0.1 0.1 0.1]\n",
      " [0.1 0.1 0.1 0.1 0.1 0.1 0.1 0.1 0.1 0.1 0.1 0.1 0.1 0.1 0.1 0.1 0.1 0.1\n",
      "  0.1 0.1 0.1 0.1 0.1 0.1 0.1 0.1 0.1 0.1 0.1 0.1 0.1 0.1 0.1 0.1 0.1 0.1\n",
      "  0.1 0.1 0.1 0.1 0.1]]\n",
      "ext_exc_current input =  [0. 0. 0.]\n",
      "ext_exc_current after adjusting =  [[0. 0. 0. 0. 0. 0. 0. 0. 0. 0. 0. 0. 0. 0. 0. 0. 0. 0. 0. 0. 0. 0. 0. 0.\n",
      "  0. 0. 0. 0. 0. 0. 0. 0. 0. 0. 0. 0. 0. 0. 0. 0. 0. 0. 0. 0.]\n",
      " [0. 0. 0. 0. 0. 0. 0. 0. 0. 0. 0. 0. 0. 0. 0. 0. 0. 0. 0. 0. 0. 0. 0. 0.\n",
      "  0. 0. 0. 0. 0. 0. 0. 0. 0. 0. 0. 0. 0. 0. 0. 0. 0. 0. 0. 0.]\n",
      " [0. 0. 0. 0. 0. 0. 0. 0. 0. 0. 0. 0. 0. 0. 0. 0. 0. 0. 0. 0. 0. 0. 0. 0.\n",
      "  0. 0. 0. 0. 0. 0. 0. 0. 0. 0. 0. 0. 0. 0. 0. 0. 0. 0. 0. 0.]]\n"
     ]
    }
   ],
   "source": [
    "#model.params.rates_exc_init = np.array([0.1])\n",
    "#np.array([[0.5, 0.5, 0.3, 0.5, 0.5, 0.3, 0.5, 0.5, 0.3, 0.5, 0.5, 0.3, 0.5, 0.5, 0.3, 0.5, 0.5, 0.5, 0.3, 0.5, 0.5, 0.3, 0.5, 0.5, 0.3, 0.5, 0.5, 0.3, 0.5, 0.5, 0.3, 0.5, 0.5, 0.3, 0.5, 0.5, 0.3, 0.5, 0.5, 0.3, 0.0]])\n",
    "#model.run()\n",
    "\n",
    "#testarray = np.array( [\n",
    "#    [0.9, 0.5, 0.3, 0.5, 0.5, 0.3, 0.5, 0.5, 0.3, 0.5, 0.5, 0.3, 0.5, 0.5, 0.3, 0.5, 0.5, 0.5, 0.3, 0.5, 0.5, 0.3, 0.5, 0.5, 0.3, 0.5, 0.5, 0.3, 0.5, 0.5, 0.3, 0.5, 0.5, 0.3, 0.5, 0.5, 0.3, 0.5, 0.5, 0.3, 0.0],\n",
    "#    [0.8, 0.5, 0.3, 0.5, 0.5, 0.3, 0.5, 0.5, 0.3, 0.5, 0.5, 0.3, 0.5, 0.5, 0.3, 0.5, 0.5, 0.5, 0.3, 0.5, 0.5, 0.3, 0.5, 0.5, 0.3, 0.5, 0.5, 0.3, 0.5, 0.5, 0.3, 0.5, 0.5, 0.3, 0.5, 0.5, 0.3, 0.5, 0.5, 0.3, 0.0],\n",
    "#    [0.5, 0.5, 0.3, 0.5, 0.5, 0.3, 0.5, 0.5, 0.3, 0.5, 0.5, 0.3, 0.5, 0.5, 0.3, 0.5, 0.5, 0.5, 0.3, 0.5, 0.5, 0.3, 0.5, 0.5, 0.3, 0.5, 0.5, 0.3, 0.5, 0.5, 0.3, 0.5, 0.5, 0.3, 0.5, 0.5, 0.3, 0.5, 0.5, 0.3, 0.0]\n",
    "#                      ] )\n",
    "\n",
    "testarray = 0.1\n",
    "\n",
    "#print(testarray.shape, type(testarray))\n",
    "modelNW.params.rates_exc_init = testarray\n",
    "modelNW.run()"
   ]
  },
  {
   "cell_type": "code",
   "execution_count": 123,
   "metadata": {},
   "outputs": [
    {
     "name": "stderr",
     "output_type": "stream",
     "text": [
      "ERROR:root:Invalid external input. Set to zero instead\n"
     ]
    },
    {
     "name": "stdout",
     "output_type": "stream",
     "text": [
      "(1, 2)\n"
     ]
    }
   ],
   "source": [
    "c_mat = np.array([[0, 0], [0, 0]])\n",
    "fiber_matrix = np.zeros((len(c_mat), len(c_mat)))\n",
    "modelNW = ALNModel(Cmat = c_mat, Dmat = fiber_matrix)\n",
    "modelNW.params.duration = 0.3\n",
    "modelNW.params.de = 0.2\n",
    "modelNW.params.di = 0.2\n",
    "\n",
    "extCurrent = np.array( [[0.1, 2. ]] )\n",
    "print(extCurrent.shape)\n",
    "modelNW.params.ext_exc_current = extCurrent\n",
    "modelNW.run()"
   ]
  },
  {
   "cell_type": "code",
   "execution_count": 10,
   "metadata": {},
   "outputs": [
    {
     "name": "stdout",
     "output_type": "stream",
     "text": [
      "initial variable =  rates_exc_init\n",
      "dim, shape, size, len, value =  2 (1, 1) 1 1 [[0.0027]]\n",
      "initial variable =  rates_inh_init\n",
      "dim, shape, size, len, value =  2 (1, 1) 1 1 [[0.0026]]\n",
      "initial variable =  mufe_init\n",
      "dim, shape, size, len, value =  1 (1,) 1 1 [2.043]\n",
      "initial variable =  mufi_init\n",
      "dim, shape, size, len, value =  1 (1,) 1 1 [0.1146]\n",
      "initial variable =  IA_init\n",
      "dim, shape, size, len, value =  2 (1, 1) 1 1 [[41.3]]\n",
      "initial variable =  seem_init\n",
      "dim, shape, size, len, value =  1 (1,) 1 1 [0.0466]\n",
      "initial variable =  seim_init\n",
      "dim, shape, size, len, value =  1 (1,) 1 1 [0.0738]\n",
      "initial variable =  siem_init\n",
      "dim, shape, size, len, value =  1 (1,) 1 1 [0.2614]\n",
      "initial variable =  siim_init\n",
      "dim, shape, size, len, value =  1 (1,) 1 1 [0.1991]\n",
      "initial variable =  seev_init\n",
      "dim, shape, size, len, value =  1 (1,) 1 1 [0.0005]\n",
      "initial variable =  seiv_init\n",
      "dim, shape, size, len, value =  1 (1,) 1 1 [7.4512e-05]\n",
      "initial variable =  siev_init\n",
      "dim, shape, size, len, value =  1 (1,) 1 1 [0.0099]\n",
      "initial variable =  siiv_init\n",
      "dim, shape, size, len, value =  1 (1,) 1 1 [0.0006]\n",
      "initial variable =  mue_ou\n",
      "dim, shape, size, len, value =  1 (1,) 1 1 [0.4]\n",
      "initial variable =  mui_ou\n",
      "dim, shape, size, len, value =  1 (1,) 1 1 [0.3]\n",
      "output variable =  rates_exc\n",
      "dim, shape, size, len, value =  2 (1, 41) 41 1 [[2.6713e-03 2.6713e-03 2.6713e-03 2.6713e-03 2.6713e-03 2.6713e-03\n",
      "  2.6713e-03 2.6713e-03 2.6713e-03 2.6713e-03 2.6713e-03 2.6713e-03\n",
      "  2.6713e-03 2.6713e-03 2.6713e-03 2.6713e-03 2.6713e-03 2.6713e-03\n",
      "  2.6713e-03 2.6713e-03 2.6713e-03 2.6713e-03 2.6713e-03 2.6713e-03\n",
      "  2.6713e-03 2.6713e-03 2.6713e-03 2.6713e-03 2.6713e-03 2.6713e-03\n",
      "  2.6713e-03 2.6713e-03 2.6713e-03 2.6713e-03 2.6713e-03 2.6713e-03\n",
      "  2.6713e-03 2.6713e-03 5.3950e+01 4.7741e+01 4.2868e+01]]\n",
      "output variable =  rates_inh\n",
      "dim, shape, size, len, value =  2 (1, 41) 41 1 [[0.0026 0.0026 0.0026 0.0026 0.0026 0.0026 0.0026 0.0026 0.0026 0.0026\n",
      "  0.0026 0.0026 0.0026 0.0026 0.0026 0.0026 0.0026 0.0026 0.0026 0.0026\n",
      "  0.0026 0.0026 0.0026 0.0026 0.0026 0.0026 0.0026 0.0026 0.0026 0.0026\n",
      "  0.0026 0.0026 0.0026 0.0026 0.0026 0.0026 0.0026 0.0026 0.2852 0.2825\n",
      "  0.2812]]\n",
      "output variable =  mufe\n",
      "dim, shape, size, len, value =  1 (1,) 1 1 [1.5991]\n",
      "output variable =  mufi\n",
      "dim, shape, size, len, value =  1 (1,) 1 1 [0.1234]\n",
      "output variable =  IA\n",
      "dim, shape, size, len, value =  2 (1, 41) 41 1 [[41.3    41.3    41.3    41.3    41.3    41.3    41.3    41.3    41.3\n",
      "  41.3    41.3    41.3    41.3    41.3    41.3    41.3    41.3    41.3\n",
      "  41.3    41.3    41.3    41.3    41.3    41.3    41.3    41.3    41.3\n",
      "  41.3    41.3    41.3    41.3    41.3    41.3    41.3    41.3    41.3\n",
      "  41.3    41.3    41.2794 41.2588 41.2381]]\n"
     ]
    }
   ],
   "source": [
    "# 1 node\n",
    "for i in range(len(init)):\n",
    "    print(\"initial variable = \", init[i])\n",
    "    print(\"dim, shape, size, len, value = \", model.params[init[i]].ndim, model.params[init[i]].shape,\n",
    "          model.params[init[i]].size, len(model.params[init[i]]), model.params[init[i]])\n",
    "    \n",
    "for i in range(5):\n",
    "    print(\"output variable = \", output[i])\n",
    "    print(\"dim, shape, size, len, value = \", model.state[output[i]].ndim, model.state[output[i]].shape,\n",
    "          model.state[output[i]].size, len(model.state[output[i]]), model.state[output[i]])"
   ]
  },
  {
   "cell_type": "code",
   "execution_count": 7,
   "metadata": {},
   "outputs": [
    {
     "name": "stdout",
     "output_type": "stream",
     "text": [
      "initial variable =  rates_exc_init\n",
      "dim, shape, size, len, value =  2 (2, 1) 2 2 [[0.0051]\n",
      " [0.0013]]\n",
      "initial variable =  rates_inh_init\n",
      "dim, shape, size, len, value =  2 (2, 1) 2 2 [[0.0057]\n",
      " [0.0043]]\n",
      "initial variable =  mufe_init\n",
      "dim, shape, size, len, value =  1 (2,) 2 2 [2.1526 0.7159]\n",
      "initial variable =  mufi_init\n",
      "dim, shape, size, len, value =  1 (2,) 2 2 [0.9443 1.829 ]\n",
      "initial variable =  IA_init\n",
      "dim, shape, size, len, value =  2 (2, 1) 2 2 [[50.9754]\n",
      " [42.979 ]]\n",
      "output variable =  rates_exc\n",
      "dim, shape, size, len, value =  2 (2, 41) 82 2 [[5.1352e-03 5.1352e-03 5.1352e-03 5.1352e-03 5.1352e-03 5.1352e-03\n",
      "  5.1352e-03 5.1352e-03 5.1352e-03 5.1352e-03 5.1352e-03 5.1352e-03\n",
      "  5.1352e-03 5.1352e-03 5.1352e-03 5.1352e-03 5.1352e-03 5.1352e-03\n",
      "  5.1352e-03 5.1352e-03 5.1352e-03 5.1352e-03 5.1352e-03 5.1352e-03\n",
      "  5.1352e-03 5.1352e-03 5.1352e-03 5.1352e-03 5.1352e-03 5.1352e-03\n",
      "  5.1352e-03 5.1352e-03 5.1352e-03 5.1352e-03 5.1352e-03 5.1352e-03\n",
      "  5.1352e-03 5.1352e-03 5.5937e+01 4.6348e+01 3.9338e+01]\n",
      " [1.3155e-03 1.3155e-03 1.3155e-03 1.3155e-03 1.3155e-03 1.3155e-03\n",
      "  1.3155e-03 1.3155e-03 1.3155e-03 1.3155e-03 1.3155e-03 1.3155e-03\n",
      "  1.3155e-03 1.3155e-03 1.3155e-03 1.3155e-03 1.3155e-03 1.3155e-03\n",
      "  1.3155e-03 1.3155e-03 1.3155e-03 1.3155e-03 1.3155e-03 1.3155e-03\n",
      "  1.3155e-03 1.3155e-03 1.3155e-03 1.3155e-03 1.3155e-03 1.3155e-03\n",
      "  1.3155e-03 1.3155e-03 1.3155e-03 1.3155e-03 1.3155e-03 1.3155e-03\n",
      "  1.3155e-03 1.3155e-03 5.9346e+00 5.3841e+00 4.8947e+00]]\n",
      "output variable =  rates_inh\n",
      "dim, shape, size, len, value =  2 (2, 41) 82 2 [[5.6590e-03 5.6590e-03 5.6590e-03 5.6590e-03 5.6590e-03 5.6590e-03\n",
      "  5.6590e-03 5.6590e-03 5.6590e-03 5.6590e-03 5.6590e-03 5.6590e-03\n",
      "  5.6590e-03 5.6590e-03 5.6590e-03 5.6590e-03 5.6590e-03 5.6590e-03\n",
      "  5.6590e-03 5.6590e-03 5.6590e-03 5.6590e-03 5.6590e-03 5.6590e-03\n",
      "  5.6590e-03 5.6590e-03 5.6590e-03 5.6590e-03 5.6590e-03 5.6590e-03\n",
      "  5.6590e-03 5.6590e-03 5.6590e-03 5.6590e-03 5.6590e-03 5.6590e-03\n",
      "  5.6590e-03 5.6590e-03 2.2442e+01 2.1769e+01 2.1125e+01]\n",
      " [4.3234e-03 4.3234e-03 4.3234e-03 4.3234e-03 4.3234e-03 4.3234e-03\n",
      "  4.3234e-03 4.3234e-03 4.3234e-03 4.3234e-03 4.3234e-03 4.3234e-03\n",
      "  4.3234e-03 4.3234e-03 4.3234e-03 4.3234e-03 4.3234e-03 4.3234e-03\n",
      "  4.3234e-03 4.3234e-03 4.3234e-03 4.3234e-03 4.3234e-03 4.3234e-03\n",
      "  4.3234e-03 4.3234e-03 4.3234e-03 4.3234e-03 4.3234e-03 4.3234e-03\n",
      "  4.3234e-03 4.3234e-03 4.3234e-03 4.3234e-03 4.3234e-03 4.3234e-03\n",
      "  4.3234e-03 4.3234e-03 5.3707e+01 5.1898e+01 5.0155e+01]]\n",
      "output variable =  mufe\n",
      "dim, shape, size, len, value =  1 (2,) 2 2 [1.5087 0.6648]\n",
      "output variable =  mufi\n",
      "dim, shape, size, len, value =  1 (2,) 2 2 [0.8947 1.6704]\n",
      "output variable =  IA\n",
      "dim, shape, size, len, value =  2 (2, 41) 82 2 [[50.9754 50.9754 50.9754 50.9754 50.9754 50.9754 50.9754 50.9754 50.9754\n",
      "  50.9754 50.9754 50.9754 50.9754 50.9754 50.9754 50.9754 50.9754 50.9754\n",
      "  50.9754 50.9754 50.9754 50.9754 50.9754 50.9754 50.9754 50.9754 50.9754\n",
      "  50.9754 50.9754 50.9754 50.9754 50.9754 50.9754 50.9754 50.9754 50.9754\n",
      "  50.9754 50.9754 50.9499 50.9244 50.8989]\n",
      " [42.979  42.979  42.979  42.979  42.979  42.979  42.979  42.979  42.979\n",
      "  42.979  42.979  42.979  42.979  42.979  42.979  42.979  42.979  42.979\n",
      "  42.979  42.979  42.979  42.979  42.979  42.979  42.979  42.979  42.979\n",
      "  42.979  42.979  42.979  42.979  42.979  42.979  42.979  42.979  42.979\n",
      "  42.979  42.979  42.9576 42.9361 42.9146]]\n"
     ]
    }
   ],
   "source": [
    "# 2 nodes\n",
    "for i in range(5):\n",
    "    print(\"initial variable = \", init[i])\n",
    "    print(\"dim, shape, size, len, value = \", modelNW.params[init[i]].ndim, modelNW.params[init[i]].shape,\n",
    "          modelNW.params[init[i]].size, len(modelNW.params[init[i]]), modelNW.params[init[i]])\n",
    "    \n",
    "for i in range(5):\n",
    "    print(\"output variable = \", output[i])\n",
    "    print(\"dim, shape, size, len, value = \", modelNW.state[output[i]].ndim, modelNW.state[output[i]].shape,\n",
    "          modelNW.state[output[i]].size, len(modelNW.state[output[i]]), modelNW.state[output[i]])"
   ]
  },
  {
   "cell_type": "code",
   "execution_count": null,
   "metadata": {},
   "outputs": [],
   "source": []
  }
 ],
 "metadata": {
  "kernelspec": {
   "display_name": "Python 3 (Spyder)",
   "language": "python3",
   "name": "python3"
  },
  "language_info": {
   "codemirror_mode": {
    "name": "ipython",
    "version": 3
   },
   "file_extension": ".py",
   "mimetype": "text/x-python",
   "name": "python",
   "nbconvert_exporter": "python",
   "pygments_lexer": "ipython3",
   "version": "3.7.6"
  }
 },
 "nbformat": 4,
 "nbformat_minor": 4
}
