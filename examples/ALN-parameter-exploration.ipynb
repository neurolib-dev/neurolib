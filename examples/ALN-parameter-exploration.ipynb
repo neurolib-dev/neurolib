{
 "cells": [
  {
   "cell_type": "code",
   "execution_count": 1,
   "metadata": {},
   "outputs": [],
   "source": [
    "# change into root directory to the project\n",
    "import os\n",
    "os.chdir('..')"
   ]
  },
  {
   "cell_type": "code",
   "execution_count": 2,
   "metadata": {},
   "outputs": [],
   "source": [
    "import logging\n",
    "logger = logging.getLogger()\n",
    "logger.setLevel(logging.DEBUG)\n",
    "\n",
    "%load_ext autoreload\n",
    "%autoreload 2"
   ]
  },
  {
   "cell_type": "code",
   "execution_count": 3,
   "metadata": {},
   "outputs": [],
   "source": [
    "from neurolib.models.aln import ALNModel"
   ]
  },
  {
   "cell_type": "code",
   "execution_count": 4,
   "metadata": {},
   "outputs": [],
   "source": [
    "import pypet\n",
    "import matplotlib.pyplot as plt\n",
    "\n",
    "\n",
    "import numpy as np\n",
    "from neurolib.models.aln import ALNModel\n",
    "\n",
    "from neurolib.optimize.exploration import BoxSearch\n",
    "\n",
    "import neurolib.utils.paths as paths\n",
    "\n",
    "# sett dpi for notebooks on server\n",
    "plt.rcParams['svg.fonttype'] = 'none'\n",
    "plt.rcParams['savefig.dpi'] = 600\n",
    "plt.rcParams['image.cmap'] = 'plasma'"
   ]
  },
  {
   "cell_type": "code",
   "execution_count": 5,
   "metadata": {},
   "outputs": [
    {
     "name": "stderr",
     "output_type": "stream",
     "text": [
      "INFO:root:Model aln created\n",
      "INFO:root:2/2 outputs added: ['rates_exc', 'rates_inh']\n"
     ]
    }
   ],
   "source": [
    "alnModel = ALNModel()"
   ]
  },
  {
   "cell_type": "code",
   "execution_count": 10,
   "metadata": {},
   "outputs": [
    {
     "name": "stderr",
     "output_type": "stream",
     "text": [
      "MainProcess root INFO     Number of parameter configurations: 121\n"
     ]
    }
   ],
   "source": [
    "parameters = {'mue_ext_mean' : np.linspace(0, 3, 11).tolist(),\n",
    "              'mui_ext_mean' : np.linspace(0, 3, 11).tolist()}\n",
    "search = BoxSearch(alnModel, parameters)"
   ]
  },
  {
   "cell_type": "code",
   "execution_count": 11,
   "metadata": {},
   "outputs": [
    {
     "name": "stderr",
     "output_type": "stream",
     "text": [
      "MainProcess root INFO     Number of processes: 8\n",
      "MainProcess pypet.storageservice.HDF5StorageService INFO     I will use the hdf5 file `./data/hdf/exploration.hdf`.\n",
      "MainProcess pypet.environment.Environment INFO     Environment initialized.\n",
      "/Users/caglar/anaconda/lib/python3.7/site-packages/pypet/parameter.py:884: FutureWarning: Conversion of the second argument of issubdtype from `str` to `str` is deprecated. In future, it will be treated as `np.str_ == np.dtype(str).type`.\n",
      "  if np.issubdtype(dtype, np.str):\n",
      "MainProcess root INFO     Pypet environment initialized.\n"
     ]
    }
   ],
   "source": [
    "search.initializeExploration()"
   ]
  },
  {
   "cell_type": "code",
   "execution_count": 12,
   "metadata": {},
   "outputs": [
    {
     "name": "stderr",
     "output_type": "stream",
     "text": [
      "MainProcess pypet.environment.Environment INFO     I am preparing the Trajectory for the experiment and initialise the store.\n",
      "MainProcess pypet.environment.Environment INFO     Initialising the storage for the trajectory.\n",
      "MainProcess pypet.storageservice.HDF5StorageService INFO     Initialising storage or updating meta data of Trajectory `results-2020-01-28-19H-55M-29S-exploration`.\n",
      "MainProcess pypet.storageservice.HDF5StorageService INFO     Finished init or meta data update for `results-2020-01-28-19H-55M-29S-exploration`.\n",
      "MainProcess pypet.environment.Environment INFO     \n",
      "************************************************************\n",
      "STARTING runs of trajectory\n",
      "`results-2020-01-28-19H-55M-29S-exploration`.\n",
      "************************************************************\n",
      "\n",
      "MainProcess pypet.storageservice.HDF5StorageService INFO     Initialising storage or updating meta data of Trajectory `results-2020-01-28-19H-55M-29S-exploration`.\n",
      "MainProcess pypet.storageservice.HDF5StorageService INFO     Finished init or meta data update for `results-2020-01-28-19H-55M-29S-exploration`.\n",
      "MainProcess pypet.environment.MultiprocContext INFO     Starting the Storage Queue!\n",
      "MainProcess pypet.environment.Environment INFO     Starting multiprocessing with at most 8 processes running at the same time.\n",
      "MainProcess pypet INFO     PROGRESS: Finished   0/121 runs [                    ]  0.0%\n",
      "MainProcess pypet INFO     PROGRESS: Finished   7/121 runs [=                   ]  5.8%, remaining: 0:00:02\n",
      "/Users/caglar/anaconda/lib/python3.7/site-packages/pypet/storageservice.py:3110: FutureWarning: Conversion of the second argument of issubdtype from `str` to `str` is deprecated. In future, it will be treated as `np.str_ == np.dtype(str).type`.\n",
      "  np.issubdtype(data.dtype, str)):\n",
      "MainProcess pypet INFO     PROGRESS: Finished  13/121 runs [==                  ] 10.7%, remaining: 0:00:02\n",
      "MainProcess pypet INFO     PROGRESS: Finished  19/121 runs [===                 ] 15.7%, remaining: 0:00:02\n",
      "MainProcess pypet INFO     PROGRESS: Finished  25/121 runs [====                ] 20.7%, remaining: 0:00:02\n",
      "MainProcess pypet INFO     PROGRESS: Finished  31/121 runs [=====               ] 25.6%, remaining: 0:00:02\n",
      "MainProcess pypet INFO     PROGRESS: Finished  37/121 runs [======              ] 30.6%, remaining: 0:00:02\n",
      "MainProcess pypet INFO     PROGRESS: Finished  43/121 runs [=======             ] 35.5%, remaining: 0:00:02\n",
      "MainProcess pypet INFO     PROGRESS: Finished  49/121 runs [========            ] 40.5%, remaining: 0:00:01\n",
      "MainProcess pypet INFO     PROGRESS: Finished  55/121 runs [=========           ] 45.5%, remaining: 0:00:01\n",
      "MainProcess pypet INFO     PROGRESS: Finished  61/121 runs [==========          ] 50.4%, remaining: 0:00:01\n",
      "MainProcess pypet INFO     PROGRESS: Finished  67/121 runs [===========         ] 55.4%, remaining: 0:00:01\n",
      "MainProcess pypet INFO     PROGRESS: Finished  73/121 runs [============        ] 60.3%, remaining: 0:00:01\n",
      "MainProcess pypet INFO     PROGRESS: Finished  79/121 runs [=============       ] 65.3%, remaining: 0:00:01\n",
      "MainProcess pypet INFO     PROGRESS: Finished  85/121 runs [==============      ] 70.2%, remaining: 0:00:01\n",
      "MainProcess pypet INFO     PROGRESS: Finished  91/121 runs [===============     ] 75.2%, remaining: 0:00:00\n",
      "MainProcess pypet INFO     PROGRESS: Finished  97/121 runs [================    ] 80.2%, remaining: 0:00:00\n",
      "MainProcess pypet INFO     PROGRESS: Finished 103/121 runs [=================   ] 85.1%, remaining: 0:00:00\n",
      "MainProcess pypet INFO     PROGRESS: Finished 109/121 runs [==================  ] 90.1%, remaining: 0:00:00\n",
      "MainProcess pypet INFO     PROGRESS: Finished 115/121 runs [=================== ] 95.0%, remaining: 0:00:00\n",
      "MainProcess pypet INFO     PROGRESS: Finished 121/121 runs [====================]100.0%\n",
      "MainProcess pypet.environment.MultiprocContext INFO     The Storage Queue will no longer accept new data. Hang in there for a little while. There still might be some data in the queue that needs to be stored.\n",
      "MainProcess pypet.environment.MultiprocContext INFO     The Storage Queue has joined.\n",
      "MainProcess pypet.storageservice.HDF5StorageService INFO     Initialising storage or updating meta data of Trajectory `results-2020-01-28-19H-55M-29S-exploration`.\n",
      "MainProcess pypet.storageservice.HDF5StorageService INFO     Finished init or meta data update for `results-2020-01-28-19H-55M-29S-exploration`.\n",
      "MainProcess pypet.environment.Environment INFO     \n",
      "************************************************************\n",
      "FINISHED all runs of trajectory\n",
      "`results-2020-01-28-19H-55M-29S-exploration`.\n",
      "************************************************************\n",
      "\n",
      "MainProcess pypet.environment.Environment INFO     \n",
      "************************************************************\n",
      "STARTING FINAL STORING of trajectory\n",
      "`results-2020-01-28-19H-55M-29S-exploration`\n",
      "************************************************************\n",
      "\n",
      "MainProcess pypet.storageservice.HDF5StorageService INFO     Start storing Trajectory `results-2020-01-28-19H-55M-29S-exploration`.\n",
      "MainProcess pypet.storageservice.HDF5StorageService INFO     Storing branch `config`.\n",
      "/Users/caglar/anaconda/lib/python3.7/site-packages/pypet/storageservice.py:4597: FutureWarning: Conversion of the second argument of issubdtype from `str` to `str` is deprecated. In future, it will be treated as `np.str_ == np.dtype(str).type`.\n",
      "  if (np.issubdtype(val.dtype, str) or\n",
      "/Users/caglar/anaconda/lib/python3.7/site-packages/pypet/storageservice.py:4598: FutureWarning: Conversion of the second argument of issubdtype from `bytes` to `bytes` is deprecated. In future, it will be treated as `np.bytes_ == np.dtype(bytes).type`.\n",
      "  np.issubdtype(val.dtype, bytes)):\n",
      "MainProcess pypet.storageservice.HDF5StorageService INFO     Storing branch `parameters`.\n",
      "/Users/caglar/anaconda/lib/python3.7/site-packages/pypet/storageservice.py:3110: FutureWarning: Conversion of the second argument of issubdtype from `str` to `str` is deprecated. In future, it will be treated as `np.str_ == np.dtype(str).type`.\n",
      "  np.issubdtype(data.dtype, str)):\n",
      "MainProcess pypet.storageservice.HDF5StorageService INFO     Finished storing Trajectory `results-2020-01-28-19H-55M-29S-exploration`.\n",
      "MainProcess pypet.environment.Environment INFO     \n",
      "************************************************************\n",
      "FINISHED FINAL STORING of trajectory\n",
      "`results-2020-01-28-19H-55M-29S-exploration`.\n",
      "************************************************************\n",
      "\n",
      "MainProcess pypet.environment.Environment INFO     All runs of trajectory `results-2020-01-28-19H-55M-29S-exploration` were completed successfully.\n"
     ]
    }
   ],
   "source": [
    "search.run()"
   ]
  },
  {
   "cell_type": "code",
   "execution_count": 13,
   "metadata": {},
   "outputs": [
    {
     "name": "stderr",
     "output_type": "stream",
     "text": [
      "MainProcess root INFO     Loading results from ./data/hdf/exploration.hdf\n",
      "MainProcess root INFO     Analyzing trajectory results-2020-01-28-19H-55M-29S-exploration\n",
      "MainProcess pypet.storageservice.HDF5StorageService INFO     I will use the hdf5 file `./data/hdf/exploration.hdf`.\n",
      "MainProcess pypet.storageservice.HDF5StorageService INFO     Loading trajectory `results-2020-01-28-19H-55M-29S-exploration`.\n",
      "MainProcess pypet.storageservice.HDF5StorageService INFO     Loading branch `config` in mode `2`.\n",
      "MainProcess pypet.storageservice.HDF5StorageService INFO     Loading branch `parameters` in mode `2`.\n",
      "MainProcess pypet.storageservice.HDF5StorageService INFO     Loading branch `results` in mode `1`.\n",
      "MainProcess root INFO     Creating results dictionary ...\n",
      "100%|██████████| 121/121 [00:00<00:00, 197.23it/s]\n",
      "MainProcess root INFO     done.\n"
     ]
    }
   ],
   "source": [
    "search.loadResults()"
   ]
  },
  {
   "cell_type": "code",
   "execution_count": 14,
   "metadata": {},
   "outputs": [],
   "source": [
    "for i in search.dfResults.index:\n",
    "    # determine maximum rate values in the last second of the simulation\n",
    "    search.dfResults.loc[i, 'max_r'] = np.max(search.runResults[i]['rates_exc'][:, -int(1000/alnModel.params['dt']):])"
   ]
  },
  {
   "cell_type": "code",
   "execution_count": 15,
   "metadata": {},
   "outputs": [
    {
     "data": {
      "text/plain": [
       "Text(0, 0.5, 'Input to I')"
      ]
     },
     "execution_count": 15,
     "metadata": {},
     "output_type": "execute_result"
    },
    {
     "data": {
      "image/png": "[encoded data removed]",
      "text/plain": [
       "<Figure size 432x288 with 2 Axes>"
      ]
     },
     "metadata": {
      "needs_background": "light"
     },
     "output_type": "display_data"
    }
   ],
   "source": [
    "plt.imshow(search.dfResults.pivot_table(values='max_r', index = 'mui_ext_mean', columns='mue_ext_mean'), \\\n",
    "           extent = [min(search.dfResults.mue_ext_mean), max(search.dfResults.mue_ext_mean),\n",
    "                     min(search.dfResults.mui_ext_mean), max(search.dfResults.mui_ext_mean)], origin='lower')\n",
    "plt.colorbar(label='Maximum rate [Hz]')\n",
    "plt.xlabel(\"Input to E\")\n",
    "plt.ylabel(\"Input to I\")"
   ]
  }
 ],
 "metadata": {
  "kernelspec": {
   "display_name": "Python 3",
   "language": "python",
   "name": "python3"
  },
  "language_info": {
   "codemirror_mode": {
    "name": "ipython",
    "version": 3
   },
   "file_extension": ".py",
   "mimetype": "text/x-python",
   "name": "python",
   "nbconvert_exporter": "python",
   "pygments_lexer": "ipython3",
   "version": "3.7.3"
  }
 },
 "nbformat": 4,
 "nbformat_minor": 4
}
