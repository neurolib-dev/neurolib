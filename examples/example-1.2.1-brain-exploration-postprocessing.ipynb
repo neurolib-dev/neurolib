{
 "cells": [
  {
   "cell_type": "markdown",
   "metadata": {},
   "source": [
    "# Parameter exploration with custom run function and postprocessing\n",
    "\n",
    "This notebook demonstrates how to scan the parameter space of a brain network model  using `neurolib` with a custom evaluation function to quickly find regions of interest. The evaluation function is designed to increase the speed for the exploration by focussing on regions where the simulated dynamics meets certain criteria. For this, the simulation is run in multiple, successive steps, that increase in duration.\n",
    "\n",
    "#### Iterative evaluation \n",
    "\n",
    "The evaluation of a simulation takes multiple steps: \n",
    "- Step 1 runs for a few seconds and checks if there is any rate activity at all\n",
    "- Step 2 runs a bit longer and checks if there is any BOLD activity\n",
    "- Step 3 runs the full simulation\n",
    "\n",
    "#### Postprocessing\n",
    "\n",
    "In this scenario, we want to postprocess the simulated data as soon as the simulation is done and before writing the results to the hard disk. After the full simulation is run, the funciotnal connectivity (FC) of the BOLD signal is computed and compared to the empirical FC dataset. The Pearson correlation of the FC matrices is computed and the average is taken. We then tell pypet to save these postprocessed results along with the model output."
   ]
  },
  {
   "cell_type": "code",
   "execution_count": 1,
   "metadata": {},
   "outputs": [],
   "source": [
    "#hide\n",
    "# change to the root directory of the project\n",
    "import os\n",
    "if os.getcwd().split(\"/\")[-1] == \"examples\":\n",
    "    os.chdir('..')\n",
    "    \n",
    "# This will reload all imports as soon as the code changes\n",
    "%load_ext autoreload\n",
    "%autoreload 2    "
   ]
  },
  {
   "cell_type": "code",
   "execution_count": 2,
   "metadata": {},
   "outputs": [],
   "source": [
    "#hide\n",
    "try:\n",
    "    import matplotlib.pyplot as plt\n",
    "except ImportError:\n",
    "    import sys\n",
    "    !{sys.executable} -m pip install matplotlib\n",
    "    import matplotlib.pyplot as plt\n",
    "# a nice color map\n",
    "plt.rcParams['image.cmap'] = 'plasma'\n",
    "\n",
    "import numpy as np\n",
    "\n",
    "from neurolib.models.aln import ALNModel\n",
    "from neurolib.utils.parameterSpace import ParameterSpace\n",
    "from neurolib.optimize.exploration import BoxSearch\n",
    "import neurolib.utils.functions as func\n",
    "\n",
    "from neurolib.utils.loadData import Dataset\n",
    "ds = Dataset(\"hcp\")"
   ]
  },
  {
   "cell_type": "markdown",
   "metadata": {},
   "source": [
    "# Set up model"
   ]
  },
  {
   "cell_type": "code",
   "execution_count": 86,
   "metadata": {},
   "outputs": [
    {
     "name": "stderr",
     "output_type": "stream",
     "text": [
      "MainProcess root INFO     aln: Model initialized.\n"
     ]
    }
   ],
   "source": [
    "model = ALNModel(Cmat = ds.Cmat, Dmat = ds.Dmat) # simulates the whole-brain model in 10s chunks by default if bold == True\n",
    "# Resting state fits\n",
    "model.params['mue_ext_mean'] = 1.57\n",
    "model.params['mui_ext_mean'] = 1.6\n",
    "#model.params['sigma_ou'] = 0.09\n",
    "model.params['b'] = 5.0\n",
    "model.params['dt'] = 0.2\n",
    "model.params['duration'] = 0.2 * 1000 #ms\n",
    "# testing: model.params['duration'] = 0.2 * 60 * 1000 #ms\n",
    "# real: model.params['duration'] = 1.0 * 60 * 1000 #ms"
   ]
  },
  {
   "cell_type": "markdown",
   "metadata": {},
   "source": [
    "# Define evaluation function"
   ]
  },
  {
   "cell_type": "code",
   "execution_count": 101,
   "metadata": {},
   "outputs": [],
   "source": [
    "def evaluateSimulation(traj):\n",
    "    # get the model from the trajectory using `search.getModelFromTraj(traj)`\n",
    "    model = search.getModelFromTraj(traj)\n",
    "    # initiate the model with random initial contitions\n",
    "    model.randomICs()\n",
    "    defaultDuration = model.params['duration']\n",
    "    invalid_result = {\"fc\" : np.nan, \"fcd\" : np.nan}\n",
    "    \n",
    "    # -------- STAGEWISE EVALUATION  --------\n",
    "    stagewise = True\n",
    "    if stagewise:\n",
    "        # -------- stage wise simulation --------\n",
    "\n",
    "        # Stage 1 : simulate for a few seconds to see if there is any activity\n",
    "        # ---------------------------------------\n",
    "        model.params['duration'] = 3*1000.\n",
    "        model.run()\n",
    "\n",
    "        # check if stage 1 was successful\n",
    "        amplitude = np.max(model.output[:, model.t > 500]) - np.min(model.output[:, model.t > 500])\n",
    "        if amplitude < 0.05:\n",
    "            search.saveOutputsToPypet(invalid_result, traj)\n",
    "            return invalid_result, {}\n",
    "\n",
    "        # Stage 2: simulate BOLD for a few seconds to see if it moves\n",
    "        # ---------------------------------------\n",
    "        model.params['duration'] = 30*1000.\n",
    "        model.run(chunkwise=True, bold = True)\n",
    "\n",
    "        if np.max(np.std(model.outputs.BOLD.BOLD[:, 10:15], axis=1)) < 1e-5:\n",
    "            search.saveOutputsToPypet(invalid_result, traj)\n",
    "            return invalid_result, {}\n",
    "    \n",
    "    # Stage 3: full and final simulation\n",
    "    # ---------------------------------------\n",
    "    model.params['duration'] = defaultDuration\n",
    "    model.run(chunkwise=True, bold = True)\n",
    "    \n",
    "    # -------- POSTPROCESSING  --------\n",
    "    # FC matrix correlation to all subject rs-fMRI\n",
    "    BOLD_TRANSIENT = 10000\n",
    "    fc_score = np.mean([func.matrix_correlation(func.fc(model.BOLD.BOLD[:, model.BOLD.t_BOLD > BOLD_TRANSIENT]), fc) for fc in ds.FCs])\n",
    "    \n",
    "    # FCD to all subject rs-fMRI\n",
    "    try:\n",
    "        fcd_score = np.mean([func.ts_kolmogorov(model.BOLD.BOLD[:, model.BOLD.t_BOLD > BOLD_TRANSIENT], ds.BOLDs[i]) for i in range(len(ds.BOLDs))])\n",
    "    except:\n",
    "        fcd_score = np.nan\n",
    "      \n",
    "    # let's build the results dictionary\n",
    "    result_dict = {\"fc\" : fc_score, \"fcd\" : fcd_score}\n",
    "    # we could also save the output of the model by adding to the results_dict like this:\n",
    "    # result_dict = {\"fc\" : fc_score, \"fcd\" : fcd_score, \"outputs\" : model.outputs}\n",
    "    \n",
    "    # Save the results to pypet. \n",
    "    # Remember: This has to be dictionary!\n",
    "    search.saveOutputsToPypet(result_dict, traj)"
   ]
  },
  {
   "cell_type": "markdown",
   "metadata": {},
   "source": [
    "# Set up parameter exploration"
   ]
  },
  {
   "cell_type": "code",
   "execution_count": 102,
   "metadata": {},
   "outputs": [
    {
     "name": "stderr",
     "output_type": "stream",
     "text": [
      "MainProcess root INFO     Number of processes: 80\n",
      "MainProcess pypet.storageservice.HDF5StorageService INFO     I will use the hdf5 file `/mnt/raid/data/cakan/hdf/example-1.2.1.hdf`.\n",
      "MainProcess pypet.environment.Environment INFO     Environment initialized.\n",
      "/home/cakan/anaconda/lib/python3.7/site-packages/pypet/parameter.py:884: FutureWarning: Conversion of the second argument of issubdtype from `str` to `str` is deprecated. In future, it will be treated as `np.str_ == np.dtype(str).type`.\n",
      "  if np.issubdtype(dtype, np.str):\n",
      "MainProcess root INFO     Number of parameter configurations: 4\n",
      "MainProcess root INFO     BoxSearch: Environment initialized.\n"
     ]
    }
   ],
   "source": [
    "parameters = ParameterSpace({\"mue_ext_mean\": np.linspace(0, 3.0, 2), \"mui_ext_mean\": np.linspace(0.2, 3.0, 2)})\n",
    "# info: chose np.linspace(0, 3, 21) or more, values here are low for testing\n",
    "search = BoxSearch(evalFunction = evaluateSimulation, model=model, parameterSpace=parameters, filename=\"example-1.2.1.hdf\")"
   ]
  },
  {
   "cell_type": "code",
   "execution_count": 103,
   "metadata": {},
   "outputs": [
    {
     "name": "stderr",
     "output_type": "stream",
     "text": [
      "MainProcess pypet.environment.Environment INFO     I am preparing the Trajectory for the experiment and initialise the store.\n",
      "MainProcess pypet.environment.Environment INFO     Initialising the storage for the trajectory.\n",
      "MainProcess pypet.storageservice.HDF5StorageService INFO     Initialising storage or updating meta data of Trajectory `results-2020-04-08-01H-16M-48S`.\n",
      "MainProcess pypet.storageservice.HDF5StorageService INFO     Finished init or meta data update for `results-2020-04-08-01H-16M-48S`.\n",
      "MainProcess pypet.environment.Environment INFO     \n",
      "************************************************************\n",
      "STARTING runs of trajectory\n",
      "`results-2020-04-08-01H-16M-48S`.\n",
      "************************************************************\n",
      "\n",
      "MainProcess pypet.storageservice.HDF5StorageService INFO     Initialising storage or updating meta data of Trajectory `results-2020-04-08-01H-16M-48S`.\n",
      "MainProcess pypet.storageservice.HDF5StorageService INFO     Finished init or meta data update for `results-2020-04-08-01H-16M-48S`.\n",
      "MainProcess pypet.environment.Environment INFO     Starting multiprocessing with at most 80 processes running at the same time.\n",
      "MainProcess pypet INFO     PROGRESS: Finished 0/4 runs [                    ]  0.0%\n",
      "MainProcess pypet INFO     PROGRESS: Finished 1/4 runs [=====               ] 25.0%, remaining: 0:00:02\n",
      "MainProcess pypet INFO     PROGRESS: Finished 2/4 runs [==========          ] 50.0%, remaining: 0:00:00\n",
      "MainProcess pypet INFO     PROGRESS: Finished 3/4 runs [===============     ] 75.0%, remaining: 0:00:09\n",
      "MainProcess pypet INFO     PROGRESS: Finished 4/4 runs [====================]100.0%\n",
      "MainProcess pypet.storageservice.HDF5StorageService INFO     Initialising storage or updating meta data of Trajectory `results-2020-04-08-01H-16M-48S`.\n",
      "MainProcess pypet.storageservice.HDF5StorageService INFO     Finished init or meta data update for `results-2020-04-08-01H-16M-48S`.\n",
      "MainProcess pypet.environment.Environment INFO     \n",
      "************************************************************\n",
      "FINISHED all runs of trajectory\n",
      "`results-2020-04-08-01H-16M-48S`.\n",
      "************************************************************\n",
      "\n",
      "MainProcess pypet.environment.Environment INFO     \n",
      "************************************************************\n",
      "STARTING FINAL STORING of trajectory\n",
      "`results-2020-04-08-01H-16M-48S`\n",
      "************************************************************\n",
      "\n",
      "MainProcess pypet.storageservice.HDF5StorageService INFO     Start storing Trajectory `results-2020-04-08-01H-16M-48S`.\n",
      "MainProcess pypet.storageservice.HDF5StorageService INFO     Storing branch `config`.\n",
      "/home/cakan/anaconda/lib/python3.7/site-packages/pypet/storageservice.py:4597: FutureWarning: Conversion of the second argument of issubdtype from `str` to `str` is deprecated. In future, it will be treated as `np.str_ == np.dtype(str).type`.\n",
      "  if (np.issubdtype(val.dtype, str) or\n",
      "/home/cakan/anaconda/lib/python3.7/site-packages/pypet/storageservice.py:4598: FutureWarning: Conversion of the second argument of issubdtype from `bytes` to `bytes` is deprecated. In future, it will be treated as `np.bytes_ == np.dtype(bytes).type`.\n",
      "  np.issubdtype(val.dtype, bytes)):\n",
      "MainProcess pypet.storageservice.HDF5StorageService INFO     Storing branch `parameters`.\n",
      "/home/cakan/anaconda/lib/python3.7/site-packages/pypet/storageservice.py:3110: FutureWarning: Conversion of the second argument of issubdtype from `str` to `str` is deprecated. In future, it will be treated as `np.str_ == np.dtype(str).type`.\n",
      "  np.issubdtype(data.dtype, str)):\n",
      "MainProcess pypet.storageservice.HDF5StorageService INFO     Finished storing Trajectory `results-2020-04-08-01H-16M-48S`.\n",
      "MainProcess pypet.environment.Environment INFO     \n",
      "************************************************************\n",
      "FINISHED FINAL STORING of trajectory\n",
      "`results-2020-04-08-01H-16M-48S`.\n",
      "************************************************************\n",
      "\n",
      "MainProcess pypet.environment.Environment INFO     All runs of trajectory `results-2020-04-08-01H-16M-48S` were completed successfully.\n"
     ]
    }
   ],
   "source": [
    "search.run()"
   ]
  },
  {
   "cell_type": "markdown",
   "metadata": {},
   "source": [
    "# Load data"
   ]
  },
  {
   "cell_type": "code",
   "execution_count": 104,
   "metadata": {},
   "outputs": [
    {
     "name": "stderr",
     "output_type": "stream",
     "text": [
      "MainProcess root INFO     Loading results from /mnt/raid/data/cakan/hdf/example-1.2.1.hdf\n",
      "/mnt/antares_raid/home/cakan/projects/neurolib/neurolib/utils/pypetUtils.py:21: H5pyDeprecationWarning: The default file mode will change to 'r' (read-only) in h5py 3.0. To suppress this warning, pass the mode you need to h5py.File(), or set the global default h5.get_config().default_file_mode, or set the environment variable H5PY_DEFAULT_READONLY=1. Available modes are: 'r', 'r+', 'w', 'w-'/'x', 'a'. See the docs for details.\n",
      "  hdf = h5py.File(filename)\n",
      "MainProcess root INFO     Analyzing trajectory results-2020-04-08-01H-16M-48S\n",
      "MainProcess pypet.storageservice.HDF5StorageService INFO     I will use the hdf5 file `/mnt/raid/data/cakan/hdf/example-1.2.1.hdf`.\n",
      "MainProcess pypet.storageservice.HDF5StorageService INFO     Loading trajectory `results-2020-04-08-01H-16M-48S`.\n",
      "MainProcess pypet.storageservice.HDF5StorageService INFO     Loading branch `config` in mode `2`.\n",
      "MainProcess pypet.storageservice.HDF5StorageService INFO     Loading branch `parameters` in mode `2`.\n",
      "MainProcess pypet.storageservice.HDF5StorageService INFO     Loading branch `results` in mode `1`.\n",
      "MainProcess root INFO     Creating pandas dataframe ...\n",
      "MainProcess root INFO     Creating results dictionary ...\n",
      "100%|██████████| 4/4 [00:00<00:00, 219.06it/s]\n",
      "MainProcess root INFO     All results loaded.\n"
     ]
    },
    {
     "name": "stdout",
     "output_type": "stream",
     "text": [
      "Number of results: 4\n"
     ]
    }
   ],
   "source": [
    "search.loadResults()\n",
    "print(\"Number of results: {}\".format(len(search.results)))"
   ]
  },
  {
   "cell_type": "code",
   "execution_count": 84,
   "metadata": {},
   "outputs": [
    {
     "data": {
      "text/html": [
       "<div>\n",
       "<style scoped>\n",
       "    .dataframe tbody tr th:only-of-type {\n",
       "        vertical-align: middle;\n",
       "    }\n",
       "\n",
       "    .dataframe tbody tr th {\n",
       "        vertical-align: top;\n",
       "    }\n",
       "\n",
       "    .dataframe thead th {\n",
       "        text-align: right;\n",
       "    }\n",
       "</style>\n",
       "<table border=\"1\" class=\"dataframe\">\n",
       "  <thead>\n",
       "    <tr style=\"text-align: right;\">\n",
       "      <th></th>\n",
       "      <th>mue_ext_mean</th>\n",
       "      <th>mui_ext_mean</th>\n",
       "      <th>bold_cc</th>\n",
       "    </tr>\n",
       "  </thead>\n",
       "  <tbody>\n",
       "    <tr>\n",
       "      <th>0</th>\n",
       "      <td>0.0</td>\n",
       "      <td>0.0</td>\n",
       "      <td>0.174085</td>\n",
       "    </tr>\n",
       "    <tr>\n",
       "      <th>1</th>\n",
       "      <td>0.0</td>\n",
       "      <td>0.1</td>\n",
       "      <td>0.113122</td>\n",
       "    </tr>\n",
       "    <tr>\n",
       "      <th>2</th>\n",
       "      <td>0.0</td>\n",
       "      <td>0.2</td>\n",
       "      <td>0.488884</td>\n",
       "    </tr>\n",
       "    <tr>\n",
       "      <th>3</th>\n",
       "      <td>0.0</td>\n",
       "      <td>0.3</td>\n",
       "      <td>0.000000</td>\n",
       "    </tr>\n",
       "    <tr>\n",
       "      <th>4</th>\n",
       "      <td>0.0</td>\n",
       "      <td>0.4</td>\n",
       "      <td>0.000000</td>\n",
       "    </tr>\n",
       "    <tr>\n",
       "      <th>...</th>\n",
       "      <td>...</td>\n",
       "      <td>...</td>\n",
       "      <td>...</td>\n",
       "    </tr>\n",
       "    <tr>\n",
       "      <th>956</th>\n",
       "      <td>3.0</td>\n",
       "      <td>2.6</td>\n",
       "      <td>-0.223068</td>\n",
       "    </tr>\n",
       "    <tr>\n",
       "      <th>957</th>\n",
       "      <td>3.0</td>\n",
       "      <td>2.7</td>\n",
       "      <td>-0.220481</td>\n",
       "    </tr>\n",
       "    <tr>\n",
       "      <th>958</th>\n",
       "      <td>3.0</td>\n",
       "      <td>2.8</td>\n",
       "      <td>-0.232276</td>\n",
       "    </tr>\n",
       "    <tr>\n",
       "      <th>959</th>\n",
       "      <td>3.0</td>\n",
       "      <td>2.9</td>\n",
       "      <td>-0.182681</td>\n",
       "    </tr>\n",
       "    <tr>\n",
       "      <th>960</th>\n",
       "      <td>3.0</td>\n",
       "      <td>3.0</td>\n",
       "      <td>-0.228365</td>\n",
       "    </tr>\n",
       "  </tbody>\n",
       "</table>\n",
       "<p>961 rows × 3 columns</p>\n",
       "</div>"
      ],
      "text/plain": [
       "     mue_ext_mean  mui_ext_mean   bold_cc\n",
       "0             0.0           0.0  0.174085\n",
       "1             0.0           0.1  0.113122\n",
       "2             0.0           0.2  0.488884\n",
       "3             0.0           0.3  0.000000\n",
       "4             0.0           0.4  0.000000\n",
       "..            ...           ...       ...\n",
       "956           3.0           2.6 -0.223068\n",
       "957           3.0           2.7 -0.220481\n",
       "958           3.0           2.8 -0.232276\n",
       "959           3.0           2.9 -0.182681\n",
       "960           3.0           3.0 -0.228365\n",
       "\n",
       "[961 rows x 3 columns]"
      ]
     },
     "execution_count": 84,
     "metadata": {},
     "output_type": "execute_result"
    }
   ],
   "source": [
    "for i in search.dfResults.index:\n",
    "    search.dfResults.loc[i, 'bold_cc'] = np.mean(search.results[i]['fc'])\n",
    "search.dfResults"
   ]
  },
  {
   "cell_type": "markdown",
   "metadata": {},
   "source": [
    "# Plot"
   ]
  },
  {
   "cell_type": "code",
   "execution_count": 85,
   "metadata": {},
   "outputs": [
    {
     "data": {
      "text/plain": [
       "Text(0, 0.5, 'Input to I')"
      ]
     },
     "execution_count": 85,
     "metadata": {},
     "output_type": "execute_result"
    },
    {
     "data": {
      "image/png": "[encoded data removed]",
      "text/plain": [
       "<Figure size 900x600 with 2 Axes>"
      ]
     },
     "metadata": {
      "needs_background": "light"
     },
     "output_type": "display_data"
    }
   ],
   "source": [
    "plt.figure(dpi=150)\n",
    "plt.imshow(search.dfResults.pivot_table(values='bold_cc', index = 'mui_ext_mean', columns='mue_ext_mean'), \\\n",
    "           extent = [min(search.dfResults.mue_ext_mean), max(search.dfResults.mue_ext_mean),\n",
    "                     min(search.dfResults.mui_ext_mean), max(search.dfResults.mui_ext_mean)], origin='lower')\n",
    "plt.colorbar(label='Mean correlation to empirical rs-FC')\n",
    "plt.xlabel(\"Input to E\")\n",
    "plt.ylabel(\"Input to I\")"
   ]
  }
 ],
 "metadata": {
  "kernelspec": {
   "display_name": "Python 3",
   "language": "python",
   "name": "python3"
  },
  "language_info": {
   "codemirror_mode": {
    "name": "ipython",
    "version": 3
   },
   "file_extension": ".py",
   "mimetype": "text/x-python",
   "name": "python",
   "nbconvert_exporter": "python",
   "pygments_lexer": "ipython3",
   "version": "3.7.4"
  }
 },
 "nbformat": 4,
 "nbformat_minor": 4
}
