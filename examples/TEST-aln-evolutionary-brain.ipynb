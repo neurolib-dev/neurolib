{
 "cells": [
  {
   "cell_type": "code",
   "execution_count": 1,
   "metadata": {},
   "outputs": [],
   "source": [
    "# change into root directory to the project\n",
    "import os\n",
    "if os.getcwd().split(\"/\")[-1] == \"examples\":\n",
    "    os.chdir('..')"
   ]
  },
  {
   "cell_type": "code",
   "execution_count": 2,
   "metadata": {},
   "outputs": [],
   "source": [
    "import logging\n",
    "logger = logging.getLogger()\n",
    "logger.setLevel(logging.DEBUG)\n",
    "\n",
    "%load_ext autoreload\n",
    "%autoreload 2"
   ]
  },
  {
   "cell_type": "code",
   "execution_count": 23,
   "metadata": {},
   "outputs": [],
   "source": [
    "a = {\"asd\" : 1, 'xcxc' : 2, \"t_BOO\" : [1, 2, 3], \"tschu\" : 666}"
   ]
  },
  {
   "cell_type": "code",
   "execution_count": 25,
   "metadata": {},
   "outputs": [
    {
     "name": "stdout",
     "output_type": "stream",
     "text": [
      "asd\n",
      "xcxc\n",
      "starts\n"
     ]
    }
   ],
   "source": [
    "for k in a:\n",
    "    if k.startswith(\"t\"):\n",
    "        print(\"starts\")\n",
    "        break\n",
    "    print(k)"
   ]
  },
  {
   "cell_type": "code",
   "execution_count": 3,
   "metadata": {},
   "outputs": [
    {
     "name": "stderr",
     "output_type": "stream",
     "text": [
      "/Users/caglar/anaconda/lib/python3.7/site-packages/deap/tools/_hypervolume/pyhv.py:33: ImportWarning: Falling back to the python version of hypervolume module. Expect this to be very slow.\n",
      "  \"module. Expect this to be very slow.\", ImportWarning)\n"
     ]
    }
   ],
   "source": [
    "import numpy as np\n",
    "import matplotlib.pyplot as plt\n",
    "\n",
    "from neurolib.models.aln import ALNModel\n",
    "from neurolib.utils.parameterSpace import ParameterSpace\n",
    "from neurolib.optimize.evolution import Evolution\n",
    "import neurolib.utils.functions as func\n",
    "\n",
    "from neurolib.utils.loadData import Dataset\n",
    "ds = Dataset(\"gw\")\n",
    "\n",
    "# sett dpi for notebooks on server\n",
    "plt.rcParams['svg.fonttype'] = 'none'\n",
    "plt.rcParams['savefig.dpi'] = 600\n",
    "plt.rcParams['image.cmap'] = 'plasma'"
   ]
  },
  {
   "cell_type": "code",
   "execution_count": 40,
   "metadata": {},
   "outputs": [
    {
     "name": "stderr",
     "output_type": "stream",
     "text": [
      "MainProcess root INFO     Model aln created\n"
     ]
    }
   ],
   "source": [
    "aln = ALNModel(Cmat = ds.Cmat, Dmat = ds.Dmat, simulateBOLD=True) # simulates the whole-brain model in 10s chunks by default if simulateBOLD == True\n",
    "# Resting state fits\n",
    "aln.params['mue_ext_mean'] = 1.57\n",
    "aln.params['mui_ext_mean'] = 1.6\n",
    "aln.params['sigma_ou'] = 0.09\n",
    "aln.params['b'] = 5.0\n",
    "\n",
    "aln.params['dt'] = 0.2\n",
    "aln.params['duration'] = 1.0 * 60 * 1000 #ms\n",
    "\n",
    "aln.run()"
   ]
  },
  {
   "cell_type": "code",
   "execution_count": 41,
   "metadata": {},
   "outputs": [],
   "source": [
    "def evaluateSimulation(traj):\n",
    "    rid = traj.id\n",
    "    #print(\"Running run id {}\".format(rid))\n",
    "\n",
    "    #model = evolution.loadIndividual(traj)\n",
    "    model = evolution.getModelFromTraj(traj)  \n",
    "    model.run()\n",
    "    \n",
    "    # -------- fitness evaluation here --------\n",
    "    \n",
    "    scores = []\n",
    "    for i, fc in enumerate(ds.FCs):#range(len(ds.FCs)):\n",
    "        fc_score = func.matrix_correlation(func.fc(model.BOLD.BOLD[:, 5:]), fc)\n",
    "        scores.append(fc_score)\n",
    "    \n",
    "    fitness = np.mean(scores)\n",
    "    \n",
    "    fitness_tuple = ()\n",
    "    fitness_tuple += (fitness,)\n",
    "    return fitness_tuple, {}"
   ]
  },
  {
   "cell_type": "code",
   "execution_count": 42,
   "metadata": {},
   "outputs": [],
   "source": [
    "pars = ParameterSpace(['mue_ext_mean', 'mui_ext_mean'], [[0.0, 2.0], [0.0, 2.0]])"
   ]
  },
  {
   "cell_type": "code",
   "execution_count": 43,
   "metadata": {},
   "outputs": [
    {
     "name": "stderr",
     "output_type": "stream",
     "text": [
      "MainProcess root INFO     Storing data to: ./data/hdf/evolution.hdf\n",
      "MainProcess root INFO     Trajectory Name: results-2020-02-04-11H-26M-52S\n",
      "MainProcess root INFO     Number of cores: 8\n",
      "MainProcess pypet.storageservice.HDF5StorageService INFO     I will use the hdf5 file `./data/hdf/evolution.hdf`.\n",
      "MainProcess pypet.environment.Environment INFO     Environment initialized.\n",
      "/Users/caglar/anaconda/lib/python3.7/site-packages/deap/creator.py:141: RuntimeWarning: A class named 'FitnessMulti' has already been created and it will be overwritten. Consider deleting previous creation of that class or rename it.\n",
      "  RuntimeWarning)\n",
      "/Users/caglar/anaconda/lib/python3.7/site-packages/deap/creator.py:141: RuntimeWarning: A class named 'Individual' has already been created and it will be overwritten. Consider deleting previous creation of that class or rename it.\n",
      "  RuntimeWarning)\n"
     ]
    }
   ],
   "source": [
    "evolution = Evolution(evaluateSimulation, pars, weightList = [-1.0], model = aln, POP_INIT_SIZE=100, POP_SIZE = 20, NGEN=10)"
   ]
  },
  {
   "cell_type": "code",
   "execution_count": 44,
   "metadata": {},
   "outputs": [
    {
     "name": "stderr",
     "output_type": "stream",
     "text": [
      "MainProcess root INFO     Evaluating initial population of size 100 ...\n",
      "MainProcess pypet.trajectory.Trajectory INFO     Your trajectory has not been explored, yet. I will call `f_explore` instead.\n",
      "MainProcess pypet.environment.Environment INFO     I am preparing the Trajectory for the experiment and initialise the store.\n",
      "MainProcess pypet.environment.Environment INFO     Initialising the storage for the trajectory.\n",
      "MainProcess pypet.storageservice.HDF5StorageService INFO     Initialising storage or updating meta data of Trajectory `results-2020-02-04-11H-26M-52S`.\n",
      "MainProcess pypet.storageservice.HDF5StorageService INFO     Finished init or meta data update for `results-2020-02-04-11H-26M-52S`.\n",
      "MainProcess pypet.environment.Environment INFO     \n",
      "************************************************************\n",
      "STARTING runs of trajectory\n",
      "`results-2020-02-04-11H-26M-52S`.\n",
      "************************************************************\n",
      "\n",
      "MainProcess pypet.storageservice.HDF5StorageService INFO     Initialising storage or updating meta data of Trajectory `results-2020-02-04-11H-26M-52S`.\n",
      "MainProcess pypet.storageservice.HDF5StorageService INFO     Finished init or meta data update for `results-2020-02-04-11H-26M-52S`.\n",
      "MainProcess pypet.environment.Environment INFO     Starting multiprocessing with at most 8 processes running at the same time.\n",
      "MainProcess pypet INFO     PROGRESS: Finished   0/100 runs [                    ]  0.0%\n",
      "MainProcess pypet INFO     PROGRESS: Finished   5/100 runs [=                   ]  5.0%, remaining: 0:07:53\n"
     ]
    },
    {
     "ename": "KeyboardInterrupt",
     "evalue": "",
     "output_type": "error",
     "traceback": [
      "\u001b[0;31m---------------------------------------------------------------------------\u001b[0m",
      "\u001b[0;31mKeyboardInterrupt\u001b[0m                         Traceback (most recent call last)",
      "\u001b[0;32m<ipython-input-44-acd712fe15ca>\u001b[0m in \u001b[0;36m<module>\u001b[0;34m\u001b[0m\n\u001b[0;32m----> 1\u001b[0;31m \u001b[0mevolution\u001b[0m\u001b[0;34m.\u001b[0m\u001b[0mrun\u001b[0m\u001b[0;34m(\u001b[0m\u001b[0mverbose\u001b[0m \u001b[0;34m=\u001b[0m \u001b[0;32mTrue\u001b[0m\u001b[0;34m)\u001b[0m\u001b[0;34m\u001b[0m\u001b[0;34m\u001b[0m\u001b[0m\n\u001b[0m",
      "\u001b[0;32m~/Documents/PhD/projects/neurolib/neurolib/optimize/evolution/evolution.py\u001b[0m in \u001b[0;36mrun\u001b[0;34m(self, verbose)\u001b[0m\n\u001b[1;32m    377\u001b[0m         \u001b[0mself\u001b[0m\u001b[0;34m.\u001b[0m\u001b[0mverbose\u001b[0m \u001b[0;34m=\u001b[0m \u001b[0mverbose\u001b[0m\u001b[0;34m\u001b[0m\u001b[0;34m\u001b[0m\u001b[0m\n\u001b[1;32m    378\u001b[0m         \u001b[0;32mif\u001b[0m \u001b[0;32mnot\u001b[0m \u001b[0mself\u001b[0m\u001b[0;34m.\u001b[0m\u001b[0minitialPopulationSimulated\u001b[0m\u001b[0;34m:\u001b[0m\u001b[0;34m\u001b[0m\u001b[0;34m\u001b[0m\u001b[0m\n\u001b[0;32m--> 379\u001b[0;31m             \u001b[0mself\u001b[0m\u001b[0;34m.\u001b[0m\u001b[0mrunInitial\u001b[0m\u001b[0;34m(\u001b[0m\u001b[0;34m)\u001b[0m\u001b[0;34m\u001b[0m\u001b[0;34m\u001b[0m\u001b[0m\n\u001b[0m\u001b[1;32m    380\u001b[0m         \u001b[0mself\u001b[0m\u001b[0;34m.\u001b[0m\u001b[0mrunEvolution\u001b[0m\u001b[0;34m(\u001b[0m\u001b[0;34m)\u001b[0m\u001b[0;34m\u001b[0m\u001b[0;34m\u001b[0m\u001b[0m\n\u001b[1;32m    381\u001b[0m \u001b[0;34m\u001b[0m\u001b[0m\n",
      "\u001b[0;32m~/Documents/PhD/projects/neurolib/neurolib/optimize/evolution/evolution.py\u001b[0m in \u001b[0;36mrunInitial\u001b[0;34m(self)\u001b[0m\n\u001b[1;32m    275\u001b[0m         \u001b[0mself\u001b[0m\u001b[0;34m.\u001b[0m\u001b[0mgIdx\u001b[0m \u001b[0;34m=\u001b[0m \u001b[0;36m0\u001b[0m  \u001b[0;31m# set generation index\u001b[0m\u001b[0;34m\u001b[0m\u001b[0;34m\u001b[0m\u001b[0m\n\u001b[1;32m    276\u001b[0m         \u001b[0;31m# evaluate\u001b[0m\u001b[0;34m\u001b[0m\u001b[0;34m\u001b[0m\u001b[0;34m\u001b[0m\u001b[0m\n\u001b[0;32m--> 277\u001b[0;31m         \u001b[0mself\u001b[0m\u001b[0;34m.\u001b[0m\u001b[0mpop\u001b[0m \u001b[0;34m=\u001b[0m \u001b[0mself\u001b[0m\u001b[0;34m.\u001b[0m\u001b[0mevalPopulationUsingPypet\u001b[0m\u001b[0;34m(\u001b[0m\u001b[0mself\u001b[0m\u001b[0;34m.\u001b[0m\u001b[0mtraj\u001b[0m\u001b[0;34m,\u001b[0m \u001b[0mself\u001b[0m\u001b[0;34m.\u001b[0m\u001b[0mtoolbox\u001b[0m\u001b[0;34m,\u001b[0m \u001b[0mself\u001b[0m\u001b[0;34m.\u001b[0m\u001b[0mpop\u001b[0m\u001b[0;34m,\u001b[0m \u001b[0mself\u001b[0m\u001b[0;34m.\u001b[0m\u001b[0mgIdx\u001b[0m\u001b[0;34m)\u001b[0m\u001b[0;34m\u001b[0m\u001b[0;34m\u001b[0m\u001b[0m\n\u001b[0m\u001b[1;32m    278\u001b[0m         \u001b[0;32mif\u001b[0m \u001b[0mself\u001b[0m\u001b[0;34m.\u001b[0m\u001b[0mverbose\u001b[0m\u001b[0;34m:\u001b[0m\u001b[0;34m\u001b[0m\u001b[0;34m\u001b[0m\u001b[0m\n\u001b[1;32m    279\u001b[0m             \u001b[0meu\u001b[0m\u001b[0;34m.\u001b[0m\u001b[0mprintParamDist\u001b[0m\u001b[0;34m(\u001b[0m\u001b[0mself\u001b[0m\u001b[0;34m.\u001b[0m\u001b[0mpop\u001b[0m\u001b[0;34m,\u001b[0m \u001b[0mself\u001b[0m\u001b[0;34m.\u001b[0m\u001b[0mparamInterval\u001b[0m\u001b[0;34m,\u001b[0m \u001b[0mself\u001b[0m\u001b[0;34m.\u001b[0m\u001b[0mgIdx\u001b[0m\u001b[0;34m)\u001b[0m\u001b[0;34m\u001b[0m\u001b[0;34m\u001b[0m\u001b[0m\n",
      "\u001b[0;32m~/Documents/PhD/projects/neurolib/neurolib/optimize/evolution/evolution.py\u001b[0m in \u001b[0;36mevalPopulationUsingPypet\u001b[0;34m(self, traj, toolbox, pop, gIdx)\u001b[0m\n\u001b[1;32m    241\u001b[0m \u001b[0;34m\u001b[0m\u001b[0m\n\u001b[1;32m    242\u001b[0m         \u001b[0;31m# run simulations for one generation\u001b[0m\u001b[0;34m\u001b[0m\u001b[0;34m\u001b[0m\u001b[0;34m\u001b[0m\u001b[0m\n\u001b[0;32m--> 243\u001b[0;31m         \u001b[0mevolutionResult\u001b[0m \u001b[0;34m=\u001b[0m \u001b[0mtoolbox\u001b[0m\u001b[0;34m.\u001b[0m\u001b[0mmap\u001b[0m\u001b[0;34m(\u001b[0m\u001b[0mtoolbox\u001b[0m\u001b[0;34m.\u001b[0m\u001b[0mevaluate\u001b[0m\u001b[0;34m)\u001b[0m\u001b[0;34m\u001b[0m\u001b[0;34m\u001b[0m\u001b[0m\n\u001b[0m\u001b[1;32m    244\u001b[0m \u001b[0;34m\u001b[0m\u001b[0m\n\u001b[1;32m    245\u001b[0m         \u001b[0;32massert\u001b[0m \u001b[0mlen\u001b[0m\u001b[0;34m(\u001b[0m\u001b[0mevolutionResult\u001b[0m\u001b[0;34m)\u001b[0m \u001b[0;34m>\u001b[0m \u001b[0;36m0\u001b[0m\u001b[0;34m,\u001b[0m \u001b[0;34m\"No results returned from simulations.\"\u001b[0m\u001b[0;34m\u001b[0m\u001b[0;34m\u001b[0m\u001b[0m\n",
      "\u001b[0;32m~/anaconda/lib/python3.7/site-packages/pypet/environment.py\u001b[0m in \u001b[0;36mrun\u001b[0;34m(self, runfunc, *args, **kwargs)\u001b[0m\n\u001b[1;32m   1804\u001b[0m         \u001b[0mself\u001b[0m\u001b[0;34m.\u001b[0m\u001b[0m_user_pipeline\u001b[0m \u001b[0;34m=\u001b[0m \u001b[0;32mFalse\u001b[0m\u001b[0;34m\u001b[0m\u001b[0;34m\u001b[0m\u001b[0m\n\u001b[1;32m   1805\u001b[0m         \u001b[0mself\u001b[0m\u001b[0;34m.\u001b[0m\u001b[0m_map_arguments\u001b[0m \u001b[0;34m=\u001b[0m \u001b[0;32mFalse\u001b[0m\u001b[0;34m\u001b[0m\u001b[0;34m\u001b[0m\u001b[0m\n\u001b[0;32m-> 1806\u001b[0;31m         \u001b[0;32mreturn\u001b[0m \u001b[0mself\u001b[0m\u001b[0;34m.\u001b[0m\u001b[0m_execute_runs\u001b[0m\u001b[0;34m(\u001b[0m\u001b[0mpipeline\u001b[0m\u001b[0;34m)\u001b[0m\u001b[0;34m\u001b[0m\u001b[0;34m\u001b[0m\u001b[0m\n\u001b[0m\u001b[1;32m   1807\u001b[0m \u001b[0;34m\u001b[0m\u001b[0m\n\u001b[1;32m   1808\u001b[0m     \u001b[0;32mdef\u001b[0m \u001b[0mrun_map\u001b[0m\u001b[0;34m(\u001b[0m\u001b[0mself\u001b[0m\u001b[0;34m,\u001b[0m \u001b[0mrunfunc\u001b[0m\u001b[0;34m,\u001b[0m \u001b[0;34m*\u001b[0m\u001b[0miter_args\u001b[0m\u001b[0;34m,\u001b[0m \u001b[0;34m**\u001b[0m\u001b[0miter_kwargs\u001b[0m\u001b[0;34m)\u001b[0m\u001b[0;34m:\u001b[0m\u001b[0;34m\u001b[0m\u001b[0;34m\u001b[0m\u001b[0m\n",
      "\u001b[0;32m~/anaconda/lib/python3.7/site-packages/pypet/environment.py\u001b[0m in \u001b[0;36m_execute_runs\u001b[0;34m(self, pipeline)\u001b[0m\n\u001b[1;32m   2328\u001b[0m                 \u001b[0msigint_handling\u001b[0m\u001b[0;34m.\u001b[0m\u001b[0mstart\u001b[0m\u001b[0;34m(\u001b[0m\u001b[0;34m)\u001b[0m\u001b[0;34m\u001b[0m\u001b[0;34m\u001b[0m\u001b[0m\n\u001b[1;32m   2329\u001b[0m             \u001b[0;32mtry\u001b[0m\u001b[0;34m:\u001b[0m\u001b[0;34m\u001b[0m\u001b[0;34m\u001b[0m\u001b[0m\n\u001b[0;32m-> 2330\u001b[0;31m                 \u001b[0mself\u001b[0m\u001b[0;34m.\u001b[0m\u001b[0m_inner_run_loop\u001b[0m\u001b[0;34m(\u001b[0m\u001b[0mresults\u001b[0m\u001b[0;34m)\u001b[0m\u001b[0;34m\u001b[0m\u001b[0;34m\u001b[0m\u001b[0m\n\u001b[0m\u001b[1;32m   2331\u001b[0m             \u001b[0;32mfinally\u001b[0m\u001b[0;34m:\u001b[0m\u001b[0;34m\u001b[0m\u001b[0;34m\u001b[0m\u001b[0m\n\u001b[1;32m   2332\u001b[0m                 \u001b[0mself\u001b[0m\u001b[0;34m.\u001b[0m\u001b[0m_traj\u001b[0m\u001b[0;34m.\u001b[0m\u001b[0m_run_by_environment\u001b[0m \u001b[0;34m=\u001b[0m \u001b[0;32mFalse\u001b[0m\u001b[0;34m\u001b[0m\u001b[0;34m\u001b[0m\u001b[0m\n",
      "\u001b[0;32m~/anaconda/lib/python3.7/site-packages/pypet/environment.py\u001b[0m in \u001b[0;36m_inner_run_loop\u001b[0;34m(self, results)\u001b[0m\n\u001b[1;32m   2461\u001b[0m \u001b[0;34m\u001b[0m\u001b[0m\n\u001b[1;32m   2462\u001b[0m             \u001b[0;32mif\u001b[0m \u001b[0mself\u001b[0m\u001b[0;34m.\u001b[0m\u001b[0m_multiproc\u001b[0m\u001b[0;34m:\u001b[0m\u001b[0;34m\u001b[0m\u001b[0;34m\u001b[0m\u001b[0m\n\u001b[0;32m-> 2463\u001b[0;31m                 \u001b[0mexpanded_by_postproc\u001b[0m \u001b[0;34m=\u001b[0m \u001b[0mself\u001b[0m\u001b[0;34m.\u001b[0m\u001b[0m_execute_multiprocessing\u001b[0m\u001b[0;34m(\u001b[0m\u001b[0mstart_run_idx\u001b[0m\u001b[0;34m,\u001b[0m \u001b[0mresults\u001b[0m\u001b[0;34m)\u001b[0m\u001b[0;34m\u001b[0m\u001b[0;34m\u001b[0m\u001b[0m\n\u001b[0m\u001b[1;32m   2464\u001b[0m             \u001b[0;32melse\u001b[0m\u001b[0;34m:\u001b[0m\u001b[0;34m\u001b[0m\u001b[0;34m\u001b[0m\u001b[0m\n\u001b[1;32m   2465\u001b[0m                 \u001b[0;31m# Create a generator to generate the tasks\u001b[0m\u001b[0;34m\u001b[0m\u001b[0;34m\u001b[0m\u001b[0;34m\u001b[0m\u001b[0m\n",
      "\u001b[0;32m~/anaconda/lib/python3.7/site-packages/pypet/environment.py\u001b[0m in \u001b[0;36m_execute_multiprocessing\u001b[0;34m(self, start_run_idx, results)\u001b[0m\n\u001b[1;32m   2811\u001b[0m                                                    'active runs completed.')\n\u001b[1;32m   2812\u001b[0m                     \u001b[0;32melse\u001b[0m\u001b[0;34m:\u001b[0m\u001b[0;34m\u001b[0m\u001b[0;34m\u001b[0m\u001b[0m\n\u001b[0;32m-> 2813\u001b[0;31m                         \u001b[0mtime\u001b[0m\u001b[0;34m.\u001b[0m\u001b[0msleep\u001b[0m\u001b[0;34m(\u001b[0m\u001b[0;36m0.001\u001b[0m\u001b[0;34m)\u001b[0m\u001b[0;34m\u001b[0m\u001b[0;34m\u001b[0m\u001b[0m\n\u001b[0m\u001b[1;32m   2814\u001b[0m \u001b[0;34m\u001b[0m\u001b[0m\n\u001b[1;32m   2815\u001b[0m                     \u001b[0;31m# Get all results from the result queue\u001b[0m\u001b[0;34m\u001b[0m\u001b[0;34m\u001b[0m\u001b[0;34m\u001b[0m\u001b[0m\n",
      "\u001b[0;31mKeyboardInterrupt\u001b[0m: "
     ]
    },
    {
     "name": "stderr",
     "output_type": "stream",
     "text": [
      "Process Process-293:\n",
      "Process Process-294:\n",
      "Traceback (most recent call last):\n",
      "Traceback (most recent call last):\n",
      "  File \"/Users/caglar/anaconda/lib/python3.7/multiprocessing/process.py\", line 297, in _bootstrap\n",
      "    self.run()\n",
      "  File \"/Users/caglar/anaconda/lib/python3.7/multiprocessing/process.py\", line 297, in _bootstrap\n",
      "    self.run()\n",
      "  File \"/Users/caglar/anaconda/lib/python3.7/multiprocessing/process.py\", line 99, in run\n",
      "    self._target(*self._args, **self._kwargs)\n",
      "  File \"/Users/caglar/anaconda/lib/python3.7/multiprocessing/process.py\", line 99, in run\n",
      "    self._target(*self._args, **self._kwargs)\n",
      "  File \"/Users/caglar/anaconda/lib/python3.7/site-packages/pypet/environment.py\", line 132, in _process_single_run\n",
      "    result = _sigint_handling_single_run(kwargs)\n",
      "  File \"/Users/caglar/anaconda/lib/python3.7/site-packages/pypet/environment.py\", line 259, in _sigint_handling_single_run\n",
      "    return _single_run(kwargs)\n",
      "  File \"/Users/caglar/anaconda/lib/python3.7/site-packages/pypet/environment.py\", line 132, in _process_single_run\n",
      "    result = _sigint_handling_single_run(kwargs)\n",
      "  File \"/Users/caglar/anaconda/lib/python3.7/site-packages/pypet/environment.py\", line 314, in _single_run\n",
      "    result = runfunc(traj, *runargs, **kwrunparams)\n",
      "  File \"/Users/caglar/anaconda/lib/python3.7/site-packages/pypet/environment.py\", line 259, in _sigint_handling_single_run\n",
      "    return _single_run(kwargs)\n",
      "  File \"<ipython-input-41-1d04b7d5548c>\", line 7, in evaluateSimulation\n",
      "    model.run()\n",
      "  File \"/Users/caglar/anaconda/lib/python3.7/site-packages/pypet/environment.py\", line 314, in _single_run\n",
      "    result = runfunc(traj, *runargs, **kwrunparams)\n",
      "  File \"/Users/caglar/Documents/PhD/projects/neurolib/neurolib/models/aln/model.py\", line 80, in run\n",
      "    self.params, self.chunkSize, self.simulateBOLD, self.saveAllActivity\n",
      "  File \"<ipython-input-41-1d04b7d5548c>\", line 7, in evaluateSimulation\n",
      "    model.run()\n",
      "  File \"/Users/caglar/Documents/PhD/projects/neurolib/neurolib/models/aln/chunkwiseIntegration.py\", line 55, in chunkwiseTimeIntAndBOLD\n",
      "    rates_exc, rates_inh, t, mufe, mufi, IA, seem, seim, siem, siim, seev, seiv, siev, siiv = timeIntegration(paramsChunk)\n",
      "  File \"/Users/caglar/Documents/PhD/projects/neurolib/neurolib/models/aln/model.py\", line 80, in run\n",
      "    self.params, self.chunkSize, self.simulateBOLD, self.saveAllActivity\n",
      "  File \"/Users/caglar/Documents/PhD/projects/neurolib/neurolib/models/aln/timeIntegration.py\", line 210, in timeIntegration\n",
      "    ext_exc_current = adjust_shape(params[\"ext_exc_current\"], rates_exc)\n",
      "  File \"/Users/caglar/Documents/PhD/projects/neurolib/neurolib/models/aln/chunkwiseIntegration.py\", line 55, in chunkwiseTimeIntAndBOLD\n",
      "    rates_exc, rates_inh, t, mufe, mufi, IA, seem, seim, siem, siim, seev, seiv, siev, siiv = timeIntegration(paramsChunk)\n",
      "  File \"/Users/caglar/Documents/PhD/projects/neurolib/neurolib/models/aln/timeIntegration.py\", line 210, in timeIntegration\n",
      "    ext_exc_current = adjust_shape(params[\"ext_exc_current\"], rates_exc)\n",
      "  File \"/Users/caglar/Documents/PhD/projects/neurolib/neurolib/models/aln/timeIntegration.py\", line 470, in adjust_shape\n",
      "    original = np.tile(original, (1, rep_x))\n",
      "  File \"/Users/caglar/Documents/PhD/projects/neurolib/neurolib/models/aln/timeIntegration.py\", line 470, in adjust_shape\n",
      "    original = np.tile(original, (1, rep_x))\n",
      "  File \"/Users/caglar/anaconda/lib/python3.7/site-packages/numpy/lib/shape_base.py\", line 1241, in tile\n",
      "    c = c.reshape(-1, n).repeat(nrep, 0)\n",
      "  File \"/Users/caglar/anaconda/lib/python3.7/site-packages/numpy/lib/shape_base.py\", line 1241, in tile\n",
      "    c = c.reshape(-1, n).repeat(nrep, 0)\n",
      "KeyboardInterrupt\n",
      "KeyboardInterrupt\n",
      "Process Process-295:\n",
      "Traceback (most recent call last):\n",
      "  File \"/Users/caglar/anaconda/lib/python3.7/multiprocessing/process.py\", line 297, in _bootstrap\n",
      "    self.run()\n",
      "  File \"/Users/caglar/anaconda/lib/python3.7/multiprocessing/process.py\", line 99, in run\n",
      "    self._target(*self._args, **self._kwargs)\n",
      "  File \"/Users/caglar/anaconda/lib/python3.7/site-packages/pypet/environment.py\", line 132, in _process_single_run\n",
      "    result = _sigint_handling_single_run(kwargs)\n",
      "  File \"/Users/caglar/anaconda/lib/python3.7/site-packages/pypet/environment.py\", line 259, in _sigint_handling_single_run\n",
      "    return _single_run(kwargs)\n",
      "  File \"/Users/caglar/anaconda/lib/python3.7/site-packages/pypet/environment.py\", line 314, in _single_run\n",
      "    result = runfunc(traj, *runargs, **kwrunparams)\n",
      "  File \"<ipython-input-41-1d04b7d5548c>\", line 7, in evaluateSimulation\n",
      "    model.run()\n",
      "  File \"/Users/caglar/Documents/PhD/projects/neurolib/neurolib/models/aln/model.py\", line 80, in run\n",
      "    self.params, self.chunkSize, self.simulateBOLD, self.saveAllActivity\n",
      "  File \"/Users/caglar/Documents/PhD/projects/neurolib/neurolib/models/aln/chunkwiseIntegration.py\", line 55, in chunkwiseTimeIntAndBOLD\n",
      "    rates_exc, rates_inh, t, mufe, mufi, IA, seem, seim, siem, siim, seev, seiv, siev, siiv = timeIntegration(paramsChunk)\n",
      "  File \"/Users/caglar/Documents/PhD/projects/neurolib/neurolib/models/aln/timeIntegration.py\", line 201, in timeIntegration\n",
      "    rates_inh[:, startind:] = np.random.standard_normal((N, len(range(startind, len(t)))))\n",
      "KeyboardInterrupt\n",
      "Process Process-296:\n",
      "Traceback (most recent call last):\n",
      "  File \"/Users/caglar/anaconda/lib/python3.7/multiprocessing/process.py\", line 297, in _bootstrap\n",
      "    self.run()\n",
      "  File \"/Users/caglar/anaconda/lib/python3.7/multiprocessing/process.py\", line 99, in run\n",
      "    self._target(*self._args, **self._kwargs)\n",
      "  File \"/Users/caglar/anaconda/lib/python3.7/site-packages/pypet/environment.py\", line 132, in _process_single_run\n",
      "    result = _sigint_handling_single_run(kwargs)\n",
      "  File \"/Users/caglar/anaconda/lib/python3.7/site-packages/pypet/environment.py\", line 259, in _sigint_handling_single_run\n",
      "    return _single_run(kwargs)\n",
      "  File \"/Users/caglar/anaconda/lib/python3.7/site-packages/pypet/environment.py\", line 314, in _single_run\n",
      "    result = runfunc(traj, *runargs, **kwrunparams)\n",
      "  File \"<ipython-input-41-1d04b7d5548c>\", line 7, in evaluateSimulation\n",
      "    model.run()\n",
      "  File \"/Users/caglar/Documents/PhD/projects/neurolib/neurolib/models/aln/model.py\", line 80, in run\n",
      "    self.params, self.chunkSize, self.simulateBOLD, self.saveAllActivity\n",
      "  File \"/Users/caglar/Documents/PhD/projects/neurolib/neurolib/models/aln/chunkwiseIntegration.py\", line 55, in chunkwiseTimeIntAndBOLD\n",
      "    rates_exc, rates_inh, t, mufe, mufi, IA, seem, seim, siem, siim, seev, seiv, siev, siiv = timeIntegration(paramsChunk)\n",
      "  File \"/Users/caglar/Documents/PhD/projects/neurolib/neurolib/models/aln/timeIntegration.py\", line 201, in timeIntegration\n",
      "    rates_inh[:, startind:] = np.random.standard_normal((N, len(range(startind, len(t)))))\n",
      "KeyboardInterrupt\n",
      "Process Process-289:\n",
      "Traceback (most recent call last):\n",
      "  File \"/Users/caglar/anaconda/lib/python3.7/multiprocessing/process.py\", line 297, in _bootstrap\n",
      "    self.run()\n",
      "  File \"/Users/caglar/anaconda/lib/python3.7/multiprocessing/process.py\", line 99, in run\n",
      "    self._target(*self._args, **self._kwargs)\n",
      "  File \"/Users/caglar/anaconda/lib/python3.7/site-packages/pypet/environment.py\", line 132, in _process_single_run\n",
      "    result = _sigint_handling_single_run(kwargs)\n",
      "  File \"/Users/caglar/anaconda/lib/python3.7/site-packages/pypet/environment.py\", line 259, in _sigint_handling_single_run\n",
      "    return _single_run(kwargs)\n",
      "  File \"/Users/caglar/anaconda/lib/python3.7/site-packages/pypet/environment.py\", line 314, in _single_run\n",
      "    result = runfunc(traj, *runargs, **kwrunparams)\n",
      "  File \"<ipython-input-41-1d04b7d5548c>\", line 7, in evaluateSimulation\n",
      "    model.run()\n",
      "  File \"/Users/caglar/Documents/PhD/projects/neurolib/neurolib/models/aln/model.py\", line 80, in run\n",
      "    self.params, self.chunkSize, self.simulateBOLD, self.saveAllActivity\n",
      "  File \"/Users/caglar/Documents/PhD/projects/neurolib/neurolib/models/aln/chunkwiseIntegration.py\", line 55, in chunkwiseTimeIntAndBOLD\n",
      "    rates_exc, rates_inh, t, mufe, mufi, IA, seem, seim, siem, siim, seev, seiv, siev, siiv = timeIntegration(paramsChunk)\n",
      "  File \"/Users/caglar/Documents/PhD/projects/neurolib/neurolib/models/aln/timeIntegration.py\", line 217, in timeIntegration\n",
      "    return timeIntegration_njit_elementwise(dt, duration, warn, dosc_version, distr_delay, filter_sigma, fast_interp, Cmat, Dmat, c_gl, Ke_gl, tau_ou, sigma_ou, mue_ext_mean, mui_ext_mean, sigmae_ext, sigmai_ext, Ke, Ki, de, di, tau_se, tau_si, tau_de, tau_di, cee, cie, cii, cei, Jee_max, Jei_max, Jie_max, Jii_max, a, b, EA, tauA, C, gL, EL, DeltaT, VT, Vr, Vs, Tref, taum, mufe, mufi, mufe_dosc, mufi_dosc, IA, seem, seim, seev, seiv, siim, siem, siiv, siev, precalc_r, precalc_V, precalc_tau_mu, precalc_tau_sigma, dI, ds, sigmarange, Irange, N, Dmat_ndt, t, rates_exc, rates_inh, rd_exc, rd_inh, sqrt_dt, startind, ndt_de, ndt_di, max_global_delay, mue_ext, mui_ext, ext_exc_rate, ext_inh_rate, ext_exc_current, ext_inh_current, noise_exc, noise_inh, zeros4)\n",
      "KeyboardInterrupt\n",
      "Process Process-290:\n",
      "Traceback (most recent call last):\n",
      "  File \"/Users/caglar/anaconda/lib/python3.7/multiprocessing/process.py\", line 297, in _bootstrap\n",
      "    self.run()\n",
      "  File \"/Users/caglar/anaconda/lib/python3.7/multiprocessing/process.py\", line 99, in run\n",
      "    self._target(*self._args, **self._kwargs)\n",
      "  File \"/Users/caglar/anaconda/lib/python3.7/site-packages/pypet/environment.py\", line 132, in _process_single_run\n",
      "    result = _sigint_handling_single_run(kwargs)\n",
      "  File \"/Users/caglar/anaconda/lib/python3.7/site-packages/pypet/environment.py\", line 259, in _sigint_handling_single_run\n",
      "    return _single_run(kwargs)\n",
      "  File \"/Users/caglar/anaconda/lib/python3.7/site-packages/pypet/environment.py\", line 314, in _single_run\n",
      "    result = runfunc(traj, *runargs, **kwrunparams)\n",
      "  File \"<ipython-input-41-1d04b7d5548c>\", line 7, in evaluateSimulation\n",
      "    model.run()\n",
      "  File \"/Users/caglar/Documents/PhD/projects/neurolib/neurolib/models/aln/model.py\", line 80, in run\n",
      "    self.params, self.chunkSize, self.simulateBOLD, self.saveAllActivity\n",
      "  File \"/Users/caglar/Documents/PhD/projects/neurolib/neurolib/models/aln/chunkwiseIntegration.py\", line 55, in chunkwiseTimeIntAndBOLD\n",
      "    rates_exc, rates_inh, t, mufe, mufi, IA, seem, seim, siem, siim, seev, seiv, siev, siiv = timeIntegration(paramsChunk)\n",
      "Process Process-291:\n",
      "  File \"/Users/caglar/Documents/PhD/projects/neurolib/neurolib/models/aln/timeIntegration.py\", line 217, in timeIntegration\n",
      "    return timeIntegration_njit_elementwise(dt, duration, warn, dosc_version, distr_delay, filter_sigma, fast_interp, Cmat, Dmat, c_gl, Ke_gl, tau_ou, sigma_ou, mue_ext_mean, mui_ext_mean, sigmae_ext, sigmai_ext, Ke, Ki, de, di, tau_se, tau_si, tau_de, tau_di, cee, cie, cii, cei, Jee_max, Jei_max, Jie_max, Jii_max, a, b, EA, tauA, C, gL, EL, DeltaT, VT, Vr, Vs, Tref, taum, mufe, mufi, mufe_dosc, mufi_dosc, IA, seem, seim, seev, seiv, siim, siem, siiv, siev, precalc_r, precalc_V, precalc_tau_mu, precalc_tau_sigma, dI, ds, sigmarange, Irange, N, Dmat_ndt, t, rates_exc, rates_inh, rd_exc, rd_inh, sqrt_dt, startind, ndt_de, ndt_di, max_global_delay, mue_ext, mui_ext, ext_exc_rate, ext_inh_rate, ext_exc_current, ext_inh_current, noise_exc, noise_inh, zeros4)\n",
      "Traceback (most recent call last):\n",
      "KeyboardInterrupt\n",
      "  File \"/Users/caglar/anaconda/lib/python3.7/multiprocessing/process.py\", line 297, in _bootstrap\n",
      "    self.run()\n",
      "  File \"/Users/caglar/anaconda/lib/python3.7/multiprocessing/process.py\", line 99, in run\n",
      "    self._target(*self._args, **self._kwargs)\n",
      "  File \"/Users/caglar/anaconda/lib/python3.7/site-packages/pypet/environment.py\", line 132, in _process_single_run\n",
      "    result = _sigint_handling_single_run(kwargs)\n",
      "  File \"/Users/caglar/anaconda/lib/python3.7/site-packages/pypet/environment.py\", line 259, in _sigint_handling_single_run\n",
      "    return _single_run(kwargs)\n",
      "  File \"/Users/caglar/anaconda/lib/python3.7/site-packages/pypet/environment.py\", line 314, in _single_run\n",
      "    result = runfunc(traj, *runargs, **kwrunparams)\n",
      "  File \"<ipython-input-41-1d04b7d5548c>\", line 7, in evaluateSimulation\n",
      "    model.run()\n",
      "  File \"/Users/caglar/Documents/PhD/projects/neurolib/neurolib/models/aln/model.py\", line 80, in run\n",
      "    self.params, self.chunkSize, self.simulateBOLD, self.saveAllActivity\n",
      "Process Process-292:\n",
      "  File \"/Users/caglar/Documents/PhD/projects/neurolib/neurolib/models/aln/chunkwiseIntegration.py\", line 55, in chunkwiseTimeIntAndBOLD\n",
      "    rates_exc, rates_inh, t, mufe, mufi, IA, seem, seim, siem, siim, seev, seiv, siev, siiv = timeIntegration(paramsChunk)\n",
      "  File \"/Users/caglar/Documents/PhD/projects/neurolib/neurolib/models/aln/timeIntegration.py\", line 217, in timeIntegration\n",
      "    return timeIntegration_njit_elementwise(dt, duration, warn, dosc_version, distr_delay, filter_sigma, fast_interp, Cmat, Dmat, c_gl, Ke_gl, tau_ou, sigma_ou, mue_ext_mean, mui_ext_mean, sigmae_ext, sigmai_ext, Ke, Ki, de, di, tau_se, tau_si, tau_de, tau_di, cee, cie, cii, cei, Jee_max, Jei_max, Jie_max, Jii_max, a, b, EA, tauA, C, gL, EL, DeltaT, VT, Vr, Vs, Tref, taum, mufe, mufi, mufe_dosc, mufi_dosc, IA, seem, seim, seev, seiv, siim, siem, siiv, siev, precalc_r, precalc_V, precalc_tau_mu, precalc_tau_sigma, dI, ds, sigmarange, Irange, N, Dmat_ndt, t, rates_exc, rates_inh, rd_exc, rd_inh, sqrt_dt, startind, ndt_de, ndt_di, max_global_delay, mue_ext, mui_ext, ext_exc_rate, ext_inh_rate, ext_exc_current, ext_inh_current, noise_exc, noise_inh, zeros4)\n",
      "Traceback (most recent call last):\n",
      "  File \"/Users/caglar/anaconda/lib/python3.7/multiprocessing/process.py\", line 297, in _bootstrap\n",
      "    self.run()\n",
      "KeyboardInterrupt\n",
      "  File \"/Users/caglar/anaconda/lib/python3.7/multiprocessing/process.py\", line 99, in run\n",
      "    self._target(*self._args, **self._kwargs)\n",
      "  File \"/Users/caglar/anaconda/lib/python3.7/site-packages/pypet/environment.py\", line 132, in _process_single_run\n",
      "    result = _sigint_handling_single_run(kwargs)\n",
      "  File \"/Users/caglar/anaconda/lib/python3.7/site-packages/pypet/environment.py\", line 259, in _sigint_handling_single_run\n",
      "    return _single_run(kwargs)\n",
      "  File \"/Users/caglar/anaconda/lib/python3.7/site-packages/pypet/environment.py\", line 314, in _single_run\n",
      "    result = runfunc(traj, *runargs, **kwrunparams)\n",
      "  File \"<ipython-input-41-1d04b7d5548c>\", line 7, in evaluateSimulation\n",
      "    model.run()\n",
      "  File \"/Users/caglar/Documents/PhD/projects/neurolib/neurolib/models/aln/model.py\", line 80, in run\n",
      "    self.params, self.chunkSize, self.simulateBOLD, self.saveAllActivity\n",
      "  File \"/Users/caglar/Documents/PhD/projects/neurolib/neurolib/models/aln/chunkwiseIntegration.py\", line 55, in chunkwiseTimeIntAndBOLD\n",
      "    rates_exc, rates_inh, t, mufe, mufi, IA, seem, seim, siem, siim, seev, seiv, siev, siiv = timeIntegration(paramsChunk)\n",
      "  File \"/Users/caglar/Documents/PhD/projects/neurolib/neurolib/models/aln/timeIntegration.py\", line 217, in timeIntegration\n",
      "    return timeIntegration_njit_elementwise(dt, duration, warn, dosc_version, distr_delay, filter_sigma, fast_interp, Cmat, Dmat, c_gl, Ke_gl, tau_ou, sigma_ou, mue_ext_mean, mui_ext_mean, sigmae_ext, sigmai_ext, Ke, Ki, de, di, tau_se, tau_si, tau_de, tau_di, cee, cie, cii, cei, Jee_max, Jei_max, Jie_max, Jii_max, a, b, EA, tauA, C, gL, EL, DeltaT, VT, Vr, Vs, Tref, taum, mufe, mufi, mufe_dosc, mufi_dosc, IA, seem, seim, seev, seiv, siim, siem, siiv, siev, precalc_r, precalc_V, precalc_tau_mu, precalc_tau_sigma, dI, ds, sigmarange, Irange, N, Dmat_ndt, t, rates_exc, rates_inh, rd_exc, rd_inh, sqrt_dt, startind, ndt_de, ndt_di, max_global_delay, mue_ext, mui_ext, ext_exc_rate, ext_inh_rate, ext_exc_current, ext_inh_current, noise_exc, noise_inh, zeros4)\n",
      "KeyboardInterrupt\n"
     ]
    }
   ],
   "source": [
    "evolution.run(verbose = True)"
   ]
  },
  {
   "cell_type": "markdown",
   "metadata": {},
   "source": [
    "# Analysis"
   ]
  },
  {
   "cell_type": "code",
   "execution_count": 10,
   "metadata": {},
   "outputs": [
    {
     "name": "stdout",
     "output_type": "stream",
     "text": [
      "Parameters dictribution (Generation 9):\n",
      "mue_ext_mean: \t mean: 1.151,\t std: 0.2333\n",
      "mui_ext_mean: \t mean: 0.6289,\t std: 0.1932\n",
      "There are 20 valid individuals\n",
      "Mean score across population: -0.65\n"
     ]
    },
    {
     "data": {
      "image/png": "[encoded data removed]",
      "text/plain": [
       "<Figure size 288x144 with 1 Axes>"
      ]
     },
     "metadata": {
      "needs_background": "light"
     },
     "output_type": "display_data"
    },
    {
     "data": {
      "text/plain": [
       "<Figure size 432x288 with 0 Axes>"
      ]
     },
     "metadata": {},
     "output_type": "display_data"
    },
    {
     "data": {
      "image/png": "[encoded data removed]",
      "text/plain": [
       "<Figure size 360x360 with 6 Axes>"
      ]
     },
     "metadata": {
      "needs_background": "light"
     },
     "output_type": "display_data"
    },
    {
     "data": {
      "image/png": "[encoded data removed]",
      "text/plain": [
       "<Figure size 360x360 with 6 Axes>"
      ]
     },
     "metadata": {
      "needs_background": "light"
     },
     "output_type": "display_data"
    },
    {
     "name": "stdout",
     "output_type": "stream",
     "text": [
      "--------------------------\n",
      "Best 20 individuals:\n",
      "Printing 20 individuals\n",
      "Individual 0 pars mue_ext_mean 1.245, mui_ext_mean 0.6535\n",
      "\tFitness values:  0.0\n",
      "Individual 1 pars mue_ext_mean 1.024, mui_ext_mean 0.7068\n",
      "\tFitness values:  0.0\n",
      "Individual 2 pars mue_ext_mean 1.271, mui_ext_mean 0.4753\n",
      "\tFitness values:  0.0\n",
      "Individual 3 pars mue_ext_mean 0.9871, mui_ext_mean 0.8054\n",
      "\tFitness values:  0.0\n",
      "Individual 4 pars mue_ext_mean 1.333, mui_ext_mean 0.4825\n",
      "\tFitness values:  0.0\n",
      "Individual 5 pars mue_ext_mean 1.248, mui_ext_mean 0.5755\n",
      "\tFitness values:  0.0\n",
      "Individual 6 pars mue_ext_mean 1.293, mui_ext_mean 0.4619\n",
      "\tFitness values:  0.0\n",
      "Individual 7 pars mue_ext_mean 0.6714, mui_ext_mean 0.8313\n",
      "\tFitness values:  1.0\n",
      "Individual 8 pars mue_ext_mean 1.332, mui_ext_mean 0.4083\n",
      "\tFitness values:  1.0\n",
      "Individual 9 pars mue_ext_mean 0.906, mui_ext_mean 1.043\n",
      "\tFitness values:  1.0\n",
      "Individual 10 pars mue_ext_mean 1.495, mui_ext_mean 0.471\n",
      "\tFitness values:  1.0\n",
      "Individual 11 pars mue_ext_mean 1.099, mui_ext_mean 0.7644\n",
      "\tFitness values:  1.0\n",
      "Individual 12 pars mue_ext_mean 1.375, mui_ext_mean 0.4331\n",
      "\tFitness values:  1.0\n",
      "Individual 13 pars mue_ext_mean 1.226, mui_ext_mean 0.5454\n",
      "\tFitness values:  1.0\n",
      "Individual 14 pars mue_ext_mean 0.9703, mui_ext_mean 0.9071\n",
      "\tFitness values:  1.0\n",
      "Individual 15 pars mue_ext_mean 1.407, mui_ext_mean 0.4012\n",
      "\tFitness values:  1.0\n",
      "Individual 16 pars mue_ext_mean 1.488, mui_ext_mean 0.3529\n",
      "\tFitness values:  1.0\n",
      "Individual 17 pars mue_ext_mean 0.8561, mui_ext_mean 0.8794\n",
      "\tFitness values:  1.0\n",
      "Individual 18 pars mue_ext_mean 0.7728, mui_ext_mean 0.6294\n",
      "\tFitness values:  1.0\n",
      "Individual 19 pars mue_ext_mean 1.019, mui_ext_mean 0.7501\n",
      "\tFitness values:  1.0\n"
     ]
    }
   ],
   "source": [
    "evolution.info()"
   ]
  },
  {
   "cell_type": "code",
   "execution_count": 11,
   "metadata": {},
   "outputs": [
    {
     "name": "stderr",
     "output_type": "stream",
     "text": [
      "MainProcess root INFO     Loading results from ./data/hdf/evolution.hdf\n",
      "MainProcess root INFO     Analyzing trajectory results-2020-02-04-00H-24M-33S\n",
      "MainProcess pypet.storageservice.HDF5StorageService INFO     I will use the hdf5 file `./data/hdf/evolution.hdf`.\n",
      "MainProcess pypet.storageservice.HDF5StorageService INFO     Loading trajectory `results-2020-02-04-00H-24M-33S`.\n",
      "MainProcess pypet.storageservice.HDF5StorageService INFO     Loading branch `config` in mode `2`.\n",
      "MainProcess pypet.storageservice.HDF5StorageService INFO     Loading branch `derived_parameters` in mode `1`.\n",
      "MainProcess pypet.storageservice.HDF5StorageService INFO     Loading branch `parameters` in mode `2`.\n",
      "MainProcess pypet.storageservice.HDF5StorageService INFO     Loading branch `results` in mode `1`.\n"
     ]
    }
   ],
   "source": [
    "# This will load results from disk in case the session is \n",
    "# started newly and the trajectory is not in memory\n",
    "traj = evolution.loadResults()"
   ]
  },
  {
   "cell_type": "code",
   "execution_count": 15,
   "metadata": {},
   "outputs": [],
   "source": [
    "gens, all_scores = evolution.getScoresDuringEvolution(reverse=True)"
   ]
  },
  {
   "cell_type": "code",
   "execution_count": 16,
   "metadata": {},
   "outputs": [
    {
     "data": {
      "text/plain": [
       "array([1, 2, 3, 4, 5, 6, 7, 8, 9])"
      ]
     },
     "execution_count": 16,
     "metadata": {},
     "output_type": "execute_result"
    }
   ],
   "source": [
    "gens"
   ]
  },
  {
   "cell_type": "code",
   "execution_count": 17,
   "metadata": {},
   "outputs": [
    {
     "data": {
      "text/plain": [
       "Text(0, 0.5, 'Score')"
      ]
     },
     "execution_count": 17,
     "metadata": {},
     "output_type": "execute_result"
    },
    {
     "data": {
      "image/png": "[encoded data removed]",
      "text/plain": [
       "<Figure size 1600x800 with 1 Axes>"
      ]
     },
     "metadata": {
      "needs_background": "light"
     },
     "output_type": "display_data"
    }
   ],
   "source": [
    "plt.figure(figsize=(8, 4), dpi=200)   \n",
    "plt.plot(gens, np.nanmean(all_scores, axis=1))\n",
    "plt.fill_between(gens, np.nanmin(all_scores, axis=1), np.nanmax(all_scores, axis=1), alpha=0.3)\n",
    "plt.xlabel(\"Generation #\")\n",
    "plt.ylabel(\"Score\")"
   ]
  },
  {
   "cell_type": "code",
   "execution_count": 153,
   "metadata": {},
   "outputs": [],
   "source": [
    "import neurolib.utils.paths as paths"
   ]
  },
  {
   "cell_type": "code",
   "execution_count": 154,
   "metadata": {},
   "outputs": [],
   "source": [
    "HDF_FILE = os.path.join(paths.HDF_DIR, 'evolution.hdf')\n",
    "trajectoryFileName = HDF_FILE"
   ]
  },
  {
   "cell_type": "code",
   "execution_count": 155,
   "metadata": {},
   "outputs": [
    {
     "data": {
      "text/plain": [
       "'./data/hdf/evolution.hdf'"
      ]
     },
     "execution_count": 155,
     "metadata": {},
     "output_type": "execute_result"
    }
   ],
   "source": [
    "trajectoryFileName"
   ]
  },
  {
   "cell_type": "code",
   "execution_count": 156,
   "metadata": {},
   "outputs": [
    {
     "name": "stdout",
     "output_type": "stream",
     "text": [
      "Analyzing File \"./data/hdf/evolution.hdf\"\n",
      "All Trajectories:\n"
     ]
    },
    {
     "ename": "NameError",
     "evalue": "name 'pe' is not defined",
     "output_type": "error",
     "traceback": [
      "\u001b[0;31m---------------------------------------------------------------------------\u001b[0m",
      "\u001b[0;31mNameError\u001b[0m                                 Traceback (most recent call last)",
      "\u001b[0;32m<ipython-input-156-3f15b22954f3>\u001b[0m in \u001b[0;36m<module>\u001b[0;34m\u001b[0m\n\u001b[1;32m      2\u001b[0m \u001b[0mprint\u001b[0m\u001b[0;34m(\u001b[0m\u001b[0;34m\"Analyzing File \\\"{}\\\"\"\u001b[0m\u001b[0;34m.\u001b[0m\u001b[0mformat\u001b[0m\u001b[0;34m(\u001b[0m\u001b[0mtrajectoryFileName\u001b[0m\u001b[0;34m)\u001b[0m\u001b[0;34m)\u001b[0m\u001b[0;34m\u001b[0m\u001b[0;34m\u001b[0m\u001b[0m\n\u001b[1;32m      3\u001b[0m \u001b[0mprint\u001b[0m\u001b[0;34m(\u001b[0m\u001b[0;34m\"All Trajectories:\"\u001b[0m\u001b[0;34m)\u001b[0m\u001b[0;34m\u001b[0m\u001b[0;34m\u001b[0m\u001b[0m\n\u001b[0;32m----> 4\u001b[0;31m \u001b[0mprint\u001b[0m\u001b[0;34m(\u001b[0m\u001b[0mpe\u001b[0m\u001b[0;34m.\u001b[0m\u001b[0mgetTrajectoryNameInsideFile\u001b[0m\u001b[0;34m(\u001b[0m\u001b[0mtrajectoryFileName\u001b[0m\u001b[0;34m)\u001b[0m\u001b[0;34m)\u001b[0m\u001b[0;34m\u001b[0m\u001b[0;34m\u001b[0m\u001b[0m\n\u001b[0m\u001b[1;32m      5\u001b[0m \u001b[0mtrajectoryName\u001b[0m \u001b[0;34m=\u001b[0m \u001b[0mpe\u001b[0m\u001b[0;34m.\u001b[0m\u001b[0mgetTrajectoryNameInsideFile\u001b[0m\u001b[0;34m(\u001b[0m\u001b[0mtrajectoryFileName\u001b[0m\u001b[0;34m)\u001b[0m\u001b[0;34m[\u001b[0m\u001b[0;34m-\u001b[0m\u001b[0;36m1\u001b[0m\u001b[0;34m]\u001b[0m\u001b[0;34m\u001b[0m\u001b[0;34m\u001b[0m\u001b[0m\n\u001b[1;32m      6\u001b[0m \u001b[0;34m\u001b[0m\u001b[0m\n",
      "\u001b[0;31mNameError\u001b[0m: name 'pe' is not defined"
     ]
    }
   ],
   "source": [
    "# ---- load pypet trajectory \"trajectoryFileName\" ----\n",
    "print(\"Analyzing File \\\"{}\\\"\".format(trajectoryFileName))\n",
    "print(\"All Trajectories:\")\n",
    "print(pe.getTrajectoryNameInsideFile(trajectoryFileName))\n",
    "trajectoryName = pe.getTrajectoryNameInsideFile(trajectoryFileName)[-1]\n",
    "\n",
    "print(\"Analyzing trajectory \\\"{}\\\".\".format(trajectoryName))\n",
    "trajLoaded = pp.Trajectory(trajectoryName,add_time=False)\n",
    "trajLoaded.f_load(trajectoryName,filename=trajectoryFileName, force=True)\n",
    "trajLoaded.v_auto_load = True\n",
    "print(\"{} results found\".format(len(trajLoaded.f_get_results())))"
   ]
  },
  {
   "cell_type": "code",
   "execution_count": 61,
   "metadata": {},
   "outputs": [
    {
     "data": {
      "text/plain": [
       "[2.2841342671841405,\n",
       " 1.881658432891666,\n",
       " 0.2219763831739735,\n",
       " 1.3333333333333333,\n",
       " 1.3333333333333333,\n",
       " 0.09666666666666666]"
      ]
     },
     "execution_count": 61,
     "metadata": {},
     "output_type": "execute_result"
    }
   ],
   "source": [
    "evolution.toolbox.individual()"
   ]
  },
  {
   "cell_type": "code",
   "execution_count": 49,
   "metadata": {},
   "outputs": [
    {
     "data": {
      "text/plain": [
       "7.184749007504989"
      ]
     },
     "execution_count": 49,
     "metadata": {},
     "output_type": "execute_result"
    }
   ],
   "source": [
    "# This should be done in order to save the objectives for later reconstruction!!! it's not necessary during the simulation since we can always load the dataset\n",
    "# in the notebook with ds = Dataset() and use it in the evaluation function. \n",
    "\n",
    "# save fitting data into trajectory for fitness evaluation later\n",
    "def init_trajectory(traj):\n",
    "    traj.f_add_parameter_group(\"fitness_objectives\")\n",
    "    traj.f_add_parameter_group(\"fitness_objectives.FC\")\n",
    "    traj.f_add_parameter('fitness_objectives.n_FC', NSUBJECTS, comment='Number of FC matrices')\n",
    "    for i in range(NSUBJECTS):\n",
    "        traj.f_add_parameter('fitness_objectives.FC.FC_{}'.format(i), FCs[i], comment='FC matrix of Subject {}'.format(i))\n",
    "    #traj.f_store()    \n",
    "init_trajectory(traj)"
   ]
  },
  {
   "cell_type": "code",
   "execution_count": null,
   "metadata": {},
   "outputs": [],
   "source": [
    "def simulate_individual(traj):\n",
    "    # either pass an individual or a pypet trajectory with the attribute individual\n",
    "    if type(traj).__name__ == 'Individual':\n",
    "        individual = traj\n",
    "    else:\n",
    "        individual = traj.individual\n",
    "    \n",
    "    rid = traj.id\n",
    "    print(\"Running ID {}\".format(rid))\n",
    "    \n",
    "    result_dict = {\"t_BOLD\" : None, \"BOLD\" : None, \"t_rates\" : None, \"rates_exc\" : None}\n",
    "    invalid_result = result_dict.copy()\n",
    "    \n",
    "    # Check if the params are valid\n",
    "    if not du.check_param_validity(individual, paramInterval):\n",
    "        if (debug_output):\n",
    "            print('WARN: invalid paramteres')\n",
    "        # abort run\n",
    "        return invalid_result    \n",
    "        \n",
    "    # Return fast dummy output for testing purposes\n",
    "    if dummy_output:\n",
    "        if random.random() < 0.1:\n",
    "            return invalid_result\n",
    "        else:\n",
    "            t_rates = np.array(range(200))\n",
    "            rates_exc = np.random.random((80, 200))\n",
    "            t_BOLD = np.array(range(20))\n",
    "            BOLD = np.random.random((80, 20))\n",
    "            result_dict = {\"t_BOLD\" : t_BOLD, \"BOLD\" : BOLD, \"t_rates\" : t_rates, \"rates_exc\" : rates_exc}\n",
    "            return result_dict\n",
    "    \n",
    "    # Load this individual's parameters\n",
    "    params = copy.deepcopy(defaultParams) # copy default parameters \n",
    "    indiv_dict = du.indivAsDict_adapt(individual, ParametersInterval, paramInterval)\n",
    "    params.update(indiv_dict) # and then update this individual's specific parameters\n",
    "\n",
    "    # STAGE 1\n",
    "    # -------------------------\n",
    "    # First run the network, to ensure there is some activity\n",
    "    params['dt'] = 0.1\n",
    "    params['duration'] = 10*1000.\n",
    "    \n",
    "    retVals = ti.timeIntegration(params)\n",
    "    rates_exc, rates_inh, t, mufe, mufi, IA, seem, seim, siem, siim, \\\n",
    "                seev, seiv, siev, siiv, r_ext_chunk, mue_ext_chunk = retVals\n",
    "\n",
    "    #print 'pars:', 'Ke_gl', params['Ke_gl'], 'mue_ext_mean', params['mue_ext_mean'], 'sigmaou', params['sigma_ou']        \n",
    "    if np.max(rates_exc[:,5000:]) > 0.3 or np.max(rates_exc[:,5000:]) < 0.01:\n",
    "        if (debug_output):\n",
    "            pass\n",
    "            #print(rid, 'rate stuck: np.max(rates_exc[:,5000:]) = {}'.format(np.max(rates_exc[:,5000:])))\n",
    "            #plt.plot(rates_exc.T)\n",
    "            #plt.show()\n",
    "        return invalid_result\n",
    "    \n",
    "    # STAGE 2\n",
    "    # -------------------------    \n",
    "    # BOLD for 20 seconds to see if it overflows\n",
    "    params['dt'] = 0.2\n",
    "    params['duration'] = 20*1000.\n",
    "    t_BOLD, BOLD, return_tuple = cw.chunkwiseTimeIntAndBOLD(params)\n",
    "    rates_exc, rates_inh, \\\n",
    "                            mufe, mufi, IA, seem, seim, siem, siim, \\\n",
    "                            seev, seiv, siev, siiv, integrated_chunk, rhs_chunk = return_tuple\n",
    "    if np.std(BOLD[:, 5:7]) < 0.001:\n",
    "        if (debug_output):\n",
    "            pass\n",
    "            #print(rid, 'BOLD stuck: np.std(BOLD[:, 5:7]) = {}'.format(np.std(BOLD[:, 5:7])))\n",
    "            #plt.plot(BOLD.T)\n",
    "            #plt.show()\n",
    "        return invalid_result    \n",
    "    if (debug_output):\n",
    "        pass\n",
    "        #print(rid, 'continue simulation')\n",
    "                  \n",
    "\n",
    "    # STAGE 3\n",
    "    # -------------------------    \n",
    "    params['dt'] = 0.2\n",
    "    params['duration'] = defaultParams['duration']\n",
    "\n",
    "    \n",
    "    t_BOLD, BOLD, return_tuple = cw.chunkwiseTimeIntAndBOLD(params, chunkSize=10000)\n",
    "    rates_exc, rates_inh, \\\n",
    "                            mufe, mufi, IA, seem, seim, siem, siim, \\\n",
    "                            seev, seiv, siev, siiv, integrated_chunk, rhs_chunk = return_tuple\n",
    "    \n",
    "    t_rates = np.linspace(0, len(rates_exc[0])*params['dt'], len(rates_exc[0]))\n",
    "    \n",
    "    if np.max(rates_exc[:,5000:]) > 0.3 or np.max(rates_exc[:,5000:]) < 0.01:\n",
    "        if (debug_output):\n",
    "            print(rid, 'continued but rate overflow/stuck')\n",
    "            #print(rid, '-------------------------')\n",
    "            #print(rid, 'pars', ', '.join([ ' '.join([k, str(params[k])]) for k in paramInterval._fields]))\n",
    "            #print(rid, 'np.max(rates_exc[:,5000:])', np.max(rates_exc[:,5000:]))\n",
    "            #print(rid, 'np.std(BOLD[:, 5:7])', np.std(BOLD[:, 5:7]))\n",
    "            #f, (ax2, ax3) = plt.subplots(2, 1)\n",
    "            #ax2.set_title(rid)\n",
    "            #ax2.plot(BOLD.T)\n",
    "            #ax3.plot(rates_exc.T)\n",
    "            #plt.show()\n",
    "            #print('------------------------------'            )\n",
    "        return invalid_result \n",
    "    if np.std(BOLD[:, 5:7]) < 0.004:\n",
    "        if (debug_output):\n",
    "            print(rid, 'continued but BOLD stuck')\n",
    "        return invalid_result\n",
    "    if len([i for i in range(N) if np.max(BOLD[i, 15:20]) > 0.001]) < N-2:\n",
    "        if (debug_output):\n",
    "            print(rid, 'continued but BOLD overflow ')\n",
    "            #plt.plot(BOLD.T)\n",
    "            #plt.title(rid)\n",
    "            #plt.show()\n",
    "        return invalid_result      \n",
    "    \n",
    "    # if all went ok...\n",
    "    downsample_to = params['save_dt']\n",
    "    if downsample_to != None:\n",
    "        t = t[::int(downsample_to / params['dt'])]\n",
    "        rates_exc = rates_exc[:, ::int(downsample_to / params['dt'])]\n",
    "        rates_inh = rates_inh[:, ::int(downsample_to / params['dt'])]\n",
    "        #stimulus = stimulus[:, ::int(downsample_to / params['dt'])] # does not work if stimulus is just a float!\n",
    "        \n",
    "    result_dict = {\"t_BOLD\" : t_BOLD, \"BOLD\" : BOLD, \"t_rates\" : t_rates, \"rates_exc\" : rates_exc}\n",
    "    \n",
    "    return result_dict    # DEAP wants a tuple here!\n",
    "\n",
    "def evaluate_individual(traj):\n",
    "    # either pass an individual or a pypet trajectory with the attribute individual\n",
    "    if type(traj).__name__ == 'Individual':\n",
    "        individual = traj\n",
    "    else:\n",
    "        individual = traj.individual\n",
    "        \n",
    "    simulation_results = simulate_individual(traj)\n",
    "    #print(simulation_results)\n",
    "    \n",
    "    NSUBJECTS = traj.fitness_objectives.n_FC\n",
    "    rid = traj.id\n",
    "    \n",
    "    fitness_tuple = ()\n",
    "    \n",
    "    BOLD = simulation_results['BOLD']\n",
    "    t_BOLD = simulation_results['t_BOLD']\n",
    "    rates_exc = simulation_results['rates_exc']\n",
    "    \n",
    "    if BOLD is not None:\n",
    "        FC_OFFSET = 10 * 1000 # Offset in milliseconds in the simuated BOLD to compute the FC matrix\n",
    "        FC_sim = func.fc(BOLD[:, t_BOLD > FC_OFFSET])           \n",
    "        for i in range(NSUBJECTS):\n",
    "            this_FC = traj.fitness_objectives.FC['FC_{}'.format(i)]\n",
    "            fitness_tuple += (func.matrix_correlation(FC_sim, this_FC),)\n",
    "        FCcorr = np.mean(fitness_tuple)\n",
    "        if (debug_output):\n",
    "            print(rid, '-------------------------')\n",
    "            print(rid, 'pars', ', '.join([ ' '.join([k, str(params[k])]) for k in paramInterval._fields]))\n",
    "            print(rid, 'FC', FCcorr)\n",
    "            print(rid, 'fitness_tuple')\n",
    "            print(fitness_tuple)\n",
    "            print(rid, 'np.max(rates_exc[:,5000:])', np.max(rates_exc[:,100:]))\n",
    "            print(rid, 'np.std(BOLD[:, 5:7])', np.std(BOLD[:, 5:7]))\n",
    "            f, (ax1, ax2, ax3) = plt.subplots(3, 1)\n",
    "            ax1.imshow(FC_sim)\n",
    "            ax1.set_title(rid)\n",
    "            ax2.imshow(scipy.stats.mstats.zscore(BOLD[:, t_BOLD > FC_OFFSET], axis=1))\n",
    "            ax3.plot(rates_exc.T)\n",
    "            plt.show()\n",
    "            print('------------------------------')            \n",
    "    else:\n",
    "        fitness_tuple = (np.nan, )* NSUBJECTS\n",
    "    return (fitness_tuple, simulation_results)"
   ]
  },
  {
   "cell_type": "code",
   "execution_count": 12,
   "metadata": {},
   "outputs": [
    {
     "name": "stdout",
     "output_type": "stream",
     "text": [
      "outputs.ind_000123\n",
      "-----------------------\n",
      "save_string outputs.ind_000123.rates\n",
      "outputs.ind_000123.rates.t [0.0000e+00 1.0000e-01 2.0000e-01 ... 1.9998e+03 1.9999e+03 2.0000e+03]\n",
      "-----------------------\n",
      "save_string outputs.ind_000123.rates\n",
      "outputs.ind_000123.rates.rates_exc [[8.33146236e+01 7.23844726e+01 6.57587880e+01 ... 2.21892867e-02\n",
      "  2.27298728e-02 2.32727878e-02]]\n",
      "-----------------------\n",
      "save_string outputs.ind_000123.rates\n",
      "outputs.ind_000123.rates.rates_inh [[73.09666604 67.38598775 63.30308389 ...  0.17675581  0.17761642\n",
      "   0.17849476]]\n",
      "outputs.ind_000123\n",
      "-----------------------\n",
      "save_string outputs.ind_000123.BOLD\n",
      "outputs.ind_000123.BOLD.t [0.1]\n",
      "-----------------------\n",
      "save_string outputs.ind_000123.BOLD\n",
      "outputs.ind_000123.BOLD.BOLD [[1.38468509e-10]]\n"
     ]
    }
   ],
   "source": [
    "def unpackOutputsAndStore(outputs, save_string):\n",
    "    for key, value in outputs.items():\n",
    "        new_save_string = save_string\n",
    "        if isinstance(value, dict):\n",
    "            new_save_string = save_string + \".\" + key\n",
    "            print(save_string)\n",
    "            unpackOutputsAndStore(value, new_save_string)\n",
    "        else:\n",
    "            print(\"-----------------------\")\n",
    "            print(\"save_string\", new_save_string)\n",
    "            #print(\"Adding\", key, value)\n",
    "            print('{}.{}'.format(new_save_string, key), value)\n",
    "unpackOutputsAndStore(alnModel.outputs, save_string = '{}.ind_{:06d}'.format(\"outputs\", 123))"
   ]
  }
 ],
 "metadata": {
  "kernelspec": {
   "display_name": "Python 3",
   "language": "python",
   "name": "python3"
  },
  "language_info": {
   "codemirror_mode": {
    "name": "ipython",
    "version": 3
   },
   "file_extension": ".py",
   "mimetype": "text/x-python",
   "name": "python",
   "nbconvert_exporter": "python",
   "pygments_lexer": "ipython3",
   "version": "3.7.3"
  }
 },
 "nbformat": 4,
 "nbformat_minor": 4
}
