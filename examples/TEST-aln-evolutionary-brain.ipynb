{
 "cells": [
  {
   "cell_type": "code",
   "execution_count": null,
   "metadata": {},
   "outputs": [],
   "source": [
    "# change into root directory to the project\n",
    "import os\n",
    "if os.getcwd().split(\"/\")[-1] == \"examples\":\n",
    "    os.chdir('..')"
   ]
  },
  {
   "cell_type": "code",
   "execution_count": null,
   "metadata": {},
   "outputs": [],
   "source": [
    "import logging\n",
    "logger = logging.getLogger()\n",
    "logger.setLevel(logging.DEBUG)\n",
    "\n",
    "%load_ext autoreload\n",
    "%autoreload 2"
   ]
  },
  {
   "cell_type": "code",
   "execution_count": null,
   "metadata": {},
   "outputs": [],
   "source": [
    "import numpy as np\n",
    "import matplotlib.pyplot as plt\n",
    "\n",
    "from neurolib.models.aln import ALNModel\n",
    "from neurolib.utils.parameterSpace import ParameterSpace\n",
    "from neurolib.optimize.evolution import Evolution\n",
    "import neurolib.utils.functions as func\n",
    "\n",
    "from neurolib.utils.loadData import Dataset\n",
    "ds = Dataset(\"gw\")\n",
    "\n",
    "# sett dpi for notebooks on server\n",
    "plt.rcParams['svg.fonttype'] = 'none'\n",
    "plt.rcParams['savefig.dpi'] = 600\n",
    "plt.rcParams['image.cmap'] = 'plasma'"
   ]
  },
  {
   "cell_type": "code",
   "execution_count": null,
   "metadata": {},
   "outputs": [],
   "source": [
    "aln = ALNModel(Cmat = ds.Cmat, Dmat = ds.Dmat, simulateBOLD=True) # simulates the whole-brain model in 10s chunks by default if simulateBOLD == True\n",
    "# Resting state fits\n",
    "aln.params['mue_ext_mean'] = 1.57\n",
    "aln.params['mui_ext_mean'] = 1.6\n",
    "aln.params['sigma_ou'] = 0.09\n",
    "aln.params['b'] = 5.0\n",
    "aln.params['signalV'] = 2\n",
    "aln.params['dt'] = 0.2\n",
    "aln.params['duration'] = 0.2 * 60 * 1000 #ms\n",
    "\n",
    "aln.run()"
   ]
  },
  {
   "cell_type": "code",
   "execution_count": null,
   "metadata": {},
   "outputs": [],
   "source": [
    "def evaluateSimulation(traj):\n",
    "    rid = traj.id\n",
    "    #print(\"Running run id {}\".format(rid))\n",
    "\n",
    "    #model = evolution.loadIndividual(traj)\n",
    "    model = evolution.getModelFromTraj(traj)  \n",
    "    model.run()\n",
    "    \n",
    "    # -------- fitness evaluation here --------\n",
    "    \n",
    "    scores = []\n",
    "    for i, fc in enumerate(ds.FCs):#range(len(ds.FCs)):\n",
    "        fc_score = func.matrix_correlation(func.fc(model.BOLD.BOLD[:, 5:]), fc)\n",
    "        scores.append(fc_score)\n",
    "    \n",
    "    fitness = np.mean(scores)\n",
    "    \n",
    "    fitness_tuple = ()\n",
    "    fitness_tuple += (fitness,fitness ,)\n",
    "    fitness_tuple = tuple(scores)\n",
    "    \n",
    "    print(fitness_tuple)\n",
    "    return fitness_tuple, {}"
   ]
  },
  {
   "cell_type": "code",
   "execution_count": null,
   "metadata": {},
   "outputs": [],
   "source": [
    "pars = ParameterSpace(['mue_ext_mean', 'mui_ext_mean'], [[0.0, 2.0], [0.0, 2.0]])"
   ]
  },
  {
   "cell_type": "code",
   "execution_count": null,
   "metadata": {},
   "outputs": [],
   "source": [
    "evolution = Evolution(evaluateSimulation, pars, weightList = [1.0, 1.0, 1.0], model = aln, POP_INIT_SIZE=4, POP_SIZE = 4, NGEN=2)"
   ]
  },
  {
   "cell_type": "code",
   "execution_count": null,
   "metadata": {
    "scrolled": true
   },
   "outputs": [],
   "source": [
    "evolution.run(verbose = False)"
   ]
  },
  {
   "cell_type": "markdown",
   "metadata": {},
   "source": [
    "# Analysis"
   ]
  },
  {
   "cell_type": "code",
   "execution_count": null,
   "metadata": {},
   "outputs": [],
   "source": [
    "evolution.info()"
   ]
  },
  {
   "cell_type": "code",
   "execution_count": null,
   "metadata": {},
   "outputs": [],
   "source": [
    "evolution.popHist"
   ]
  },
  {
   "cell_type": "code",
   "execution_count": null,
   "metadata": {},
   "outputs": [],
   "source": [
    "evolution.dfPop"
   ]
  },
  {
   "cell_type": "code",
   "execution_count": null,
   "metadata": {},
   "outputs": [],
   "source": [
    "# This will load results from disk in case the session is \n",
    "# started newly and the trajectory is not in memory\n",
    "traj = evolution.loadResults()"
   ]
  },
  {
   "cell_type": "code",
   "execution_count": null,
   "metadata": {},
   "outputs": [],
   "source": [
    "gens, all_scores = evolution.getScoresDuringEvolution(reverse=True)"
   ]
  },
  {
   "cell_type": "code",
   "execution_count": null,
   "metadata": {},
   "outputs": [],
   "source": [
    "plt.figure(figsize=(8, 4), dpi=200)   \n",
    "plt.plot(gens, np.nanmean(all_scores, axis=1))\n",
    "plt.fill_between(gens, np.nanmin(all_scores, axis=1), np.nanmax(all_scores, axis=1), alpha=0.3)\n",
    "plt.xlabel(\"Generation #\")\n",
    "plt.ylabel(\"Score\")"
   ]
  }
 ],
 "metadata": {
  "kernelspec": {
   "display_name": "Python 3",
   "language": "python",
   "name": "python3"
  },
  "language_info": {
   "codemirror_mode": {
    "name": "ipython",
    "version": 3
   },
   "file_extension": ".py",
   "mimetype": "text/x-python",
   "name": "python",
   "nbconvert_exporter": "python",
   "pygments_lexer": "ipython3",
   "version": "3.7.3"
  }
 },
 "nbformat": 4,
 "nbformat_minor": 4
}
