{
 "cells": [
  {
   "cell_type": "markdown",
   "id": "collected-invitation",
   "metadata": {},
   "source": [
    "# `MultiModel` framework\n",
    "\n",
    "Here we showcase the `MultiModel` framework, which is a standalone framework within `neurolib` for creating and simulating heterogeneous brain models. By heterogeneous we mean that a brain network may consist of nodes with totally different dynamics, coupled by a single variable. Imagine having a population model for thalamus, a different model for hippocampus, and a different model for cortex. Of course, not only the parameters, but the model dynamics and the equations would be completely different. This is all possible and even rather easy in `MultiModel`.\n",
    "\n",
    "## Implemented models\n",
    "In order to facilitate your heterogeneous experiments, the `MultiModel` comes with few population models predefined for you. These can be mixed into a brain network in many ways. We provide:\n",
    "\n",
    "* `aln`: the adaptive linear-nonlinear population model, it is a mean-field approximation of delay-coupled network of excitatory and inhibitory adaptive exponential integrate-and-fire neurons (AdEx)\n",
    "* `fitzhugh_nagumo`: the FitzHugh-Nagumo model, a two dimensional slow-fast system, it is a simplified version of the famous 4D Hodgkin–Huxley model\n",
    "* `hopf`: the Hopf model, (sometimes called a Stuart-Landau oscillator), it is a 1D nonlinear model and serves as a normal form of Hopf bifurcation in dynamical systems\n",
    "* `thalamus`: a conductance-based population rate model of thalamus, it is a Jansen-Rit like population model with current-based voltage evolution, includes adaptation (*K*-leak), calcium and rectifying currents\n",
    "* `wilson_cowan`: the Wilson-Cowan neuronal model, it is a simple model of interacting interconnected neurons of excitatory and inhibitory subtypes\n",
    "* `wong_wang`: a Wong-Wang model, a model approximating a biophysically-based cortical network model. Our implementation comes in two flavors:\n",
    "    * original Wong-Wang model with excitatory and inhibitory subtypes\n",
    "    * reduced Wong-Wang model with simpler dynamics and no EXC/INH distinction\n",
    "    \n",
    "Moreover, the `MultiModel` framework is build in such a way, that creating and connecting new models (e.g. Jansen-Rit) is easy and intuitive. An example of how to create a brand new model implementation in `MultiModel` is provided in the next example notebook (`example-4.1-create-new-model.ipynb`).\n",
    "\n",
    "## Modeling hierarchy\n",
    "The `MultiModel` relies on the modeling hierarchy which is typically implicit in whole-brain modeling. This hierarchy has three levels:\n",
    "* `NeuralMass`: represents a single neural population (typically excitatory, inhibitory, or without a subtype) and is defined by a set of parameters and (possibly delayed) (possibly stochastic) differential equations\n",
    "* `Node`: represents a single brain node and it is a set of connected neural masses (so e.g. a single Wilson-Cowan node consists of one excitatory and one inhibitory Wilson-Cowan `NeuralMass`)\n",
    "* `Network`: represents a brain network and it is a set of connected nodes (can be any type, as long as the coupling variables are the same)\n",
    "\n",
    "Although the magic happens at the level of `NeuralMass` (by magic we mean the dynamics), users can only simulate (integrate) a `Node` or a `Network`. In other words, even for models without excitatory/inhibitory subtyping (e.g. Hopf or FitzHugh-Nagumo) we create a `Node` consisting of one `NeuralMass`. In the case of e.g. Wilson-Cowan, ALN or original Wong-Wang model, the `Node` consists of one excitatory and one inhibitory mass. More info on the modeling hierarchy and how it actually works is provided in the next example notebook (`example-4.1-create-new-model.ipynb`), where we need to subclass the base classes for this hierarchy in order to build a new model.\n",
    "\n",
    "## Basic usage in `neurolib`\n",
    "(In the following we expect the reader to be mildly familiar with how `neurolib` works, e.g. how to run a model, how to change it parameters, and how to get model results)"
   ]
  },
  {
   "cell_type": "code",
   "execution_count": null,
   "id": "british-branch",
   "metadata": {},
   "outputs": [],
   "source": []
  }
 ],
 "metadata": {
  "kernelspec": {
   "display_name": "Python 3",
   "language": "python",
   "name": "python3"
  },
  "language_info": {
   "codemirror_mode": {
    "name": "ipython",
    "version": 3
   },
   "file_extension": ".py",
   "mimetype": "text/x-python",
   "name": "python",
   "nbconvert_exporter": "python",
   "pygments_lexer": "ipython3",
   "version": "3.7.10"
  }
 },
 "nbformat": 4,
 "nbformat_minor": 5
}
