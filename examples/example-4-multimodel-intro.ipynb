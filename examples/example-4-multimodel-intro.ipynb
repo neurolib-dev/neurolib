{
 "cells": [
  {
   "cell_type": "markdown",
   "id": "patent-eleven",
   "metadata": {},
   "source": [
    "# `MultiModel` framework\n",
    "\n",
    "Here we showcase the `MultiModel` framework, a standalone framework within `neurolib` to create and simulate heterogeneous brain models. By heterogeneous, we mean that a brain network may consist of nodes with totally different dynamics coupled by a single variable. Imagine having a population model for the thalamus, a different model for the hippocampus, and a different model for the cortex. Of course, the parameters and the model dynamics, and the equations would be completely different. This is all possible and even relatively easy in `MultiModel`.\n",
    "\n",
    "## Implemented models\n",
    "To facilitate your heterogeneous experiments, the `MultiModel` comes with few population models predefined for you. We can mix these into a brain network in many ways. We provide:\n",
    "\n",
    "* `aln`: the adaptive linear-nonlinear population model, it is a mean-field approximation of delay-coupled network of excitatory and inhibitory adaptive exponential integrate-and-fire neurons (AdEx)\n",
    "* `fitzhugh_nagumo`: the FitzHugh-Nagumo model, a two-dimensional slow-fast system, is a simplified version of the famous 4D Hodgkin–Huxley model\n",
    "* `hopf`: the Hopf model (sometimes called a Stuart-Landau oscillator) is a 1D nonlinear model and serves as a normal form of Hopf bifurcation in dynamical systems\n",
    "* `thalamus`: a conductance-based population rate model of the thalamus, it is a Jansen-Rit like population model with current-based voltage evolution, includes adaptation (*K*-leak), calcium, and rectifying currents\n",
    "* `wilson_cowan`: the Wilson-Cowan neuronal model is a simple model of interacting interconnected neurons of excitatory and inhibitory subtypes\n",
    "* `wong_wang`: a Wong-Wang model, a model approximating a biophysically-based cortical network model. Our implementation comes in two flavors:\n",
    "    * original Wong-Wang model with excitatory and inhibitory subtypes\n",
    "    * reduced Wong-Wang model with simpler dynamics and no EXC/INH distinction\n",
    "    \n",
    "Moreover, the `MultiModel` framework is built in such a way that creating and connecting new models (e.g., Jansen-Rit) is easy and intuitive. An example of how to make a brand new model implementation in `MultiModel` is provided in the following example notebook (`example-4.1-create-new-model.ipynb`).\n",
    "\n",
    "## Modeling hierarchy\n",
    "The `MultiModel` relies on the modeling hierarchy, which is typically implicit in whole-brain modeling. This hierarchy has three levels:\n",
    "* `NeuralMass`: represents a single neural population (typically excitatory, inhibitory, or without a subtype) and is defined by a set of parameters and (possibly delayed) (possibly stochastic) differential equations\n",
    "* `Node`: represents a single brain node, and it is a set of connected neural masses (so, e.g., a single Wilson-Cowan node consists of one excitatory and one inhibitory Wilson-Cowan `NeuralMass`)\n",
    "* `Network`: represents a brain network, and it is a set of connected nodes (can be any type, as long as the coupling variables are the same)\n",
    "\n",
    "Although the magic happens at the level of `NeuralMass` (by magic, we mean the dynamics), users can only simulate (integrate) a `Node` or a `Network`. In other words, even for models without excitatory/inhibitory subtyping (e.g., Hopf or FitzHugh-Nagumo), we create a `Node` consisting of one `NeuralMass`. In the case of, e.g., Wilson-Cowan, ALN, or original Wong-Wang model, the `Node` consists of one excitatory and one inhibitory mass. More info on the modeling hierarchy and how it actually works is provided in the following example notebook (`example-4.1-create-new-model.ipynb`), where we need to subclass the base classes for this hierarchy to build a new model.\n",
    "\n",
    "## Basic usage in `neurolib`\n",
    "(In the following we expect the reader to be mildly familiar with how `neurolib` works, e.g. how to run a model, how to change it parameters, and how to get model results)"
   ]
  },
  {
   "cell_type": "code",
   "execution_count": 1,
   "id": "quiet-albert",
   "metadata": {},
   "outputs": [],
   "source": [
    "# import stuff\n",
    "\n",
    "# try:\n",
    "import matplotlib.pyplot as plt\n",
    "import numpy as np\n",
    "from IPython.display import display\n",
    "\n",
    "# import ALN single node model and neurolib wrapper `MultiModel`\n",
    "from neurolib.models.multimodel import ALNNetwork, ALNNode, MultiModel\n",
    "\n",
    "# except ImportError:\n",
    "#     import sys\n",
    "#     !{sys.executable} -m pip install matplotlib\n",
    "#     import matplotlib.pyplot as plt"
   ]
  },
  {
   "cell_type": "markdown",
   "id": "agreed-wells",
   "metadata": {},
   "source": [
    "## Simulating the mode"
   ]
  },
  {
   "cell_type": "code",
   "execution_count": 2,
   "id": "mature-brass",
   "metadata": {},
   "outputs": [
    {
     "name": "stderr",
     "output_type": "stream",
     "text": [
      "/Users/nikola/.virtualenvs/neurolib/lib/python3.7/site-packages/jitcdde/_jitcdde.py:1491: UserWarning: Your input past does not begin at t=0 but at t=1.0. Values before the beginning of the past will be extrapolated. You very likely do not want this.\n",
      "  warn(f\"Your input past does not begin at t=0 but at t={input[0].time}. Values before the beginning of the past will be extrapolated. You very likely do not want this.\")\n"
     ]
    },
    {
     "name": "stdout",
     "output_type": "stream",
     "text": [
      "Using default integration parameters.\n"
     ]
    },
    {
     "name": "stderr",
     "output_type": "stream",
     "text": [
      "100%|██████████| 5000/5000 [00:00<00:00, 7864.94it/s]\n"
     ]
    },
    {
     "data": {
      "text/plain": [
       "Text(0, 0.5, 'Rate [kHz]')"
      ]
     },
     "execution_count": 2,
     "metadata": {},
     "output_type": "execute_result"
    },
    {
     "data": {
      "image/png": "[encoded data removed]",
      "text/plain": [
       "<Figure size 432x288 with 1 Axes>"
      ]
     },
     "metadata": {
      "needs_background": "light"
     },
     "output_type": "display_data"
    }
   ],
   "source": [
    "# create a model and wrap it to `MultiModel`\n",
    "aln = MultiModel.init_node(ALNNode())\n",
    "\n",
    "# 5 seconds run\n",
    "aln.params[\"duration\"] = 5.0 * 1000  # in ms\n",
    "# MultiModel offers two integration backends, be default we are using so-called `jitcdde` backend\n",
    "# `jitcdde` is a numerical backend employing adaptive dt scheme for DDEs, therefore we do not care about\n",
    "# actual dt (since it is adaptive), only about the sampling dt and this can be higher\n",
    "# more about this in example-4.2\n",
    "aln.params[\"sampling_dt\"] = 1.0  # in ms\n",
    "# parametrise ALN model in slow limit cycle\n",
    "aln.params[\"*EXC*noise*mu\"] = 4.2\n",
    "aln.params[\"*INH*noise*mu\"] = 1.8\n",
    "# run\n",
    "aln.run()\n",
    "\n",
    "# plot - default output is firing rates in kHz\n",
    "plt.plot(aln[\"t\"], aln[\"r_mean_EXC\"].T, lw=2, c=\"k\")\n",
    "plt.xlabel(\"t [ms]\")\n",
    "plt.ylabel(\"Rate [kHz]\")"
   ]
  },
  {
   "cell_type": "markdown",
   "id": "elegant-building",
   "metadata": {},
   "source": [
    "As you saw in the previous cell, the internal workings of `MultiModel` are very similar to the core `neurolib`. Therefore, for simple runs, you do care about the following:\n",
    "* `MultiModel`: a wrapper class for all models in MultiModel framework which gives model objects `neurolib` powers (meaning `.params` and `.run()`). `MultiModel` class is initialized as follows:\n",
    "    * when initialising with `Node`: `model = MultiModel.init_node(<init'd Node class>)`\n",
    "    * when initialising with `Network`: `model = MultiModel(<init'd Network class>)` (see later)\n",
    "    \n",
    "## `MultiModel` parameters and other accessible attributes\n",
    "Since `MultiModel` is able to simulate heterogeneous models, the internals of how parameters work is a bit more complex than in the core `neurolib`. Each mass has its own parameters, each node then gathers the parameters of each mass within that node, and finally, the network gathers all parameters from each node in the network, etc. So hierarchy again. To make it easier to navigate through `MultiModel` hierarchies, some attributes are implemented in all hierarchy levels."
   ]
  },
  {
   "cell_type": "code",
   "execution_count": 3,
   "id": "tracked-plasma",
   "metadata": {},
   "outputs": [
    {
     "name": "stdout",
     "output_type": "stream",
     "text": [
      "Brain network ALN neural mass network with 2 nodes\n",
      "Nodes: 2\n",
      "Network node: ALN neural mass node with 2 neural masses: ALN excitatory neural mass EXC, ALN inhibitory neural mass INH\n",
      "Network node: ALN neural mass node with 2 neural masses: ALN excitatory neural mass EXC, ALN inhibitory neural mass INH\n",
      "Masses in 1. node: 2\n",
      "Neural mass: ALN excitatory neural mass with 7 state variables: I_mu, I_A, I_syn_mu_exc, I_syn_mu_inh, I_syn_sigma_exc, I_syn_sigma_inh, r_mean\n",
      "Neural mass: ALN inhibitory neural mass with 6 state variables: I_mu, I_syn_mu_exc, I_syn_mu_inh, I_syn_sigma_exc, I_syn_sigma_inh, r_mean\n",
      "This network name: ALN neural mass network\n",
      "This network label: ALNNet\n",
      "1st node name: ALN neural mass node\n",
      "1st node label: ALNNode\n",
      "1st node index: 0\n",
      "1st mass in 1st node name: ALN excitatory neural mass\n",
      "1st mass in 1st node label: ALNMassEXC\n",
      "1st mass in 1st node index: 0\n",
      "ALN EXC num. vars: 7\n",
      "ALN INH num. vars: 6\n",
      "ALN node num. vars: 13\n",
      "This network num. vars: 26\n",
      "ALN EXC noise vars: 1\n",
      "ALN EXC state vars: ['I_mu', 'I_A', 'I_syn_mu_exc', 'I_syn_mu_inh', 'I_syn_sigma_exc', 'I_syn_sigma_inh', 'r_mean']\n",
      "ALN node state vars: [['I_mu_EXC', 'I_A_EXC', 'I_syn_mu_exc_EXC', 'I_syn_mu_inh_EXC', 'I_syn_sigma_exc_EXC', 'I_syn_sigma_inh_EXC', 'r_mean_EXC', 'I_mu_INH', 'I_syn_mu_exc_INH', 'I_syn_mu_inh_INH', 'I_syn_sigma_exc_INH', 'I_syn_sigma_inh_INH', 'r_mean_INH']]\n",
      "This network state vars: [['I_mu_EXC', 'I_A_EXC', 'I_syn_mu_exc_EXC', 'I_syn_mu_inh_EXC', 'I_syn_sigma_exc_EXC', 'I_syn_sigma_inh_EXC', 'r_mean_EXC', 'I_mu_INH', 'I_syn_mu_exc_INH', 'I_syn_mu_inh_INH', 'I_syn_sigma_exc_INH', 'I_syn_sigma_inh_INH', 'r_mean_INH'], ['I_mu_EXC', 'I_A_EXC', 'I_syn_mu_exc_EXC', 'I_syn_mu_inh_EXC', 'I_syn_sigma_exc_EXC', 'I_syn_sigma_inh_EXC', 'r_mean_EXC', 'I_mu_INH', 'I_syn_mu_exc_INH', 'I_syn_mu_inh_INH', 'I_syn_sigma_exc_INH', 'I_syn_sigma_inh_INH', 'r_mean_INH']]\n",
      "\n",
      "Mass `describe`:\n"
     ]
    },
    {
     "data": {
      "text/plain": [
       "{'index': 0,\n",
       " 'name': 'ALN excitatory neural mass',\n",
       " 'mass_type': 'EXC',\n",
       " 'num_state_variables': 7,\n",
       " 'num_noise_variables': 1,\n",
       " 'state_variable_names': ['I_mu',\n",
       "  'I_A',\n",
       "  'I_syn_mu_exc',\n",
       "  'I_syn_mu_inh',\n",
       "  'I_syn_sigma_exc',\n",
       "  'I_syn_sigma_inh',\n",
       "  'r_mean'],\n",
       " 'params': {'Ke': 800.0,\n",
       "  'Ki': 200.0,\n",
       "  'c_gl': 0.4,\n",
       "  'Ke_gl': 250.0,\n",
       "  'tau_se': 2.0,\n",
       "  'tau_si': 5.0,\n",
       "  'sigmae_ext': 1.5,\n",
       "  'Jee_max': 2.43,\n",
       "  'Jei_max': -3.3,\n",
       "  'C': 200.0,\n",
       "  'gL': 10.0,\n",
       "  'ext_exc_current': 0.0,\n",
       "  'ext_exc_rate': 0.0,\n",
       "  'a': 15.0,\n",
       "  'b': 40.0,\n",
       "  'EA': -80.0,\n",
       "  'tauA': 200.0,\n",
       "  'lambda': 10.0,\n",
       "  'noise_0': {'type': 'OrnsteinUhlenbeckProcess',\n",
       "   'mu': 4.2,\n",
       "   'sigma': 0.0,\n",
       "   'tau': 5.0,\n",
       "   'num_iid': 1,\n",
       "   'seed': None}},\n",
       " 'lin_nonlin_transfer_function_filename': '/Users/nikola/.virtualenvs/neurolib/lib/python3.7/site-packages/neurolib/models/multimodel/builder/../../aln/aln-precalc/quantities_cascade.h5'}"
      ]
     },
     "metadata": {},
     "output_type": "display_data"
    },
    {
     "name": "stdout",
     "output_type": "stream",
     "text": [
      "\n",
      "Node `describe`:\n"
     ]
    },
    {
     "data": {
      "text/plain": [
       "{'index': 0,\n",
       " 'name': 'ALN neural mass node',\n",
       " 'num_masses': 2,\n",
       " 'num_num_state_variables': 13,\n",
       " 'num_noise_variables': 2,\n",
       " 'masses': [{'index': 0,\n",
       "   'name': 'ALN excitatory neural mass',\n",
       "   'mass_type': 'EXC',\n",
       "   'num_state_variables': 7,\n",
       "   'num_noise_variables': 1,\n",
       "   'state_variable_names': ['I_mu',\n",
       "    'I_A',\n",
       "    'I_syn_mu_exc',\n",
       "    'I_syn_mu_inh',\n",
       "    'I_syn_sigma_exc',\n",
       "    'I_syn_sigma_inh',\n",
       "    'r_mean'],\n",
       "   'params': {'Ke': 800.0,\n",
       "    'Ki': 200.0,\n",
       "    'c_gl': 0.4,\n",
       "    'Ke_gl': 250.0,\n",
       "    'tau_se': 2.0,\n",
       "    'tau_si': 5.0,\n",
       "    'sigmae_ext': 1.5,\n",
       "    'Jee_max': 2.43,\n",
       "    'Jei_max': -3.3,\n",
       "    'C': 200.0,\n",
       "    'gL': 10.0,\n",
       "    'ext_exc_current': 0.0,\n",
       "    'ext_exc_rate': 0.0,\n",
       "    'a': 15.0,\n",
       "    'b': 40.0,\n",
       "    'EA': -80.0,\n",
       "    'tauA': 200.0,\n",
       "    'lambda': 10.0,\n",
       "    'noise_0': {'type': 'OrnsteinUhlenbeckProcess',\n",
       "     'mu': 4.2,\n",
       "     'sigma': 0.0,\n",
       "     'tau': 5.0,\n",
       "     'num_iid': 1,\n",
       "     'seed': None}},\n",
       "   'lin_nonlin_transfer_function_filename': '/Users/nikola/.virtualenvs/neurolib/lib/python3.7/site-packages/neurolib/models/multimodel/builder/../../aln/aln-precalc/quantities_cascade.h5'},\n",
       "  {'index': 1,\n",
       "   'name': 'ALN inhibitory neural mass',\n",
       "   'mass_type': 'INH',\n",
       "   'num_state_variables': 6,\n",
       "   'num_noise_variables': 1,\n",
       "   'state_variable_names': ['I_mu',\n",
       "    'I_syn_mu_exc',\n",
       "    'I_syn_mu_inh',\n",
       "    'I_syn_sigma_exc',\n",
       "    'I_syn_sigma_inh',\n",
       "    'r_mean'],\n",
       "   'params': {'Ke': 800.0,\n",
       "    'Ki': 200.0,\n",
       "    'c_gl': 0.4,\n",
       "    'Ke_gl': 250.0,\n",
       "    'tau_se': 2.0,\n",
       "    'tau_si': 5.0,\n",
       "    'sigmai_ext': 1.5,\n",
       "    'Jie_max': 2.6,\n",
       "    'Jii_max': -1.64,\n",
       "    'C': 200.0,\n",
       "    'gL': 10.0,\n",
       "    'ext_inh_current': 0.0,\n",
       "    'ext_inh_rate': 0.0,\n",
       "    'lambda': 10.0,\n",
       "    'noise_0': {'type': 'OrnsteinUhlenbeckProcess',\n",
       "     'mu': 1.8,\n",
       "     'sigma': 0.0,\n",
       "     'tau': 5.0,\n",
       "     'num_iid': 1,\n",
       "     'seed': None}},\n",
       "   'lin_nonlin_transfer_function_filename': '/Users/nikola/.virtualenvs/neurolib/lib/python3.7/site-packages/neurolib/models/multimodel/builder/../../aln/aln-precalc/quantities_cascade.h5'}],\n",
       " 'local_connectivity': array([[0.24691358, 0.75757576],\n",
       "        [0.23076923, 1.52439024]]),\n",
       " 'local_delays': array([[4., 2.],\n",
       "        [4., 2.]])}"
      ]
     },
     "metadata": {},
     "output_type": "display_data"
    },
    {
     "name": "stdout",
     "output_type": "stream",
     "text": [
      "\n",
      "Network `describe`:\n"
     ]
    },
    {
     "data": {
      "text/plain": [
       "{'name': 'ALN neural mass network',\n",
       " 'num_nodes': 2,\n",
       " 'num_state_variables': 26,\n",
       " 'num_noise_variables': 4,\n",
       " 'nodes': [{'index': 0,\n",
       "   'name': 'ALN neural mass node',\n",
       "   'num_masses': 2,\n",
       "   'num_num_state_variables': 13,\n",
       "   'num_noise_variables': 2,\n",
       "   'masses': [{'index': 0,\n",
       "     'name': 'ALN excitatory neural mass',\n",
       "     'mass_type': 'EXC',\n",
       "     'num_state_variables': 7,\n",
       "     'num_noise_variables': 1,\n",
       "     'state_variable_names': ['I_mu',\n",
       "      'I_A',\n",
       "      'I_syn_mu_exc',\n",
       "      'I_syn_mu_inh',\n",
       "      'I_syn_sigma_exc',\n",
       "      'I_syn_sigma_inh',\n",
       "      'r_mean'],\n",
       "     'params': {'Ke': 800.0,\n",
       "      'Ki': 200.0,\n",
       "      'c_gl': 0.4,\n",
       "      'Ke_gl': 250.0,\n",
       "      'tau_se': 2.0,\n",
       "      'tau_si': 5.0,\n",
       "      'sigmae_ext': 1.5,\n",
       "      'Jee_max': 2.43,\n",
       "      'Jei_max': -3.3,\n",
       "      'C': 200.0,\n",
       "      'gL': 10.0,\n",
       "      'ext_exc_current': 0.0,\n",
       "      'ext_exc_rate': 0.0,\n",
       "      'a': 15.0,\n",
       "      'b': 40.0,\n",
       "      'EA': -80.0,\n",
       "      'tauA': 200.0,\n",
       "      'lambda': 10.0,\n",
       "      'noise_0': {'type': 'OrnsteinUhlenbeckProcess',\n",
       "       'mu': 4.2,\n",
       "       'sigma': 0.0,\n",
       "       'tau': 5.0,\n",
       "       'num_iid': 1,\n",
       "       'seed': None}},\n",
       "     'lin_nonlin_transfer_function_filename': '/Users/nikola/.virtualenvs/neurolib/lib/python3.7/site-packages/neurolib/models/multimodel/builder/../../aln/aln-precalc/quantities_cascade.h5'},\n",
       "    {'index': 1,\n",
       "     'name': 'ALN inhibitory neural mass',\n",
       "     'mass_type': 'INH',\n",
       "     'num_state_variables': 6,\n",
       "     'num_noise_variables': 1,\n",
       "     'state_variable_names': ['I_mu',\n",
       "      'I_syn_mu_exc',\n",
       "      'I_syn_mu_inh',\n",
       "      'I_syn_sigma_exc',\n",
       "      'I_syn_sigma_inh',\n",
       "      'r_mean'],\n",
       "     'params': {'Ke': 800.0,\n",
       "      'Ki': 200.0,\n",
       "      'c_gl': 0.4,\n",
       "      'Ke_gl': 250.0,\n",
       "      'tau_se': 2.0,\n",
       "      'tau_si': 5.0,\n",
       "      'sigmai_ext': 1.5,\n",
       "      'Jie_max': 2.6,\n",
       "      'Jii_max': -1.64,\n",
       "      'C': 200.0,\n",
       "      'gL': 10.0,\n",
       "      'ext_inh_current': 0.0,\n",
       "      'ext_inh_rate': 0.0,\n",
       "      'lambda': 10.0,\n",
       "      'noise_0': {'type': 'OrnsteinUhlenbeckProcess',\n",
       "       'mu': 1.8,\n",
       "       'sigma': 0.0,\n",
       "       'tau': 5.0,\n",
       "       'num_iid': 1,\n",
       "       'seed': None}},\n",
       "     'lin_nonlin_transfer_function_filename': '/Users/nikola/.virtualenvs/neurolib/lib/python3.7/site-packages/neurolib/models/multimodel/builder/../../aln/aln-precalc/quantities_cascade.h5'}],\n",
       "   'local_connectivity': array([[0.24691358, 0.75757576],\n",
       "          [0.23076923, 1.52439024]]),\n",
       "   'local_delays': array([[4., 2.],\n",
       "          [4., 2.]])},\n",
       "  {'index': 1,\n",
       "   'name': 'ALN neural mass node',\n",
       "   'num_masses': 2,\n",
       "   'num_num_state_variables': 13,\n",
       "   'num_noise_variables': 2,\n",
       "   'masses': [{'index': 0,\n",
       "     'name': 'ALN excitatory neural mass',\n",
       "     'mass_type': 'EXC',\n",
       "     'num_state_variables': 7,\n",
       "     'num_noise_variables': 1,\n",
       "     'state_variable_names': ['I_mu',\n",
       "      'I_A',\n",
       "      'I_syn_mu_exc',\n",
       "      'I_syn_mu_inh',\n",
       "      'I_syn_sigma_exc',\n",
       "      'I_syn_sigma_inh',\n",
       "      'r_mean'],\n",
       "     'params': {'Ke': 800.0,\n",
       "      'Ki': 200.0,\n",
       "      'c_gl': 0.4,\n",
       "      'Ke_gl': 250.0,\n",
       "      'tau_se': 2.0,\n",
       "      'tau_si': 5.0,\n",
       "      'sigmae_ext': 1.5,\n",
       "      'Jee_max': 2.43,\n",
       "      'Jei_max': -3.3,\n",
       "      'C': 200.0,\n",
       "      'gL': 10.0,\n",
       "      'ext_exc_current': 0.0,\n",
       "      'ext_exc_rate': 0.0,\n",
       "      'a': 15.0,\n",
       "      'b': 40.0,\n",
       "      'EA': -80.0,\n",
       "      'tauA': 200.0,\n",
       "      'lambda': 10.0,\n",
       "      'noise_0': {'type': 'OrnsteinUhlenbeckProcess',\n",
       "       'mu': 4.2,\n",
       "       'sigma': 0.0,\n",
       "       'tau': 5.0,\n",
       "       'num_iid': 1,\n",
       "       'seed': None}},\n",
       "     'lin_nonlin_transfer_function_filename': '/Users/nikola/.virtualenvs/neurolib/lib/python3.7/site-packages/neurolib/models/multimodel/builder/../../aln/aln-precalc/quantities_cascade.h5'},\n",
       "    {'index': 1,\n",
       "     'name': 'ALN inhibitory neural mass',\n",
       "     'mass_type': 'INH',\n",
       "     'num_state_variables': 6,\n",
       "     'num_noise_variables': 1,\n",
       "     'state_variable_names': ['I_mu',\n",
       "      'I_syn_mu_exc',\n",
       "      'I_syn_mu_inh',\n",
       "      'I_syn_sigma_exc',\n",
       "      'I_syn_sigma_inh',\n",
       "      'r_mean'],\n",
       "     'params': {'Ke': 800.0,\n",
       "      'Ki': 200.0,\n",
       "      'c_gl': 0.4,\n",
       "      'Ke_gl': 250.0,\n",
       "      'tau_se': 2.0,\n",
       "      'tau_si': 5.0,\n",
       "      'sigmai_ext': 1.5,\n",
       "      'Jie_max': 2.6,\n",
       "      'Jii_max': -1.64,\n",
       "      'C': 200.0,\n",
       "      'gL': 10.0,\n",
       "      'ext_inh_current': 0.0,\n",
       "      'ext_inh_rate': 0.0,\n",
       "      'lambda': 10.0,\n",
       "      'noise_0': {'type': 'OrnsteinUhlenbeckProcess',\n",
       "       'mu': 1.8,\n",
       "       'sigma': 0.0,\n",
       "       'tau': 5.0,\n",
       "       'num_iid': 1,\n",
       "       'seed': None}},\n",
       "     'lin_nonlin_transfer_function_filename': '/Users/nikola/.virtualenvs/neurolib/lib/python3.7/site-packages/neurolib/models/multimodel/builder/../../aln/aln-precalc/quantities_cascade.h5'}],\n",
       "   'local_connectivity': array([[0.24691358, 0.75757576],\n",
       "          [0.23076923, 1.52439024]]),\n",
       "   'local_delays': array([[4., 2.],\n",
       "          [4., 2.]])}],\n",
       " 'connectivity': array([[0., 1.],\n",
       "        [1., 0.]]),\n",
       " 'delays': array([[0., 0.],\n",
       "        [0., 0.]])}"
      ]
     },
     "metadata": {},
     "output_type": "display_data"
    }
   ],
   "source": [
    "dummy_sc = np.array([[0.0, 1.0], [1.0, 0.0]])\n",
    "# init MultiModelnetwork with 2 ALN nodes with dummy sc and no delays\n",
    "mm_net = ALNNetwork(connectivity_matrix=dummy_sc, delay_matrix=None)\n",
    "\n",
    "print(mm_net)\n",
    "# each network is an proper python iterator, i.e. len() is defined\n",
    "print(f\"Nodes: {len(mm_net)}\")\n",
    "# as well as __get_item__\n",
    "print(mm_net[0])\n",
    "print(mm_net[1])\n",
    "# similarly, each node is a python iterator, i.e.\n",
    "print(f\"Masses in 1. node: {len(mm_net[0])}\")\n",
    "print(mm_net[0][0])\n",
    "print(mm_net[0][1])\n",
    "\n",
    "# in order to navigate through the hierarchy, each mass, node and net\n",
    "# has its own name and label and index\n",
    "# index of a node is relative within the network\n",
    "# index of a mass is relative within the node\n",
    "print(f\"This network name: {mm_net.name}\")\n",
    "print(f\"This network label: {mm_net.label}\")\n",
    "print(f\"1st node name: {mm_net[0].name}\")\n",
    "print(f\"1st node label: {mm_net[0].label}\")\n",
    "print(f\"1st node index: {mm_net[0].index}\")\n",
    "print(f\"1st mass in 1st node name: {mm_net[0][0].name}\")\n",
    "print(f\"1st mass in 1st node label: {mm_net[0][0].label}\")\n",
    "print(f\"1st mass in 1st node index: {mm_net[0][0].index}\")\n",
    "\n",
    "# you can also check number of variables etc at all levels of hierarchy\n",
    "print(f\"ALN EXC num. vars: {mm_net[0][0].num_state_variables}\")\n",
    "print(f\"ALN INH num. vars: {mm_net[0][1].num_state_variables}\")\n",
    "print(f\"ALN node num. vars: {mm_net[0].num_state_variables}\")\n",
    "print(f\"This network num. vars: {mm_net.num_state_variables}\")\n",
    "# similarly you can check number of \"noise variables\", i.e. the number\n",
    "# of stochastic variables entering the simulation\n",
    "print(f\"ALN EXC noise vars: {mm_net[0][0].num_noise_variables}\")\n",
    "# etc\n",
    "\n",
    "# not sure what are the state variables? no problem!\n",
    "print(f\"ALN EXC state vars: {mm_net[0][0].state_variable_names}\")\n",
    "print(f\"ALN node state vars: {mm_net[0].state_variable_names}\")\n",
    "print(f\"This network state vars: {mm_net.state_variable_names}\")\n",
    "\n",
    "# if you are unsure what kind of a monster you build in MultiModel,\n",
    "# a function `describe()` is available at all three levels -\n",
    "# it returns a dictionary with basic info about the model object\n",
    "# this is describe of a `NeuralMass`\n",
    "print(\"\")\n",
    "print(\"Mass `describe`:\")\n",
    "display(mm_net[0][0].describe())\n",
    "# describe of a `Node` recursively describes all masses and some more\n",
    "print(\"\")\n",
    "print(\"Node `describe`:\")\n",
    "display(mm_net[0].describe())\n",
    "# and finally, describe of a `Network` gives you everything\n",
    "print(\"\")\n",
    "print(\"Network `describe`:\")\n",
    "display(mm_net.describe())\n",
    "\n",
    "# PRO tip: imagine highly heterogeneous network and some long simulation with it;\n",
    "# apart from the results you can dump `net.describe()` dictionary into json and\n",
    "# never forget what you've done!"
   ]
  },
  {
   "cell_type": "code",
   "execution_count": 4,
   "id": "atomic-recording",
   "metadata": {},
   "outputs": [
    {
     "data": {
      "text/plain": [
       "{'ALNNet.ALNNode_0.ALNMassEXC_0.Ke': 800.0,\n",
       " 'ALNNet.ALNNode_0.ALNMassEXC_0.Ki': 200.0,\n",
       " 'ALNNet.ALNNode_0.ALNMassEXC_0.c_gl': 0.4,\n",
       " 'ALNNet.ALNNode_0.ALNMassEXC_0.Ke_gl': 250.0,\n",
       " 'ALNNet.ALNNode_0.ALNMassEXC_0.tau_se': 2.0,\n",
       " 'ALNNet.ALNNode_0.ALNMassEXC_0.tau_si': 5.0,\n",
       " 'ALNNet.ALNNode_0.ALNMassEXC_0.sigmae_ext': 1.5,\n",
       " 'ALNNet.ALNNode_0.ALNMassEXC_0.Jee_max': 2.43,\n",
       " 'ALNNet.ALNNode_0.ALNMassEXC_0.Jei_max': -3.3,\n",
       " 'ALNNet.ALNNode_0.ALNMassEXC_0.C': 200.0,\n",
       " 'ALNNet.ALNNode_0.ALNMassEXC_0.gL': 10.0,\n",
       " 'ALNNet.ALNNode_0.ALNMassEXC_0.ext_exc_current': 0.0,\n",
       " 'ALNNet.ALNNode_0.ALNMassEXC_0.ext_exc_rate': 0.0,\n",
       " 'ALNNet.ALNNode_0.ALNMassEXC_0.a': 15.0,\n",
       " 'ALNNet.ALNNode_0.ALNMassEXC_0.b': 40.0,\n",
       " 'ALNNet.ALNNode_0.ALNMassEXC_0.EA': -80.0,\n",
       " 'ALNNet.ALNNode_0.ALNMassEXC_0.tauA': 200.0,\n",
       " 'ALNNet.ALNNode_0.ALNMassEXC_0.lambda': 10.0,\n",
       " 'ALNNet.ALNNode_0.ALNMassEXC_0.noise_0.type': 'OrnsteinUhlenbeckProcess',\n",
       " 'ALNNet.ALNNode_0.ALNMassEXC_0.noise_0.mu': 4.2,\n",
       " 'ALNNet.ALNNode_0.ALNMassEXC_0.noise_0.sigma': 0.0,\n",
       " 'ALNNet.ALNNode_0.ALNMassEXC_0.noise_0.tau': 5.0,\n",
       " 'ALNNet.ALNNode_0.ALNMassEXC_0.noise_0.num_iid': 1,\n",
       " 'ALNNet.ALNNode_0.ALNMassEXC_0.noise_0.seed': None,\n",
       " 'ALNNet.ALNNode_0.ALNMassINH_1.Ke': 800.0,\n",
       " 'ALNNet.ALNNode_0.ALNMassINH_1.Ki': 200.0,\n",
       " 'ALNNet.ALNNode_0.ALNMassINH_1.c_gl': 0.4,\n",
       " 'ALNNet.ALNNode_0.ALNMassINH_1.Ke_gl': 250.0,\n",
       " 'ALNNet.ALNNode_0.ALNMassINH_1.tau_se': 2.0,\n",
       " 'ALNNet.ALNNode_0.ALNMassINH_1.tau_si': 5.0,\n",
       " 'ALNNet.ALNNode_0.ALNMassINH_1.sigmai_ext': 1.5,\n",
       " 'ALNNet.ALNNode_0.ALNMassINH_1.Jie_max': 2.6,\n",
       " 'ALNNet.ALNNode_0.ALNMassINH_1.Jii_max': -1.64,\n",
       " 'ALNNet.ALNNode_0.ALNMassINH_1.C': 200.0,\n",
       " 'ALNNet.ALNNode_0.ALNMassINH_1.gL': 10.0,\n",
       " 'ALNNet.ALNNode_0.ALNMassINH_1.ext_inh_current': 0.0,\n",
       " 'ALNNet.ALNNode_0.ALNMassINH_1.ext_inh_rate': 0.0,\n",
       " 'ALNNet.ALNNode_0.ALNMassINH_1.lambda': 10.0,\n",
       " 'ALNNet.ALNNode_0.ALNMassINH_1.noise_0.type': 'OrnsteinUhlenbeckProcess',\n",
       " 'ALNNet.ALNNode_0.ALNMassINH_1.noise_0.mu': 1.8,\n",
       " 'ALNNet.ALNNode_0.ALNMassINH_1.noise_0.sigma': 0.0,\n",
       " 'ALNNet.ALNNode_0.ALNMassINH_1.noise_0.tau': 5.0,\n",
       " 'ALNNet.ALNNode_0.ALNMassINH_1.noise_0.num_iid': 1,\n",
       " 'ALNNet.ALNNode_0.ALNMassINH_1.noise_0.seed': None,\n",
       " 'ALNNet.ALNNode_0.local_connectivity': array([[0.24691358, 0.75757576],\n",
       "        [0.23076923, 1.52439024]]),\n",
       " 'ALNNet.ALNNode_0.local_delays': array([[4., 2.],\n",
       "        [4., 2.]]),\n",
       " 'ALNNet.ALNNode_1.ALNMassEXC_0.Ke': 800.0,\n",
       " 'ALNNet.ALNNode_1.ALNMassEXC_0.Ki': 200.0,\n",
       " 'ALNNet.ALNNode_1.ALNMassEXC_0.c_gl': 0.4,\n",
       " 'ALNNet.ALNNode_1.ALNMassEXC_0.Ke_gl': 250.0,\n",
       " 'ALNNet.ALNNode_1.ALNMassEXC_0.tau_se': 2.0,\n",
       " 'ALNNet.ALNNode_1.ALNMassEXC_0.tau_si': 5.0,\n",
       " 'ALNNet.ALNNode_1.ALNMassEXC_0.sigmae_ext': 1.5,\n",
       " 'ALNNet.ALNNode_1.ALNMassEXC_0.Jee_max': 2.43,\n",
       " 'ALNNet.ALNNode_1.ALNMassEXC_0.Jei_max': -3.3,\n",
       " 'ALNNet.ALNNode_1.ALNMassEXC_0.C': 200.0,\n",
       " 'ALNNet.ALNNode_1.ALNMassEXC_0.gL': 10.0,\n",
       " 'ALNNet.ALNNode_1.ALNMassEXC_0.ext_exc_current': 0.0,\n",
       " 'ALNNet.ALNNode_1.ALNMassEXC_0.ext_exc_rate': 0.0,\n",
       " 'ALNNet.ALNNode_1.ALNMassEXC_0.a': 15.0,\n",
       " 'ALNNet.ALNNode_1.ALNMassEXC_0.b': 40.0,\n",
       " 'ALNNet.ALNNode_1.ALNMassEXC_0.EA': -80.0,\n",
       " 'ALNNet.ALNNode_1.ALNMassEXC_0.tauA': 200.0,\n",
       " 'ALNNet.ALNNode_1.ALNMassEXC_0.lambda': 10.0,\n",
       " 'ALNNet.ALNNode_1.ALNMassEXC_0.noise_0.type': 'OrnsteinUhlenbeckProcess',\n",
       " 'ALNNet.ALNNode_1.ALNMassEXC_0.noise_0.mu': 4.2,\n",
       " 'ALNNet.ALNNode_1.ALNMassEXC_0.noise_0.sigma': 0.0,\n",
       " 'ALNNet.ALNNode_1.ALNMassEXC_0.noise_0.tau': 5.0,\n",
       " 'ALNNet.ALNNode_1.ALNMassEXC_0.noise_0.num_iid': 1,\n",
       " 'ALNNet.ALNNode_1.ALNMassEXC_0.noise_0.seed': None,\n",
       " 'ALNNet.ALNNode_1.ALNMassINH_1.Ke': 800.0,\n",
       " 'ALNNet.ALNNode_1.ALNMassINH_1.Ki': 200.0,\n",
       " 'ALNNet.ALNNode_1.ALNMassINH_1.c_gl': 0.4,\n",
       " 'ALNNet.ALNNode_1.ALNMassINH_1.Ke_gl': 250.0,\n",
       " 'ALNNet.ALNNode_1.ALNMassINH_1.tau_se': 2.0,\n",
       " 'ALNNet.ALNNode_1.ALNMassINH_1.tau_si': 5.0,\n",
       " 'ALNNet.ALNNode_1.ALNMassINH_1.sigmai_ext': 1.5,\n",
       " 'ALNNet.ALNNode_1.ALNMassINH_1.Jie_max': 2.6,\n",
       " 'ALNNet.ALNNode_1.ALNMassINH_1.Jii_max': -1.64,\n",
       " 'ALNNet.ALNNode_1.ALNMassINH_1.C': 200.0,\n",
       " 'ALNNet.ALNNode_1.ALNMassINH_1.gL': 10.0,\n",
       " 'ALNNet.ALNNode_1.ALNMassINH_1.ext_inh_current': 0.0,\n",
       " 'ALNNet.ALNNode_1.ALNMassINH_1.ext_inh_rate': 0.0,\n",
       " 'ALNNet.ALNNode_1.ALNMassINH_1.lambda': 10.0,\n",
       " 'ALNNet.ALNNode_1.ALNMassINH_1.noise_0.type': 'OrnsteinUhlenbeckProcess',\n",
       " 'ALNNet.ALNNode_1.ALNMassINH_1.noise_0.mu': 1.8,\n",
       " 'ALNNet.ALNNode_1.ALNMassINH_1.noise_0.sigma': 0.0,\n",
       " 'ALNNet.ALNNode_1.ALNMassINH_1.noise_0.tau': 5.0,\n",
       " 'ALNNet.ALNNode_1.ALNMassINH_1.noise_0.num_iid': 1,\n",
       " 'ALNNet.ALNNode_1.ALNMassINH_1.noise_0.seed': None,\n",
       " 'ALNNet.ALNNode_1.local_connectivity': array([[0.24691358, 0.75757576],\n",
       "        [0.23076923, 1.52439024]]),\n",
       " 'ALNNet.ALNNode_1.local_delays': array([[4., 2.],\n",
       "        [4., 2.]]),\n",
       " 'ALNNet.connectivity': array([[0., 1.],\n",
       "        [1., 0.]]),\n",
       " 'ALNNet.delays': array([[0., 0.],\n",
       "        [0., 0.]]),\n",
       " 'duration': 2000,\n",
       " 'dt': 0.1,\n",
       " 'seed': None,\n",
       " 'backend': 'jitcdde',\n",
       " 'name': 'ALNNet',\n",
       " 'description': 'ALN neural mass network',\n",
       " 'N': 2,\n",
       " 'Cmat': array([[0., 1.],\n",
       "        [1., 0.]]),\n",
       " 'sampling_dt': 0.1}"
      ]
     },
     "execution_count": 4,
     "metadata": {},
     "output_type": "execute_result"
    }
   ],
   "source": [
    "# now let us check the parameters.. for this we initialise MultiModel in neurolib's fashion\n",
    "aln_net = MultiModel(mm_net)\n",
    "# parameters are accessible via .params\n",
    "aln_net.params\n",
    "# as you can see the parameters are flattened nested dictionary which follows this nomenclature\n",
    "# {\"<network label>.<node label>_index.<mass label>_index.<param name>: param value\"}"
   ]
  },
  {
   "cell_type": "code",
   "execution_count": 5,
   "id": "atmospheric-favorite",
   "metadata": {},
   "outputs": [
    {
     "data": {
      "text/plain": [
       "{'ALNNet.ALNNode_0.ALNMassEXC_0.noise_0.tau': 5.0,\n",
       " 'ALNNet.ALNNode_0.ALNMassINH_1.noise_0.tau': 5.0,\n",
       " 'ALNNet.ALNNode_1.ALNMassEXC_0.noise_0.tau': 5.0,\n",
       " 'ALNNet.ALNNode_1.ALNMassINH_1.noise_0.tau': 5.0}"
      ]
     },
     "metadata": {},
     "output_type": "display_data"
    },
    {
     "name": "stdout",
     "output_type": "stream",
     "text": [
      "\n"
     ]
    },
    {
     "data": {
      "text/plain": [
       "{'ALNNet.ALNNode_0.ALNMassEXC_0.noise_0.tau': 5.0,\n",
       " 'ALNNet.ALNNode_1.ALNMassEXC_0.noise_0.tau': 5.0}"
      ]
     },
     "metadata": {},
     "output_type": "display_data"
    },
    {
     "name": "stdout",
     "output_type": "stream",
     "text": [
      "\n"
     ]
    },
    {
     "data": {
      "text/plain": [
       "{'ALNNet.ALNNode_0.ALNMassEXC_0.noise_0.tau': 5.0,\n",
       " 'ALNNet.ALNNode_0.ALNMassINH_1.noise_0.tau': 5.0}"
      ]
     },
     "metadata": {},
     "output_type": "display_data"
    },
    {
     "name": "stdout",
     "output_type": "stream",
     "text": [
      "\n"
     ]
    },
    {
     "data": {
      "text/plain": [
       "{'ALNNet.ALNNode_0.ALNMassEXC_0.noise_0.tau': 13.2,\n",
       " 'ALNNet.ALNNode_0.ALNMassINH_1.noise_0.tau': 13.2}"
      ]
     },
     "metadata": {},
     "output_type": "display_data"
    }
   ],
   "source": [
    "# as you can see there are a lot of parameters for simple 2-node network of ALN models\n",
    "# typically you want to change parameters of all nodes at the same time\n",
    "# fortunately, model.params is not your basic dictionary, it's a special one, we call it `star` dictionary,\n",
    "# because you can do this:\n",
    "display(aln_net.params[\"*tau\"])\n",
    "print(\"\")\n",
    "# so yes, star works as a glob identifier, so by selecting \"*tau\" I want all parameters named tau\n",
    "# (I dont care from which mass or node it comes)\n",
    "# what if I want to change taus only in EXC masses? easy:\n",
    "display(aln_net.params[\"*EXC*tau\"])\n",
    "print(\"\")\n",
    "# or maybe I want to change taus only in the first node?\n",
    "display(aln_net.params[\"*Node_0*tau\"])\n",
    "print(\"\")\n",
    "# of course, you can change a param value with this\n",
    "aln_net.params[\"*Node_0*tau\"] = 13.2\n",
    "display(aln_net.params[\"*Node_0*tau\"])\n",
    "aln_net.params[\"*Node_0*tau\"] = 5.0"
   ]
  },
  {
   "cell_type": "code",
   "execution_count": 6,
   "id": "efficient-gauge",
   "metadata": {},
   "outputs": [
    {
     "data": {
      "text/plain": [
       "{'ALNNet.ALNNode_0.ALNMassEXC_0.tau_se': 2.0,\n",
       " 'ALNNet.ALNNode_0.ALNMassEXC_0.tau_si': 5.0,\n",
       " 'ALNNet.ALNNode_0.ALNMassEXC_0.tauA': 200.0,\n",
       " 'ALNNet.ALNNode_0.ALNMassEXC_0.noise_0.tau': 5.0,\n",
       " 'ALNNet.ALNNode_0.ALNMassINH_1.tau_se': 2.0,\n",
       " 'ALNNet.ALNNode_0.ALNMassINH_1.tau_si': 5.0,\n",
       " 'ALNNet.ALNNode_0.ALNMassINH_1.noise_0.tau': 5.0,\n",
       " 'ALNNet.ALNNode_1.ALNMassEXC_0.tau_se': 2.0,\n",
       " 'ALNNet.ALNNode_1.ALNMassEXC_0.tau_si': 5.0,\n",
       " 'ALNNet.ALNNode_1.ALNMassEXC_0.tauA': 200.0,\n",
       " 'ALNNet.ALNNode_1.ALNMassEXC_0.noise_0.tau': 5.0,\n",
       " 'ALNNet.ALNNode_1.ALNMassINH_1.tau_se': 2.0,\n",
       " 'ALNNet.ALNNode_1.ALNMassINH_1.tau_si': 5.0,\n",
       " 'ALNNet.ALNNode_1.ALNMassINH_1.noise_0.tau': 5.0}"
      ]
     },
     "metadata": {},
     "output_type": "display_data"
    },
    {
     "name": "stdout",
     "output_type": "stream",
     "text": [
      "\n"
     ]
    },
    {
     "data": {
      "text/plain": [
       "{'ALNNet.ALNNode_0.ALNMassEXC_0.tau_se': 2.0,\n",
       " 'ALNNet.ALNNode_0.ALNMassEXC_0.tau_si': 5.0,\n",
       " 'ALNNet.ALNNode_0.ALNMassEXC_0.tauA': 200.0,\n",
       " 'ALNNet.ALNNode_0.ALNMassINH_1.tau_se': 2.0,\n",
       " 'ALNNet.ALNNode_0.ALNMassINH_1.tau_si': 5.0,\n",
       " 'ALNNet.ALNNode_1.ALNMassEXC_0.tau_se': 2.0,\n",
       " 'ALNNet.ALNNode_1.ALNMassEXC_0.tau_si': 5.0,\n",
       " 'ALNNet.ALNNode_1.ALNMassEXC_0.tauA': 200.0,\n",
       " 'ALNNet.ALNNode_1.ALNMassINH_1.tau_se': 2.0,\n",
       " 'ALNNet.ALNNode_1.ALNMassINH_1.tau_si': 5.0}"
      ]
     },
     "metadata": {},
     "output_type": "display_data"
    }
   ],
   "source": [
    "# case: I want to change all taus except \"noise\" taus\n",
    "# this gives all the taus, including \"noise\"\n",
    "display(aln_net.params[\"*tau*\"])\n",
    "print(\"\")\n",
    "# pipe symbol filters out unwanted keys - here we have only taus which key does NOT include \"noise\"\n",
    "display(aln_net.params[\"*tau*|noise\"])"
   ]
  },
  {
   "cell_type": "code",
   "execution_count": 7,
   "id": "expressed-stuff",
   "metadata": {},
   "outputs": [
    {
     "data": {
      "text/plain": [
       "{'ALNNode_0.ALNMassEXC_0.noise_0.mu': 0.0}"
      ]
     },
     "metadata": {},
     "output_type": "display_data"
    },
    {
     "name": "stderr",
     "output_type": "stream",
     "text": [
      "/Users/nikola/.virtualenvs/neurolib/lib/python3.7/site-packages/jitcdde/_jitcdde.py:1491: UserWarning: Your input past does not begin at t=0 but at t=1.0. Values before the beginning of the past will be extrapolated. You very likely do not want this.\n",
      "  warn(f\"Your input past does not begin at t=0 but at t={input[0].time}. Values before the beginning of the past will be extrapolated. You very likely do not want this.\")\n",
      " 23%|██▎       | 1165/5000 [00:00<00:00, 11647.21it/s]"
     ]
    },
    {
     "name": "stdout",
     "output_type": "stream",
     "text": [
      "Using default integration parameters.\n"
     ]
    },
    {
     "name": "stderr",
     "output_type": "stream",
     "text": [
      "100%|██████████| 5000/5000 [00:00<00:00, 12209.53it/s]\n"
     ]
    },
    {
     "data": {
      "text/plain": [
       "{'ALNNode_0.ALNMassEXC_0.noise_0.mu': 0.10526315789473684}"
      ]
     },
     "metadata": {},
     "output_type": "display_data"
    },
    {
     "name": "stderr",
     "output_type": "stream",
     "text": [
      " 24%|██▎       | 1179/5000 [00:00<00:00, 11784.67it/s]"
     ]
    },
    {
     "name": "stdout",
     "output_type": "stream",
     "text": [
      "Using default integration parameters.\n"
     ]
    },
    {
     "name": "stderr",
     "output_type": "stream",
     "text": [
      "100%|██████████| 5000/5000 [00:00<00:00, 12617.91it/s]\n"
     ]
    },
    {
     "data": {
      "text/plain": [
       "{'ALNNode_0.ALNMassEXC_0.noise_0.mu': 0.21052631578947367}"
      ]
     },
     "metadata": {},
     "output_type": "display_data"
    },
    {
     "name": "stderr",
     "output_type": "stream",
     "text": [
      " 23%|██▎       | 1155/5000 [00:00<00:00, 11548.03it/s]"
     ]
    },
    {
     "name": "stdout",
     "output_type": "stream",
     "text": [
      "Using default integration parameters.\n"
     ]
    },
    {
     "name": "stderr",
     "output_type": "stream",
     "text": [
      "100%|██████████| 5000/5000 [00:00<00:00, 12477.35it/s]\n"
     ]
    },
    {
     "data": {
      "text/plain": [
       "{'ALNNode_0.ALNMassEXC_0.noise_0.mu': 0.3157894736842105}"
      ]
     },
     "metadata": {},
     "output_type": "display_data"
    },
    {
     "name": "stderr",
     "output_type": "stream",
     "text": [
      " 24%|██▍       | 1189/5000 [00:00<00:00, 11886.89it/s]"
     ]
    },
    {
     "name": "stdout",
     "output_type": "stream",
     "text": [
      "Using default integration parameters.\n"
     ]
    },
    {
     "name": "stderr",
     "output_type": "stream",
     "text": [
      "100%|██████████| 5000/5000 [00:00<00:00, 12626.71it/s]\n"
     ]
    },
    {
     "data": {
      "text/plain": [
       "{'ALNNode_0.ALNMassEXC_0.noise_0.mu': 0.42105263157894735}"
      ]
     },
     "metadata": {},
     "output_type": "display_data"
    },
    {
     "name": "stderr",
     "output_type": "stream",
     "text": [
      " 23%|██▎       | 1157/5000 [00:00<00:00, 11560.72it/s]"
     ]
    },
    {
     "name": "stdout",
     "output_type": "stream",
     "text": [
      "Using default integration parameters.\n"
     ]
    },
    {
     "name": "stderr",
     "output_type": "stream",
     "text": [
      "100%|██████████| 5000/5000 [00:00<00:00, 12310.68it/s]\n"
     ]
    },
    {
     "data": {
      "text/plain": [
       "{'ALNNode_0.ALNMassEXC_0.noise_0.mu': 0.5263157894736842}"
      ]
     },
     "metadata": {},
     "output_type": "display_data"
    },
    {
     "name": "stderr",
     "output_type": "stream",
     "text": [
      " 23%|██▎       | 1153/5000 [00:00<00:00, 11522.43it/s]"
     ]
    },
    {
     "name": "stdout",
     "output_type": "stream",
     "text": [
      "Using default integration parameters.\n"
     ]
    },
    {
     "name": "stderr",
     "output_type": "stream",
     "text": [
      "100%|██████████| 5000/5000 [00:00<00:00, 8527.51it/s] \n"
     ]
    },
    {
     "data": {
      "text/plain": [
       "{'ALNNode_0.ALNMassEXC_0.noise_0.mu': 0.631578947368421}"
      ]
     },
     "metadata": {},
     "output_type": "display_data"
    },
    {
     "name": "stderr",
     "output_type": "stream",
     "text": [
      " 16%|█▋        | 813/5000 [00:00<00:00, 8101.25it/s]"
     ]
    },
    {
     "name": "stdout",
     "output_type": "stream",
     "text": [
      "Using default integration parameters.\n"
     ]
    },
    {
     "name": "stderr",
     "output_type": "stream",
     "text": [
      "100%|██████████| 5000/5000 [00:01<00:00, 4346.00it/s]\n"
     ]
    },
    {
     "data": {
      "text/plain": [
       "{'ALNNode_0.ALNMassEXC_0.noise_0.mu': 0.7368421052631579}"
      ]
     },
     "metadata": {},
     "output_type": "display_data"
    },
    {
     "name": "stderr",
     "output_type": "stream",
     "text": [
      " 13%|█▎        | 651/5000 [00:00<00:00, 6484.97it/s]"
     ]
    },
    {
     "name": "stdout",
     "output_type": "stream",
     "text": [
      "Using default integration parameters.\n"
     ]
    },
    {
     "name": "stderr",
     "output_type": "stream",
     "text": [
      "100%|██████████| 5000/5000 [00:01<00:00, 3760.78it/s]\n"
     ]
    },
    {
     "data": {
      "text/plain": [
       "{'ALNNode_0.ALNMassEXC_0.noise_0.mu': 0.8421052631578947}"
      ]
     },
     "metadata": {},
     "output_type": "display_data"
    },
    {
     "name": "stderr",
     "output_type": "stream",
     "text": [
      " 11%|█         | 539/5000 [00:00<00:00, 5388.76it/s]"
     ]
    },
    {
     "name": "stdout",
     "output_type": "stream",
     "text": [
      "Using default integration parameters.\n"
     ]
    },
    {
     "name": "stderr",
     "output_type": "stream",
     "text": [
      "100%|██████████| 5000/5000 [00:01<00:00, 3426.64it/s]\n"
     ]
    },
    {
     "data": {
      "text/plain": [
       "{'ALNNode_0.ALNMassEXC_0.noise_0.mu': 0.9473684210526315}"
      ]
     },
     "metadata": {},
     "output_type": "display_data"
    },
    {
     "name": "stderr",
     "output_type": "stream",
     "text": [
      "  9%|▉         | 442/5000 [00:00<00:01, 4415.24it/s]"
     ]
    },
    {
     "name": "stdout",
     "output_type": "stream",
     "text": [
      "Using default integration parameters.\n"
     ]
    },
    {
     "name": "stderr",
     "output_type": "stream",
     "text": [
      "100%|██████████| 5000/5000 [00:01<00:00, 3398.16it/s]\n"
     ]
    },
    {
     "data": {
      "text/plain": [
       "{'ALNNode_0.ALNMassEXC_0.noise_0.mu': 1.0526315789473684}"
      ]
     },
     "metadata": {},
     "output_type": "display_data"
    },
    {
     "name": "stderr",
     "output_type": "stream",
     "text": [
      "  9%|▊         | 430/5000 [00:00<00:01, 4293.57it/s]"
     ]
    },
    {
     "name": "stdout",
     "output_type": "stream",
     "text": [
      "Using default integration parameters.\n"
     ]
    },
    {
     "name": "stderr",
     "output_type": "stream",
     "text": [
      "100%|██████████| 5000/5000 [00:01<00:00, 3634.15it/s]\n"
     ]
    },
    {
     "data": {
      "text/plain": [
       "{'ALNNode_0.ALNMassEXC_0.noise_0.mu': 1.1578947368421053}"
      ]
     },
     "metadata": {},
     "output_type": "display_data"
    },
    {
     "name": "stderr",
     "output_type": "stream",
     "text": [
      "  8%|▊         | 385/5000 [00:00<00:01, 3842.24it/s]"
     ]
    },
    {
     "name": "stdout",
     "output_type": "stream",
     "text": [
      "Using default integration parameters.\n"
     ]
    },
    {
     "name": "stderr",
     "output_type": "stream",
     "text": [
      "100%|██████████| 5000/5000 [00:01<00:00, 3971.83it/s]\n"
     ]
    },
    {
     "data": {
      "text/plain": [
       "{'ALNNode_0.ALNMassEXC_0.noise_0.mu': 1.263157894736842}"
      ]
     },
     "metadata": {},
     "output_type": "display_data"
    },
    {
     "name": "stdout",
     "output_type": "stream",
     "text": [
      "Using default integration parameters.\n"
     ]
    },
    {
     "name": "stderr",
     "output_type": "stream",
     "text": [
      "100%|██████████| 5000/5000 [00:01<00:00, 4794.57it/s]\n"
     ]
    },
    {
     "data": {
      "text/plain": [
       "{'ALNNode_0.ALNMassEXC_0.noise_0.mu': 1.3684210526315788}"
      ]
     },
     "metadata": {},
     "output_type": "display_data"
    },
    {
     "name": "stderr",
     "output_type": "stream",
     "text": [
      "  7%|▋         | 359/5000 [00:00<00:01, 3587.09it/s]"
     ]
    },
    {
     "name": "stdout",
     "output_type": "stream",
     "text": [
      "Using default integration parameters.\n"
     ]
    },
    {
     "name": "stderr",
     "output_type": "stream",
     "text": [
      "100%|██████████| 5000/5000 [00:00<00:00, 8155.36it/s]\n"
     ]
    },
    {
     "data": {
      "text/plain": [
       "{'ALNNode_0.ALNMassEXC_0.noise_0.mu': 1.4736842105263157}"
      ]
     },
     "metadata": {},
     "output_type": "display_data"
    },
    {
     "name": "stderr",
     "output_type": "stream",
     "text": [
      "  6%|▌         | 284/5000 [00:00<00:01, 2835.83it/s]"
     ]
    },
    {
     "name": "stdout",
     "output_type": "stream",
     "text": [
      "Using default integration parameters.\n"
     ]
    },
    {
     "name": "stderr",
     "output_type": "stream",
     "text": [
      "100%|██████████| 5000/5000 [00:00<00:00, 8584.09it/s]\n"
     ]
    },
    {
     "data": {
      "text/plain": [
       "{'ALNNode_0.ALNMassEXC_0.noise_0.mu': 1.5789473684210527}"
      ]
     },
     "metadata": {},
     "output_type": "display_data"
    },
    {
     "name": "stderr",
     "output_type": "stream",
     "text": [
      " 10%|█         | 509/5000 [00:00<00:00, 5087.25it/s]"
     ]
    },
    {
     "name": "stdout",
     "output_type": "stream",
     "text": [
      "Using default integration parameters.\n"
     ]
    },
    {
     "name": "stderr",
     "output_type": "stream",
     "text": [
      "100%|██████████| 5000/5000 [00:00<00:00, 7935.74it/s]\n"
     ]
    },
    {
     "data": {
      "text/plain": [
       "{'ALNNode_0.ALNMassEXC_0.noise_0.mu': 1.6842105263157894}"
      ]
     },
     "metadata": {},
     "output_type": "display_data"
    },
    {
     "name": "stderr",
     "output_type": "stream",
     "text": [
      "  6%|▋         | 324/5000 [00:00<00:01, 3239.23it/s]"
     ]
    },
    {
     "name": "stdout",
     "output_type": "stream",
     "text": [
      "Using default integration parameters.\n"
     ]
    },
    {
     "name": "stderr",
     "output_type": "stream",
     "text": [
      "100%|██████████| 5000/5000 [00:00<00:00, 6764.16it/s]\n"
     ]
    },
    {
     "data": {
      "text/plain": [
       "{'ALNNode_0.ALNMassEXC_0.noise_0.mu': 1.789473684210526}"
      ]
     },
     "metadata": {},
     "output_type": "display_data"
    },
    {
     "name": "stderr",
     "output_type": "stream",
     "text": [
      " 19%|█▊        | 936/5000 [00:00<00:00, 9355.15it/s]"
     ]
    },
    {
     "name": "stdout",
     "output_type": "stream",
     "text": [
      "Using default integration parameters.\n"
     ]
    },
    {
     "name": "stderr",
     "output_type": "stream",
     "text": [
      "100%|██████████| 5000/5000 [00:00<00:00, 11637.11it/s]\n"
     ]
    },
    {
     "data": {
      "text/plain": [
       "{'ALNNode_0.ALNMassEXC_0.noise_0.mu': 1.894736842105263}"
      ]
     },
     "metadata": {},
     "output_type": "display_data"
    },
    {
     "name": "stderr",
     "output_type": "stream",
     "text": [
      " 20%|█▉        | 975/5000 [00:00<00:00, 9749.22it/s]"
     ]
    },
    {
     "name": "stdout",
     "output_type": "stream",
     "text": [
      "Using default integration parameters.\n"
     ]
    },
    {
     "name": "stderr",
     "output_type": "stream",
     "text": [
      "100%|██████████| 5000/5000 [00:00<00:00, 12244.73it/s]\n"
     ]
    },
    {
     "data": {
      "text/plain": [
       "{'ALNNode_0.ALNMassEXC_0.noise_0.mu': 2.0}"
      ]
     },
     "metadata": {},
     "output_type": "display_data"
    },
    {
     "name": "stderr",
     "output_type": "stream",
     "text": [
      " 24%|██▎       | 1184/5000 [00:00<00:00, 11833.95it/s]"
     ]
    },
    {
     "name": "stdout",
     "output_type": "stream",
     "text": [
      "Using default integration parameters.\n"
     ]
    },
    {
     "name": "stderr",
     "output_type": "stream",
     "text": [
      "100%|██████████| 5000/5000 [00:00<00:00, 12636.83it/s]\n"
     ]
    }
   ],
   "source": [
    "max_rate_e = []\n",
    "min_rate_e = []\n",
    "mue_inputs = np.linspace(0, 2, 20)\n",
    "# not let's match ALN parameters to those in example-0-aln-minimal and recreate\n",
    "# the 1D bif. diagram\n",
    "aln.params[\"*INH*noise*mu\"] = 0.5\n",
    "aln.params[\"*b\"] = 0.0\n",
    "aln.params[\"ALNNode_0.ALNMassEXC_0.a\"] = 0.0\n",
    "for mue in mue_inputs:\n",
    "    aln.params[\"*EXC*noise*mu\"] = mue\n",
    "    display(aln.params[\"*EXC*noise*mu\"])\n",
    "    aln.run()\n",
    "    max_rate_e.append(np.max(aln.output[0, -int(1000 / aln.params[\"sampling_dt\"]) :]))\n",
    "    min_rate_e.append(np.min(aln.output[0, -int(1000 / aln.params[\"sampling_dt\"]) :]))"
   ]
  },
  {
   "cell_type": "code",
   "execution_count": 8,
   "id": "critical-smooth",
   "metadata": {},
   "outputs": [
    {
     "data": {
      "text/plain": [
       "Text(0, 0.5, 'Min / max firing rate [kHz]')"
      ]
     },
     "execution_count": 8,
     "metadata": {},
     "output_type": "execute_result"
    },
    {
     "data": {
      "image/png": "[encoded data removed]",
      "text/plain": [
       "<Figure size 432x288 with 1 Axes>"
      ]
     },
     "metadata": {
      "needs_background": "light"
     },
     "output_type": "display_data"
    }
   ],
   "source": [
    "plt.plot(mue_inputs, max_rate_e, c=\"k\", lw=2)\n",
    "plt.plot(mue_inputs, min_rate_e, c=\"k\", lw=2)\n",
    "plt.title(\"Bifurcation diagram of the aln model\")\n",
    "plt.xlabel(\"Input to excitatory population\")\n",
    "plt.ylabel(\"Min / max firing rate [kHz]\")"
   ]
  },
  {
   "cell_type": "markdown",
   "id": "coordinated-public",
   "metadata": {},
   "source": [
    "## Connecting two models\n",
    "So far, we only showed how to use `MultiModel` with a single dynamical model (ALN), and that is no fun. I mean, all this is already possible in core `neurolib`, and it the core, it is much faster.\n",
    "\n",
    "However, the real strength of `MultiModel` is combining different models into one network. Let us build a thalamocortical model using one node of the thalamic population model and one node of ALN, representing the cortex."
   ]
  },
  {
   "cell_type": "code",
   "execution_count": 9,
   "id": "specific-stake",
   "metadata": {},
   "outputs": [],
   "source": [
    "# first - imports\n",
    "from neurolib.models.multimodel import ALNNode, ThalamicNode\n",
    "from neurolib.models.multimodel.builder.base.constants import EXC, INH\n",
    "from neurolib.models.multimodel.builder.base.network import Network"
   ]
  },
  {
   "cell_type": "code",
   "execution_count": 10,
   "id": "turned-earthquake",
   "metadata": {},
   "outputs": [],
   "source": [
    "# let us start by subclassing the Network\n",
    "\n",
    "\n",
    "class ALNThalamusMiniNetwork(Network):\n",
    "    \"\"\"\n",
    "    Simple thalamocortical motif: 1 cortical node ALN + 1 NMM thalamus.\n",
    "    \"\"\"\n",
    "\n",
    "    # provide basic attributes as name and label\n",
    "    name = \"ALN 1 node + Thalamus\"\n",
    "    label = \"ALNThlmNet\"\n",
    "\n",
    "    # define which variables are used to sync, i.e. what coupling variables our nodes need\n",
    "    sync_variables = [\n",
    "        # both nodes are connected via excitatory synapses\n",
    "        \"network_exc_exc\",\n",
    "        # ALN requires also squared coupling\n",
    "        \"network_exc_exc_sq\",\n",
    "        # and INH mass in thalamus also receives excitatory coupling\n",
    "        \"network_inh_exc\",\n",
    "    ]\n",
    "\n",
    "    # lastly, we need to define what is default output of the network (this has to be the\n",
    "    #     variable present in all nodes)\n",
    "    # for us it is excitatory firing rates\n",
    "    default_output = f\"r_mean_{EXC}\"\n",
    "    # define all output vars of any interest to us - EXC and INH firing rates and adaptive current in ALN\n",
    "    output_vars = [f\"r_mean_{EXC}\", f\"r_mean_{INH}\", f\"I_A_{EXC}\"]\n",
    "\n",
    "    def __init__(self, connectivity_matrix, delay_matrix):\n",
    "        # self connections are resolved within nodes, so zeroes at the diagonal\n",
    "        assert np.all(np.diag(connectivity_matrix) == 0.0)\n",
    "\n",
    "        # init ALN node with index 0\n",
    "        aln_node = ALNNode()\n",
    "        aln_node.index = 0\n",
    "        # index where the state variables start - for first node it is always 0\n",
    "        aln_node.idx_state_var = 0\n",
    "        # set correct indices for noise input\n",
    "        for mass in aln_node:\n",
    "            mass.noise_input_idx = [mass.index]\n",
    "\n",
    "        # init thalamus node with index 1\n",
    "        thalamus = ThalamicNode()\n",
    "        thalamus.index = 1\n",
    "        # thalamic state variables start where ALN state variables end - easy\n",
    "        thalamus.idx_state_var = aln_node.num_state_variables\n",
    "        # set correct indices of noise input - one per mass, after ALN noise\n",
    "        # indices\n",
    "        for mass in thalamus:\n",
    "            mass.noise_input_idx = [aln_node.num_noise_variables + mass.index]\n",
    "\n",
    "        # now super.__init__ network with these two nodes:\n",
    "        super().__init__(\n",
    "            nodes=[aln_node, thalamus],\n",
    "            connectivity_matrix=connectivity_matrix,\n",
    "            delay_matrix=delay_matrix,\n",
    "        )\n",
    "\n",
    "    # done! the only other thing we need to do, is to set the coupling variables\n",
    "    # thalamus vs. ALN are coupled via their firing rates and here we setup the\n",
    "    # coupling matrices; the super class `Network` comes with some convenient\n",
    "    # functions for this\n",
    "\n",
    "    def _sync(self):\n",
    "        \"\"\"\n",
    "        Set coupling variables - the ones we defined in `sync_variables`\n",
    "        _sync returns a list of tuples where the first element in each tuple is the coupling \"symbol\"\n",
    "        and the second is the actual mathematical expression\n",
    "        for the ease of doing this, `Network` class contains convenience functions for this:\n",
    "            - _additive_coupling\n",
    "            - _diffusive_coupling\n",
    "            - _no_coupling\n",
    "        here we use additive coupling only\n",
    "        \"\"\"\n",
    "        # get indices of coupling variables from all nodes\n",
    "        exc_indices = [\n",
    "            next(\n",
    "                iter(\n",
    "                    node.all_couplings(\n",
    "                        mass_indices=node.excitatory_masses.tolist()\n",
    "                    )\n",
    "                )\n",
    "            )\n",
    "            for node in self\n",
    "        ]\n",
    "        assert len(exc_indices) == len(self)\n",
    "        return (\n",
    "            # basic EXC <-> EXC coupling\n",
    "            # within_node_idx is a list of len 2 (because we have two nodes)\n",
    "            # with indices of coupling variables within the respective state vectors\n",
    "            self._additive_coupling(\n",
    "                within_node_idx=exc_indices, symbol=\"network_exc_exc\"\n",
    "            )\n",
    "            # squared EXC <-> EXC coupling (only to ALN)\n",
    "            + self._additive_coupling(\n",
    "                within_node_idx=exc_indices,\n",
    "                symbol=\"network_exc_exc_sq\",\n",
    "                # square connectivity\n",
    "                connectivity=self.connectivity * self.connectivity,\n",
    "            )\n",
    "            # EXC -> INH coupling (only to thalamus)\n",
    "            + self._additive_coupling(\n",
    "                within_node_idx=exc_indices,\n",
    "                symbol=\"network_inh_exc\",\n",
    "                connectivity=self.connectivity,\n",
    "            )\n",
    "            + super()._sync()\n",
    "        )"
   ]
  },
  {
   "cell_type": "code",
   "execution_count": 11,
   "id": "entertaining-concentration",
   "metadata": {},
   "outputs": [
    {
     "data": {
      "text/plain": [
       "{'name': 'ALN 1 node + Thalamus',\n",
       " 'num_nodes': 2,\n",
       " 'num_state_variables': 30,\n",
       " 'num_noise_variables': 4,\n",
       " 'nodes': [{'index': 0,\n",
       "   'name': 'ALN neural mass node',\n",
       "   'num_masses': 2,\n",
       "   'num_num_state_variables': 13,\n",
       "   'num_noise_variables': 2,\n",
       "   'masses': [{'index': 0,\n",
       "     'name': 'ALN excitatory neural mass',\n",
       "     'mass_type': 'EXC',\n",
       "     'num_state_variables': 7,\n",
       "     'num_noise_variables': 1,\n",
       "     'state_variable_names': ['I_mu',\n",
       "      'I_A',\n",
       "      'I_syn_mu_exc',\n",
       "      'I_syn_mu_inh',\n",
       "      'I_syn_sigma_exc',\n",
       "      'I_syn_sigma_inh',\n",
       "      'r_mean'],\n",
       "     'params': {'Ke': 800.0,\n",
       "      'Ki': 200.0,\n",
       "      'c_gl': 0.4,\n",
       "      'Ke_gl': 250.0,\n",
       "      'tau_se': 2.0,\n",
       "      'tau_si': 5.0,\n",
       "      'sigmae_ext': 1.5,\n",
       "      'Jee_max': 2.43,\n",
       "      'Jei_max': -3.3,\n",
       "      'C': 200.0,\n",
       "      'gL': 10.0,\n",
       "      'ext_exc_current': 0.0,\n",
       "      'ext_exc_rate': 0.0,\n",
       "      'a': 15.0,\n",
       "      'b': 40.0,\n",
       "      'EA': -80.0,\n",
       "      'tauA': 200.0,\n",
       "      'lambda': 10.0,\n",
       "      'noise_0': {'type': 'OrnsteinUhlenbeckProcess',\n",
       "       'mu': 2.0,\n",
       "       'sigma': 0.0,\n",
       "       'tau': 5.0,\n",
       "       'num_iid': 1,\n",
       "       'seed': None}},\n",
       "     'lin_nonlin_transfer_function_filename': '/Users/nikola/.virtualenvs/neurolib/lib/python3.7/site-packages/neurolib/models/multimodel/builder/../../aln/aln-precalc/quantities_cascade.h5'},\n",
       "    {'index': 1,\n",
       "     'name': 'ALN inhibitory neural mass',\n",
       "     'mass_type': 'INH',\n",
       "     'num_state_variables': 6,\n",
       "     'num_noise_variables': 1,\n",
       "     'state_variable_names': ['I_mu',\n",
       "      'I_syn_mu_exc',\n",
       "      'I_syn_mu_inh',\n",
       "      'I_syn_sigma_exc',\n",
       "      'I_syn_sigma_inh',\n",
       "      'r_mean'],\n",
       "     'params': {'Ke': 800.0,\n",
       "      'Ki': 200.0,\n",
       "      'c_gl': 0.4,\n",
       "      'Ke_gl': 250.0,\n",
       "      'tau_se': 2.0,\n",
       "      'tau_si': 5.0,\n",
       "      'sigmai_ext': 1.5,\n",
       "      'Jie_max': 2.6,\n",
       "      'Jii_max': -1.64,\n",
       "      'C': 200.0,\n",
       "      'gL': 10.0,\n",
       "      'ext_inh_current': 0.0,\n",
       "      'ext_inh_rate': 0.0,\n",
       "      'lambda': 10.0,\n",
       "      'noise_0': {'type': 'OrnsteinUhlenbeckProcess',\n",
       "       'mu': 0.5,\n",
       "       'sigma': 0.0,\n",
       "       'tau': 5.0,\n",
       "       'num_iid': 1,\n",
       "       'seed': None}},\n",
       "     'lin_nonlin_transfer_function_filename': '/Users/nikola/.virtualenvs/neurolib/lib/python3.7/site-packages/neurolib/models/multimodel/builder/../../aln/aln-precalc/quantities_cascade.h5'}],\n",
       "   'local_connectivity': array([[0.24691358, 0.75757576],\n",
       "          [0.23076923, 1.52439024]]),\n",
       "   'local_delays': array([[4., 2.],\n",
       "          [4., 2.]])},\n",
       "  {'index': 1,\n",
       "   'name': 'Thalamic mass model node',\n",
       "   'num_masses': 2,\n",
       "   'num_num_state_variables': 17,\n",
       "   'num_noise_variables': 2,\n",
       "   'masses': [{'index': 0,\n",
       "     'name': 'Thalamocortical relay mass',\n",
       "     'mass_type': 'EXC',\n",
       "     'num_state_variables': 10,\n",
       "     'num_noise_variables': 1,\n",
       "     'state_variable_names': ['V',\n",
       "      'Ca',\n",
       "      'h_T',\n",
       "      'm_h1',\n",
       "      'm_h2',\n",
       "      's_e',\n",
       "      's_i',\n",
       "      'ds_e',\n",
       "      'ds_i',\n",
       "      'r_mean'],\n",
       "     'params': {'tau': 20.0,\n",
       "      'Q_max': 0.4,\n",
       "      'theta': -58.5,\n",
       "      'sigma': 6.0,\n",
       "      'C1': 1.8137993642,\n",
       "      'C_m': 1.0,\n",
       "      'gamma_e': 0.07,\n",
       "      'gamma_r': 0.1,\n",
       "      'g_L': 1.0,\n",
       "      'g_GABA': 1.0,\n",
       "      'g_AMPA': 1.0,\n",
       "      'g_LK': 0.018,\n",
       "      'g_T': 3.0,\n",
       "      'g_h': 0.062,\n",
       "      'E_AMPA': 0.0,\n",
       "      'E_GABA': -70.0,\n",
       "      'E_L': -70.0,\n",
       "      'E_K': -100.0,\n",
       "      'E_Ca': 120.0,\n",
       "      'E_h': -40.0,\n",
       "      'alpha_Ca': -5.18e-05,\n",
       "      'tau_Ca': 10.0,\n",
       "      'Ca_0': 0.00024,\n",
       "      'k1': 25000000.0,\n",
       "      'k2': 0.0004,\n",
       "      'k3': 0.1,\n",
       "      'k4': 0.001,\n",
       "      'n_P': 4.0,\n",
       "      'g_inc': 2.0,\n",
       "      'ext_current': 0.0,\n",
       "      'lambda': 10.0,\n",
       "      'noise_0': {'type': 'OrnsteinUhlenbeckProcess',\n",
       "       'mu': 0.0,\n",
       "       'sigma': 0.0,\n",
       "       'tau': 5.0,\n",
       "       'num_iid': 1,\n",
       "       'seed': None}}},\n",
       "    {'index': 1,\n",
       "     'name': 'Thalamic reticular nuclei mass',\n",
       "     'mass_type': 'INH',\n",
       "     'num_state_variables': 7,\n",
       "     'num_noise_variables': 1,\n",
       "     'state_variable_names': ['V',\n",
       "      'h_T',\n",
       "      's_e',\n",
       "      's_i',\n",
       "      'ds_e',\n",
       "      'ds_i',\n",
       "      'r_mean'],\n",
       "     'params': {'tau': 20.0,\n",
       "      'Q_max': 0.4,\n",
       "      'theta': -58.5,\n",
       "      'sigma': 6.0,\n",
       "      'C1': 1.8137993642,\n",
       "      'C_m': 1.0,\n",
       "      'gamma_e': 0.07,\n",
       "      'gamma_r': 0.1,\n",
       "      'g_L': 1.0,\n",
       "      'g_GABA': 1.0,\n",
       "      'g_AMPA': 1.0,\n",
       "      'g_LK': 0.018,\n",
       "      'g_T': 2.3,\n",
       "      'E_AMPA': 0.0,\n",
       "      'E_GABA': -70.0,\n",
       "      'E_L': -70.0,\n",
       "      'E_K': -100.0,\n",
       "      'E_Ca': 120.0,\n",
       "      'ext_current': 0.0,\n",
       "      'lambda': 10.0,\n",
       "      'noise_0': {'type': 'ZeroInput', 'num_iid': 1, 'seed': None}}}],\n",
       "   'local_connectivity': array([[ 0.,  5.],\n",
       "          [ 3., 25.]]),\n",
       "   'local_delays': array([[0., 0.],\n",
       "          [0., 0.]])}],\n",
       " 'connectivity': array([[0.  , 0.15],\n",
       "        [1.2 , 0.  ]]),\n",
       " 'delays': array([[ 0., 13.],\n",
       "        [13.,  0.]])}"
      ]
     },
     "metadata": {},
     "output_type": "display_data"
    }
   ],
   "source": [
    "# lets check what we have\n",
    "SC = np.array([[0.0, 0.15], [1.2, 0.0]])\n",
    "delays = np.array([[0.0, 13.0], [13.0, 0.0]]) # thalamocortical delay = 13ms\n",
    "thalamocortical = MultiModel(ALNThalamusMiniNetwork(connectivity_matrix=SC, delay_matrix=delays))\n",
    "# original `MultiModel` instance is always accessible as `MultiModel.model_instance`\n",
    "display(thalamocortical.model_instance.describe())"
   ]
  },
  {
   "cell_type": "code",
   "execution_count": 12,
   "id": "intended-salon",
   "metadata": {},
   "outputs": [
    {
     "name": "stderr",
     "output_type": "stream",
     "text": [
      "/Users/nikola/.virtualenvs/neurolib/lib/python3.7/site-packages/jitcdde/_jitcdde.py:1491: UserWarning: Your input past does not begin at t=0 but at t=1.0. Values before the beginning of the past will be extrapolated. You very likely do not want this.\n",
      "  warn(f\"Your input past does not begin at t=0 but at t={input[0].time}. Values before the beginning of the past will be extrapolated. You very likely do not want this.\")\n",
      "  0%|          | 0/20000 [00:00<?, ?it/s]"
     ]
    },
    {
     "name": "stdout",
     "output_type": "stream",
     "text": [
      "Using default integration parameters.\n"
     ]
    },
    {
     "name": "stderr",
     "output_type": "stream",
     "text": [
      "100%|██████████| 20000/20000 [00:06<00:00, 3211.24it/s]\n"
     ]
    }
   ],
   "source": [
    "# fix parameters for interesting regime\n",
    "thalamocortical.params[\"*g_LK\"] = 0.032 # K-leak conductance in thalamus\n",
    "thalamocortical.params[\"ALNThlmNet.ALNNode_0.ALNMassEXC_0.a\"] = 0.0 # no firing rate adaptation\n",
    "thalamocortical.params[\"*b\"] = 15.0 # spike adaptation\n",
    "thalamocortical.params[\"*tauA\"] = 1000.0 # slow adaptation timescale\n",
    "thalamocortical.params[\"*EXC*mu\"] = 3.4 # background excitation to ALN\n",
    "thalamocortical.params[\"*INH*mu\"] = 3.5 # background inhibition to ALN\n",
    "thalamocortical.params[\"*ALNMass*noise*sigma\"] = 0.05 # noise in ALN\n",
    "thalamocortical.params[\"*TCR*noise*sigma\"] = 0.005 # noise in thalamus\n",
    "thalamocortical.params[\"*noise*tau\"] = 5.0 # timescale of OU process\n",
    "thalamocortical.params[\"duration\"] = 20000. # 20 seconds simulation\n",
    "thalamocortical.params[\"sampling_dt\"] = 1.0\n",
    "thalamocortical.run()"
   ]
  },
  {
   "cell_type": "code",
   "execution_count": 13,
   "id": "confused-reaction",
   "metadata": {},
   "outputs": [
    {
     "data": {
      "text/plain": [
       "Text(0.5, 0, 'time [sec]')"
      ]
     },
     "execution_count": 13,
     "metadata": {},
     "output_type": "execute_result"
    },
    {
     "data": {
      "image/png": "[encoded data removed]",
      "text/plain": [
       "<Figure size 864x432 with 2 Axes>"
      ]
     },
     "metadata": {
      "needs_background": "light"
     },
     "output_type": "display_data"
    }
   ],
   "source": [
    "_, axs = plt.subplots(nrows=2, ncols=1, sharex=True, figsize=(12, 6))\n",
    "axs[0].plot(thalamocortical.t, thalamocortical.r_mean_EXC[0, :].T)\n",
    "axs[0].set_ylabel(\"ALN firing rate [kHz]\")\n",
    "axs[1].plot(thalamocortical.t, thalamocortical.r_mean_EXC[1, :].T, color=\"C1\")\n",
    "axs[1].set_ylabel(\"thalamus firing rate [kHz]\")\n",
    "axs[1].set_xlabel(\"time [sec]\")"
   ]
  },
  {
   "cell_type": "markdown",
   "id": "graphic-christianity",
   "metadata": {},
   "source": [
    "We can nicely see the interplay between cortical UP and DOWN states (with UP state being dominant and irregular DOWN state excursions) and thalamic spindles.\n",
    "\n",
    "Combining different models might seem hard at first, but it is actually kind of intuitive and works as you would connect models with pen and paper.\n",
    "The only necessary thing is to define and initialize individual nodes in the network (done in `__init__` function) and then specify the type of coupling between these nodes (in `_sync()` function). That's it!\n",
    "\n",
    "For more information on how to build a network and for a deeper understanding of how exactly `MultiModel` works, please check out our following example, where we will build the Jansen-Rit network from scratch!"
   ]
  }
 ],
 "metadata": {
  "kernelspec": {
   "display_name": "Python 3",
   "language": "python",
   "name": "python3"
  },
  "language_info": {
   "codemirror_mode": {
    "name": "ipython",
    "version": 3
   },
   "file_extension": ".py",
   "mimetype": "text/x-python",
   "name": "python",
   "nbconvert_exporter": "python",
   "pygments_lexer": "ipython3",
   "version": "3.7.10"
  }
 },
 "nbformat": 4,
 "nbformat_minor": 5
}
