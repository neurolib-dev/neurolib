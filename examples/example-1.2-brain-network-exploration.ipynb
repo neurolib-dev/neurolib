{
 "cells": [
  {
   "cell_type": "markdown",
   "metadata": {},
   "source": [
    "# Parameter exploration of a brain network\n",
    "\n",
    "This notebook shows how to scan the parameter space of a more complex model, namely a brain network consisting of coupled `aln` populations. \n",
    "\n",
    "The evaluation of the simulation done in multiple steps: \n",
    "- Step 1 checks if there is any rate activity at all\n",
    "- Step 2 checks if there is any BOLD activity\n",
    "- Step 3 is the full simulation\n",
    "\n",
    "After the full simulation, the funciotnal connectivity (FC) of the BOLD signal is computed and compared to the empirical FC dataset. The Pearson correlation of the FC matrices is computed and the average is taken. This is the result that we tell pypet to save. We could also save the rate output of the model or the BOLD timeseries. "
   ]
  },
  {
   "cell_type": "code",
   "execution_count": 1,
   "metadata": {},
   "outputs": [],
   "source": [
    "# change into root directory to the project\n",
    "import os\n",
    "if os.getcwd().split(\"/\")[-1] == \"examples\":\n",
    "    os.chdir('..')"
   ]
  },
  {
   "cell_type": "code",
   "execution_count": 2,
   "metadata": {},
   "outputs": [],
   "source": [
    "import logging\n",
    "logger = logging.getLogger()\n",
    "logger.setLevel(logging.DEBUG)\n",
    "\n",
    "%load_ext autoreload\n",
    "%autoreload 2"
   ]
  },
  {
   "cell_type": "code",
   "execution_count": 3,
   "metadata": {},
   "outputs": [],
   "source": [
    "import pypet\n",
    "import numpy as np\n",
    "\n",
    "from neurolib.models.aln import ALNModel\n",
    "from neurolib.utils.parameterSpace import ParameterSpace\n",
    "from neurolib.optimize.exploration import BoxSearch\n",
    "import neurolib.utils.functions as func\n",
    "\n",
    "from neurolib.utils.loadData import Dataset\n",
    "ds = Dataset(\"hcp\")"
   ]
  },
  {
   "cell_type": "code",
   "execution_count": 4,
   "metadata": {},
   "outputs": [
    {
     "name": "stderr",
     "output_type": "stream",
     "text": [
      "INFO:root:Model aln created\n"
     ]
    }
   ],
   "source": [
    "aln = ALNModel(Cmat = ds.Cmat, Dmat = ds.Dmat, bold=True) # simulates the whole-brain model in 10s chunks by default if bold == True\n",
    "# Resting state fits\n",
    "aln.params['mue_ext_mean'] = 1.57\n",
    "aln.params['mui_ext_mean'] = 1.6\n",
    "aln.params['sigma_ou'] = 0.09\n",
    "aln.params['b'] = 5.0\n",
    "aln.params['signalV'] = 2\n",
    "aln.params['dt'] = 0.2\n",
    "aln.params['duration'] = 0.2 * 60 * 1000 #ms\n",
    "# testing: aln.params['duration'] = 0.2 * 60 * 1000 #ms\n",
    "# real: aln.params['duration'] = 1.0 * 60 * 1000 #ms"
   ]
  },
  {
   "cell_type": "code",
   "execution_count": 27,
   "metadata": {},
   "outputs": [],
   "source": [
    "def evaluateSimulation(traj):\n",
    "    # get the model from the trajectory using `search.getModelFromTraj(traj)`\n",
    "    model = search.getModelFromTraj(traj)\n",
    "    defaultDuration = model.params['duration']\n",
    "    invalid_result = {\"fc\" : [0]* len(ds.BOLDs)}\n",
    "    \n",
    "    # -------- stage wise simulation --------\n",
    "    \n",
    "    # Stage 1 : simulate for a few seconds to see if there is any activity\n",
    "    # ---------------------------------------\n",
    "    model.params['dt'] = 0.1\n",
    "    model.params['duration'] = 3*1000.\n",
    "    model.run()\n",
    "    \n",
    "    # check if stage 1 was successful\n",
    "    if np.max(aln.rates_exc[:, aln.t > 500]) > 300 or np.max(aln.rates_exc[:, aln.t > 500]) < 10:\n",
    "        search.saveOutputsToPypet(invalid_result, traj)\n",
    "        return invalid_result, {}\n",
    "    \n",
    "    # Stage 2: simulate BOLD for a few seconds to see if it moves\n",
    "    # ---------------------------------------\n",
    "    model.params['dt'] = 0.2\n",
    "    model.params['duration'] = 20*1000.\n",
    "    model.run(bold = True)\n",
    "    \n",
    "    if np.std(aln.BOLD.BOLD[:, 5:10]) < 0.001:\n",
    "        search.saveOutputsToPypet(invalid_result, traj)\n",
    "        return invalid_result, {}\n",
    "    \n",
    "    # Stage 3: full and final simulation\n",
    "    # ---------------------------------------\n",
    "    model.params['dt'] = 0.2\n",
    "    model.params['duration'] = defaultDuration\n",
    "    model.run(bold = True)\n",
    "    \n",
    "    # -------- evaluation here --------\n",
    "    \n",
    "    scores = []\n",
    "    for i, fc in enumerate(ds.FCs):#range(len(ds.FCs)):\n",
    "        fc_score = func.matrix_correlation(func.fc(model.BOLD.BOLD[:, 5:]), fc)\n",
    "        scores.append(fc_score)\n",
    "    \n",
    "    meanScore = np.mean(scores)\n",
    "    result_dict = {\"fc\" : meanScore}\n",
    "    \n",
    "    # Save the results to pypet. \n",
    "    # Remember: This has to be dictionary!\n",
    "    # This could be the activity or some abstract result like\n",
    "    # the average FC correlation here\n",
    "    search.saveOutputsToPypet(result_dict, traj)"
   ]
  },
  {
   "cell_type": "code",
   "execution_count": null,
   "metadata": {},
   "outputs": [],
   "source": [
    "parameters = ParameterSpace({\"mue_ext_mean\": np.linspace(0, 3, 2), \"mui_ext_mean\": np.linspace(0, 3, 2)})\n",
    "# info: chose np.linspace(0, 3, 21) or more, values here are low for testing\n",
    "search = BoxSearch(evalFunction = evaluateSimulation, model=aln, exploreParameters=parameters)"
   ]
  },
  {
   "cell_type": "code",
   "execution_count": null,
   "metadata": {},
   "outputs": [],
   "source": [
    "search.run()"
   ]
  },
  {
   "cell_type": "code",
   "execution_count": null,
   "metadata": {},
   "outputs": [],
   "source": [
    "search.loadResults()\n",
    "print(\"Number of results: {}\".format(len(search.results)))"
   ]
  },
  {
   "cell_type": "code",
   "execution_count": 37,
   "metadata": {},
   "outputs": [
    {
     "data": {
      "text/html": [
       "<div>\n",
       "<style scoped>\n",
       "    .dataframe tbody tr th:only-of-type {\n",
       "        vertical-align: middle;\n",
       "    }\n",
       "\n",
       "    .dataframe tbody tr th {\n",
       "        vertical-align: top;\n",
       "    }\n",
       "\n",
       "    .dataframe thead th {\n",
       "        text-align: right;\n",
       "    }\n",
       "</style>\n",
       "<table border=\"1\" class=\"dataframe\">\n",
       "  <thead>\n",
       "    <tr style=\"text-align: right;\">\n",
       "      <th></th>\n",
       "      <th>mue_ext_mean</th>\n",
       "      <th>mui_ext_mean</th>\n",
       "      <th>fc</th>\n",
       "    </tr>\n",
       "  </thead>\n",
       "  <tbody>\n",
       "    <tr>\n",
       "      <th>0</th>\n",
       "      <td>0.0</td>\n",
       "      <td>0.0</td>\n",
       "      <td>0.000000</td>\n",
       "    </tr>\n",
       "    <tr>\n",
       "      <th>1</th>\n",
       "      <td>0.0</td>\n",
       "      <td>3.0</td>\n",
       "      <td>0.000000</td>\n",
       "    </tr>\n",
       "    <tr>\n",
       "      <th>2</th>\n",
       "      <td>3.0</td>\n",
       "      <td>0.0</td>\n",
       "      <td>0.042386</td>\n",
       "    </tr>\n",
       "    <tr>\n",
       "      <th>3</th>\n",
       "      <td>3.0</td>\n",
       "      <td>3.0</td>\n",
       "      <td>-0.182764</td>\n",
       "    </tr>\n",
       "  </tbody>\n",
       "</table>\n",
       "</div>"
      ],
      "text/plain": [
       "   mue_ext_mean  mui_ext_mean        fc\n",
       "0           0.0           0.0  0.000000\n",
       "1           0.0           3.0  0.000000\n",
       "2           3.0           0.0  0.042386\n",
       "3           3.0           3.0 -0.182764"
      ]
     },
     "execution_count": 37,
     "metadata": {},
     "output_type": "execute_result"
    }
   ],
   "source": [
    "for i in search.dfResults.index:\n",
    "    search.dfResults.loc[i, 'fc'] = np.mean(search.results[i]['fc'])\n",
    "search.dfResults"
   ]
  }
 ],
 "metadata": {
  "kernelspec": {
   "display_name": "Python 3",
   "language": "python",
   "name": "python3"
  },
  "language_info": {
   "codemirror_mode": {
    "name": "ipython",
    "version": 3
   },
   "file_extension": ".py",
   "mimetype": "text/x-python",
   "name": "python",
   "nbconvert_exporter": "python",
   "pygments_lexer": "ipython3",
   "version": "3.7.3"
  }
 },
 "nbformat": 4,
 "nbformat_minor": 4
}
