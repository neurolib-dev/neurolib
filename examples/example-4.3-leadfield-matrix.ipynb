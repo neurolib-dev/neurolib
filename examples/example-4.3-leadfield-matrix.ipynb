{
 "cells": [
  {
   "cell_type": "code",
   "execution_count": null,
   "metadata": {},
   "outputs": [],
   "source": [
    "# leadfield_functions.py\n",
    "# Description: Main script for leadfield generation.\n",
    "# Author: Mohammad Orabe\n",
    "#         ZiXuan Liu\n",
    "#         Nikola Jajcay\n",
    "#\n",
    "# Contact:\n",
    "#          orabe.mhd@gmail.com\n",
    "#          a837707601@gmail.com\n",
    "#          jajcay@ni.tu-berlin.de\n",
    "#          martink@bccn-berlin.de"
   ]
  },
  {
   "cell_type": "code",
   "execution_count": null,
   "metadata": {},
   "outputs": [],
   "source": [
    "import os\n",
    "import numpy as np\n",
    "import mne\n",
    "import matplotlib.pyplot as plt\n",
    "\n",
    "from leadfield_functions import *\n"
   ]
  },
  {
   "cell_type": "code",
   "execution_count": null,
   "metadata": {},
   "outputs": [],
   "source": [
    "subject = \"fsaverage\"\n",
    "atlas_nii_path = \"AAL2/atlas/AAL2.nii\"\n",
    "atlas_xml_path = \"AAL2/atlas/AAL2.xml\"\n"
   ]
  },
  {
   "cell_type": "code",
   "execution_count": null,
   "metadata": {},
   "outputs": [],
   "source": [
    "subjects_dir, trans, fs_dir, raw, atlas_nii, atlas_xml = load_data(atlas_nii_path, atlas_xml_path)\n"
   ]
  },
  {
   "cell_type": "code",
   "execution_count": null,
   "metadata": {},
   "outputs": [],
   "source": [
    "# Manually build up BEM\n",
    "# conductivity = (0.3,)  # for single layer\n",
    "conductivity = (0.3, 0.006, 0.3)  # for three layers\n",
    "bem = build_BEM(subject, subjects_dir, fs_dir, conductivity=conductivity)\n"
   ]
  },
  {
   "cell_type": "code",
   "execution_count": null,
   "metadata": {},
   "outputs": [],
   "source": [
    "plot_bem_kwargs = dict(\n",
    "    subject=subject,\n",
    "    subjects_dir=subjects_dir,\n",
    "    brain_surfaces=\"white\",\n",
    "    orientation=\"coronal\",\n",
    "    slices=[50, 100, 150, 200],\n",
    ")\n",
    "mne.viz.plot_bem(**plot_bem_kwargs)\n",
    "plt.show()"
   ]
  },
  {
   "cell_type": "code",
   "execution_count": null,
   "metadata": {},
   "outputs": [],
   "source": [
    "# Generate surface source space\n",
    "## The method to achieve AAL atlas source space is to calculate the average dipole value of all dipoles in each annotation of the atlas, so at first place, the surface source space needed to be generated. The data \"fsaverage\" has a pre build-up surface source space, nevertheless, the source space can also be calculated.\n",
    "src = os.path.join(fs_dir, \"bem\", \"fsaverage-ico-5-src.fif\")\n",
    "mne.viz.plot_bem(src=src, **plot_bem_kwargs)\n",
    "plt.show()"
   ]
  },
  {
   "cell_type": "code",
   "execution_count": null,
   "metadata": {},
   "outputs": [],
   "source": [
    "# Clean channel names to be able to use a standard 1020 montage\n",
    "clean_eeg_channels(raw)"
   ]
  },
  {
   "cell_type": "code",
   "execution_count": null,
   "metadata": {},
   "outputs": [],
   "source": [
    "plot_EEG_montage(raw, src, trans)"
   ]
  },
  {
   "cell_type": "code",
   "execution_count": null,
   "metadata": {},
   "outputs": [],
   "source": [
    "leadfield_downsampled, fwd, unique_labels = compute_leadfield(\n",
    "    raw,\n",
    "    trans,\n",
    "    src,\n",
    "    bem,\n",
    "    subject,\n",
    "    atlas_nii,\n",
    "    atlas_xml,\n",
    "    atlas=\"aal2_cortical\",\n",
    "    cortex_parts=\"full_cortex\",\n",
    "    path_to_save=os.getcwd(),\n",
    ")\n"
   ]
  },
  {
   "cell_type": "code",
   "execution_count": null,
   "metadata": {},
   "outputs": [],
   "source": [
    "check_atlas_missing_regions(atlas_xml_path, unique_labels)\n"
   ]
  },
  {
   "cell_type": "code",
   "execution_count": null,
   "metadata": {},
   "outputs": [],
   "source": [
    "# verify_leadfield(subject, subjects_dir, fwd, location=\"center\", extent = 10.0)\n"
   ]
  }
 ],
 "metadata": {
  "language_info": {
   "name": "python"
  },
  "orig_nbformat": 4
 },
 "nbformat": 4,
 "nbformat_minor": 2
}
