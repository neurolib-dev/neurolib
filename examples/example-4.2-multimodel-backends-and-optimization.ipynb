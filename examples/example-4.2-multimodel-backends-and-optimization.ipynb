{
 "cells": [
  {
   "cell_type": "code",
   "execution_count": 1,
   "id": "russian-jones",
   "metadata": {},
   "outputs": [],
   "source": [
    "import matplotlib.pyplot as plt\n",
    "import neurolib.utils.functions as func\n",
    "import numpy as np\n",
    "from IPython.display import display\n",
    "from neurolib.models.multimodel import (\n",
    "    ALNNode,\n",
    "    FitzHughNagumoNetwork,\n",
    "    FitzHughNagumoNode,\n",
    "    MultiModel,\n",
    ")\n",
    "from neurolib.optimize.evolution import Evolution\n",
    "from neurolib.optimize.exploration import BoxSearch\n",
    "from neurolib.utils.parameterSpace import ParameterSpace\n",
    "\n",
    "# a nice color map\n",
    "plt.rcParams[\"image.cmap\"] = \"plasma\""
   ]
  },
  {
   "cell_type": "markdown",
   "id": "excellent-revolution",
   "metadata": {},
   "source": [
    "# `MultiModel` advanced topics\n",
    "In the last two examples we showcased the basics of `MultiModel` framework and how to create a new model from scratch. Now we will look at some advanced topics such as how exactly the integration works, why we have two integration backends, and how to run optimisation and exploration with `MultiModel`.\n",
    "\n",
    "## The tale of two backends\n",
    "In the current implementation of `MultiModel`, users may choose from two different integration backends. Before diving into the details of both backends, let us quickly revise how exactly `MultiModel` integrates the model equations.\n",
    "\n",
    "### The how\n",
    "Almost all whole-brain simulators works in the sense, that you define the dynamics of single brain area and then we have a double loop for integration: one over time, the second over brain areas. In other words, all brain areas have the same dynamics. In pseudo-code it would look something like:\n",
    "```python\n",
    "for t in range(time_total):\n",
    "    for n in range(num_areas):\n",
    "        x[t, n] = integrate_step(x[t-max_delay:t-1, :])\n",
    "```\n",
    "Since all areas are the same, the `integrate_step` function would simply take the history of state vector and apply one integration step in any scheme. This won't work in `MultiModel`, since it allows building heterogeneous models. The internal workings of `MultiModel` can be explained in couple of steps.\n",
    "\n",
    "#### State vector\n",
    "Since the inner loop in the pseudocode above is not doable in `MultiModel` due to heterogeneity, we solve it simply by concatenating all individual equations into one big state vector (that is also the reason why all `NeuralMass` and `Node` objects have their indices). When the model is ready for simulation, we iterate over `Nodes` and `NeuralMasses` within these nodes and stack their equations into a single list. The concatenation is done using the `_derivatives()` function.\n",
    "- in `NeuralMass`, the `_derivatives()` function implements the actual dynamics as delay differential equations\n",
    "- in `Node`, the `_derivatives()` function stacks all equations from `NeuralMasses` within this `Node` into one list\n",
    "- in `Network`, the `_derivatives()` function stacks all equations from `Nodes` within this `Network`.\n",
    "\n",
    "Let us see how it looks like:"
   ]
  },
  {
   "cell_type": "code",
   "execution_count": 2,
   "id": "sorted-moore",
   "metadata": {},
   "outputs": [
    {
     "data": {
      "text/plain": [
       "[1.0 + 4.0*current_y(0)**2 - 3.0*current_y(0)**3 - 1.5*current_y(0) - current_y(1) + past_y(-external_input + t, input_base_n, anchors(-external_input + t)),\n",
       " 0.05*(current_y(0) - 0.5*current_y(1)) + past_y(-external_input + t, 1 + input_base_n, anchors(-external_input + t))]"
      ]
     },
     "metadata": {},
     "output_type": "display_data"
    },
    {
     "data": {
      "text/plain": [
       "2"
      ]
     },
     "metadata": {},
     "output_type": "display_data"
    },
    {
     "data": {
      "text/plain": [
       "2"
      ]
     },
     "metadata": {},
     "output_type": "display_data"
    }
   ],
   "source": [
    "# create a FitzHugh-Nagumo Node\n",
    "fhn_node = FitzHughNagumoNode()\n",
    "# necessary attributes when creating a Node from scratch\n",
    "fhn_node.index = 0\n",
    "fhn_node.idx_state_var = 0\n",
    "fhn_node.init_node()\n",
    "\n",
    "display(fhn_node._derivatives())\n",
    "display(len(fhn_node._derivatives()), fhn_node.num_state_variables)"
   ]
  },
  {
   "cell_type": "markdown",
   "id": "variable-venezuela",
   "metadata": {},
   "source": [
    "As we see, the `_derivatives()` function return a list of equations, in this case of length 2 (which is, of course, equal to `fhn.num_state_variables`). The `current_y(<index>)` lingo is taken from `jitcdde`. As written above, all equations are symbolic and therefore `current_y(<index>)` is a `symengine` `Symbol` representing state vector with index `<index>` at current time `t`. In other words, `current_y(0)` is the first variable (in FitzHugh-Nagumo model, this is the $x$), while `current_y(1)` is the second variable (the $y$). The `past_y()` lingo is the same, but encodes either the past of the state vector, i.e. delayed interactions, or the external input (noise or stimulus). In this case it represents the external input (you can tell since it is `past_y(-external_input...)`). Now let us see how it looks like for network:"
   ]
  },
  {
   "cell_type": "code",
   "execution_count": 3,
   "id": "instant-banks",
   "metadata": {},
   "outputs": [
    {
     "data": {
      "text/plain": [
       "4"
      ]
     },
     "metadata": {},
     "output_type": "display_data"
    },
    {
     "data": {
      "text/plain": [
       "4"
      ]
     },
     "metadata": {},
     "output_type": "display_data"
    },
    {
     "data": {
      "text/plain": [
       "[1.0 + network_x_0 + 4.0*current_y(0)**2 - 3.0*current_y(0)**3 - 1.5*current_y(0) - current_y(1) + past_y(-external_input + t, input_base_n, anchors(-external_input + t)),\n",
       " network_y_0 + 0.05*(current_y(0) - 0.5*current_y(1)) + past_y(-external_input + t, 1 + input_base_n, anchors(-external_input + t)),\n",
       " 1.0 + network_x_1 + 4.0*current_y(2)**2 - 3.0*current_y(2)**3 - 1.5*current_y(2) - current_y(3) + past_y(-external_input + t, 2 + input_base_n, anchors(-external_input + t)),\n",
       " network_y_1 + 0.05*(current_y(2) - 0.5*current_y(3)) + past_y(-external_input + t, 3 + input_base_n, anchors(-external_input + t))]"
      ]
     },
     "metadata": {},
     "output_type": "display_data"
    }
   ],
   "source": [
    "# create 2 node FHN network\n",
    "SC = np.array([[0.0, 1.43], [0.64, 0.0]])\n",
    "delays = np.array([[0.0, 10.0], [10.0, 0.0]])\n",
    "fhn_net = FitzHughNagumoNetwork(SC, delays)\n",
    "\n",
    "display(len(fhn_net._derivatives()), fhn_net.num_state_variables)\n",
    "display(fhn_net._derivatives())"
   ]
  },
  {
   "cell_type": "markdown",
   "id": "matched-answer",
   "metadata": {},
   "source": [
    "Now, since we have 2 nodes, the total number of state variables is 4. And now, we see equations for the whole network as a list of 4 symbolic equations. In the network equations we see a new symbol: `network_x_0` and `network_x_1`. At this time, these are really just `symengine` symbols, but they actually represent the coupling between the nodes. And that is also a topic of the next section.\n",
    "\n",
    "#### Coupling\n",
    "As we have seen before, the state vector encodes the whole dynamics of the brain model, but the coupling is crypted as symbol. To make things easier for simulating, we had to separate the individual internal dynamics from the coupling terms. The coupling comes in two flavours, reflecting the three levels of hierarchy: node coupling takes care of coupling between `NeuralMasses` within one `Node`, and network coupling takes care of coupling between `Nodes` in one `Network`. The coupling is implemented as `_sync()` function. This function returns a list, where each item is a tuple of length two: `(name_of_the_symbol, symbolic_term_representing_the_coupling)`. The FitzHugh-Nagumo model only has one mass per node, hence there are no node couplings, but we can inspect the network coupling:"
   ]
  },
  {
   "cell_type": "code",
   "execution_count": 4,
   "id": "annoying-command",
   "metadata": {},
   "outputs": [
    {
     "data": {
      "text/plain": [
       "[(network_x_0,\n",
       "  1.43*(-current_y(0) + past_y(-10.0 + t, 2, anchors(-10.0 + t)))),\n",
       " (network_x_1,\n",
       "  0.64*(-current_y(2) + past_y(-10.0 + t, 0, anchors(-10.0 + t)))),\n",
       " (network_y_0, 0.0),\n",
       " (network_y_1, 0.0)]"
      ]
     },
     "metadata": {},
     "output_type": "display_data"
    }
   ],
   "source": [
    "display(fhn_net._sync())"
   ]
  },
  {
   "cell_type": "markdown",
   "id": "integrated-naples",
   "metadata": {},
   "source": [
    "In this particular case, we have 2 coupling variables and 2 nodes, hence 4 coupling terms. The coupling of $y$ is zero. As per the coupling of $x$ variables between nodes, you can now see how it works: `network_x_0` just means that we are about to define a network coupling of variable `x` for the first node, and it is just 1.43 (this is the SC matrix we passed when creating FHN network) times state variable with index 2 at time -10 milliseconds minus current state variable index 0 (diffusive coupling). Similarly for node 1 (with different coupling strength and state variable indices, of course).\n",
    "\n",
    "Now when symbols from `_sync()` function are inserted into `_derivatives()` at the proper places, we have a full definition of a model. This is exactly what both backends do: they gather the equations (`_derivatives()`), look up the coupling terms (`_sync()`) and integrate the model forward in time."
   ]
  },
  {
   "cell_type": "markdown",
   "id": "necessary-sacrifice",
   "metadata": {},
   "source": [
    "### `jitcdde` backend\n",
    "The `jitcdde` backend was the first integration backend in `MultiModel`. The name stems from the fact that we use wonderful [`jitcdde`](https://jitcdde.readthedocs.io/en/stable/) python package. It employs just-in-time compilation of symbolic derivatives into C and then uses DDE integration method proposed by Shampine and Thompson, which in turn employs the Bogacki–Shampine Runge–Kutta pair. This is the reason why the definition of dynamics in `MultiModel` is done using symbolic derivatives written in `symengine`. It uses adaptive `dt` scheme, hence is very useful for stiff problems. Also, if you are implementing a new model and have no idea how stiff the dynamics are, this is the backend to try first. It has reasonable speed, but for large networks and long simulations it is not the best.\n",
    "\n",
    "The internal workings of `jitcdde` package served as an inspiration when creating `MultiModel`. `jitcdde` naturally works with dynamics defined as symbolic equations (`_derivatives()`) and it also supports the use of \"helpers\" - the helpers in our case are the coupling terms (`_sync()`)."
   ]
  },
  {
   "cell_type": "code",
   "execution_count": 5,
   "id": "enclosed-slovakia",
   "metadata": {},
   "outputs": [
    {
     "name": "stderr",
     "output_type": "stream",
     "text": [
      "/Users/nikola/.virtualenvs/neurolib/lib/python3.7/site-packages/jitcdde/_jitcdde.py:1491: UserWarning: Your input past does not begin at t=0 but at t=1.0. Values before the beginning of the past will be extrapolated. You very likely do not want this.\n",
      "  warn(f\"Your input past does not begin at t=0 but at t={input[0].time}. Values before the beginning of the past will be extrapolated. You very likely do not want this.\")\n",
      "100%|██████████| 2000/2000 [00:00<00:00, 85415.01it/s]"
     ]
    },
    {
     "name": "stdout",
     "output_type": "stream",
     "text": [
      "Using default integration parameters.\n"
     ]
    },
    {
     "name": "stderr",
     "output_type": "stream",
     "text": [
      "\n"
     ]
    },
    {
     "data": {
      "text/plain": [
       "[<matplotlib.lines.Line2D at 0x15aa79950>,\n",
       " <matplotlib.lines.Line2D at 0x15aa63690>]"
      ]
     },
     "execution_count": 5,
     "metadata": {},
     "output_type": "execute_result"
    },
    {
     "data": {
      "image/png": "[encoded data removed]",
      "text/plain": [
       "<Figure size 432x288 with 1 Axes>"
      ]
     },
     "metadata": {
      "needs_background": "light"
     },
     "output_type": "display_data"
    }
   ],
   "source": [
    "fhn_mm = MultiModel(fhn_net)\n",
    "# 2 second run\n",
    "fhn_mm.params[\"duration\"] = 2000.0\n",
    "fhn_mm.params[\"backend\"] = \"jitcdde\"\n",
    "# jitcdde works with adaptive dt, you only set sampling dt\n",
    "fhn_mm.params[\"sampling_dt\"] = 1.0\n",
    "fhn_mm.run()\n",
    "\n",
    "plt.plot(fhn_mm.x.T)"
   ]
  },
  {
   "cell_type": "markdown",
   "id": "piano-doubt",
   "metadata": {},
   "source": [
    "### `numba` backend\n",
    "Since `jitcdde` is rather slow, in particular for long runs or large networks, we created a `numba` backend. It was tricky - the whole code around `MultiModel` was creating with `jitcdde` in mind with the symbolic equations, helpers, etc. However, the advantage of symbolic equations is also - they are purely symbolic, so you can \"print\" them. By printing, you really just obtain the string with equations. So what `numba` backend actually does?\n",
    "1. gather all symbolic equations with `_derivatives()`\n",
    "2. substitute coupling symbols with functional terms in `_sync()`\n",
    "3. substitute current and past state vector symbols (`current_y()` and `past_y()`) with state vector `y` with correct indices and time delays\n",
    "4. now we have a complete description of `dy`\n",
    "5. \"print\" out this `dy` into prepared function template (string) inside the time for loop, you can imagine it as\n",
    "```python\n",
    "for t in range(1, t_max):\n",
    "      dy = np.array({dy}) # <- `dy` is printed here\n",
    "      y[:, t] = y[:, t-1] + dt*dy\n",
    "```\n",
    "6. compile the prepared string template into an actual python function (yes, python can do this)\n",
    "7. wrap the compiled function with `numba.njit()` to get the speed boots\n",
    "8. profit\n",
    "\n",
    "And yes, the `numba` backend simply employs Euler integration scheme, which means that you need to think about dt."
   ]
  },
  {
   "cell_type": "code",
   "execution_count": 6,
   "id": "level-samba",
   "metadata": {},
   "outputs": [
    {
     "data": {
      "text/plain": [
       "[<matplotlib.lines.Line2D at 0x15a44fad0>,\n",
       " <matplotlib.lines.Line2D at 0x15a2a0e10>]"
      ]
     },
     "execution_count": 6,
     "metadata": {},
     "output_type": "execute_result"
    },
    {
     "data": {
      "image/png": "[encoded data removed]",
      "text/plain": [
       "<Figure size 432x288 with 1 Axes>"
      ]
     },
     "metadata": {
      "needs_background": "light"
     },
     "output_type": "display_data"
    }
   ],
   "source": [
    "fhn_mm = MultiModel(fhn_net)\n",
    "# 2 second run\n",
    "fhn_mm.params[\"duration\"] = 2000.0\n",
    "fhn_mm.params[\"backend\"] = \"numba\"\n",
    "# numba uses Euler scheme so dt is important!\n",
    "fhn_mm.params[\"dt\"] = 0.1\n",
    "fhn_mm.params[\"sampling_dt\"] = 1.0\n",
    "fhn_mm.run()\n",
    "\n",
    "plt.plot(fhn_mm.x.T)"
   ]
  },
  {
   "cell_type": "markdown",
   "id": "coordinate-following",
   "metadata": {},
   "source": [
    "## Which backend to use and when?\n",
    "By default `numba` backend is almost always faster (with the exception of small network and not too long runs, when they perform similarly). However, for prototyping new models, or connecting couple of models into a heterogeneous network, it is always a good idea to do a couple of short simulations with `jitcdde`. The reason is - it uses an adaptive dt, so you do not need to worry about setting a correct dt. When you have an idea about what the dynamics should look like and how fast it is, you can switch to `numba` and try couple of different dt and select the one, when the results are closest to `jitcdde` results. For exploration and optimisation with evolution, always use `numba`. `numba` backend is actually compiling a jit'ed function with all the parameters as arguments, hence for exploration, only one compilation is necessary and then even when changing parameters, the model runs at high speed."
   ]
  },
  {
   "cell_type": "markdown",
   "id": "confirmed-format",
   "metadata": {},
   "source": [
    "## Exploration with `MultiModel`\n",
    "\n",
    "So we all love `neurolib` not only for its speed, efficiency, and ease of use, but also for its built-in exploration and evolution frameworks. These two makes studying the population models a real breeze! And naturally, `MultiModel` supports both. Firtsly, we will showcase how we can explore parameters of `MultiModel` using the `BoxSearch` class and we will replicate the ALN exploration from `example-1-aln-parameter-exploration.ipynb`."
   ]
  },
  {
   "cell_type": "code",
   "execution_count": 7,
   "id": "significant-province",
   "metadata": {},
   "outputs": [
    {
     "data": {
      "text/plain": [
       "{'ALNNode_0.ALNMassEXC_0.Ke': 800.0,\n",
       " 'ALNNode_0.ALNMassEXC_0.Ki': 200.0,\n",
       " 'ALNNode_0.ALNMassEXC_0.c_gl': 0.4,\n",
       " 'ALNNode_0.ALNMassEXC_0.Ke_gl': 250.0,\n",
       " 'ALNNode_0.ALNMassEXC_0.tau_se': 2.0,\n",
       " 'ALNNode_0.ALNMassEXC_0.tau_si': 5.0,\n",
       " 'ALNNode_0.ALNMassEXC_0.sigmae_ext': 1.5,\n",
       " 'ALNNode_0.ALNMassEXC_0.Jee_max': 2.43,\n",
       " 'ALNNode_0.ALNMassEXC_0.Jei_max': -3.3,\n",
       " 'ALNNode_0.ALNMassEXC_0.C': 200.0,\n",
       " 'ALNNode_0.ALNMassEXC_0.gL': 10.0,\n",
       " 'ALNNode_0.ALNMassEXC_0.ext_exc_current': 0.0,\n",
       " 'ALNNode_0.ALNMassEXC_0.ext_exc_rate': 0.0,\n",
       " 'ALNNode_0.ALNMassEXC_0.a': 15.0,\n",
       " 'ALNNode_0.ALNMassEXC_0.b': 40.0,\n",
       " 'ALNNode_0.ALNMassEXC_0.EA': -80.0,\n",
       " 'ALNNode_0.ALNMassEXC_0.tauA': 200.0,\n",
       " 'ALNNode_0.ALNMassEXC_0.lambda': 10.0,\n",
       " 'ALNNode_0.ALNMassEXC_0.noise_0.type': 'OrnsteinUhlenbeckProcess',\n",
       " 'ALNNode_0.ALNMassEXC_0.noise_0.mu': 0.4,\n",
       " 'ALNNode_0.ALNMassEXC_0.noise_0.sigma': 0.0,\n",
       " 'ALNNode_0.ALNMassEXC_0.noise_0.tau': 5.0,\n",
       " 'ALNNode_0.ALNMassEXC_0.noise_0.num_iid': 1,\n",
       " 'ALNNode_0.ALNMassEXC_0.noise_0.seed': None,\n",
       " 'ALNNode_0.ALNMassINH_1.Ke': 800.0,\n",
       " 'ALNNode_0.ALNMassINH_1.Ki': 200.0,\n",
       " 'ALNNode_0.ALNMassINH_1.c_gl': 0.4,\n",
       " 'ALNNode_0.ALNMassINH_1.Ke_gl': 250.0,\n",
       " 'ALNNode_0.ALNMassINH_1.tau_se': 2.0,\n",
       " 'ALNNode_0.ALNMassINH_1.tau_si': 5.0,\n",
       " 'ALNNode_0.ALNMassINH_1.sigmai_ext': 1.5,\n",
       " 'ALNNode_0.ALNMassINH_1.Jie_max': 2.6,\n",
       " 'ALNNode_0.ALNMassINH_1.Jii_max': -1.64,\n",
       " 'ALNNode_0.ALNMassINH_1.C': 200.0,\n",
       " 'ALNNode_0.ALNMassINH_1.gL': 10.0,\n",
       " 'ALNNode_0.ALNMassINH_1.ext_inh_current': 0.0,\n",
       " 'ALNNode_0.ALNMassINH_1.ext_inh_rate': 0.0,\n",
       " 'ALNNode_0.ALNMassINH_1.lambda': 10.0,\n",
       " 'ALNNode_0.ALNMassINH_1.noise_0.type': 'OrnsteinUhlenbeckProcess',\n",
       " 'ALNNode_0.ALNMassINH_1.noise_0.mu': 0.3,\n",
       " 'ALNNode_0.ALNMassINH_1.noise_0.sigma': 0.0,\n",
       " 'ALNNode_0.ALNMassINH_1.noise_0.tau': 5.0,\n",
       " 'ALNNode_0.ALNMassINH_1.noise_0.num_iid': 1,\n",
       " 'ALNNode_0.ALNMassINH_1.noise_0.seed': None,\n",
       " 'ALNNode_0.local_connectivity': array([[0.24691358, 0.75757576],\n",
       "        [0.23076923, 1.52439024]]),\n",
       " 'ALNNode_0.local_delays': array([[4., 2.],\n",
       "        [4., 2.]]),\n",
       " 'duration': 2000,\n",
       " 'dt': 0.1,\n",
       " 'seed': None,\n",
       " 'backend': 'jitcdde',\n",
       " 'name': 'ALNNode',\n",
       " 'description': 'ALN neural mass node',\n",
       " 'N': 1,\n",
       " 'Cmat': array([[0.]]),\n",
       " 'sampling_dt': 0.1}"
      ]
     },
     "metadata": {},
     "output_type": "display_data"
    }
   ],
   "source": [
    "# first init multimodel\n",
    "aln_mm = MultiModel.init_node(ALNNode())\n",
    "display(aln_mm.params)"
   ]
  },
  {
   "cell_type": "markdown",
   "id": "white-feature",
   "metadata": {},
   "source": [
    "### Note on parameters when exploring or optimising\n",
    "If you remember, the `MultiModel` has an option for true heterogeneous parameters, i.e. each brain node can have different parameters. This allows you to explore paramaters one-by-one (truly different parameters for each node), or in bulk. As an example, consider this:\n",
    "```python\n",
    "parameters1 = ParameterSpace({\"*Ke\": [400, 800, 1200]}, allow_star_notation=True)\n",
    "\n",
    "parameters2 = ParameterSpace(\n",
    "    {\"*EXC*Ke\": [400, 800, 1200], \"*INH*Ke\": [400, 800, 1200]},\n",
    "    allow_star_notation=True\n",
    ")\n",
    "\n",
    "parameters2 = ParameterSpace(\n",
    "    {\"*Node_0*EXC*Ke\": [400, 800, 1200], \"*Node_1*EXC*Ke\": [400, 800, 1200]},\n",
    "    allow_star_notation=True\n",
    ")\n",
    "```\n",
    "In the first example (`parameters1`), we explore `Ke` parameter and set this for all nodes and for all masses the same. In the end, we run three simulations with homogeneous `Ke` for all nodes/masses.\n",
    "\n",
    "In the second example, we explore `Ke` individually for excitatory masses and inhibitory masses, however, for all nodes these would be the same. In total, we will run 9 simulations with heterogeneous `Ke` within one node, but the same values for `Ke_exc` and `Ke_inh` would be used in all nodes.\n",
    "\n",
    "Finally, in the last example, we would explore only excitatory `Ke` parameters, but for two nodes differently, hence we can study how excitatory `Ke` affects 2-node network.\n",
    "\n",
    "Of course, we can always call parameters by their full name (glob path), like:\n",
    "```python\n",
    "parameters3 = ParameterSpace(\n",
    "    {\"ALNNode_0.ALNMassINH_1.Ke\": [400, 800, 1200]},\n",
    "    allow_star_notation=True # due to \".\" in the param names\n",
    ")\n",
    "```\n",
    "and we will simply explore over one particular `Ke` of inhibitory mass in first node within a network. All other `Ke` parameters will remain constant."
   ]
  },
  {
   "cell_type": "code",
   "execution_count": 8,
   "id": "premium-departure",
   "metadata": {},
   "outputs": [
    {
     "name": "stderr",
     "output_type": "stream",
     "text": [
      "MainProcess pypet.storageservice.HDF5StorageService INFO     I will use the hdf5 file `./data/hdf/example-4.2-exploration.hdf`.\n",
      "MainProcess pypet.environment.Environment INFO     Environment initialized.\n",
      "/Users/nikola/.virtualenvs/neurolib/lib/python3.7/site-packages/pypet/naturalnaming.py:1473: SyntaxWarning: `lambda` is a python keyword, you may not be able to access it via natural naming but only by using `[]` square bracket notation. \n",
      "  category=SyntaxWarning)\n",
      "MainProcess root INFO     Number of parameter configurations: 441\n",
      "MainProcess root INFO     BoxSearch: Environment initialized.\n"
     ]
    }
   ],
   "source": [
    "# match params to core ALN model\n",
    "aln_mm.params[\"backend\"] = \"numba\"\n",
    "aln_mm.params[\"dt\"] = 0.1  # ms\n",
    "aln_mm.params[\"*c_gl\"] = 0.3\n",
    "aln_mm.params[\"*b\"] = 0.0\n",
    "aln_mm.params[\"ALNNode_0.ALNMassEXC_0.a\"] = 0.0\n",
    "\n",
    "# set up exploration - using star\n",
    "\n",
    "# parameters = ParameterSpace(\n",
    "#     {\n",
    "#         \"*EXC*input*mu\": np.linspace(0, 3, 21),\n",
    "#         \"*INH*input*mu\": np.linspace(0, 3, 21),\n",
    "#     },\n",
    "#     allow_star_notation=True,\n",
    "# )\n",
    "\n",
    "# set up exploration - using exact parameter names\n",
    "# in this case (one node, search over noise mu) -> these two are equivalent!\n",
    "parameters = ParameterSpace(\n",
    "    {\n",
    "        # 2 values per dimension is for quick testing only, for real exploration use e.g. 21 or rather much more\n",
    "        \"ALNNode_0.ALNMassEXC_0.input_0.mu\": np.linspace(0, 3, 2),\n",
    "        \"ALNNode_0.ALNMassINH_1.input_0.mu\": np.linspace(0, 3, 2),\n",
    "        # \"ALNNode_0.ALNMassEXC_0.input_0.mu\": np.linspace(0, 3, 21),\n",
    "        # \"ALNNode_0.ALNMassINH_1.input_0.mu\": np.linspace(0, 3, 21),\n",
    "    },\n",
    "    allow_star_notation=True,\n",
    ")\n",
    "search = BoxSearch(aln_mm, parameters, filename=\"example-4.2-exploration.hdf\")"
   ]
  },
  {
   "cell_type": "code",
   "execution_count": 9,
   "id": "proof-spirituality",
   "metadata": {},
   "outputs": [
    {
     "name": "stderr",
     "output_type": "stream",
     "text": [
      "MainProcess pypet.environment.Environment INFO     I am preparing the Trajectory for the experiment and initialise the store.\n",
      "MainProcess pypet.environment.Environment INFO     Initialising the storage for the trajectory.\n",
      "MainProcess pypet.storageservice.HDF5StorageService INFO     Initialising storage or updating meta data of Trajectory `results-2021-07-07-16H-40M-57S`.\n",
      "MainProcess pypet.storageservice.HDF5StorageService INFO     Finished init or meta data update for `results-2021-07-07-16H-40M-57S`.\n",
      "MainProcess pypet.environment.Environment INFO     \n",
      "************************************************************\n",
      "STARTING runs of trajectory\n",
      "`results-2021-07-07-16H-40M-57S`.\n",
      "************************************************************\n",
      "\n",
      "MainProcess pypet.storageservice.HDF5StorageService INFO     Initialising storage or updating meta data of Trajectory `results-2021-07-07-16H-40M-57S`.\n",
      "MainProcess pypet.storageservice.HDF5StorageService INFO     Finished init or meta data update for `results-2021-07-07-16H-40M-57S`.\n",
      "MainProcess pypet.environment.Environment INFO     Starting multiprocessing with at most 8 processes running at the same time.\n",
      "MainProcess pypet INFO     PROGRESS: Finished   0/441 runs [                    ]  0.0%\n",
      "MainProcess pypet INFO     PROGRESS: Finished  23/441 runs [=                   ]  5.2%, remaining: 0:05:32\n",
      "MainProcess pypet INFO     PROGRESS: Finished  45/441 runs [==                  ] 10.2%, remaining: 0:04:55\n",
      "MainProcess pypet INFO     PROGRESS: Finished  67/441 runs [===                 ] 15.2%, remaining: 0:04:32\n",
      "MainProcess pypet INFO     PROGRESS: Finished  89/441 runs [====                ] 20.2%, remaining: 0:04:11\n",
      "MainProcess pypet INFO     PROGRESS: Finished 111/441 runs [=====               ] 25.2%, remaining: 0:03:45\n",
      "MainProcess pypet INFO     PROGRESS: Finished 133/441 runs [======              ] 30.2%, remaining: 0:03:29\n",
      "MainProcess pypet INFO     PROGRESS: Finished 155/441 runs [=======             ] 35.1%, remaining: 0:03:14\n",
      "MainProcess pypet INFO     PROGRESS: Finished 177/441 runs [========            ] 40.1%, remaining: 0:02:59\n",
      "MainProcess pypet INFO     PROGRESS: Finished 199/441 runs [=========           ] 45.1%, remaining: 0:02:41\n",
      "MainProcess pypet INFO     PROGRESS: Finished 221/441 runs [==========          ] 50.1%, remaining: 0:02:28\n",
      "MainProcess pypet INFO     PROGRESS: Finished 243/441 runs [===========         ] 55.1%, remaining: 0:02:14\n",
      "MainProcess pypet INFO     PROGRESS: Finished 265/441 runs [============        ] 60.1%, remaining: 0:02:01\n",
      "MainProcess pypet INFO     PROGRESS: Finished 287/441 runs [=============       ] 65.1%, remaining: 0:01:44\n",
      "MainProcess pypet INFO     PROGRESS: Finished 309/441 runs [==============      ] 70.1%, remaining: 0:01:29\n",
      "MainProcess pypet INFO     PROGRESS: Finished 331/441 runs [===============     ] 75.1%, remaining: 0:01:14\n",
      "MainProcess pypet INFO     PROGRESS: Finished 353/441 runs [================    ] 80.0%, remaining: 0:00:59\n",
      "MainProcess pypet INFO     PROGRESS: Finished 375/441 runs [=================   ] 85.0%, remaining: 0:00:43\n",
      "MainProcess pypet INFO     PROGRESS: Finished 397/441 runs [==================  ] 90.0%, remaining: 0:00:29\n",
      "MainProcess pypet INFO     PROGRESS: Finished 419/441 runs [=================== ] 95.0%, remaining: 0:00:14\n",
      "MainProcess pypet INFO     PROGRESS: Finished 441/441 runs [====================]100.0%\n",
      "MainProcess pypet.storageservice.HDF5StorageService INFO     Initialising storage or updating meta data of Trajectory `results-2021-07-07-16H-40M-57S`.\n",
      "MainProcess pypet.storageservice.HDF5StorageService INFO     Finished init or meta data update for `results-2021-07-07-16H-40M-57S`.\n",
      "MainProcess pypet.environment.Environment INFO     \n",
      "************************************************************\n",
      "FINISHED all runs of trajectory\n",
      "`results-2021-07-07-16H-40M-57S`.\n",
      "************************************************************\n",
      "\n",
      "MainProcess pypet.environment.Environment INFO     \n",
      "************************************************************\n",
      "STARTING FINAL STORING of trajectory\n",
      "`results-2021-07-07-16H-40M-57S`\n",
      "************************************************************\n",
      "\n",
      "MainProcess pypet.storageservice.HDF5StorageService INFO     Start storing Trajectory `results-2021-07-07-16H-40M-57S`.\n",
      "MainProcess pypet.storageservice.HDF5StorageService INFO     Storing branch `config`.\n",
      "MainProcess pypet.storageservice.HDF5StorageService INFO     Storing branch `parameters`.\n",
      "MainProcess pypet.storageservice.HDF5StorageService INFO     Finished storing Trajectory `results-2021-07-07-16H-40M-57S`.\n",
      "MainProcess pypet.environment.Environment INFO     \n",
      "************************************************************\n",
      "FINISHED FINAL STORING of trajectory\n",
      "`results-2021-07-07-16H-40M-57S`.\n",
      "************************************************************\n",
      "\n",
      "MainProcess pypet.environment.Environment INFO     All runs of trajectory `results-2021-07-07-16H-40M-57S` were completed successfully.\n"
     ]
    }
   ],
   "source": [
    "search.run()"
   ]
  },
  {
   "cell_type": "code",
   "execution_count": 10,
   "id": "studied-showcase",
   "metadata": {},
   "outputs": [
    {
     "name": "stderr",
     "output_type": "stream",
     "text": [
      "MainProcess root INFO     Loading results from ./data/hdf/example-4.2-exploration.hdf\n",
      "MainProcess root INFO     Analyzing trajectory results-2021-07-07-16H-40M-57S\n",
      "MainProcess pypet.storageservice.HDF5StorageService INFO     I will use the hdf5 file `./data/hdf/example-4.2-exploration.hdf`.\n",
      "MainProcess pypet.storageservice.HDF5StorageService INFO     Loading trajectory `results-2021-07-07-16H-40M-57S`.\n",
      "MainProcess pypet.storageservice.HDF5StorageService INFO     Loading branch `config` in mode `2`.\n",
      "MainProcess pypet.storageservice.HDF5StorageService INFO     Loading branch `parameters` in mode `2`.\n",
      "MainProcess pypet.storageservice.HDF5StorageService INFO     Loading branch `results` in mode `1`.\n",
      "MainProcess root INFO     Creating `dfResults` dataframe ...\n",
      "MainProcess root INFO     Loading all results to `results` dictionary ...\n",
      "100%|██████████| 441/441 [00:02<00:00, 219.34it/s]\n",
      "MainProcess root INFO     Aggregating results to `dfResults` ...\n",
      "100%|██████████| 441/441 [00:00<00:00, 3745.83it/s]\n",
      "MainProcess root INFO     All results loaded.\n"
     ]
    }
   ],
   "source": [
    "search.loadResults()"
   ]
  },
  {
   "cell_type": "code",
   "execution_count": 11,
   "id": "ambient-death",
   "metadata": {},
   "outputs": [
    {
     "name": "stdout",
     "output_type": "stream",
     "text": [
      "Number of results: 441\n"
     ]
    }
   ],
   "source": [
    "print(f\"Number of results: {len(search.results)}\")"
   ]
  },
  {
   "cell_type": "code",
   "execution_count": 12,
   "id": "administrative-scott",
   "metadata": {},
   "outputs": [],
   "source": [
    "# Example analysis of the results\n",
    "# The .results attribute is a list and can be indexed by the run\n",
    "# number (which is also the index of the pandas dataframe .dfResults).\n",
    "# Here we compute the maximum firing rate of the node in the last second\n",
    "# and add the result (a float) to the pandas dataframe.\n",
    "for i in search.dfResults.index:\n",
    "    search.dfResults.loc[i, \"max_r\"] = np.max(\n",
    "        search.results[i][\"r_mean_EXC\"][:, -int(1000 / aln_mm.params[\"dt\"]) :]\n",
    "    )"
   ]
  },
  {
   "cell_type": "code",
   "execution_count": 13,
   "id": "interim-judges",
   "metadata": {},
   "outputs": [
    {
     "data": {
      "text/plain": [
       "Text(0, 0.5, 'Input to I')"
      ]
     },
     "execution_count": 13,
     "metadata": {},
     "output_type": "execute_result"
    },
    {
     "data": {
      "image/png": "[encoded data removed]",
      "text/plain": [
       "<Figure size 432x288 with 2 Axes>"
      ]
     },
     "metadata": {
      "needs_background": "light"
     },
     "output_type": "display_data"
    }
   ],
   "source": [
    "plt.imshow(\n",
    "    search.dfResults.pivot_table(\n",
    "        values=\"max_r\",\n",
    "        index=\"ALNNode_0.ALNMassINH_1.input_0.mu\",\n",
    "        columns=\"ALNNode_0.ALNMassEXC_0.input_0.mu\",\n",
    "    ),\n",
    "    extent=[\n",
    "        min(search.dfResults[\"ALNNode_0.ALNMassEXC_0.input_0.mu\"]),\n",
    "        max(search.dfResults[\"ALNNode_0.ALNMassEXC_0.input_0.mu\"]),\n",
    "        min(search.dfResults[\"ALNNode_0.ALNMassINH_1.input_0.mu\"]),\n",
    "        max(search.dfResults[\"ALNNode_0.ALNMassINH_1.input_0.mu\"]),\n",
    "    ],\n",
    "    origin=\"lower\",\n",
    ")\n",
    "plt.colorbar(label=\"Maximum rate [kHz]\")\n",
    "plt.xlabel(\"Input to E\")\n",
    "plt.ylabel(\"Input to I\")"
   ]
  },
  {
   "cell_type": "markdown",
   "id": "facial-color",
   "metadata": {},
   "source": [
    "## Evolution with `MultiModel`\n",
    "\n",
    "If you're familiar with how `Evolution` works in core `neurolib`, and now you know the perks of `MultiModel` with respect to exploration - that's all you need to know when doing optimisation using evolutionary algorithms using `MultiModel`. Parameters are passed via `ParameterSpace` with `allow_star_notation=True`. Below, we will reproduce the `example-2.1-evolutionary-optimization-aln` with the `MultiModel` version of ALN model."
   ]
  },
  {
   "cell_type": "code",
   "execution_count": 14,
   "id": "coordinate-ready",
   "metadata": {},
   "outputs": [
    {
     "name": "stderr",
     "output_type": "stream",
     "text": [
      "MainProcess root INFO     Loading precomputed transfer functions from /Users/nikola/.virtualenvs/neurolib/lib/python3.7/site-packages/neurolib/models/multimodel/builder/../../aln/aln-precalc/quantities_cascade.h5\n",
      "MainProcess root INFO     All transfer functions loaded.\n",
      "MainProcess root INFO     Loading precomputed transfer functions from /Users/nikola/.virtualenvs/neurolib/lib/python3.7/site-packages/neurolib/models/multimodel/builder/../../aln/aln-precalc/quantities_cascade.h5\n",
      "MainProcess root INFO     All transfer functions loaded.\n",
      "MainProcess root INFO     ALNNode: Model initialized.\n"
     ]
    }
   ],
   "source": [
    "# reinit fresh model\n",
    "aln_mm = MultiModel.init_node(ALNNode())\n",
    "# match params to core ALN model\n",
    "aln_mm.params[\"backend\"] = \"numba\"\n",
    "aln_mm.params[\"dt\"] = 0.1  # ms\n",
    "aln_mm.params[\"*c_gl\"] = 0.3\n",
    "aln_mm.params[\"*b\"] = 0.0\n",
    "aln_mm.params[\"ALNNode_0.ALNMassEXC_0.a\"] = 0.0"
   ]
  },
  {
   "cell_type": "code",
   "execution_count": 15,
   "id": "sublime-power",
   "metadata": {},
   "outputs": [],
   "source": [
    "# use the same loss function as example-2.1\n",
    "def evaluateSimulation(traj):\n",
    "    # The trajectory id is provided as an attribute\n",
    "    rid = traj.id\n",
    "    # this function provides the a model with the partuclar\n",
    "    # parameter set for this given run\n",
    "    model = evolution.getModelFromTraj(traj)\n",
    "    # parameters can also be modified after loading\n",
    "    model.params[\"dt\"] = 0.1\n",
    "    model.params[\"duration\"] = 2 * 1000.0\n",
    "    # and the simulation is run\n",
    "    model.run()\n",
    "\n",
    "    # compute power spectrum\n",
    "    frs, powers = func.getPowerSpectrum(\n",
    "        model.r_mean_EXC[:, -int(1000 / model.params[\"dt\"]) :], dt=model.params[\"dt\"]\n",
    "    )\n",
    "    # find the peak frequency\n",
    "    domfr = frs[np.argmax(powers)]\n",
    "    # fitness evaluation: let's try to find a 25 Hz oscillation\n",
    "    fitness = abs(domfr - 25)\n",
    "    # deap needs a fitness *tuple*!\n",
    "    fitness_tuple = ()\n",
    "    # more fitness values could be added\n",
    "    fitness_tuple += (fitness,)\n",
    "    # we need to return the fitness tuple and the outputs of the model\n",
    "    return fitness_tuple, model.outputs"
   ]
  },
  {
   "cell_type": "code",
   "execution_count": 16,
   "id": "yellow-elevation",
   "metadata": {},
   "outputs": [
    {
     "name": "stderr",
     "output_type": "stream",
     "text": [
      "MainProcess root INFO     Trajectory Name: results-2021-07-07-16H-45M-51S\n",
      "MainProcess root INFO     Storing data to: ./data/hdf/example-4.2-evolution.hdf\n",
      "MainProcess root INFO     Trajectory Name: results-2021-07-07-16H-45M-51S\n",
      "MainProcess root INFO     Number of cores: 8\n",
      "MainProcess pypet.storageservice.HDF5StorageService INFO     I will use the hdf5 file `./data/hdf/example-4.2-evolution.hdf`.\n",
      "MainProcess pypet.environment.Environment INFO     Environment initialized.\n",
      "MainProcess root INFO     Evolution: Using algorithm: adaptive\n",
      "MainProcess root INFO     Evolution: Individual generation: <function randomParametersAdaptive at 0x159a6df80>\n",
      "MainProcess root INFO     Evolution: Mating operator: <function cxBlend at 0x159a43560>\n",
      "MainProcess root INFO     Evolution: Mutation operator: <function gaussianAdaptiveMutation_nStepSizes at 0x159a70440>\n",
      "MainProcess root INFO     Evolution: Parent selection: <function selRank at 0x159a70170>\n",
      "MainProcess root INFO     Evolution: Selection operator: <function selBest_multiObj at 0x159a70200>\n"
     ]
    }
   ],
   "source": [
    "pars = ParameterSpace(\n",
    "    [\"*EXC*input*mu\", \"*INH*input*mu\"],\n",
    "    [[0.0, 4.0], [0.0, 4.0]],\n",
    "    allow_star_notation=True,\n",
    ")\n",
    "weightList = [-1.0]\n",
    "\n",
    "evolution = Evolution(\n",
    "    evalFunction=evaluateSimulation,\n",
    "    parameterSpace=pars,\n",
    "    model=aln_mm,  # use our `MultiModel` here\n",
    "    weightList=[-1.0],\n",
    "    # POP_INIT_SIZE=16,  # mutiple of number of cores\n",
    "    # POP_SIZE=16,\n",
    "    # low numbers for testing, for real evolution use higher number of runs\n",
    "    POP_INIT_SIZE=4,  # mutiple of number of cores\n",
    "    POP_SIZE=4,\n",
    "    # low numbers for testing, for real evolution use higher number\n",
    "    NGEN=2,\n",
    "    filename=\"example-4.2-evolution.hdf\",\n",
    ")"
   ]
  },
  {
   "cell_type": "code",
   "execution_count": 17,
   "id": "rapid-reform",
   "metadata": {
    "scrolled": true,
    "tags": []
   },
   "outputs": [
    {
     "name": "stderr",
     "output_type": "stream",
     "text": [
      "MainProcess root INFO     Evaluating initial population of size 16 ...\n",
      "MainProcess pypet.trajectory.Trajectory INFO     Your trajectory has not been explored, yet. I will call `f_explore` instead.\n",
      "MainProcess pypet.environment.Environment INFO     I am preparing the Trajectory for the experiment and initialise the store.\n",
      "MainProcess pypet.environment.Environment INFO     Initialising the storage for the trajectory.\n",
      "MainProcess pypet.storageservice.HDF5StorageService INFO     Initialising storage or updating meta data of Trajectory `results-2021-07-07-16H-45M-51S`.\n",
      "MainProcess pypet.storageservice.HDF5StorageService INFO     Finished init or meta data update for `results-2021-07-07-16H-45M-51S`.\n",
      "MainProcess pypet.environment.Environment INFO     \n",
      "************************************************************\n",
      "STARTING runs of trajectory\n",
      "`results-2021-07-07-16H-45M-51S`.\n",
      "************************************************************\n",
      "\n",
      "MainProcess pypet.storageservice.HDF5StorageService INFO     Initialising storage or updating meta data of Trajectory `results-2021-07-07-16H-45M-51S`.\n",
      "MainProcess pypet.storageservice.HDF5StorageService INFO     Finished init or meta data update for `results-2021-07-07-16H-45M-51S`.\n",
      "MainProcess pypet.environment.Environment INFO     Starting multiprocessing with at most 8 processes running at the same time.\n",
      "MainProcess pypet INFO     PROGRESS: Finished  0/16 runs [                    ]  0.0%\n",
      "MainProcess pypet INFO     PROGRESS: Finished  1/16 runs [=                   ]  6.2%, remaining: 0:01:22\n",
      "MainProcess pypet INFO     PROGRESS: Finished  2/16 runs [==                  ] 12.5%, remaining: 0:00:39\n",
      "MainProcess pypet INFO     PROGRESS: Finished  3/16 runs [===                 ] 18.8%, remaining: 0:00:24\n",
      "MainProcess pypet INFO     PROGRESS: Finished  4/16 runs [=====               ] 25.0%, remaining: 0:00:17\n",
      "MainProcess pypet INFO     PROGRESS: Finished  5/16 runs [======              ] 31.2%, remaining: 0:00:12\n",
      "MainProcess pypet INFO     PROGRESS: Finished  6/16 runs [=======             ] 37.5%, remaining: 0:00:09\n",
      "MainProcess pypet INFO     PROGRESS: Finished  7/16 runs [========            ] 43.8%, remaining: 0:00:07\n",
      "MainProcess pypet INFO     PROGRESS: Finished  8/16 runs [==========          ] 50.0%, remaining: 0:00:05\n",
      "MainProcess pypet INFO     PROGRESS: Finished  9/16 runs [===========         ] 56.2%, remaining: 0:00:08\n",
      "MainProcess pypet INFO     PROGRESS: Finished 10/16 runs [============        ] 62.5%, remaining: 0:00:06\n",
      "MainProcess pypet INFO     PROGRESS: Finished 11/16 runs [=============       ] 68.8%, remaining: 0:00:04\n",
      "MainProcess pypet INFO     PROGRESS: Finished 12/16 runs [===============     ] 75.0%, remaining: 0:00:03\n",
      "MainProcess pypet INFO     PROGRESS: Finished 13/16 runs [================    ] 81.2%, remaining: 0:00:02\n",
      "MainProcess pypet INFO     PROGRESS: Finished 14/16 runs [=================   ] 87.5%, remaining: 0:00:01\n",
      "MainProcess pypet INFO     PROGRESS: Finished 15/16 runs [==================  ] 93.8%, remaining: 0:00:00\n",
      "MainProcess pypet INFO     PROGRESS: Finished 16/16 runs [====================]100.0%\n",
      "MainProcess pypet.storageservice.HDF5StorageService INFO     Initialising storage or updating meta data of Trajectory `results-2021-07-07-16H-45M-51S`.\n",
      "MainProcess pypet.storageservice.HDF5StorageService INFO     Finished init or meta data update for `results-2021-07-07-16H-45M-51S`.\n",
      "MainProcess pypet.environment.Environment INFO     \n",
      "************************************************************\n",
      "FINISHED all runs of trajectory\n",
      "`results-2021-07-07-16H-45M-51S`.\n",
      "************************************************************\n",
      "\n",
      "MainProcess pypet.environment.Environment INFO     \n",
      "************************************************************\n",
      "STARTING FINAL STORING of trajectory\n",
      "`results-2021-07-07-16H-45M-51S`\n",
      "************************************************************\n",
      "\n",
      "MainProcess pypet.storageservice.HDF5StorageService INFO     Start storing Trajectory `results-2021-07-07-16H-45M-51S`.\n",
      "MainProcess pypet.storageservice.HDF5StorageService INFO     Storing branch `config`.\n",
      "MainProcess pypet.storageservice.HDF5StorageService INFO     Storing branch `parameters`.\n",
      "MainProcess pypet.storageservice.HDF5StorageService INFO     Storing branch `results`.\n",
      "MainProcess pypet.storageservice.HDF5StorageService INFO     Storing branch `derived_parameters`.\n",
      "MainProcess pypet.storageservice.HDF5StorageService INFO     Finished storing Trajectory `results-2021-07-07-16H-45M-51S`.\n",
      "MainProcess pypet.environment.Environment INFO     \n",
      "************************************************************\n",
      "FINISHED FINAL STORING of trajectory\n",
      "`results-2021-07-07-16H-45M-51S`.\n",
      "************************************************************\n",
      "\n",
      "MainProcess pypet.environment.Environment INFO     All runs of trajectory `results-2021-07-07-16H-45M-51S` were completed successfully.\n",
      "MainProcess pypet.storageservice.HDF5StorageService INFO     Start storing Trajectory `results-2021-07-07-16H-45M-51S`.\n",
      "MainProcess pypet.storageservice.HDF5StorageService INFO     Storing branch `config`.\n",
      "MainProcess pypet.storageservice.HDF5StorageService INFO     Storing branch `parameters`.\n",
      "MainProcess pypet.storageservice.HDF5StorageService INFO     Storing branch `results`.\n",
      "MainProcess pypet.storageservice.HDF5StorageService INFO     Storing branch `derived_parameters`.\n",
      "MainProcess pypet.storageservice.HDF5StorageService INFO     Finished storing Trajectory `results-2021-07-07-16H-45M-51S`.\n",
      "MainProcess root INFO     Start of evolution\n",
      "MainProcess root INFO     Replacing 0 invalid individuals.\n",
      "MainProcess pypet.environment.Environment INFO     I am preparing the Trajectory for the experiment and initialise the store.\n",
      "MainProcess pypet.environment.Environment INFO     Initialising the storage for the trajectory.\n",
      "MainProcess pypet.storageservice.HDF5StorageService INFO     Initialising storage or updating meta data of Trajectory `results-2021-07-07-16H-45M-51S`.\n",
      "MainProcess pypet.storageservice.HDF5StorageService INFO     Finished init or meta data update for `results-2021-07-07-16H-45M-51S`.\n",
      "MainProcess pypet.environment.Environment INFO     \n",
      "************************************************************\n",
      "STARTING runs of trajectory\n",
      "`results-2021-07-07-16H-45M-51S`.\n",
      "************************************************************\n",
      "\n",
      "MainProcess pypet.storageservice.HDF5StorageService INFO     Initialising storage or updating meta data of Trajectory `results-2021-07-07-16H-45M-51S`.\n",
      "MainProcess pypet.storageservice.HDF5StorageService INFO     Finished init or meta data update for `results-2021-07-07-16H-45M-51S`.\n",
      "MainProcess pypet.environment.Environment INFO     Starting multiprocessing with at most 8 processes running at the same time.\n",
      "MainProcess pypet INFO     PROGRESS: Finished 16/32 runs [==========          ] 50.0%\n",
      "MainProcess pypet INFO     PROGRESS: Finished 18/32 runs [===========         ] 56.2%, remaining: 0:00:33\n",
      "MainProcess pypet INFO     PROGRESS: Finished 20/32 runs [============        ] 62.5%, remaining: 0:00:15\n",
      "MainProcess pypet INFO     PROGRESS: Finished 21/32 runs [=============       ] 65.6%, remaining: 0:00:11\n",
      "MainProcess pypet INFO     PROGRESS: Finished 23/32 runs [==============      ] 71.9%, remaining: 0:00:06\n",
      "MainProcess pypet INFO     PROGRESS: Finished 24/32 runs [===============     ] 75.0%, remaining: 0:00:05\n",
      "MainProcess pypet INFO     PROGRESS: Finished 26/32 runs [================    ] 81.2%, remaining: 0:00:05\n",
      "MainProcess pypet INFO     PROGRESS: Finished 28/32 runs [=================   ] 87.5%, remaining: 0:00:03\n",
      "MainProcess pypet INFO     PROGRESS: Finished 29/32 runs [==================  ] 90.6%, remaining: 0:00:02\n",
      "MainProcess pypet INFO     PROGRESS: Finished 31/32 runs [=================== ] 96.9%, remaining: 0:00:00\n",
      "MainProcess pypet INFO     PROGRESS: Finished 32/32 runs [====================]100.0%\n",
      "MainProcess pypet.storageservice.HDF5StorageService INFO     Initialising storage or updating meta data of Trajectory `results-2021-07-07-16H-45M-51S`.\n",
      "MainProcess pypet.storageservice.HDF5StorageService INFO     Finished init or meta data update for `results-2021-07-07-16H-45M-51S`.\n",
      "MainProcess pypet.environment.Environment INFO     \n",
      "************************************************************\n",
      "FINISHED all runs of trajectory\n",
      "`results-2021-07-07-16H-45M-51S`.\n",
      "************************************************************\n",
      "\n",
      "MainProcess pypet.environment.Environment INFO     \n",
      "************************************************************\n",
      "STARTING FINAL STORING of trajectory\n",
      "`results-2021-07-07-16H-45M-51S`\n",
      "************************************************************\n",
      "\n",
      "MainProcess pypet.storageservice.HDF5StorageService INFO     Start storing Trajectory `results-2021-07-07-16H-45M-51S`.\n",
      "MainProcess pypet.storageservice.HDF5StorageService INFO     Storing branch `config`.\n",
      "MainProcess pypet.storageservice.HDF5StorageService INFO     Storing branch `parameters`.\n",
      "MainProcess pypet.storageservice.HDF5StorageService INFO     Storing branch `results`.\n",
      "MainProcess pypet.storageservice.HDF5StorageService INFO     Storing branch `derived_parameters`.\n",
      "MainProcess pypet.storageservice.HDF5StorageService INFO     Finished storing Trajectory `results-2021-07-07-16H-45M-51S`.\n",
      "MainProcess pypet.environment.Environment INFO     \n",
      "************************************************************\n",
      "FINISHED FINAL STORING of trajectory\n",
      "`results-2021-07-07-16H-45M-51S`.\n",
      "************************************************************\n",
      "\n",
      "MainProcess pypet.environment.Environment INFO     All runs of trajectory `results-2021-07-07-16H-45M-51S` were completed successfully.\n",
      "MainProcess pypet.storageservice.HDF5StorageService INFO     Start storing Trajectory `results-2021-07-07-16H-45M-51S`.\n",
      "MainProcess pypet.storageservice.HDF5StorageService INFO     Storing branch `config`.\n",
      "MainProcess pypet.storageservice.HDF5StorageService INFO     Storing branch `parameters`.\n",
      "MainProcess pypet.storageservice.HDF5StorageService INFO     Storing branch `results`.\n",
      "MainProcess pypet.storageservice.HDF5StorageService INFO     Storing branch `derived_parameters`.\n",
      "MainProcess pypet.storageservice.HDF5StorageService INFO     Finished storing Trajectory `results-2021-07-07-16H-45M-51S`.\n",
      "MainProcess root INFO     ----------- Generation 1 -----------\n",
      "MainProcess root INFO     Best individual is [1.2026081698319384, 0.7330736886493492, 1.3333333333333333, 1.3333333333333333]\n",
      "MainProcess root INFO     Score: -5.0\n",
      "MainProcess root INFO     Fitness: (5.0,)\n",
      "MainProcess root INFO     --- Population statistics ---\n",
      "MainProcess root INFO     Replacing 0 invalid individuals.\n",
      "MainProcess pypet.environment.Environment INFO     I am preparing the Trajectory for the experiment and initialise the store.\n",
      "MainProcess pypet.environment.Environment INFO     Initialising the storage for the trajectory.\n",
      "MainProcess pypet.storageservice.HDF5StorageService INFO     Initialising storage or updating meta data of Trajectory `results-2021-07-07-16H-45M-51S`.\n",
      "MainProcess pypet.storageservice.HDF5StorageService INFO     Finished init or meta data update for `results-2021-07-07-16H-45M-51S`.\n",
      "MainProcess pypet.environment.Environment INFO     \n",
      "************************************************************\n",
      "STARTING runs of trajectory\n",
      "`results-2021-07-07-16H-45M-51S`.\n",
      "************************************************************\n",
      "\n",
      "MainProcess pypet.storageservice.HDF5StorageService INFO     Initialising storage or updating meta data of Trajectory `results-2021-07-07-16H-45M-51S`.\n",
      "MainProcess pypet.storageservice.HDF5StorageService INFO     Finished init or meta data update for `results-2021-07-07-16H-45M-51S`.\n",
      "MainProcess pypet.environment.Environment INFO     Starting multiprocessing with at most 8 processes running at the same time.\n",
      "MainProcess pypet INFO     PROGRESS: Finished 32/48 runs [=============       ] 66.7%\n",
      "MainProcess pypet INFO     PROGRESS: Finished 34/48 runs [==============      ] 70.8%, remaining: 0:00:33\n",
      "MainProcess pypet INFO     PROGRESS: Finished 36/48 runs [===============     ] 75.0%, remaining: 0:00:14\n",
      "MainProcess pypet INFO     PROGRESS: Finished 39/48 runs [================    ] 81.2%, remaining: 0:00:06\n",
      "MainProcess pypet INFO     PROGRESS: Finished 41/48 runs [=================   ] 85.4%, remaining: 0:00:07\n",
      "MainProcess pypet INFO     PROGRESS: Finished 44/48 runs [==================  ] 91.7%, remaining: 0:00:03\n",
      "MainProcess pypet INFO     PROGRESS: Finished 46/48 runs [=================== ] 95.8%, remaining: 0:00:01\n",
      "MainProcess pypet INFO     PROGRESS: Finished 48/48 runs [====================]100.0%\n",
      "MainProcess pypet.storageservice.HDF5StorageService INFO     Initialising storage or updating meta data of Trajectory `results-2021-07-07-16H-45M-51S`.\n",
      "MainProcess pypet.storageservice.HDF5StorageService INFO     Finished init or meta data update for `results-2021-07-07-16H-45M-51S`.\n",
      "MainProcess pypet.environment.Environment INFO     \n",
      "************************************************************\n",
      "FINISHED all runs of trajectory\n",
      "`results-2021-07-07-16H-45M-51S`.\n",
      "************************************************************\n",
      "\n",
      "MainProcess pypet.environment.Environment INFO     \n",
      "************************************************************\n",
      "STARTING FINAL STORING of trajectory\n",
      "`results-2021-07-07-16H-45M-51S`\n",
      "************************************************************\n",
      "\n",
      "MainProcess pypet.storageservice.HDF5StorageService INFO     Start storing Trajectory `results-2021-07-07-16H-45M-51S`.\n",
      "MainProcess pypet.storageservice.HDF5StorageService INFO     Storing branch `config`.\n",
      "MainProcess pypet.storageservice.HDF5StorageService INFO     Storing branch `parameters`.\n",
      "MainProcess pypet.storageservice.HDF5StorageService INFO     Storing branch `results`.\n",
      "MainProcess pypet.storageservice.HDF5StorageService INFO     Storing branch `derived_parameters`.\n",
      "MainProcess pypet.storageservice.HDF5StorageService INFO     Finished storing Trajectory `results-2021-07-07-16H-45M-51S`.\n",
      "MainProcess pypet.environment.Environment INFO     \n",
      "************************************************************\n",
      "FINISHED FINAL STORING of trajectory\n",
      "`results-2021-07-07-16H-45M-51S`.\n",
      "************************************************************\n",
      "\n",
      "MainProcess pypet.environment.Environment INFO     All runs of trajectory `results-2021-07-07-16H-45M-51S` were completed successfully.\n",
      "MainProcess pypet.storageservice.HDF5StorageService INFO     Start storing Trajectory `results-2021-07-07-16H-45M-51S`.\n",
      "MainProcess pypet.storageservice.HDF5StorageService INFO     Storing branch `config`.\n",
      "MainProcess pypet.storageservice.HDF5StorageService INFO     Storing branch `parameters`.\n",
      "MainProcess pypet.storageservice.HDF5StorageService INFO     Storing branch `results`.\n",
      "MainProcess pypet.storageservice.HDF5StorageService INFO     Storing branch `derived_parameters`.\n",
      "MainProcess pypet.storageservice.HDF5StorageService INFO     Finished storing Trajectory `results-2021-07-07-16H-45M-51S`.\n",
      "MainProcess root INFO     ----------- Generation 2 -----------\n",
      "MainProcess root INFO     Best individual is [1.2026081698319384, 0.7330736886493492, 1.3333333333333333, 1.3333333333333333]\n",
      "MainProcess root INFO     Score: -5.0\n",
      "MainProcess root INFO     Fitness: (5.0,)\n",
      "MainProcess root INFO     --- Population statistics ---\n",
      "MainProcess root INFO     Replacing 0 invalid individuals.\n",
      "MainProcess pypet.environment.Environment INFO     I am preparing the Trajectory for the experiment and initialise the store.\n",
      "MainProcess pypet.environment.Environment INFO     Initialising the storage for the trajectory.\n",
      "MainProcess pypet.storageservice.HDF5StorageService INFO     Initialising storage or updating meta data of Trajectory `results-2021-07-07-16H-45M-51S`.\n",
      "MainProcess pypet.storageservice.HDF5StorageService INFO     Finished init or meta data update for `results-2021-07-07-16H-45M-51S`.\n",
      "MainProcess pypet.environment.Environment INFO     \n",
      "************************************************************\n",
      "STARTING runs of trajectory\n",
      "`results-2021-07-07-16H-45M-51S`.\n",
      "************************************************************\n",
      "\n",
      "MainProcess pypet.storageservice.HDF5StorageService INFO     Initialising storage or updating meta data of Trajectory `results-2021-07-07-16H-45M-51S`.\n",
      "MainProcess pypet.storageservice.HDF5StorageService INFO     Finished init or meta data update for `results-2021-07-07-16H-45M-51S`.\n",
      "MainProcess pypet.environment.Environment INFO     Starting multiprocessing with at most 8 processes running at the same time.\n",
      "MainProcess pypet INFO     PROGRESS: Finished 48/64 runs [===============     ] 75.0%\n",
      "MainProcess pypet INFO     PROGRESS: Finished 52/64 runs [================    ] 81.2%, remaining: 0:00:14\n",
      "MainProcess pypet INFO     PROGRESS: Finished 55/64 runs [=================   ] 85.9%, remaining: 0:00:06\n",
      "MainProcess pypet INFO     PROGRESS: Finished 58/64 runs [==================  ] 90.6%, remaining: 0:00:05\n",
      "MainProcess pypet INFO     PROGRESS: Finished 61/64 runs [=================== ] 95.3%, remaining: 0:00:02\n",
      "MainProcess pypet INFO     PROGRESS: Finished 64/64 runs [====================]100.0%\n",
      "MainProcess pypet.storageservice.HDF5StorageService INFO     Initialising storage or updating meta data of Trajectory `results-2021-07-07-16H-45M-51S`.\n",
      "MainProcess pypet.storageservice.HDF5StorageService INFO     Finished init or meta data update for `results-2021-07-07-16H-45M-51S`.\n",
      "MainProcess pypet.environment.Environment INFO     \n",
      "************************************************************\n",
      "FINISHED all runs of trajectory\n",
      "`results-2021-07-07-16H-45M-51S`.\n",
      "************************************************************\n",
      "\n",
      "MainProcess pypet.environment.Environment INFO     \n",
      "************************************************************\n",
      "STARTING FINAL STORING of trajectory\n",
      "`results-2021-07-07-16H-45M-51S`\n",
      "************************************************************\n",
      "\n",
      "MainProcess pypet.storageservice.HDF5StorageService INFO     Start storing Trajectory `results-2021-07-07-16H-45M-51S`.\n",
      "MainProcess pypet.storageservice.HDF5StorageService INFO     Storing branch `config`.\n",
      "MainProcess pypet.storageservice.HDF5StorageService INFO     Storing branch `parameters`.\n",
      "MainProcess pypet.storageservice.HDF5StorageService INFO     Storing branch `results`.\n",
      "MainProcess pypet.storageservice.HDF5StorageService INFO     Storing branch `derived_parameters`.\n",
      "MainProcess pypet.storageservice.HDF5StorageService INFO     Finished storing Trajectory `results-2021-07-07-16H-45M-51S`.\n",
      "MainProcess pypet.environment.Environment INFO     \n",
      "************************************************************\n",
      "FINISHED FINAL STORING of trajectory\n",
      "`results-2021-07-07-16H-45M-51S`.\n",
      "************************************************************\n",
      "\n",
      "MainProcess pypet.environment.Environment INFO     All runs of trajectory `results-2021-07-07-16H-45M-51S` were completed successfully.\n",
      "MainProcess pypet.storageservice.HDF5StorageService INFO     Start storing Trajectory `results-2021-07-07-16H-45M-51S`.\n",
      "MainProcess pypet.storageservice.HDF5StorageService INFO     Storing branch `config`.\n",
      "MainProcess pypet.storageservice.HDF5StorageService INFO     Storing branch `parameters`.\n",
      "MainProcess pypet.storageservice.HDF5StorageService INFO     Storing branch `results`.\n",
      "MainProcess pypet.storageservice.HDF5StorageService INFO     Storing branch `derived_parameters`.\n",
      "MainProcess pypet.storageservice.HDF5StorageService INFO     Finished storing Trajectory `results-2021-07-07-16H-45M-51S`.\n",
      "MainProcess root INFO     ----------- Generation 3 -----------\n",
      "MainProcess root INFO     Best individual is [1.3018429030776317, 0.4613335264234024, 1.2708417799029919, 0.3261423030366109]\n",
      "MainProcess root INFO     Score: -2.0\n",
      "MainProcess root INFO     Fitness: (2.0,)\n",
      "MainProcess root INFO     --- Population statistics ---\n",
      "MainProcess root INFO     Replacing 0 invalid individuals.\n",
      "MainProcess pypet.environment.Environment INFO     I am preparing the Trajectory for the experiment and initialise the store.\n",
      "MainProcess pypet.environment.Environment INFO     Initialising the storage for the trajectory.\n",
      "MainProcess pypet.storageservice.HDF5StorageService INFO     Initialising storage or updating meta data of Trajectory `results-2021-07-07-16H-45M-51S`.\n",
      "MainProcess pypet.storageservice.HDF5StorageService INFO     Finished init or meta data update for `results-2021-07-07-16H-45M-51S`.\n",
      "MainProcess pypet.environment.Environment INFO     \n",
      "************************************************************\n",
      "STARTING runs of trajectory\n",
      "`results-2021-07-07-16H-45M-51S`.\n",
      "************************************************************\n",
      "\n",
      "MainProcess pypet.storageservice.HDF5StorageService INFO     Initialising storage or updating meta data of Trajectory `results-2021-07-07-16H-45M-51S`.\n",
      "MainProcess pypet.storageservice.HDF5StorageService INFO     Finished init or meta data update for `results-2021-07-07-16H-45M-51S`.\n",
      "MainProcess pypet.environment.Environment INFO     Starting multiprocessing with at most 8 processes running at the same time.\n",
      "MainProcess pypet INFO     PROGRESS: Finished 64/80 runs [================    ] 80.0%\n",
      "MainProcess pypet INFO     PROGRESS: Finished 68/80 runs [=================   ] 85.0%, remaining: 0:00:14\n",
      "MainProcess pypet INFO     PROGRESS: Finished 72/80 runs [==================  ] 90.0%, remaining: 0:00:05\n",
      "MainProcess pypet INFO     PROGRESS: Finished 76/80 runs [=================== ] 95.0%, remaining: 0:00:03\n",
      "MainProcess pypet INFO     PROGRESS: Finished 80/80 runs [====================]100.0%\n",
      "MainProcess pypet.storageservice.HDF5StorageService INFO     Initialising storage or updating meta data of Trajectory `results-2021-07-07-16H-45M-51S`.\n",
      "MainProcess pypet.storageservice.HDF5StorageService INFO     Finished init or meta data update for `results-2021-07-07-16H-45M-51S`.\n",
      "MainProcess pypet.environment.Environment INFO     \n",
      "************************************************************\n",
      "FINISHED all runs of trajectory\n",
      "`results-2021-07-07-16H-45M-51S`.\n",
      "************************************************************\n",
      "\n",
      "MainProcess pypet.environment.Environment INFO     \n",
      "************************************************************\n",
      "STARTING FINAL STORING of trajectory\n",
      "`results-2021-07-07-16H-45M-51S`\n",
      "************************************************************\n",
      "\n",
      "MainProcess pypet.storageservice.HDF5StorageService INFO     Start storing Trajectory `results-2021-07-07-16H-45M-51S`.\n",
      "MainProcess pypet.storageservice.HDF5StorageService INFO     Storing branch `config`.\n",
      "MainProcess pypet.storageservice.HDF5StorageService INFO     Storing branch `parameters`.\n",
      "MainProcess pypet.storageservice.HDF5StorageService INFO     Storing branch `results`.\n",
      "MainProcess pypet.storageservice.HDF5StorageService INFO     Storing branch `derived_parameters`.\n",
      "MainProcess pypet.storageservice.HDF5StorageService INFO     Finished storing Trajectory `results-2021-07-07-16H-45M-51S`.\n",
      "MainProcess pypet.environment.Environment INFO     \n",
      "************************************************************\n",
      "FINISHED FINAL STORING of trajectory\n",
      "`results-2021-07-07-16H-45M-51S`.\n",
      "************************************************************\n",
      "\n",
      "MainProcess pypet.environment.Environment INFO     All runs of trajectory `results-2021-07-07-16H-45M-51S` were completed successfully.\n",
      "MainProcess pypet.storageservice.HDF5StorageService INFO     Start storing Trajectory `results-2021-07-07-16H-45M-51S`.\n",
      "MainProcess pypet.storageservice.HDF5StorageService INFO     Storing branch `config`.\n",
      "MainProcess pypet.storageservice.HDF5StorageService INFO     Storing branch `parameters`.\n",
      "MainProcess pypet.storageservice.HDF5StorageService INFO     Storing branch `results`.\n",
      "MainProcess pypet.storageservice.HDF5StorageService INFO     Storing branch `derived_parameters`.\n",
      "MainProcess pypet.storageservice.HDF5StorageService INFO     Finished storing Trajectory `results-2021-07-07-16H-45M-51S`.\n",
      "MainProcess root INFO     ----------- Generation 4 -----------\n",
      "MainProcess root INFO     Best individual is [1.3018429030776317, 0.4613335264234024, 1.2708417799029919, 0.3261423030366109]\n",
      "MainProcess root INFO     Score: -2.0\n",
      "MainProcess root INFO     Fitness: (2.0,)\n",
      "MainProcess root INFO     --- Population statistics ---\n",
      "MainProcess root INFO     Replacing 0 invalid individuals.\n",
      "MainProcess pypet.environment.Environment INFO     I am preparing the Trajectory for the experiment and initialise the store.\n",
      "MainProcess pypet.environment.Environment INFO     Initialising the storage for the trajectory.\n",
      "MainProcess pypet.storageservice.HDF5StorageService INFO     Initialising storage or updating meta data of Trajectory `results-2021-07-07-16H-45M-51S`.\n",
      "MainProcess pypet.storageservice.HDF5StorageService INFO     Finished init or meta data update for `results-2021-07-07-16H-45M-51S`.\n",
      "MainProcess pypet.environment.Environment INFO     \n",
      "************************************************************\n",
      "STARTING runs of trajectory\n",
      "`results-2021-07-07-16H-45M-51S`.\n",
      "************************************************************\n",
      "\n",
      "MainProcess pypet.storageservice.HDF5StorageService INFO     Initialising storage or updating meta data of Trajectory `results-2021-07-07-16H-45M-51S`.\n",
      "MainProcess pypet.storageservice.HDF5StorageService INFO     Finished init or meta data update for `results-2021-07-07-16H-45M-51S`.\n",
      "MainProcess pypet.environment.Environment INFO     Starting multiprocessing with at most 8 processes running at the same time.\n",
      "MainProcess pypet INFO     PROGRESS: Finished 80/96 runs [================    ] 83.3%\n",
      "MainProcess pypet INFO     PROGRESS: Finished 82/96 runs [=================   ] 85.4%, remaining: 0:00:33\n",
      "MainProcess pypet INFO     PROGRESS: Finished 87/96 runs [==================  ] 90.6%, remaining: 0:00:06\n",
      "MainProcess pypet INFO     PROGRESS: Finished 92/96 runs [=================== ] 95.8%, remaining: 0:00:03\n",
      "MainProcess pypet INFO     PROGRESS: Finished 96/96 runs [====================]100.0%\n",
      "MainProcess pypet.storageservice.HDF5StorageService INFO     Initialising storage or updating meta data of Trajectory `results-2021-07-07-16H-45M-51S`.\n",
      "MainProcess pypet.storageservice.HDF5StorageService INFO     Finished init or meta data update for `results-2021-07-07-16H-45M-51S`.\n",
      "MainProcess pypet.environment.Environment INFO     \n",
      "************************************************************\n",
      "FINISHED all runs of trajectory\n",
      "`results-2021-07-07-16H-45M-51S`.\n",
      "************************************************************\n",
      "\n",
      "MainProcess pypet.environment.Environment INFO     \n",
      "************************************************************\n",
      "STARTING FINAL STORING of trajectory\n",
      "`results-2021-07-07-16H-45M-51S`\n",
      "************************************************************\n",
      "\n",
      "MainProcess pypet.storageservice.HDF5StorageService INFO     Start storing Trajectory `results-2021-07-07-16H-45M-51S`.\n",
      "MainProcess pypet.storageservice.HDF5StorageService INFO     Storing branch `config`.\n",
      "MainProcess pypet.storageservice.HDF5StorageService INFO     Storing branch `parameters`.\n",
      "MainProcess pypet.storageservice.HDF5StorageService INFO     Storing branch `results`.\n",
      "MainProcess pypet.storageservice.HDF5StorageService INFO     Storing branch `derived_parameters`.\n",
      "MainProcess pypet.storageservice.HDF5StorageService INFO     Finished storing Trajectory `results-2021-07-07-16H-45M-51S`.\n",
      "MainProcess pypet.environment.Environment INFO     \n",
      "************************************************************\n",
      "FINISHED FINAL STORING of trajectory\n",
      "`results-2021-07-07-16H-45M-51S`.\n",
      "************************************************************\n",
      "\n",
      "MainProcess pypet.environment.Environment INFO     All runs of trajectory `results-2021-07-07-16H-45M-51S` were completed successfully.\n",
      "MainProcess pypet.storageservice.HDF5StorageService INFO     Start storing Trajectory `results-2021-07-07-16H-45M-51S`.\n",
      "MainProcess pypet.storageservice.HDF5StorageService INFO     Storing branch `config`.\n",
      "MainProcess pypet.storageservice.HDF5StorageService INFO     Storing branch `parameters`.\n",
      "MainProcess pypet.storageservice.HDF5StorageService INFO     Storing branch `results`.\n",
      "MainProcess pypet.storageservice.HDF5StorageService INFO     Storing branch `derived_parameters`.\n",
      "MainProcess pypet.storageservice.HDF5StorageService INFO     Finished storing Trajectory `results-2021-07-07-16H-45M-51S`.\n",
      "MainProcess root INFO     ----------- Generation 5 -----------\n",
      "MainProcess root INFO     Best individual is [1.3018429030776317, 0.4613335264234024, 1.2708417799029919, 0.3261423030366109]\n",
      "MainProcess root INFO     Score: -2.0\n",
      "MainProcess root INFO     Fitness: (2.0,)\n",
      "MainProcess root INFO     --- Population statistics ---\n",
      "MainProcess root INFO     Replacing 0 invalid individuals.\n",
      "MainProcess pypet.environment.Environment INFO     I am preparing the Trajectory for the experiment and initialise the store.\n",
      "MainProcess pypet.environment.Environment INFO     Initialising the storage for the trajectory.\n",
      "MainProcess pypet.storageservice.HDF5StorageService INFO     Initialising storage or updating meta data of Trajectory `results-2021-07-07-16H-45M-51S`.\n",
      "MainProcess pypet.storageservice.HDF5StorageService INFO     Finished init or meta data update for `results-2021-07-07-16H-45M-51S`.\n",
      "MainProcess pypet.environment.Environment INFO     \n",
      "************************************************************\n",
      "STARTING runs of trajectory\n",
      "`results-2021-07-07-16H-45M-51S`.\n",
      "************************************************************\n",
      "\n",
      "MainProcess pypet.storageservice.HDF5StorageService INFO     Initialising storage or updating meta data of Trajectory `results-2021-07-07-16H-45M-51S`.\n",
      "MainProcess pypet.storageservice.HDF5StorageService INFO     Finished init or meta data update for `results-2021-07-07-16H-45M-51S`.\n",
      "MainProcess pypet.environment.Environment INFO     Starting multiprocessing with at most 8 processes running at the same time.\n",
      "MainProcess pypet INFO     PROGRESS: Finished 96/112 runs [=================   ] 85.7%\n",
      "MainProcess pypet INFO     PROGRESS: Finished 101/112 runs [==================  ] 90.2%, remaining: 0:00:10\n",
      "MainProcess pypet INFO     PROGRESS: Finished 107/112 runs [=================== ] 95.5%, remaining: 0:00:04\n",
      "MainProcess pypet INFO     PROGRESS: Finished 112/112 runs [====================]100.0%\n",
      "MainProcess pypet.storageservice.HDF5StorageService INFO     Initialising storage or updating meta data of Trajectory `results-2021-07-07-16H-45M-51S`.\n",
      "MainProcess pypet.storageservice.HDF5StorageService INFO     Finished init or meta data update for `results-2021-07-07-16H-45M-51S`.\n",
      "MainProcess pypet.environment.Environment INFO     \n",
      "************************************************************\n",
      "FINISHED all runs of trajectory\n",
      "`results-2021-07-07-16H-45M-51S`.\n",
      "************************************************************\n",
      "\n",
      "MainProcess pypet.environment.Environment INFO     \n",
      "************************************************************\n",
      "STARTING FINAL STORING of trajectory\n",
      "`results-2021-07-07-16H-45M-51S`\n",
      "************************************************************\n",
      "\n",
      "MainProcess pypet.storageservice.HDF5StorageService INFO     Start storing Trajectory `results-2021-07-07-16H-45M-51S`.\n",
      "MainProcess pypet.storageservice.HDF5StorageService INFO     Storing branch `config`.\n",
      "MainProcess pypet.storageservice.HDF5StorageService INFO     Storing branch `parameters`.\n",
      "MainProcess pypet.storageservice.HDF5StorageService INFO     Storing branch `results`.\n",
      "MainProcess pypet.storageservice.HDF5StorageService INFO     Storing branch `derived_parameters`.\n",
      "MainProcess pypet.storageservice.HDF5StorageService INFO     Finished storing Trajectory `results-2021-07-07-16H-45M-51S`.\n",
      "MainProcess pypet.environment.Environment INFO     \n",
      "************************************************************\n",
      "FINISHED FINAL STORING of trajectory\n",
      "`results-2021-07-07-16H-45M-51S`.\n",
      "************************************************************\n",
      "\n",
      "MainProcess pypet.environment.Environment INFO     All runs of trajectory `results-2021-07-07-16H-45M-51S` were completed successfully.\n",
      "MainProcess pypet.storageservice.HDF5StorageService INFO     Start storing Trajectory `results-2021-07-07-16H-45M-51S`.\n",
      "MainProcess pypet.storageservice.HDF5StorageService INFO     Storing branch `config`.\n",
      "MainProcess pypet.storageservice.HDF5StorageService INFO     Storing branch `parameters`.\n",
      "MainProcess pypet.storageservice.HDF5StorageService INFO     Storing branch `results`.\n",
      "MainProcess pypet.storageservice.HDF5StorageService INFO     Storing branch `derived_parameters`.\n",
      "MainProcess pypet.storageservice.HDF5StorageService INFO     Finished storing Trajectory `results-2021-07-07-16H-45M-51S`.\n",
      "MainProcess root INFO     ----------- Generation 6 -----------\n",
      "MainProcess root INFO     Best individual is [1.3018429030776317, 0.4613335264234024, 1.2708417799029919, 0.3261423030366109]\n",
      "MainProcess root INFO     Score: -2.0\n",
      "MainProcess root INFO     Fitness: (2.0,)\n",
      "MainProcess root INFO     --- Population statistics ---\n",
      "MainProcess root INFO     Replacing 0 invalid individuals.\n",
      "MainProcess pypet.environment.Environment INFO     I am preparing the Trajectory for the experiment and initialise the store.\n",
      "MainProcess pypet.environment.Environment INFO     Initialising the storage for the trajectory.\n",
      "MainProcess pypet.storageservice.HDF5StorageService INFO     Initialising storage or updating meta data of Trajectory `results-2021-07-07-16H-45M-51S`.\n",
      "MainProcess pypet.storageservice.HDF5StorageService INFO     Finished init or meta data update for `results-2021-07-07-16H-45M-51S`.\n",
      "MainProcess pypet.environment.Environment INFO     \n",
      "************************************************************\n",
      "STARTING runs of trajectory\n",
      "`results-2021-07-07-16H-45M-51S`.\n",
      "************************************************************\n",
      "\n",
      "MainProcess pypet.storageservice.HDF5StorageService INFO     Initialising storage or updating meta data of Trajectory `results-2021-07-07-16H-45M-51S`.\n",
      "MainProcess pypet.storageservice.HDF5StorageService INFO     Finished init or meta data update for `results-2021-07-07-16H-45M-51S`.\n",
      "MainProcess pypet.environment.Environment INFO     Starting multiprocessing with at most 8 processes running at the same time.\n",
      "MainProcess pypet INFO     PROGRESS: Finished 112/128 runs [=================   ] 87.5%\n",
      "MainProcess pypet INFO     PROGRESS: Finished 116/128 runs [==================  ] 90.6%, remaining: 0:00:14\n",
      "MainProcess pypet INFO     PROGRESS: Finished 122/128 runs [=================== ] 95.3%, remaining: 0:00:05\n",
      "MainProcess pypet INFO     PROGRESS: Finished 128/128 runs [====================]100.0%\n",
      "MainProcess pypet.storageservice.HDF5StorageService INFO     Initialising storage or updating meta data of Trajectory `results-2021-07-07-16H-45M-51S`.\n",
      "MainProcess pypet.storageservice.HDF5StorageService INFO     Finished init or meta data update for `results-2021-07-07-16H-45M-51S`.\n",
      "MainProcess pypet.environment.Environment INFO     \n",
      "************************************************************\n",
      "FINISHED all runs of trajectory\n",
      "`results-2021-07-07-16H-45M-51S`.\n",
      "************************************************************\n",
      "\n",
      "MainProcess pypet.environment.Environment INFO     \n",
      "************************************************************\n",
      "STARTING FINAL STORING of trajectory\n",
      "`results-2021-07-07-16H-45M-51S`\n",
      "************************************************************\n",
      "\n",
      "MainProcess pypet.storageservice.HDF5StorageService INFO     Start storing Trajectory `results-2021-07-07-16H-45M-51S`.\n",
      "MainProcess pypet.storageservice.HDF5StorageService INFO     Storing branch `config`.\n",
      "MainProcess pypet.storageservice.HDF5StorageService INFO     Storing branch `parameters`.\n",
      "MainProcess pypet.storageservice.HDF5StorageService INFO     Storing branch `results`.\n",
      "MainProcess pypet.storageservice.HDF5StorageService INFO     Storing branch `derived_parameters`.\n",
      "MainProcess pypet.storageservice.HDF5StorageService INFO     Finished storing Trajectory `results-2021-07-07-16H-45M-51S`.\n",
      "MainProcess pypet.environment.Environment INFO     \n",
      "************************************************************\n",
      "FINISHED FINAL STORING of trajectory\n",
      "`results-2021-07-07-16H-45M-51S`.\n",
      "************************************************************\n",
      "\n",
      "MainProcess pypet.environment.Environment INFO     All runs of trajectory `results-2021-07-07-16H-45M-51S` were completed successfully.\n",
      "MainProcess pypet.storageservice.HDF5StorageService INFO     Start storing Trajectory `results-2021-07-07-16H-45M-51S`.\n",
      "MainProcess pypet.storageservice.HDF5StorageService INFO     Storing branch `config`.\n",
      "MainProcess pypet.storageservice.HDF5StorageService INFO     Storing branch `parameters`.\n",
      "MainProcess pypet.storageservice.HDF5StorageService INFO     Storing branch `results`.\n",
      "MainProcess pypet.storageservice.HDF5StorageService INFO     Storing branch `derived_parameters`.\n",
      "MainProcess pypet.storageservice.HDF5StorageService INFO     Finished storing Trajectory `results-2021-07-07-16H-45M-51S`.\n",
      "MainProcess root INFO     ----------- Generation 7 -----------\n",
      "MainProcess root INFO     Best individual is [0.8975385309150987, 0.11079193956336597, 0.23750510019720242, 0.2003002444648563]\n",
      "MainProcess root INFO     Score: -1.0\n",
      "MainProcess root INFO     Fitness: (1.0,)\n",
      "MainProcess root INFO     --- Population statistics ---\n",
      "MainProcess root INFO     Replacing 0 invalid individuals.\n",
      "MainProcess pypet.environment.Environment INFO     I am preparing the Trajectory for the experiment and initialise the store.\n",
      "MainProcess pypet.environment.Environment INFO     Initialising the storage for the trajectory.\n",
      "MainProcess pypet.storageservice.HDF5StorageService INFO     Initialising storage or updating meta data of Trajectory `results-2021-07-07-16H-45M-51S`.\n",
      "MainProcess pypet.storageservice.HDF5StorageService INFO     Finished init or meta data update for `results-2021-07-07-16H-45M-51S`.\n",
      "MainProcess pypet.environment.Environment INFO     \n",
      "************************************************************\n",
      "STARTING runs of trajectory\n",
      "`results-2021-07-07-16H-45M-51S`.\n",
      "************************************************************\n",
      "\n",
      "MainProcess pypet.storageservice.HDF5StorageService INFO     Initialising storage or updating meta data of Trajectory `results-2021-07-07-16H-45M-51S`.\n",
      "MainProcess pypet.storageservice.HDF5StorageService INFO     Finished init or meta data update for `results-2021-07-07-16H-45M-51S`.\n",
      "MainProcess pypet.environment.Environment INFO     Starting multiprocessing with at most 8 processes running at the same time.\n",
      "MainProcess pypet INFO     PROGRESS: Finished 128/144 runs [=================   ] 88.9%\n",
      "MainProcess pypet INFO     PROGRESS: Finished 130/144 runs [==================  ] 90.3%, remaining: 0:00:32\n",
      "MainProcess pypet INFO     PROGRESS: Finished 137/144 runs [=================== ] 95.1%, remaining: 0:00:07\n",
      "MainProcess pypet INFO     PROGRESS: Finished 144/144 runs [====================]100.0%\n",
      "MainProcess pypet.storageservice.HDF5StorageService INFO     Initialising storage or updating meta data of Trajectory `results-2021-07-07-16H-45M-51S`.\n",
      "MainProcess pypet.storageservice.HDF5StorageService INFO     Finished init or meta data update for `results-2021-07-07-16H-45M-51S`.\n",
      "MainProcess pypet.environment.Environment INFO     \n",
      "************************************************************\n",
      "FINISHED all runs of trajectory\n",
      "`results-2021-07-07-16H-45M-51S`.\n",
      "************************************************************\n",
      "\n",
      "MainProcess pypet.environment.Environment INFO     \n",
      "************************************************************\n",
      "STARTING FINAL STORING of trajectory\n",
      "`results-2021-07-07-16H-45M-51S`\n",
      "************************************************************\n",
      "\n",
      "MainProcess pypet.storageservice.HDF5StorageService INFO     Start storing Trajectory `results-2021-07-07-16H-45M-51S`.\n",
      "MainProcess pypet.storageservice.HDF5StorageService INFO     Storing branch `config`.\n",
      "MainProcess pypet.storageservice.HDF5StorageService INFO     Storing branch `parameters`.\n",
      "MainProcess pypet.storageservice.HDF5StorageService INFO     Storing branch `results`.\n",
      "MainProcess pypet.storageservice.HDF5StorageService INFO     Storing branch `derived_parameters`.\n",
      "MainProcess pypet.storageservice.HDF5StorageService INFO     Finished storing Trajectory `results-2021-07-07-16H-45M-51S`.\n",
      "MainProcess pypet.environment.Environment INFO     \n",
      "************************************************************\n",
      "FINISHED FINAL STORING of trajectory\n",
      "`results-2021-07-07-16H-45M-51S`.\n",
      "************************************************************\n",
      "\n",
      "MainProcess pypet.environment.Environment INFO     All runs of trajectory `results-2021-07-07-16H-45M-51S` were completed successfully.\n",
      "MainProcess pypet.storageservice.HDF5StorageService INFO     Start storing Trajectory `results-2021-07-07-16H-45M-51S`.\n",
      "MainProcess pypet.storageservice.HDF5StorageService INFO     Storing branch `config`.\n",
      "MainProcess pypet.storageservice.HDF5StorageService INFO     Storing branch `parameters`.\n",
      "MainProcess pypet.storageservice.HDF5StorageService INFO     Storing branch `results`.\n",
      "MainProcess pypet.storageservice.HDF5StorageService INFO     Storing branch `derived_parameters`.\n",
      "MainProcess pypet.storageservice.HDF5StorageService INFO     Finished storing Trajectory `results-2021-07-07-16H-45M-51S`.\n",
      "MainProcess root INFO     ----------- Generation 8 -----------\n",
      "MainProcess root INFO     Best individual is [1.2018893263483494, 0.26004390251897785, 0.24989089918822285, 0.08052584592439692]\n",
      "MainProcess root INFO     Score: 0.0\n",
      "MainProcess root INFO     Fitness: (0.0,)\n",
      "MainProcess root INFO     --- Population statistics ---\n",
      "MainProcess root INFO     Replacing 0 invalid individuals.\n",
      "MainProcess pypet.environment.Environment INFO     I am preparing the Trajectory for the experiment and initialise the store.\n",
      "MainProcess pypet.environment.Environment INFO     Initialising the storage for the trajectory.\n",
      "MainProcess pypet.storageservice.HDF5StorageService INFO     Initialising storage or updating meta data of Trajectory `results-2021-07-07-16H-45M-51S`.\n",
      "MainProcess pypet.storageservice.HDF5StorageService INFO     Finished init or meta data update for `results-2021-07-07-16H-45M-51S`.\n",
      "MainProcess pypet.environment.Environment INFO     \n",
      "************************************************************\n",
      "STARTING runs of trajectory\n",
      "`results-2021-07-07-16H-45M-51S`.\n",
      "************************************************************\n",
      "\n",
      "MainProcess pypet.storageservice.HDF5StorageService INFO     Initialising storage or updating meta data of Trajectory `results-2021-07-07-16H-45M-51S`.\n",
      "MainProcess pypet.storageservice.HDF5StorageService INFO     Finished init or meta data update for `results-2021-07-07-16H-45M-51S`.\n",
      "MainProcess pypet.environment.Environment INFO     Starting multiprocessing with at most 8 processes running at the same time.\n",
      "MainProcess pypet INFO     PROGRESS: Finished 144/160 runs [==================  ] 90.0%\n",
      "MainProcess pypet INFO     PROGRESS: Finished 152/160 runs [=================== ] 95.0%, remaining: 0:00:05\n",
      "MainProcess pypet INFO     PROGRESS: Finished 160/160 runs [====================]100.0%\n",
      "MainProcess pypet.storageservice.HDF5StorageService INFO     Initialising storage or updating meta data of Trajectory `results-2021-07-07-16H-45M-51S`.\n",
      "MainProcess pypet.storageservice.HDF5StorageService INFO     Finished init or meta data update for `results-2021-07-07-16H-45M-51S`.\n",
      "MainProcess pypet.environment.Environment INFO     \n",
      "************************************************************\n",
      "FINISHED all runs of trajectory\n",
      "`results-2021-07-07-16H-45M-51S`.\n",
      "************************************************************\n",
      "\n",
      "MainProcess pypet.environment.Environment INFO     \n",
      "************************************************************\n",
      "STARTING FINAL STORING of trajectory\n",
      "`results-2021-07-07-16H-45M-51S`\n",
      "************************************************************\n",
      "\n",
      "MainProcess pypet.storageservice.HDF5StorageService INFO     Start storing Trajectory `results-2021-07-07-16H-45M-51S`.\n",
      "MainProcess pypet.storageservice.HDF5StorageService INFO     Storing branch `config`.\n",
      "MainProcess pypet.storageservice.HDF5StorageService INFO     Storing branch `parameters`.\n",
      "MainProcess pypet.storageservice.HDF5StorageService INFO     Storing branch `results`.\n",
      "MainProcess pypet.storageservice.HDF5StorageService INFO     Storing branch `derived_parameters`.\n",
      "MainProcess pypet.storageservice.HDF5StorageService INFO     Finished storing Trajectory `results-2021-07-07-16H-45M-51S`.\n",
      "MainProcess pypet.environment.Environment INFO     \n",
      "************************************************************\n",
      "FINISHED FINAL STORING of trajectory\n",
      "`results-2021-07-07-16H-45M-51S`.\n",
      "************************************************************\n",
      "\n",
      "MainProcess pypet.environment.Environment INFO     All runs of trajectory `results-2021-07-07-16H-45M-51S` were completed successfully.\n",
      "MainProcess pypet.storageservice.HDF5StorageService INFO     Start storing Trajectory `results-2021-07-07-16H-45M-51S`.\n",
      "MainProcess pypet.storageservice.HDF5StorageService INFO     Storing branch `config`.\n",
      "MainProcess pypet.storageservice.HDF5StorageService INFO     Storing branch `parameters`.\n",
      "MainProcess pypet.storageservice.HDF5StorageService INFO     Storing branch `results`.\n",
      "MainProcess pypet.storageservice.HDF5StorageService INFO     Storing branch `derived_parameters`.\n",
      "MainProcess pypet.storageservice.HDF5StorageService INFO     Finished storing Trajectory `results-2021-07-07-16H-45M-51S`.\n",
      "MainProcess root INFO     ----------- Generation 9 -----------\n",
      "MainProcess root INFO     Best individual is [1.2018893263483494, 0.26004390251897785, 0.24989089918822285, 0.08052584592439692]\n",
      "MainProcess root INFO     Score: 0.0\n",
      "MainProcess root INFO     Fitness: (0.0,)\n",
      "MainProcess root INFO     --- Population statistics ---\n",
      "MainProcess root INFO     --- End of evolution ---\n",
      "MainProcess root INFO     Best individual is [1.2018893263483494, 0.26004390251897785, 0.24989089918822285, 0.08052584592439692], (0.0,)\n",
      "MainProcess root INFO     --- End of evolution ---\n",
      "MainProcess pypet.storageservice.HDF5StorageService INFO     Start storing Trajectory `results-2021-07-07-16H-45M-51S`.\n",
      "MainProcess pypet.storageservice.HDF5StorageService INFO     Storing branch `config`.\n",
      "MainProcess pypet.storageservice.HDF5StorageService INFO     Storing branch `parameters`.\n",
      "MainProcess pypet.storageservice.HDF5StorageService INFO     Storing branch `results`.\n",
      "MainProcess pypet.storageservice.HDF5StorageService INFO     Storing branch `derived_parameters`.\n",
      "MainProcess pypet.storageservice.HDF5StorageService INFO     Finished storing Trajectory `results-2021-07-07-16H-45M-51S`.\n"
     ]
    }
   ],
   "source": [
    "evolution.run(verbose=False)"
   ]
  },
  {
   "cell_type": "code",
   "execution_count": 18,
   "id": "elementary-rings",
   "metadata": {},
   "outputs": [
    {
     "name": "stderr",
     "output_type": "stream",
     "text": [
      "/Users/nikola/.virtualenvs/neurolib/lib/python3.7/site-packages/neurolib/optimize/evolution/evolutionaryUtils.py:212: UserWarning: This figure includes Axes that are not compatible with tight_layout, so results might be incorrect.\n",
      "  plt.tight_layout()\n"
     ]
    },
    {
     "name": "stdout",
     "output_type": "stream",
     "text": [
      "> Simulation parameters\n",
      "HDF file storage: ./data/hdf/example-4.2-evolution.hdf\n",
      "Trajectory Name: results-2021-07-07-16H-45M-51S\n",
      "Duration of evaluating initial population 0:00:11.681965\n",
      "Duration of evolution 0:01:31.868614\n",
      "Model: <class 'neurolib.models.multimodel.model.MultiModel'>\n",
      "Model name: ALNNode\n",
      "Eval function: <function evaluateSimulation at 0x15b06a830>\n",
      "Parameter space: {'*EXC*noise*mu': [0.0, 4.0], '*INH*noise*mu': [0.0, 4.0]}\n",
      "> Evolution parameters\n",
      "Number of generations: 10\n",
      "Initial population size: 16\n",
      "Population size: 16\n",
      "> Evolutionary operators\n",
      "Mating operator: <function cxBlend at 0x159a43560>\n",
      "Mating paramter: {'alpha': 0.5}\n",
      "Selection operator: <function selBest_multiObj at 0x159a70200>\n",
      "Selection paramter: {}\n",
      "Parent selection operator: <function selRank at 0x159a70170>\n",
      "Comments: no comments\n",
      "--- Info summary ---\n",
      "Valid: 16\n",
      "Mean score (weighted fitness): -3.6\n",
      "Parameter distribution (Generation 9):\n",
      "STAREXCSTARnoiseSTARmu: \t mean: 1.1141,\t std: 0.2046\n",
      "STARINHSTARnoiseSTARmu: \t mean: 0.4791,\t std: 0.2361\n",
      "--------------------\n",
      "Best 5 individuals:\n",
      "Printing 5 individuals\n",
      "Individual 0\n",
      "\tFitness values:  0.0\n",
      "\tScore:  0.0\n",
      "\tWeighted fitness:  -0.0\n",
      "\tStats mean 0.00 std 0.00 min 0.00 max 0.00\n",
      "\tmodel.params[\"STAREXCSTARnoiseSTARmu\"] = 1.20\n",
      "\tmodel.params[\"STARINHSTARnoiseSTARmu\"] = 0.26\n",
      "Individual 1\n",
      "\tFitness values:  0.0\n",
      "\tScore:  0.0\n",
      "\tWeighted fitness:  -0.0\n",
      "\tStats mean 0.00 std 0.00 min 0.00 max 0.00\n",
      "\tmodel.params[\"STAREXCSTARnoiseSTARmu\"] = 1.01\n",
      "\tmodel.params[\"STARINHSTARnoiseSTARmu\"] = 0.16\n",
      "Individual 2\n",
      "\tFitness values:  1.0\n",
      "\tScore:  -1.0\n",
      "\tWeighted fitness:  -1.0\n",
      "\tStats mean 1.00 std 0.00 min 1.00 max 1.00\n",
      "\tmodel.params[\"STAREXCSTARnoiseSTARmu\"] = 0.90\n",
      "\tmodel.params[\"STARINHSTARnoiseSTARmu\"] = 0.11\n",
      "Individual 3\n",
      "\tFitness values:  2.0\n",
      "\tScore:  -2.0\n",
      "\tWeighted fitness:  -2.0\n",
      "\tStats mean 2.00 std 0.00 min 2.00 max 2.00\n",
      "\tmodel.params[\"STAREXCSTARnoiseSTARmu\"] = 1.30\n",
      "\tmodel.params[\"STARINHSTARnoiseSTARmu\"] = 0.46\n",
      "Individual 4\n",
      "\tFitness values:  2.0\n",
      "\tScore:  -2.0\n",
      "\tWeighted fitness:  -2.0\n",
      "\tStats mean 2.00 std 0.00 min 2.00 max 2.00\n",
      "\tmodel.params[\"STAREXCSTARnoiseSTARmu\"] = 0.96\n",
      "\tmodel.params[\"STARINHSTARnoiseSTARmu\"] = 0.25\n",
      "--------------------\n"
     ]
    },
    {
     "data": {
      "image/png": "[encoded data removed]",
      "text/plain": [
       "<Figure size 252x216 with 3 Axes>"
      ]
     },
     "metadata": {
      "needs_background": "light"
     },
     "output_type": "display_data"
    },
    {
     "name": "stdout",
     "output_type": "stream",
     "text": [
      "There are 16 valid individuals\n",
      "Mean score across population: -3.6\n"
     ]
    },
    {
     "name": "stderr",
     "output_type": "stream",
     "text": [
      "MainProcess root INFO     Saving plot to ./data/figures/results-2021-07-07-16H-45M-51S_hist_9.png\n"
     ]
    },
    {
     "data": {
      "image/png": "[encoded data removed]",
      "text/plain": [
       "<Figure size 288x144 with 1 Axes>"
      ]
     },
     "metadata": {
      "needs_background": "light"
     },
     "output_type": "display_data"
    },
    {
     "data": {
      "text/plain": [
       "<Figure size 432x288 with 0 Axes>"
      ]
     },
     "metadata": {},
     "output_type": "display_data"
    },
    {
     "data": {
      "image/png": "[encoded data removed]",
      "text/plain": [
       "<Figure size 360x360 with 6 Axes>"
      ]
     },
     "metadata": {
      "needs_background": "light"
     },
     "output_type": "display_data"
    },
    {
     "data": {
      "image/png": "[encoded data removed]",
      "text/plain": [
       "<Figure size 360x360 with 6 Axes>"
      ]
     },
     "metadata": {
      "needs_background": "light"
     },
     "output_type": "display_data"
    }
   ],
   "source": [
    "evolution.info(plot=True)"
   ]
  },
  {
   "cell_type": "markdown",
   "id": "encouraging-testimony",
   "metadata": {},
   "source": [
    "## Adapting existing models in `MultiModel` framework\n",
    "`MultiModel` comes with a few implemented models so you can play with models right away. Due to the hierarchical architecture based on class inheritence in python, it is also very easy to adapt existing models. As an example - `MultiModel` comes with an implementation of Wilson-Cowan model. In our version, there are excitatory and inhibitory masses in one node. Let's say, you want to add an adaptation current inside excitatory mass in Wilson-Cowan model."
   ]
  },
  {
   "cell_type": "code",
   "execution_count": 19,
   "id": "faced-anxiety",
   "metadata": {},
   "outputs": [],
   "source": [
    "# imports\n",
    "from jitcdde import input as system_input\n",
    "from neurolib.models.multimodel.builder.base.constants import EXC\n",
    "from neurolib.models.multimodel.builder.wilson_cowan import (\n",
    "    WC_EXC_DEFAULT_PARAMS,\n",
    "    WC_NODE_DEFAULT_CONNECTIVITY,\n",
    "    ExcitatoryWilsonCowanMass,\n",
    "    InhibitoryWilsonCowanMass,\n",
    "    WilsonCowanNode,\n",
    ")"
   ]
  },
  {
   "cell_type": "markdown",
   "id": "eligible-reverse",
   "metadata": {},
   "source": [
    "Here is just a copy-paste code of ExcitatoryWilsonCowanMass:\n",
    "```python\n",
    "class ExcitatoryWilsonCowanMass(WilsonCowanMass):\n",
    "    \"\"\"\n",
    "    Excitatory Wilson-Cowan neural mass.\n",
    "    \"\"\"\n",
    "\n",
    "    name = \"Wilson-Cowan excitatory mass\"\n",
    "    label = f\"WCmass{EXC}\"\n",
    "    coupling_variables = {0: f\"q_mean_{EXC}\"}\n",
    "    state_variable_names = [f\"q_mean_{EXC}\"]\n",
    "    mass_type = EXC\n",
    "    required_couplings = [\"node_exc_exc\", \"node_exc_inh\", \"network_exc_exc\"]\n",
    "\n",
    "    def __init__(self, params=None, seed=None):\n",
    "        super().__init__(params=params or WC_EXC_DEFAULT_PARAMS, seed=seed)\n",
    "\n",
    "    def _derivatives(self, coupling_variables):\n",
    "        [x] = self._unwrap_state_vector()\n",
    "        d_x = (\n",
    "            -x\n",
    "            + (1.0 - x)\n",
    "            * self._sigmoid(\n",
    "                coupling_variables[\"node_exc_exc\"]\n",
    "                - coupling_variables[\"node_exc_inh\"]\n",
    "                + coupling_variables[\"network_exc_exc\"]\n",
    "                + self.params[\"ext_input\"]\n",
    "            )\n",
    "            + system_input(self.noise_input_idx[0])\n",
    "        ) / self.params[\"tau\"]\n",
    "\n",
    "        return [d_x]\n",
    "```\n",
    "\n",
    "Since everything in `MultiModel` is a class, we will simply subclass the `ExcitatoryWilsonCowanMass` and edit / add things we need to.\n",
    "\n",
    "Our adaptation current will come in as:\n",
    "$$\\dot{w} = -\\frac{w}{\\tau_{A}} + b*r$$"
   ]
  },
  {
   "cell_type": "code",
   "execution_count": 20,
   "id": "empty-employment",
   "metadata": {},
   "outputs": [],
   "source": [
    "class AdaptationExcitatoryWilsonCowanMass(ExcitatoryWilsonCowanMass):\n",
    "    # here we only edit attributes that will change!\n",
    "    # slightly edit name and label\n",
    "    name = \"Wilson-Cowan excitatory mass with adaptation\"\n",
    "    label = f\"WCmass{EXC}_adapt\"\n",
    "\n",
    "    num_state_variables = 2\n",
    "    # same number of noise variables\n",
    "\n",
    "    # coupling variables - the same, no need to do anything\n",
    "    # add w as a variable\n",
    "    state_variable_names = [f\"q_mean_{EXC}\", \"w\"]\n",
    "    # mass type and couplings are the same\n",
    "\n",
    "    # add parameters for adaptation current - b and tauA\n",
    "    required_params = [\"a\", \"mu\", \"tau\", \"ext_drive\", \"b\", \"tauA\"]\n",
    "\n",
    "    # same input noise\n",
    "\n",
    "    def __init__(self, params=None, seed=None):\n",
    "        # edit init and pass default parameters for adaptation\n",
    "        super().__init__(params=params or WC_ADAPT_EXC_DEFAULT_PARAMS, seed=seed)\n",
    "        \n",
    "    def _initialize_state_vector(self):\n",
    "        # need to add init for adaptation variable w\n",
    "        np.random.seed(self.seed)\n",
    "        self.initial_state = [0.05 * np.random.uniform(0, 1), 0.0]\n",
    "\n",
    "    def _derivatives(self, coupling_variables):\n",
    "        # edit derivatives\n",
    "        [x, w] = self._unwrap_state_vector()\n",
    "        d_x = (\n",
    "            -x\n",
    "            + (1.0 - x)\n",
    "            * self._sigmoid(\n",
    "                coupling_variables[\"node_exc_exc\"]\n",
    "                - coupling_variables[\"node_exc_inh\"]\n",
    "                + coupling_variables[\"network_exc_exc\"]\n",
    "                + self.params[\"ext_drive\"]\n",
    "                - w  # subtract adaptation current\n",
    "            )\n",
    "            + system_input(self.noise_input_idx[0])\n",
    "        ) / self.params[\"tau\"]\n",
    "        # now define adaptation dynamics\n",
    "        d_w = -w / self.params[\"tauA\"] + self.params[\"b\"] * x\n",
    "\n",
    "        return [d_x, d_w]\n",
    "\n",
    "\n",
    "# define default set of parameters\n",
    "WC_ADAPT_EXC_DEFAULT_PARAMS = {\n",
    "    # just copy all default parameters from non-adaptation version\n",
    "    **WC_EXC_DEFAULT_PARAMS,\n",
    "    # add adaptation parameters\n",
    "    \"tauA\": 500.0,  # ms\n",
    "    \"b\": 1.0,\n",
    "}"
   ]
  },
  {
   "cell_type": "markdown",
   "id": "democratic-smile",
   "metadata": {},
   "source": [
    "That's it! Now we have our shiny excitatory Wilson-Cowan mass with adaptation. Now, we need to create a `Node` with one exctitatory WC mass with adaptation and one good old inhibitory mass without adaptation. The basic inhibitory mass is already implemented, no need to do anything. Below we will create our `Node` with adaptation."
   ]
  },
  {
   "cell_type": "code",
   "execution_count": 21,
   "id": "backed-placement",
   "metadata": {},
   "outputs": [],
   "source": [
    "class WilsonCowanNodeWithAdaptation(WilsonCowanNode):\n",
    "    # start by subclassing the basic WilsonCowanNode and, again,\n",
    "    # just change what has to be changed\n",
    "\n",
    "    name = \"Wilson-Cowan node with adaptation\"\n",
    "    label = \"WCnode_adapt\"\n",
    "\n",
    "    # default coupling and outputs are the same\n",
    "\n",
    "    def __init__(\n",
    "        self,\n",
    "        exc_params=None,\n",
    "        inh_params=None,\n",
    "        connectivity=WC_NODE_DEFAULT_CONNECTIVITY,\n",
    "    ):\n",
    "        # here we just pass our new `AdaptationExcitatoryWilsonCowanMass` instead of\n",
    "        # `ExcitatoryWilsonCowanMass`, otherwise it is the same\n",
    "        excitatory_mass = AdaptationExcitatoryWilsonCowanMass(exc_params)\n",
    "        excitatory_mass.index = 0\n",
    "        inhibitory_mass = InhibitoryWilsonCowanMass(inh_params)\n",
    "        inhibitory_mass.index = 1\n",
    "        # the only trick is, we want to call super() and init Node class, BUT\n",
    "        # just calling super().__init__() will actually call parent's init, and in\n",
    "        # this case, our parent is `WilsonCowanNode`... we need to call grandparent's\n",
    "        # __init__.. fortunately, this can be done in python no problemo\n",
    "        # instead of calling super().__init__(), we need to call\n",
    "        # super(<current parent>, self).__init__()\n",
    "        super(WilsonCowanNode, self).__init__(\n",
    "            neural_masses=[excitatory_mass, inhibitory_mass],\n",
    "            local_connectivity=connectivity,\n",
    "            # within W-C node there are no local delays\n",
    "            local_delays=None,\n",
    "        )"
   ]
  },
  {
   "cell_type": "markdown",
   "id": "numerical-introduction",
   "metadata": {},
   "source": [
    "And done. Now we can run and compare WC node with and without adaptation."
   ]
  },
  {
   "cell_type": "code",
   "execution_count": 22,
   "id": "equivalent-disaster",
   "metadata": {},
   "outputs": [
    {
     "name": "stderr",
     "output_type": "stream",
     "text": [
      "MainProcess root INFO     WCnode: Model initialized.\n",
      "MainProcess root INFO     WCnode_adapt: Model initialized.\n"
     ]
    }
   ],
   "source": [
    "wc_basic = MultiModel.init_node(WilsonCowanNode())\n",
    "wc_adapt = MultiModel.init_node(WilsonCowanNodeWithAdaptation())"
   ]
  },
  {
   "cell_type": "code",
   "execution_count": 23,
   "id": "stretch-munich",
   "metadata": {},
   "outputs": [],
   "source": [
    "# set parameters\n",
    "wc_basic.params[\"*EXC*ext_drive\"] = 0.8\n",
    "wc_basic.params[\"duration\"] = 2000.0\n",
    "wc_basic.params[\"sampling_dt\"] = 1.0\n",
    "\n",
    "# higher external input due to adaptation\n",
    "wc_adapt.params[\"*EXC*ext_drive\"] = 5.5\n",
    "wc_adapt.params[\"duration\"] = 2000.0\n",
    "wc_adapt.params[\"sampling_dt\"] = 1.0\n",
    "wc_adapt.params[\"*b\"] = 0.1"
   ]
  },
  {
   "cell_type": "code",
   "execution_count": 24,
   "id": "rational-mauritius",
   "metadata": {},
   "outputs": [
    {
     "name": "stderr",
     "output_type": "stream",
     "text": [
      "MainProcess root INFO     Initialising jitcdde backend...\n",
      "MainProcess root INFO     Setting up the DDE system...\n",
      "/Users/nikola/.virtualenvs/neurolib/lib/python3.7/site-packages/jitcdde/_jitcdde.py:1491: UserWarning: Your input past does not begin at t=0 but at t=1.0. Values before the beginning of the past will be extrapolated. You very likely do not want this.\n",
      "  warn(f\"Your input past does not begin at t=0 but at t={input[0].time}. Values before the beginning of the past will be extrapolated. You very likely do not want this.\")\n",
      "MainProcess root INFO     Compiling to C...\n",
      "MainProcess root INFO     Setting past of the state vector...\n",
      "MainProcess root INFO     Integrating for 2000 time steps...\n",
      "100%|██████████| 2000/2000 [00:00<00:00, 153705.07it/s]\n",
      "MainProcess root INFO     Integration done.\n",
      "MainProcess root INFO     `run` call took 1.24 s\n",
      "MainProcess root INFO     Initialising jitcdde backend...\n",
      "MainProcess root INFO     Setting up the DDE system...\n",
      "MainProcess root INFO     Compiling to C...\n"
     ]
    },
    {
     "name": "stdout",
     "output_type": "stream",
     "text": [
      "Using default integration parameters.\n"
     ]
    },
    {
     "name": "stderr",
     "output_type": "stream",
     "text": [
      "MainProcess root INFO     Setting past of the state vector...\n",
      "MainProcess root INFO     Integrating for 2000 time steps...\n",
      "  0%|          | 0/2000 [00:00<?, ?it/s]/Users/nikola/.virtualenvs/neurolib/lib/python3.7/site-packages/jitcdde/_jitcdde.py:791: UserWarning: The target time is smaller than the current time. No integration step will happen. The returned state will be extrapolated from the interpolating Hermite polynomial for the last integration step. You may see this because you try to integrate backwards in time, in which case you did something wrong. You may see this just because your sampling step is small, in which case there is no need to worry.\n",
      "  warn(\"The target time is smaller than the current time. No integration step will happen. The returned state will be extrapolated from the interpolating Hermite polynomial for the last integration step. You may see this because you try to integrate backwards in time, in which case you did something wrong. You may see this just because your sampling step is small, in which case there is no need to worry.\")\n",
      "100%|██████████| 2000/2000 [00:00<00:00, 100000.10it/s]\n",
      "MainProcess root INFO     Integration done.\n",
      "MainProcess root INFO     `run` call took 0.79 s\n"
     ]
    },
    {
     "name": "stdout",
     "output_type": "stream",
     "text": [
      "Using default integration parameters.\n"
     ]
    }
   ],
   "source": [
    "wc_basic.run()\n",
    "wc_adapt.run()"
   ]
  },
  {
   "cell_type": "code",
   "execution_count": 25,
   "id": "vulnerable-front",
   "metadata": {},
   "outputs": [
    {
     "data": {
      "text/plain": [
       "<matplotlib.legend.Legend at 0x15afa6710>"
      ]
     },
     "execution_count": 25,
     "metadata": {},
     "output_type": "execute_result"
    },
    {
     "data": {
      "image/png": "[encoded data removed]",
      "text/plain": [
       "<Figure size 432x288 with 1 Axes>"
      ]
     },
     "metadata": {
      "needs_background": "light"
     },
     "output_type": "display_data"
    }
   ],
   "source": [
    "plt.plot(wc_adapt.t, wc_adapt.q_mean_EXC.T, label=\"with adaptation\")\n",
    "plt.plot(wc_basic.t, wc_basic.q_mean_EXC.T, label=\"vanilla\")\n",
    "plt.legend()"
   ]
  },
  {
   "cell_type": "markdown",
   "id": "opened-element",
   "metadata": {},
   "source": [
    "All done. Now we can study adaptation dynamics in Wilson-Cowan model by e.g. running exploration over adaptation parameters and eventually evolution with the target of having slow oscillations (i.e. oscillations with frequency ~1Hz) and optimising with respect to parameters such as `b`, `tauA`, `ext_input` and others. Happy hacking!"
   ]
  }
 ],
 "metadata": {
  "kernelspec": {
   "display_name": "Python 3 (ipykernel)",
   "language": "python",
   "name": "python3"
  },
  "language_info": {
   "codemirror_mode": {
    "name": "ipython",
    "version": 3
   },
   "file_extension": ".py",
   "mimetype": "text/x-python",
   "name": "python",
   "nbconvert_exporter": "python",
   "pygments_lexer": "ipython3",
   "version": "3.7.11"
  }
 },
 "nbformat": 4,
 "nbformat_minor": 5
}
