{
 "cells": [
  {
   "cell_type": "code",
   "execution_count": 1,
   "id": "illegal-squad",
   "metadata": {},
   "outputs": [],
   "source": [
    "import matplotlib.pyplot as plt\n",
    "import numpy as np\n",
    "from IPython.display import display\n",
    "from neurolib.models.multimodel import (\n",
    "    ALNNode,\n",
    "    FitzHughNagumoNetwork,\n",
    "    FitzHughNagumoNode,\n",
    "    MultiModel,\n",
    ")\n",
    "from neurolib.optimize.exploration import BoxSearch\n",
    "from neurolib.utils.parameterSpace import ParameterSpace\n",
    "\n",
    "# a nice color map\n",
    "plt.rcParams['image.cmap'] = 'plasma'"
   ]
  },
  {
   "cell_type": "markdown",
   "id": "marine-lucas",
   "metadata": {},
   "source": [
    "# `MultiModel` advanced topics\n",
    "In the last two examples we showcased the basics of `MultiModel` framework and how to create a new model from scratch. Now we will look at some advanced topics such as how exactly the integration works, why we have two integration backends, and how to run optimisation and exploration with `MultiModel`.\n",
    "\n",
    "## The tale of two backends\n",
    "In the current implementation of `MultiModel`, users may choose from two different integration backends. Before diving into the details of both backends, let us quickly revise how exactly `MultiModel` integrates the model equations.\n",
    "\n",
    "### The how\n",
    "Almost all whole-brain simulators works in the sense, that you define the dynamics of single brain area and then we have a double loop for integration: one over time, the second over brain areas. In other words, all brain areas have the same dynamics. In pseudo-code it would look something like:\n",
    "```python\n",
    "for t in range(time_total):\n",
    "    for n in range(num_areas):\n",
    "        x[t, n] = integrate_step(x[t-max_delay:t-1, :])\n",
    "```\n",
    "Since all areas are the same, the `integrate_step` function would simply take the history of state vector and apply one integration step in any scheme. This won't work in `MultiModel`, since it allows building heterogeneous models. The internal workings of `MultiModel` can be explained in couple of steps.\n",
    "\n",
    "#### State vector\n",
    "Since the inner loop in the pseudocode above is not doable in `MultiModel` due to heterogeneity, we solve it simply by concatenating all individual equations into one big state vector (that is also the reason why all `NeuralMass` and `Node` objects have their indices). When the model is ready for simulation, we iterate over `Nodes` and `NeuralMasses` within these nodes and stack their equations into a single list. The concatenation is done using the `_derivatives()` function.\n",
    "- in `NeuralMass`, the `_derivatives()` function implements the actual dynamics as delay differential equations\n",
    "- in `Node`, the `_derivatives()` function stacks all equations from `NeuralMasses` within this `Node` into one list\n",
    "- in `Network`, the `_derivatives()` function stacks all equations from `Nodes` within this `Network`.\n",
    "\n",
    "Let us see how it looks like:"
   ]
  },
  {
   "cell_type": "code",
   "execution_count": 2,
   "id": "understood-laptop",
   "metadata": {},
   "outputs": [
    {
     "data": {
      "text/plain": [
       "[1.0 + 4.0*current_y(0)**2 - 3.0*current_y(0)**3 - 1.5*current_y(0) - current_y(1) + past_y(-external_input + t, input_base_n, anchors(-external_input + t)),\n",
       " 0.05*(current_y(0) - 0.5*current_y(1)) + past_y(-external_input + t, 1 + input_base_n, anchors(-external_input + t))]"
      ]
     },
     "metadata": {},
     "output_type": "display_data"
    },
    {
     "data": {
      "text/plain": [
       "2"
      ]
     },
     "metadata": {},
     "output_type": "display_data"
    },
    {
     "data": {
      "text/plain": [
       "2"
      ]
     },
     "metadata": {},
     "output_type": "display_data"
    }
   ],
   "source": [
    "# create a FitzHugh-Nagumo Node\n",
    "fhn_node = FitzHughNagumoNode()\n",
    "# necessary attributes when creating a Node from scratch\n",
    "fhn_node.index = 0\n",
    "fhn_node.idx_state_var = 0\n",
    "fhn_node.init_node()\n",
    "\n",
    "display(fhn_node._derivatives())\n",
    "display(len(fhn_node._derivatives()), fhn_node.num_state_variables)"
   ]
  },
  {
   "cell_type": "markdown",
   "id": "adolescent-pursuit",
   "metadata": {},
   "source": [
    "As we see, the `_derivatives()` function return a list of equations, in this case of length 2 (which is, of course, equal to `fhn.num_state_variables`). The `current_y(<index>)` lingo is taken from `jitcdde`. As written above, all equations are symbolic and therefore `current_y(<index>)` is a `symengine` `Symbol` representing state vector with index `<index>` at current time `t`. In other words, `current_y(0)` is the first variable (in FitzHugh-Nagumo model, this is the $x$), while `current_y(1)` is the second variable (the $y$). The `past_y()` lingo is the same, but encodes either the past of the state vector, i.e. delayed interactions, or the external input (noise or stimulus). In this case it represents the external input (you can tell since it is `past_y(-external_input...)`). Now let us see how it looks like for network:"
   ]
  },
  {
   "cell_type": "code",
   "execution_count": 3,
   "id": "classical-meaning",
   "metadata": {},
   "outputs": [
    {
     "data": {
      "text/plain": [
       "4"
      ]
     },
     "metadata": {},
     "output_type": "display_data"
    },
    {
     "data": {
      "text/plain": [
       "4"
      ]
     },
     "metadata": {},
     "output_type": "display_data"
    },
    {
     "data": {
      "text/plain": [
       "[1.0 + network_x_0 + 4.0*current_y(0)**2 - 3.0*current_y(0)**3 - 1.5*current_y(0) - current_y(1) + past_y(-external_input + t, input_base_n, anchors(-external_input + t)),\n",
       " network_y_0 + 0.05*(current_y(0) - 0.5*current_y(1)) + past_y(-external_input + t, 1 + input_base_n, anchors(-external_input + t)),\n",
       " 1.0 + network_x_1 + 4.0*current_y(2)**2 - 3.0*current_y(2)**3 - 1.5*current_y(2) - current_y(3) + past_y(-external_input + t, 2 + input_base_n, anchors(-external_input + t)),\n",
       " network_y_1 + 0.05*(current_y(2) - 0.5*current_y(3)) + past_y(-external_input + t, 3 + input_base_n, anchors(-external_input + t))]"
      ]
     },
     "metadata": {},
     "output_type": "display_data"
    }
   ],
   "source": [
    "# create 2 node FHN network\n",
    "SC = np.array([[0.0, 1.43], [0.64, 0.0]])\n",
    "delays = np.array([[0.0, 10.0], [10.0, 0.0]])\n",
    "fhn_net = FitzHughNagumoNetwork(SC, delays)\n",
    "\n",
    "display(len(fhn_net._derivatives()), fhn_net.num_state_variables)\n",
    "display(fhn_net._derivatives())"
   ]
  },
  {
   "cell_type": "markdown",
   "id": "behind-legislation",
   "metadata": {},
   "source": [
    "Now, since we have 2 nodes, the total number of state variables is 4. And now, we see equations for the whole network as a list of 4 symbolic equations. In the network equations we see a new symbol: `network_x_0` and `network_x_1`. At this time, these are really just `symengine` symbols, but they actually represent the coupling between the nodes. And that is also a topic of the next section.\n",
    "\n",
    "#### Coupling\n",
    "As we have seen before, the state vector encodes the whole dynamics of the brain model, but the coupling is crypted as symbol. To make things easier for simulating, we had to separate the individual internal dynamics from the coupling terms. The coupling comes in two flavours, reflecting the three levels of hierarchy: node coupling takes care of coupling between `NeuralMasses` within one `Node`, and network coupling takes care of coupling between `Nodes` in one `Network`. The coupling is implemented as `_sync()` function. This function returns a list, where each item is a tuple of length two: `(name_of_the_symbol, symbolic_term_representing_the_coupling)`. The FitzHugh-Nagumo model only has one mass per node, hence there are no node couplings, but we can inspect the network coupling:"
   ]
  },
  {
   "cell_type": "code",
   "execution_count": 4,
   "id": "still-lesson",
   "metadata": {},
   "outputs": [
    {
     "data": {
      "text/plain": [
       "[(network_x_0,\n",
       "  1.43*(-current_y(0) + past_y(-10.0 + t, 2, anchors(-10.0 + t)))),\n",
       " (network_x_1,\n",
       "  0.64*(-current_y(2) + past_y(-10.0 + t, 0, anchors(-10.0 + t)))),\n",
       " (network_y_0, 0.0),\n",
       " (network_y_1, 0.0)]"
      ]
     },
     "metadata": {},
     "output_type": "display_data"
    }
   ],
   "source": [
    "display(fhn_net._sync())"
   ]
  },
  {
   "cell_type": "markdown",
   "id": "premium-cincinnati",
   "metadata": {},
   "source": [
    "In this particular case, we have 2 coupling variables and 2 nodes, hence 4 coupling terms. The coupling of $y$ is zero. As per the coupling of $x$ variables between nodes, you can now see how it works: `network_x_0` just means that we are about to define a network coupling of variable `x` for the first node, and it is just 1.43 (this is the SC matrix we passed when creating FHN network) times state variable with index 2 at time -10 milliseconds minus current state variable index 0 (diffusive coupling). Similarly for node 1 (with different coupling strength and state variable indices, of course).\n",
    "\n",
    "Now when symbols from `_sync()` function are inserted into `_derivatives()` at the proper places, we have a full definition of a model. This is exactly what both backends do: they gather the equations (`_derivatives()`), look up the coupling terms (`_sync()`) and integrate the model forward in time."
   ]
  },
  {
   "cell_type": "markdown",
   "id": "incredible-holocaust",
   "metadata": {},
   "source": [
    "### `jitcdde` backend\n",
    "The `jitcdde` backend was the first integration backend in `MultiModel`. The name stems from the fact that we use wonderful [`jitcdde`](https://jitcdde.readthedocs.io/en/stable/) python package. It employs just-in-time compilation of symbolic derivatives into C and then uses DDE integration method proposed by Shampine and Thompson, which in turn employs the Bogacki–Shampine Runge–Kutta pair. This is the reason why the definition of dynamics in `MultiModel` is done using symbolic derivatives written in `symengine`. It uses adaptive `dt` scheme, hence is very useful for stiff problems. Also, if you are implementing a new model and have no idea how stiff the dynamics are, this is the backend to try first. It has reasonable speed, but for large networks and long simulations it is not the best.\n",
    "\n",
    "The internal workings of `jitcdde` package served as an inspiration when creating `MultiModel`. `jitcdde` naturally works with dynamics defined as symbolic equations (`_derivatives()`) and it also supports the use of \"helpers\" - the helpers in our case are the coupling terms (`_sync()`)."
   ]
  },
  {
   "cell_type": "code",
   "execution_count": 5,
   "id": "advanced-madonna",
   "metadata": {},
   "outputs": [
    {
     "name": "stderr",
     "output_type": "stream",
     "text": [
      "/Users/nikola/.virtualenvs/neurolib/lib/python3.7/site-packages/jitcdde/_jitcdde.py:1491: UserWarning: Your input past does not begin at t=0 but at t=1.0. Values before the beginning of the past will be extrapolated. You very likely do not want this.\n",
      "  warn(f\"Your input past does not begin at t=0 but at t={input[0].time}. Values before the beginning of the past will be extrapolated. You very likely do not want this.\")\n",
      "100%|██████████| 2000/2000 [00:00<00:00, 89345.06it/s]"
     ]
    },
    {
     "name": "stdout",
     "output_type": "stream",
     "text": [
      "Using default integration parameters.\n"
     ]
    },
    {
     "name": "stderr",
     "output_type": "stream",
     "text": [
      "\n"
     ]
    },
    {
     "data": {
      "text/plain": [
       "[<matplotlib.lines.Line2D at 0x15a39a310>,\n",
       " <matplotlib.lines.Line2D at 0x15a36a750>]"
      ]
     },
     "execution_count": 5,
     "metadata": {},
     "output_type": "execute_result"
    },
    {
     "data": {
      "image/png": "[encoded data removed]",
      "text/plain": [
       "<Figure size 432x288 with 1 Axes>"
      ]
     },
     "metadata": {
      "needs_background": "light"
     },
     "output_type": "display_data"
    }
   ],
   "source": [
    "fhn_mm = MultiModel(fhn_net)\n",
    "# 2 second run\n",
    "fhn_mm.params[\"duration\"] = 2000.0\n",
    "fhn_mm.params[\"backend\"] = \"jitcdde\"\n",
    "# jitcdde works with adaptive dt, you only set sampling dt\n",
    "fhn_mm.params[\"sampling_dt\"] = 1.0\n",
    "fhn_mm.run()\n",
    "\n",
    "plt.plot(fhn_mm.x.T)"
   ]
  },
  {
   "cell_type": "markdown",
   "id": "other-january",
   "metadata": {},
   "source": [
    "### `numba` backend\n",
    "Since `jitcdde` is rather slow, in particular for long runs or large networks, we created a `numba` backend. It was tricky - the whole code around `MultiModel` was creating with `jitcdde` in mind with the symbolic equations, helpers, etc. However, the advantage of symbolic equations is also - they are purely symbolic, so you can \"print\" them. By printing, you really just obtain the string with equations. So what `numba` backend actually does?\n",
    "1. gather all symbolic equations with `_derivatives()`\n",
    "2. substitute coupling symbols with functional terms in `_sync()`\n",
    "3. substitute current and past state vector symbols (`current_y()` and `past_y()`) with state vector `y` with correct indices and time delays\n",
    "4. now we have a complete description of `dy`\n",
    "5. \"print\" out this `dy` into prepared function template (string) inside the time for loop, you can imagine it as\n",
    "```python\n",
    "for t in range(1, t_max):\n",
    "      dy = np.array({dy}) # <- `dy` is printed here\n",
    "      y[:, t] = y[:, t-1] + dt*dy\n",
    "```\n",
    "6. compile the prepared string template into an actual python function (yes, python can do this)\n",
    "7. wrap the compiled function with `numba.njit()` to get the speed boots\n",
    "8. profit\n",
    "\n",
    "And yes, the `numba` backend simply employs Euler integration scheme, which means that you need to think about dt."
   ]
  },
  {
   "cell_type": "code",
   "execution_count": 6,
   "id": "gothic-canadian",
   "metadata": {},
   "outputs": [
    {
     "data": {
      "text/plain": [
       "[<matplotlib.lines.Line2D at 0x15a24fe90>,\n",
       " <matplotlib.lines.Line2D at 0x15a25fd90>]"
      ]
     },
     "execution_count": 6,
     "metadata": {},
     "output_type": "execute_result"
    },
    {
     "data": {
      "image/png": "[encoded data removed]",
      "text/plain": [
       "<Figure size 432x288 with 1 Axes>"
      ]
     },
     "metadata": {
      "needs_background": "light"
     },
     "output_type": "display_data"
    }
   ],
   "source": [
    "fhn_mm = MultiModel(fhn_net)\n",
    "# 2 second run\n",
    "fhn_mm.params[\"duration\"] = 2000.0\n",
    "fhn_mm.params[\"backend\"] = \"numba\"\n",
    "# numba uses Euler scheme so dt is important!\n",
    "fhn_mm.params[\"dt\"] = 0.1\n",
    "fhn_mm.params[\"sampling_dt\"] = 1.0\n",
    "fhn_mm.run()\n",
    "\n",
    "plt.plot(fhn_mm.x.T)"
   ]
  },
  {
   "cell_type": "markdown",
   "id": "broken-veteran",
   "metadata": {},
   "source": [
    "## Which backend to use and when?\n",
    "By default `numba` backend is almost always faster (with the exception of small network and not too long runs, when they perform similarly). However, for prototyping new models, or connecting couple of models into a heterogeneous network, it is always a good idea to do a couple of short simulations with `jitcdde`. The reason is - it uses an adaptive dt, so you do not need to worry about setting a correct dt. When you have an idea about what the dynamics should look like and how fast it is, you can switch to `numba` and try couple of different dt and select the one, when the results are closest to `jitcdde` results. For exploration and optimisation with evolution, always use `numba`. `numba` backend is actually compiling a jit'ed function with all the parameters as arguments, hence for exploration, only one compilation is necessary and then even when changing parameters, the model runs at high speed."
   ]
  },
  {
   "cell_type": "markdown",
   "id": "entitled-electronics",
   "metadata": {},
   "source": [
    "## Exploration with `MultiModel`\n",
    "\n",
    "So we all love `neurolib` not only for its speed, efficiency, and ease of use, but also for its built-in exploration and evolution frameworks. These two makes studying the population models a real breeze! And naturally, `MultiModel` supports both. Firtsly, we will showcase how we can explore parameters of `MultiModel` using the `BoxSearch` class and we will replicate the ALN exploration from `example-1-aln-parameter-exploration.ipynb`."
   ]
  },
  {
   "cell_type": "code",
   "execution_count": 7,
   "id": "marine-chambers",
   "metadata": {},
   "outputs": [
    {
     "data": {
      "text/plain": [
       "{'ALNNode_0.ALNMassEXC_0.Ke': 800.0,\n",
       " 'ALNNode_0.ALNMassEXC_0.Ki': 200.0,\n",
       " 'ALNNode_0.ALNMassEXC_0.c_gl': 0.4,\n",
       " 'ALNNode_0.ALNMassEXC_0.Ke_gl': 250.0,\n",
       " 'ALNNode_0.ALNMassEXC_0.tau_se': 2.0,\n",
       " 'ALNNode_0.ALNMassEXC_0.tau_si': 5.0,\n",
       " 'ALNNode_0.ALNMassEXC_0.sigmae_ext': 1.5,\n",
       " 'ALNNode_0.ALNMassEXC_0.Jee_max': 2.43,\n",
       " 'ALNNode_0.ALNMassEXC_0.Jei_max': -3.3,\n",
       " 'ALNNode_0.ALNMassEXC_0.C': 200.0,\n",
       " 'ALNNode_0.ALNMassEXC_0.gL': 10.0,\n",
       " 'ALNNode_0.ALNMassEXC_0.ext_exc_current': 0.0,\n",
       " 'ALNNode_0.ALNMassEXC_0.ext_exc_rate': 0.0,\n",
       " 'ALNNode_0.ALNMassEXC_0.a': 15.0,\n",
       " 'ALNNode_0.ALNMassEXC_0.b': 40.0,\n",
       " 'ALNNode_0.ALNMassEXC_0.EA': -80.0,\n",
       " 'ALNNode_0.ALNMassEXC_0.tauA': 200.0,\n",
       " 'ALNNode_0.ALNMassEXC_0.lambda': 10.0,\n",
       " 'ALNNode_0.ALNMassEXC_0.noise_0.type': 'OrnsteinUhlenbeckProcess',\n",
       " 'ALNNode_0.ALNMassEXC_0.noise_0.mu': 0.4,\n",
       " 'ALNNode_0.ALNMassEXC_0.noise_0.sigma': 0.0,\n",
       " 'ALNNode_0.ALNMassEXC_0.noise_0.tau': 5.0,\n",
       " 'ALNNode_0.ALNMassEXC_0.noise_0.num_iid': 1,\n",
       " 'ALNNode_0.ALNMassEXC_0.noise_0.seed': None,\n",
       " 'ALNNode_0.ALNMassINH_1.Ke': 800.0,\n",
       " 'ALNNode_0.ALNMassINH_1.Ki': 200.0,\n",
       " 'ALNNode_0.ALNMassINH_1.c_gl': 0.4,\n",
       " 'ALNNode_0.ALNMassINH_1.Ke_gl': 250.0,\n",
       " 'ALNNode_0.ALNMassINH_1.tau_se': 2.0,\n",
       " 'ALNNode_0.ALNMassINH_1.tau_si': 5.0,\n",
       " 'ALNNode_0.ALNMassINH_1.sigmai_ext': 1.5,\n",
       " 'ALNNode_0.ALNMassINH_1.Jie_max': 2.6,\n",
       " 'ALNNode_0.ALNMassINH_1.Jii_max': -1.64,\n",
       " 'ALNNode_0.ALNMassINH_1.C': 200.0,\n",
       " 'ALNNode_0.ALNMassINH_1.gL': 10.0,\n",
       " 'ALNNode_0.ALNMassINH_1.ext_inh_current': 0.0,\n",
       " 'ALNNode_0.ALNMassINH_1.ext_inh_rate': 0.0,\n",
       " 'ALNNode_0.ALNMassINH_1.lambda': 10.0,\n",
       " 'ALNNode_0.ALNMassINH_1.noise_0.type': 'OrnsteinUhlenbeckProcess',\n",
       " 'ALNNode_0.ALNMassINH_1.noise_0.mu': 0.3,\n",
       " 'ALNNode_0.ALNMassINH_1.noise_0.sigma': 0.0,\n",
       " 'ALNNode_0.ALNMassINH_1.noise_0.tau': 5.0,\n",
       " 'ALNNode_0.ALNMassINH_1.noise_0.num_iid': 1,\n",
       " 'ALNNode_0.ALNMassINH_1.noise_0.seed': None,\n",
       " 'ALNNode_0.local_connectivity': array([[0.24691358, 0.75757576],\n",
       "        [0.23076923, 1.52439024]]),\n",
       " 'ALNNode_0.local_delays': array([[4., 2.],\n",
       "        [4., 2.]]),\n",
       " 'duration': 2000,\n",
       " 'dt': 0.1,\n",
       " 'seed': None,\n",
       " 'backend': 'jitcdde',\n",
       " 'name': 'ALNNode',\n",
       " 'description': 'ALN neural mass node',\n",
       " 'N': 1,\n",
       " 'Cmat': array([[0.]]),\n",
       " 'sampling_dt': 0.1}"
      ]
     },
     "metadata": {},
     "output_type": "display_data"
    }
   ],
   "source": [
    "# first init multimodel\n",
    "aln_mm = MultiModel.init_node(ALNNode())\n",
    "display(aln_mm.params)"
   ]
  },
  {
   "cell_type": "markdown",
   "id": "intermediate-finder",
   "metadata": {},
   "source": [
    "### Note on parameters when exploring or optimising\n",
    "If you remember, the `MultiModel` has an option for true heterogeneous parameters, i.e. each brain node can have different parameters. This allows you to explore paramaters one-by-one (truly different parameters for each node), or in bulk. As an example, consider this:\n",
    "```python\n",
    "parameters1 = ParameterSpace({\"*Ke\": [400, 800, 1200]}, allow_star_notation=True)\n",
    "\n",
    "parameters2 = ParameterSpace(\n",
    "    {\"*EXC*Ke\": [400, 800, 1200], \"*INH*Ke\": [400, 800, 1200]},\n",
    "    allow_star_notation=True\n",
    ")\n",
    "\n",
    "parameters2 = ParameterSpace(\n",
    "    {\"*Node_0*EXC*Ke\": [400, 800, 1200], \"*Node_1*EXC*Ke\": [400, 800, 1200]},\n",
    "    allow_star_notation=True\n",
    ")\n",
    "```\n",
    "In the first example (`parameters1`), we explore `Ke` parameter and set this for all nodes and for all masses the same. In the end, we run three simulations with homogeneous `Ke` for all nodes/masses.\n",
    "\n",
    "In the second example, we explore `Ke` individually for excitatory masses and inhibitory masses, however, for all nodes these would be the same. In total, we will run 9 simulations with heterogeneous `Ke` within one node, but the same values for `Ke_exc` and `Ke_inh` would be used in all nodes.\n",
    "\n",
    "Finally, in the last example, we would explore only excitatory `Ke` parameters, but for two nodes differently, hence we can study how excitatory `Ke` affects 2-node network.\n",
    "\n",
    "Of course, we can always call parameters by their full name (glob path), like:\n",
    "```python\n",
    "parameters3 = ParameterSpace(\n",
    "    {\"ALNNode_0.ALNMassINH_1.Ke\": [400, 800, 1200]},\n",
    "    allow_star_notation=True # due to \".\" in the param names\n",
    ")\n",
    "```\n",
    "and we will simply explore over one particular `Ke` of inhibitory mass in first node within a network. All other `Ke` parameters will remain constant."
   ]
  },
  {
   "cell_type": "code",
   "execution_count": 8,
   "id": "collaborative-warren",
   "metadata": {},
   "outputs": [
    {
     "name": "stderr",
     "output_type": "stream",
     "text": [
      "MainProcess pypet.storageservice.HDF5StorageService INFO     I will use the hdf5 file `./data/hdf/example-4.2.hdf`.\n",
      "MainProcess pypet.environment.Environment INFO     Environment initialized.\n",
      "/Users/nikola/.virtualenvs/neurolib/lib/python3.7/site-packages/pypet/naturalnaming.py:1473: SyntaxWarning: `lambda` is a python keyword, you may not be able to access it via natural naming but only by using `[]` square bracket notation. \n",
      "  category=SyntaxWarning)\n",
      "MainProcess root INFO     Number of parameter configurations: 441\n",
      "MainProcess root INFO     BoxSearch: Environment initialized.\n"
     ]
    }
   ],
   "source": [
    "# match params to core ALN model\n",
    "aln_mm.params[\"backend\"] = \"numba\"\n",
    "aln_mm.params[\"dt\"] = 0.1  # ms\n",
    "aln_mm.params[\"*c_gl\"] = 0.3\n",
    "aln_mm.params[\"*b\"] = 0.0\n",
    "aln_mm.params[\"ALNNode_0.ALNMassEXC_0.a\"] = 0.0\n",
    "\n",
    "# set up exploration - using star\n",
    "\n",
    "# parameters = ParameterSpace(\n",
    "#     {\n",
    "#         \"*EXC*noise*mu\": np.linspace(0, 3, 21),\n",
    "#         \"*INH*noise*mu\": np.linspace(0, 3, 21),\n",
    "#     },\n",
    "#     allow_star_notation=True,\n",
    "# )\n",
    "\n",
    "# set up exploration - using exact parameter names\n",
    "# in this case (one node, search over noise mu) -> these two are equivalent!\n",
    "parameters = ParameterSpace(\n",
    "    {\n",
    "        \"ALNNode_0.ALNMassEXC_0.noise_0.mu\": np.linspace(0, 3, 21),\n",
    "        \"ALNNode_0.ALNMassINH_1.noise_0.mu\": np.linspace(0, 3, 21),\n",
    "    },\n",
    "    allow_star_notation=True,\n",
    ")\n",
    "search = BoxSearch(aln_mm, parameters, filename=\"example-4.2.hdf\")"
   ]
  },
  {
   "cell_type": "code",
   "execution_count": 9,
   "id": "herbal-abortion",
   "metadata": {},
   "outputs": [
    {
     "name": "stderr",
     "output_type": "stream",
     "text": [
      "MainProcess pypet.environment.Environment INFO     I am preparing the Trajectory for the experiment and initialise the store.\n",
      "MainProcess pypet.environment.Environment INFO     Initialising the storage for the trajectory.\n",
      "MainProcess pypet.storageservice.HDF5StorageService INFO     Initialising storage or updating meta data of Trajectory `results-2021-06-15-12H-57M-44S`.\n",
      "MainProcess pypet.storageservice.HDF5StorageService INFO     Finished init or meta data update for `results-2021-06-15-12H-57M-44S`.\n",
      "MainProcess pypet.environment.Environment INFO     \n",
      "************************************************************\n",
      "STARTING runs of trajectory\n",
      "`results-2021-06-15-12H-57M-44S`.\n",
      "************************************************************\n",
      "\n",
      "MainProcess pypet.storageservice.HDF5StorageService INFO     Initialising storage or updating meta data of Trajectory `results-2021-06-15-12H-57M-44S`.\n",
      "MainProcess pypet.storageservice.HDF5StorageService INFO     Finished init or meta data update for `results-2021-06-15-12H-57M-44S`.\n",
      "MainProcess pypet.environment.Environment INFO     Starting multiprocessing with at most 8 processes running at the same time.\n",
      "MainProcess pypet INFO     PROGRESS: Finished   0/441 runs [                    ]  0.0%\n",
      "MainProcess pypet INFO     PROGRESS: Finished  23/441 runs [=                   ]  5.2%, remaining: 0:05:16\n",
      "MainProcess pypet INFO     PROGRESS: Finished  45/441 runs [==                  ] 10.2%, remaining: 0:04:45\n",
      "MainProcess pypet INFO     PROGRESS: Finished  67/441 runs [===                 ] 15.2%, remaining: 0:04:24\n",
      "MainProcess pypet INFO     PROGRESS: Finished  89/441 runs [====                ] 20.2%, remaining: 0:04:06\n",
      "MainProcess pypet INFO     PROGRESS: Finished 111/441 runs [=====               ] 25.2%, remaining: 0:03:37\n",
      "MainProcess pypet INFO     PROGRESS: Finished 133/441 runs [======              ] 30.2%, remaining: 0:03:25\n",
      "MainProcess pypet INFO     PROGRESS: Finished 155/441 runs [=======             ] 35.1%, remaining: 0:03:10\n",
      "MainProcess pypet INFO     PROGRESS: Finished 177/441 runs [========            ] 40.1%, remaining: 0:02:57\n",
      "MainProcess pypet INFO     PROGRESS: Finished 199/441 runs [=========           ] 45.1%, remaining: 0:02:40\n",
      "MainProcess pypet INFO     PROGRESS: Finished 221/441 runs [==========          ] 50.1%, remaining: 0:02:27\n",
      "MainProcess pypet INFO     PROGRESS: Finished 243/441 runs [===========         ] 55.1%, remaining: 0:02:13\n",
      "MainProcess pypet INFO     PROGRESS: Finished 265/441 runs [============        ] 60.1%, remaining: 0:01:59\n",
      "MainProcess pypet INFO     PROGRESS: Finished 287/441 runs [=============       ] 65.1%, remaining: 0:01:43\n",
      "MainProcess pypet INFO     PROGRESS: Finished 309/441 runs [==============      ] 70.1%, remaining: 0:01:29\n",
      "MainProcess pypet INFO     PROGRESS: Finished 331/441 runs [===============     ] 75.1%, remaining: 0:01:15\n",
      "MainProcess pypet INFO     PROGRESS: Finished 353/441 runs [================    ] 80.0%, remaining: 0:01:00\n",
      "MainProcess pypet INFO     PROGRESS: Finished 375/441 runs [=================   ] 85.0%, remaining: 0:00:44\n",
      "MainProcess pypet INFO     PROGRESS: Finished 397/441 runs [==================  ] 90.0%, remaining: 0:00:29\n",
      "MainProcess pypet INFO     PROGRESS: Finished 419/441 runs [=================== ] 95.0%, remaining: 0:00:15\n",
      "MainProcess pypet INFO     PROGRESS: Finished 441/441 runs [====================]100.0%\n",
      "MainProcess pypet.storageservice.HDF5StorageService INFO     Initialising storage or updating meta data of Trajectory `results-2021-06-15-12H-57M-44S`.\n",
      "MainProcess pypet.storageservice.HDF5StorageService INFO     Finished init or meta data update for `results-2021-06-15-12H-57M-44S`.\n",
      "MainProcess pypet.environment.Environment INFO     \n",
      "************************************************************\n",
      "FINISHED all runs of trajectory\n",
      "`results-2021-06-15-12H-57M-44S`.\n",
      "************************************************************\n",
      "\n",
      "MainProcess pypet.environment.Environment INFO     \n",
      "************************************************************\n",
      "STARTING FINAL STORING of trajectory\n",
      "`results-2021-06-15-12H-57M-44S`\n",
      "************************************************************\n",
      "\n",
      "MainProcess pypet.storageservice.HDF5StorageService INFO     Start storing Trajectory `results-2021-06-15-12H-57M-44S`.\n",
      "MainProcess pypet.storageservice.HDF5StorageService INFO     Storing branch `config`.\n",
      "MainProcess pypet.storageservice.HDF5StorageService INFO     Storing branch `parameters`.\n",
      "MainProcess pypet.storageservice.HDF5StorageService INFO     Finished storing Trajectory `results-2021-06-15-12H-57M-44S`.\n",
      "MainProcess pypet.environment.Environment INFO     \n",
      "************************************************************\n",
      "FINISHED FINAL STORING of trajectory\n",
      "`results-2021-06-15-12H-57M-44S`.\n",
      "************************************************************\n",
      "\n",
      "MainProcess pypet.environment.Environment INFO     All runs of trajectory `results-2021-06-15-12H-57M-44S` were completed successfully.\n"
     ]
    }
   ],
   "source": [
    "search.run()"
   ]
  },
  {
   "cell_type": "code",
   "execution_count": 10,
   "id": "based-essence",
   "metadata": {},
   "outputs": [
    {
     "name": "stderr",
     "output_type": "stream",
     "text": [
      "MainProcess root INFO     Loading results from ./data/hdf/example-4.2.hdf\n",
      "MainProcess root INFO     Analyzing trajectory results-2021-06-15-12H-57M-44S\n",
      "MainProcess pypet.storageservice.HDF5StorageService INFO     I will use the hdf5 file `./data/hdf/example-4.2.hdf`.\n",
      "MainProcess pypet.storageservice.HDF5StorageService INFO     Loading trajectory `results-2021-06-15-12H-57M-44S`.\n",
      "MainProcess pypet.storageservice.HDF5StorageService INFO     Loading branch `config` in mode `2`.\n",
      "MainProcess pypet.storageservice.HDF5StorageService INFO     Loading branch `parameters` in mode `2`.\n",
      "MainProcess pypet.storageservice.HDF5StorageService INFO     Loading branch `results` in mode `1`.\n",
      "MainProcess root INFO     Creating `dfResults` dataframe ...\n",
      "MainProcess root INFO     Loading all results to `results` dictionary ...\n",
      "100%|██████████| 441/441 [00:01<00:00, 227.42it/s]\n",
      "MainProcess root INFO     Aggregating results to `dfResults` ...\n",
      "100%|██████████| 441/441 [00:00<00:00, 3871.51it/s]\n",
      "MainProcess root INFO     All results loaded.\n"
     ]
    }
   ],
   "source": [
    "search.loadResults()"
   ]
  },
  {
   "cell_type": "code",
   "execution_count": 11,
   "id": "bronze-jacob",
   "metadata": {},
   "outputs": [
    {
     "name": "stdout",
     "output_type": "stream",
     "text": [
      "Number of results: 441\n"
     ]
    }
   ],
   "source": [
    "print(f\"Number of results: {len(search.results)}\")"
   ]
  },
  {
   "cell_type": "code",
   "execution_count": 12,
   "id": "checked-fountain",
   "metadata": {},
   "outputs": [],
   "source": [
    "# Example analysis of the results\n",
    "# The .results attribute is a list and can be indexed by the run\n",
    "# number (which is also the index of the pandas dataframe .dfResults).\n",
    "# Here we compute the maximum firing rate of the node in the last second\n",
    "# and add the result (a float) to the pandas dataframe.\n",
    "for i in search.dfResults.index:\n",
    "    search.dfResults.loc[i, \"max_r\"] = np.max(\n",
    "        search.results[i][\"r_mean_EXC\"][:, -int(1000 / aln_mm.params[\"dt\"]) :]\n",
    "    )"
   ]
  },
  {
   "cell_type": "code",
   "execution_count": 13,
   "id": "least-bedroom",
   "metadata": {},
   "outputs": [
    {
     "data": {
      "text/plain": [
       "Text(0, 0.5, 'Input to I')"
      ]
     },
     "execution_count": 13,
     "metadata": {},
     "output_type": "execute_result"
    },
    {
     "data": {
      "image/png": "[encoded data removed]",
      "text/plain": [
       "<Figure size 432x288 with 2 Axes>"
      ]
     },
     "metadata": {
      "needs_background": "light"
     },
     "output_type": "display_data"
    }
   ],
   "source": [
    "plt.imshow(\n",
    "    search.dfResults.pivot_table(\n",
    "        values=\"max_r\",\n",
    "        index=\"ALNNode_0.ALNMassINH_1.noise_0.mu\",\n",
    "        columns=\"ALNNode_0.ALNMassEXC_0.noise_0.mu\",\n",
    "    ),\n",
    "    extent=[\n",
    "        min(search.dfResults[\"ALNNode_0.ALNMassEXC_0.noise_0.mu\"]),\n",
    "        max(search.dfResults[\"ALNNode_0.ALNMassEXC_0.noise_0.mu\"]),\n",
    "        min(search.dfResults[\"ALNNode_0.ALNMassINH_1.noise_0.mu\"]),\n",
    "        max(search.dfResults[\"ALNNode_0.ALNMassINH_1.noise_0.mu\"]),\n",
    "    ],\n",
    "    origin=\"lower\",\n",
    ")\n",
    "plt.colorbar(label=\"Maximum rate [kHz]\")\n",
    "plt.xlabel(\"Input to E\")\n",
    "plt.ylabel(\"Input to I\")"
   ]
  }
 ],
 "metadata": {
  "kernelspec": {
   "display_name": "Python 3",
   "language": "python",
   "name": "python3"
  },
  "language_info": {
   "codemirror_mode": {
    "name": "ipython",
    "version": 3
   },
   "file_extension": ".py",
   "mimetype": "text/x-python",
   "name": "python",
   "nbconvert_exporter": "python",
   "pygments_lexer": "ipython3",
   "version": "3.7.10"
  }
 },
 "nbformat": 4,
 "nbformat_minor": 5
}
