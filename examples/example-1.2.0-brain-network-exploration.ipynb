{
 "cells": [
  {
   "cell_type": "code",
   "execution_count": 1,
   "metadata": {},
   "outputs": [],
   "source": [
    "# change to the root directory of the project\n",
    "import os\n",
    "if os.getcwd().split(\"/\")[-1] == \"examples\":\n",
    "    os.chdir('..')\n",
    "    \n",
    "# This will reload all imports as soon as the code changes\n",
    "%load_ext autoreload\n",
    "%autoreload 2    "
   ]
  },
  {
   "cell_type": "code",
   "execution_count": 2,
   "metadata": {},
   "outputs": [],
   "source": [
    "import logging\n",
    "logging.getLogger().setLevel(logging.INFO)\n",
    "import warnings\n",
    "warnings.filterwarnings(\"ignore\")"
   ]
  },
  {
   "cell_type": "code",
   "execution_count": 3,
   "metadata": {},
   "outputs": [],
   "source": [
    "try:\n",
    "    import matplotlib.pyplot as plt\n",
    "except ImportError:\n",
    "    import sys\n",
    "    !{sys.executable} -m pip install matplotlib\n",
    "    import matplotlib.pyplot as plt\n",
    "    \n",
    "import numpy as np\n",
    "\n",
    "# Let's import all the necessary functions for the parameter\n",
    "from neurolib.models.fhn import FHNModel\n",
    "from neurolib.utils.parameterSpace import ParameterSpace\n",
    "from neurolib.optimize.exploration import BoxSearch\n",
    "\n",
    "# load some utilty functions for explorations\n",
    "import neurolib.utils.pypetUtils as pu\n",
    "import neurolib.utils.paths as paths\n",
    "import neurolib.optimize.exploration.explorationUtils as eu\n",
    "\n",
    "# The brain network dataset\n",
    "from neurolib.utils.loadData import Dataset\n",
    "\n",
    "# Some useful functions are provided here\n",
    "import neurolib.utils.functions as func\n",
    "\n",
    "# a nice color map\n",
    "plt.rcParams['image.cmap'] = 'plasma'"
   ]
  },
  {
   "cell_type": "markdown",
   "metadata": {},
   "source": [
    "# Set up exploration"
   ]
  },
  {
   "cell_type": "code",
   "execution_count": 5,
   "metadata": {},
   "outputs": [
    {
     "name": "stderr",
     "output_type": "stream",
     "text": [
      "INFO:root:Loading dataset hcp from /Users/caglar/Documents/PhD/projects/neurolib/neurolib/utils/../data/datasets/hcp.\n",
      "INFO:root:Dataset hcp loaded.\n",
      "INFO:root:fhn: Model initialized.\n"
     ]
    }
   ],
   "source": [
    "ds = Dataset(\"hcp\")\n",
    "model = FHNModel(Cmat = ds.Cmat, Dmat = ds.Dmat)\n",
    "model.params.duration = 10 * 1000 #ms\n",
    "model.params.dt = 0.05\n",
    "model.params.bold = True"
   ]
  },
  {
   "cell_type": "code",
   "execution_count": 6,
   "metadata": {},
   "outputs": [],
   "source": [
    "model.run(chunkwise=True)"
   ]
  },
  {
   "cell_type": "code",
   "execution_count": 7,
   "metadata": {},
   "outputs": [
    {
     "name": "stderr",
     "output_type": "stream",
     "text": [
      "INFO:root:Number of processes: 8\n",
      "MainProcess pypet.storageservice.HDF5StorageService INFO     I will use the hdf5 file `./data/hdf/exploration-fhn-coupling.hdf`.\n",
      "MainProcess pypet.environment.Environment INFO     Environment initialized.\n",
      "MainProcess root INFO     Number of parameter configurations: 242\n",
      "MainProcess root INFO     BoxSearch: Environment initialized.\n"
     ]
    }
   ],
   "source": [
    "parameters = ParameterSpace({\"x_ext\": [np.ones((model.params['N'],)) * a for a in  np.linspace(0, 2, 11)]\n",
    "                             ,\"K_gl\": np.linspace(0, 2, 11)\n",
    "                             ,\"coupling\" : [\"additive\", \"diffusive\"]\n",
    "                            }, kind=\"grid\")\n",
    "search = BoxSearch(model=model, parameterSpace=parameters, filename='exploration-fhn-coupling.hdf')"
   ]
  },
  {
   "cell_type": "markdown",
   "metadata": {},
   "source": [
    "## Run the expliration"
   ]
  },
  {
   "cell_type": "code",
   "execution_count": 8,
   "metadata": {},
   "outputs": [
    {
     "name": "stderr",
     "output_type": "stream",
     "text": [
      "MainProcess pypet.environment.Environment INFO     I am preparing the Trajectory for the experiment and initialise the store.\n",
      "MainProcess pypet.environment.Environment INFO     Initialising the storage for the trajectory.\n",
      "MainProcess pypet.storageservice.HDF5StorageService INFO     Initialising storage or updating meta data of Trajectory `results-2020-04-08-00H-09M-31S`.\n",
      "MainProcess pypet.storageservice.HDF5StorageService INFO     Finished init or meta data update for `results-2020-04-08-00H-09M-31S`.\n",
      "MainProcess pypet.environment.Environment INFO     \n",
      "************************************************************\n",
      "STARTING runs of trajectory\n",
      "`results-2020-04-08-00H-09M-31S`.\n",
      "************************************************************\n",
      "\n",
      "MainProcess pypet.storageservice.HDF5StorageService INFO     Initialising storage or updating meta data of Trajectory `results-2020-04-08-00H-09M-31S`.\n",
      "MainProcess pypet.storageservice.HDF5StorageService INFO     Finished init or meta data update for `results-2020-04-08-00H-09M-31S`.\n",
      "MainProcess pypet.environment.Environment INFO     Starting multiprocessing with at most 8 processes running at the same time.\n",
      "MainProcess pypet INFO     PROGRESS: Finished   0/242 runs [                    ]  0.0%\n",
      "MainProcess pypet INFO     PROGRESS: Finished  13/242 runs [=                   ]  5.4%, remaining: 0:07:45\n",
      "MainProcess pypet INFO     PROGRESS: Finished  25/242 runs [==                  ] 10.3%, remaining: 0:06:31\n",
      "MainProcess pypet INFO     PROGRESS: Finished  37/242 runs [===                 ] 15.3%, remaining: 0:05:58\n",
      "MainProcess pypet INFO     PROGRESS: Finished  49/242 runs [====                ] 20.2%, remaining: 0:05:30\n",
      "MainProcess pypet INFO     PROGRESS: Finished  61/242 runs [=====               ] 25.2%, remaining: 0:05:05\n",
      "MainProcess pypet INFO     PROGRESS: Finished  73/242 runs [======              ] 30.2%, remaining: 0:04:40\n",
      "MainProcess pypet INFO     PROGRESS: Finished  85/242 runs [=======             ] 35.1%, remaining: 0:04:14\n",
      "MainProcess pypet INFO     PROGRESS: Finished  97/242 runs [========            ] 40.1%, remaining: 0:03:51\n",
      "MainProcess pypet INFO     PROGRESS: Finished 109/242 runs [=========           ] 45.0%, remaining: 0:03:29\n",
      "MainProcess pypet INFO     PROGRESS: Finished 121/242 runs [==========          ] 50.0%, remaining: 0:03:08\n",
      "MainProcess pypet INFO     PROGRESS: Finished 134/242 runs [===========         ] 55.4%, remaining: 0:02:46\n",
      "MainProcess pypet INFO     PROGRESS: Finished 146/242 runs [============        ] 60.3%, remaining: 0:02:26\n",
      "MainProcess pypet INFO     PROGRESS: Finished 158/242 runs [=============       ] 65.3%, remaining: 0:02:07\n",
      "MainProcess pypet INFO     PROGRESS: Finished 170/242 runs [==============      ] 70.2%, remaining: 0:01:48\n",
      "MainProcess pypet INFO     PROGRESS: Finished 182/242 runs [===============     ] 75.2%, remaining: 0:01:29\n",
      "MainProcess pypet INFO     PROGRESS: Finished 194/242 runs [================    ] 80.2%, remaining: 0:01:11\n",
      "MainProcess pypet INFO     PROGRESS: Finished 206/242 runs [=================   ] 85.1%, remaining: 0:00:53\n",
      "MainProcess pypet INFO     PROGRESS: Finished 218/242 runs [==================  ] 90.1%, remaining: 0:00:35\n",
      "MainProcess pypet INFO     PROGRESS: Finished 230/242 runs [=================== ] 95.0%, remaining: 0:00:17\n",
      "MainProcess pypet INFO     PROGRESS: Finished 242/242 runs [====================]100.0%\n",
      "MainProcess pypet.storageservice.HDF5StorageService INFO     Initialising storage or updating meta data of Trajectory `results-2020-04-08-00H-09M-31S`.\n",
      "MainProcess pypet.storageservice.HDF5StorageService INFO     Finished init or meta data update for `results-2020-04-08-00H-09M-31S`.\n",
      "MainProcess pypet.environment.Environment INFO     \n",
      "************************************************************\n",
      "FINISHED all runs of trajectory\n",
      "`results-2020-04-08-00H-09M-31S`.\n",
      "************************************************************\n",
      "\n",
      "MainProcess pypet.environment.Environment INFO     \n",
      "************************************************************\n",
      "STARTING FINAL STORING of trajectory\n",
      "`results-2020-04-08-00H-09M-31S`\n",
      "************************************************************\n",
      "\n",
      "MainProcess pypet.storageservice.HDF5StorageService INFO     Start storing Trajectory `results-2020-04-08-00H-09M-31S`.\n",
      "MainProcess pypet.storageservice.HDF5StorageService INFO     Storing branch `config`.\n",
      "MainProcess pypet.storageservice.HDF5StorageService INFO     Storing branch `parameters`.\n",
      "MainProcess pypet.storageservice.HDF5StorageService INFO     Finished storing Trajectory `results-2020-04-08-00H-09M-31S`.\n",
      "MainProcess pypet.environment.Environment INFO     \n",
      "************************************************************\n",
      "FINISHED FINAL STORING of trajectory\n",
      "`results-2020-04-08-00H-09M-31S`.\n",
      "************************************************************\n",
      "\n",
      "MainProcess pypet.environment.Environment INFO     All runs of trajectory `results-2020-04-08-00H-09M-31S` were completed successfully.\n"
     ]
    }
   ],
   "source": [
    "search.run(chunkwise=True, bold=True)"
   ]
  },
  {
   "cell_type": "code",
   "execution_count": 24,
   "metadata": {},
   "outputs": [
    {
     "data": {
      "text/plain": [
       "['results-2020-04-07-19H-59M-13S',\n",
       " 'results-2020-04-07-20H-13M-58S',\n",
       " 'results-2020-04-07-20H-15M-58S',\n",
       " 'results-2020-04-07-20H-19M-32S',\n",
       " 'results-2020-04-07-20H-20M-21S',\n",
       " 'results-2020-04-07-20H-20M-38S',\n",
       " 'results-2020-04-07-20H-21M-29S',\n",
       " 'results-2020-04-07-20H-23M-02S',\n",
       " 'results-2020-04-07-20H-31M-37S',\n",
       " 'results-2020-04-07-20H-34M-17S',\n",
       " 'results-2020-04-07-20H-49M-50S',\n",
       " 'results-2020-04-07-20H-51M-32S',\n",
       " 'results-2020-04-07-20H-52M-01S',\n",
       " 'results-2020-04-07-20H-53M-45S',\n",
       " 'results-2020-04-07-20H-56M-45S',\n",
       " 'results-2020-04-07-20H-58M-20S',\n",
       " 'results-2020-04-07-21H-07M-39S',\n",
       " 'results-2020-04-07-23H-34M-41S',\n",
       " 'results-2020-04-07-23H-42M-12S',\n",
       " 'results-2020-04-08-00H-01M-49S',\n",
       " 'results-2020-04-08-00H-07M-03S',\n",
       " 'results-2020-04-08-00H-08M-18S',\n",
       " 'results-2020-04-08-00H-09M-31S']"
      ]
     },
     "execution_count": 24,
     "metadata": {},
     "output_type": "execute_result"
    }
   ],
   "source": [
    "pu.getTrajectorynamesInFile(os.path.join(paths.HDF_DIR, \"exploration-fhn-coupling.hdf\"))"
   ]
  },
  {
   "cell_type": "code",
   "execution_count": 25,
   "metadata": {},
   "outputs": [
    {
     "data": {
      "text/plain": [
       "'results-2020-04-08-00H-09M-31S'"
      ]
     },
     "execution_count": 25,
     "metadata": {},
     "output_type": "execute_result"
    }
   ],
   "source": [
    "search.trajectoryName"
   ]
  },
  {
   "cell_type": "markdown",
   "metadata": {},
   "source": [
    "# Load results"
   ]
  },
  {
   "cell_type": "code",
   "execution_count": 26,
   "metadata": {},
   "outputs": [
    {
     "name": "stderr",
     "output_type": "stream",
     "text": [
      "MainProcess root INFO     Loading results from ./data/hdf/exploration-fhn-coupling.hdf\n",
      "MainProcess root INFO     Analyzing trajectory results-2020-04-08-00H-09M-31S\n",
      "MainProcess pypet.storageservice.HDF5StorageService INFO     I will use the hdf5 file `./data/hdf/exploration-fhn-coupling.hdf`.\n",
      "MainProcess pypet.storageservice.HDF5StorageService INFO     Loading trajectory `results-2020-04-08-00H-09M-31S`.\n",
      "MainProcess pypet.storageservice.HDF5StorageService INFO     Loading branch `config` in mode `2`.\n",
      "MainProcess pypet.storageservice.HDF5StorageService INFO     Loading branch `parameters` in mode `2`.\n",
      "MainProcess pypet.storageservice.HDF5StorageService INFO     Loading branch `results` in mode `1`.\n",
      "MainProcess root INFO     Creating pandas dataframe ...\n",
      "MainProcess root INFO     Creating results dictionary ...\n",
      "100%|██████████| 242/242 [00:35<00:00,  6.77it/s]\n",
      "MainProcess root INFO     All results loaded.\n"
     ]
    }
   ],
   "source": [
    "search.loadResults()"
   ]
  },
  {
   "cell_type": "code",
   "execution_count": 27,
   "metadata": {},
   "outputs": [
    {
     "name": "stdout",
     "output_type": "stream",
     "text": [
      "Number of results: 242\n"
     ]
    }
   ],
   "source": [
    "print(\"Number of results: {}\".format(len(search.results)))"
   ]
  },
  {
   "cell_type": "code",
   "execution_count": 28,
   "metadata": {},
   "outputs": [
    {
     "data": {
      "text/plain": [
       "(0, 2)"
      ]
     },
     "execution_count": 28,
     "metadata": {},
     "output_type": "execute_result"
    },
    {
     "data": {
      "image/png": "[encoded data removed]",
      "text/plain": [
       "<Figure size 432x288 with 1 Axes>"
      ]
     },
     "metadata": {
      "needs_background": "light"
     },
     "output_type": "display_data"
    }
   ],
   "source": [
    "rId = 6\n",
    "plt.plot(search.results[rId].t, search.results[rId].x.T);\n",
    "plt.xlim(0, 2)"
   ]
  },
  {
   "cell_type": "code",
   "execution_count": 29,
   "metadata": {},
   "outputs": [
    {
     "data": {
      "text/html": [
       "<div>\n",
       "<style scoped>\n",
       "    .dataframe tbody tr th:only-of-type {\n",
       "        vertical-align: middle;\n",
       "    }\n",
       "\n",
       "    .dataframe tbody tr th {\n",
       "        vertical-align: top;\n",
       "    }\n",
       "\n",
       "    .dataframe thead th {\n",
       "        text-align: right;\n",
       "    }\n",
       "</style>\n",
       "<table border=\"1\" class=\"dataframe\">\n",
       "  <thead>\n",
       "    <tr style=\"text-align: right;\">\n",
       "      <th></th>\n",
       "      <th>x_ext</th>\n",
       "      <th>K_gl</th>\n",
       "      <th>coupling</th>\n",
       "    </tr>\n",
       "  </thead>\n",
       "  <tbody>\n",
       "    <tr>\n",
       "      <th>238</th>\n",
       "      <td>[2.0, 2.0, 2.0, 2.0, 2.0, 2.0, 2.0, 2.0, 2.0, ...</td>\n",
       "      <td>3.6</td>\n",
       "      <td>additive</td>\n",
       "    </tr>\n",
       "    <tr>\n",
       "      <th>239</th>\n",
       "      <td>[2.0, 2.0, 2.0, 2.0, 2.0, 2.0, 2.0, 2.0, 2.0, ...</td>\n",
       "      <td>3.6</td>\n",
       "      <td>diffusive</td>\n",
       "    </tr>\n",
       "    <tr>\n",
       "      <th>240</th>\n",
       "      <td>[2.0, 2.0, 2.0, 2.0, 2.0, 2.0, 2.0, 2.0, 2.0, ...</td>\n",
       "      <td>4.0</td>\n",
       "      <td>additive</td>\n",
       "    </tr>\n",
       "    <tr>\n",
       "      <th>241</th>\n",
       "      <td>[2.0, 2.0, 2.0, 2.0, 2.0, 2.0, 2.0, 2.0, 2.0, ...</td>\n",
       "      <td>4.0</td>\n",
       "      <td>diffusive</td>\n",
       "    </tr>\n",
       "  </tbody>\n",
       "</table>\n",
       "</div>"
      ],
      "text/plain": [
       "                                                 x_ext  K_gl   coupling\n",
       "238  [2.0, 2.0, 2.0, 2.0, 2.0, 2.0, 2.0, 2.0, 2.0, ...   3.6   additive\n",
       "239  [2.0, 2.0, 2.0, 2.0, 2.0, 2.0, 2.0, 2.0, 2.0, ...   3.6  diffusive\n",
       "240  [2.0, 2.0, 2.0, 2.0, 2.0, 2.0, 2.0, 2.0, 2.0, ...   4.0   additive\n",
       "241  [2.0, 2.0, 2.0, 2.0, 2.0, 2.0, 2.0, 2.0, 2.0, ...   4.0  diffusive"
      ]
     },
     "execution_count": 29,
     "metadata": {},
     "output_type": "execute_result"
    }
   ],
   "source": [
    "search.dfResults.iloc[-4:]"
   ]
  },
  {
   "cell_type": "code",
   "execution_count": 30,
   "metadata": {},
   "outputs": [],
   "source": [
    "# the external input parameter x_ext is an numpy.array of length N (per node)\n",
    "# we only take the first entry of each x_ext array\n",
    "search.dfResults.x_ext = [a[0] for a in list(search.dfResults.x_ext)]"
   ]
  },
  {
   "cell_type": "code",
   "execution_count": 31,
   "metadata": {},
   "outputs": [
    {
     "data": {
      "text/html": [
       "<div>\n",
       "<style scoped>\n",
       "    .dataframe tbody tr th:only-of-type {\n",
       "        vertical-align: middle;\n",
       "    }\n",
       "\n",
       "    .dataframe tbody tr th {\n",
       "        vertical-align: top;\n",
       "    }\n",
       "\n",
       "    .dataframe thead th {\n",
       "        text-align: right;\n",
       "    }\n",
       "</style>\n",
       "<table border=\"1\" class=\"dataframe\">\n",
       "  <thead>\n",
       "    <tr style=\"text-align: right;\">\n",
       "      <th></th>\n",
       "      <th>x_ext</th>\n",
       "      <th>K_gl</th>\n",
       "      <th>coupling</th>\n",
       "    </tr>\n",
       "  </thead>\n",
       "  <tbody>\n",
       "    <tr>\n",
       "      <th>238</th>\n",
       "      <td>2.0</td>\n",
       "      <td>3.6</td>\n",
       "      <td>additive</td>\n",
       "    </tr>\n",
       "    <tr>\n",
       "      <th>239</th>\n",
       "      <td>2.0</td>\n",
       "      <td>3.6</td>\n",
       "      <td>diffusive</td>\n",
       "    </tr>\n",
       "    <tr>\n",
       "      <th>240</th>\n",
       "      <td>2.0</td>\n",
       "      <td>4.0</td>\n",
       "      <td>additive</td>\n",
       "    </tr>\n",
       "    <tr>\n",
       "      <th>241</th>\n",
       "      <td>2.0</td>\n",
       "      <td>4.0</td>\n",
       "      <td>diffusive</td>\n",
       "    </tr>\n",
       "  </tbody>\n",
       "</table>\n",
       "</div>"
      ],
      "text/plain": [
       "     x_ext  K_gl   coupling\n",
       "238    2.0   3.6   additive\n",
       "239    2.0   3.6  diffusive\n",
       "240    2.0   4.0   additive\n",
       "241    2.0   4.0  diffusive"
      ]
     },
     "execution_count": 31,
     "metadata": {},
     "output_type": "execute_result"
    }
   ],
   "source": [
    "search.dfResults.iloc[-4:]"
   ]
  },
  {
   "cell_type": "code",
   "execution_count": 32,
   "metadata": {},
   "outputs": [
    {
     "name": "stderr",
     "output_type": "stream",
     "text": [
      "MainProcess root INFO     Bold transient: 0 ms\n",
      "100%|██████████| 242/242 [00:01<00:00, 135.64it/s]\n"
     ]
    }
   ],
   "source": [
    "search.dfResults = eu.processExplorationResults(search.results, search.dfResults, model=model, ds=ds, bold_transient=0)"
   ]
  },
  {
   "cell_type": "code",
   "execution_count": 33,
   "metadata": {},
   "outputs": [
    {
     "data": {
      "text/html": [
       "<div>\n",
       "<style scoped>\n",
       "    .dataframe tbody tr th:only-of-type {\n",
       "        vertical-align: middle;\n",
       "    }\n",
       "\n",
       "    .dataframe tbody tr th {\n",
       "        vertical-align: top;\n",
       "    }\n",
       "\n",
       "    .dataframe thead th {\n",
       "        text-align: right;\n",
       "    }\n",
       "</style>\n",
       "<table border=\"1\" class=\"dataframe\">\n",
       "  <thead>\n",
       "    <tr style=\"text-align: right;\">\n",
       "      <th></th>\n",
       "      <th>x_ext</th>\n",
       "      <th>K_gl</th>\n",
       "      <th>coupling</th>\n",
       "      <th>fc</th>\n",
       "      <th>max_x</th>\n",
       "      <th>amp_x</th>\n",
       "    </tr>\n",
       "  </thead>\n",
       "  <tbody>\n",
       "    <tr>\n",
       "      <th>218</th>\n",
       "      <td>1.8</td>\n",
       "      <td>4.0</td>\n",
       "      <td>additive</td>\n",
       "      <td>0.340485</td>\n",
       "      <td>3.285491</td>\n",
       "      <td>2.204204e+00</td>\n",
       "    </tr>\n",
       "    <tr>\n",
       "      <th>219</th>\n",
       "      <td>1.8</td>\n",
       "      <td>4.0</td>\n",
       "      <td>diffusive</td>\n",
       "      <td>0.317528</td>\n",
       "      <td>0.808314</td>\n",
       "      <td>3.297362e-14</td>\n",
       "    </tr>\n",
       "    <tr>\n",
       "      <th>240</th>\n",
       "      <td>2.0</td>\n",
       "      <td>4.0</td>\n",
       "      <td>additive</td>\n",
       "      <td>0.339092</td>\n",
       "      <td>3.293598</td>\n",
       "      <td>2.174969e+00</td>\n",
       "    </tr>\n",
       "    <tr>\n",
       "      <th>241</th>\n",
       "      <td>2.0</td>\n",
       "      <td>4.0</td>\n",
       "      <td>diffusive</td>\n",
       "      <td>0.312954</td>\n",
       "      <td>0.872110</td>\n",
       "      <td>3.086420e-14</td>\n",
       "    </tr>\n",
       "  </tbody>\n",
       "</table>\n",
       "</div>"
      ],
      "text/plain": [
       "     x_ext  K_gl   coupling        fc     max_x         amp_x\n",
       "218    1.8   4.0   additive  0.340485  3.285491  2.204204e+00\n",
       "219    1.8   4.0  diffusive  0.317528  0.808314  3.297362e-14\n",
       "240    2.0   4.0   additive  0.339092  3.293598  2.174969e+00\n",
       "241    2.0   4.0  diffusive  0.312954  0.872110  3.086420e-14"
      ]
     },
     "execution_count": 33,
     "metadata": {},
     "output_type": "execute_result"
    }
   ],
   "source": [
    "eu.findCloseResults(search.dfResults, dist=0.2, K_gl=4.0, x_ext = 2.0)"
   ]
  },
  {
   "cell_type": "markdown",
   "metadata": {},
   "source": [
    "# Postprocessing"
   ]
  },
  {
   "cell_type": "code",
   "execution_count": 34,
   "metadata": {},
   "outputs": [
    {
     "name": "stdout",
     "output_type": "stream",
     "text": [
      "Mean correlation of run 6 with empirical FC matrices is 0.32\n"
     ]
    }
   ],
   "source": [
    "mean_corr = np.mean([func.matrix_correlation(func.fc(search.results[rId]['BOLD']), fc) for fc in ds.FCs])\n",
    "\n",
    "print(f\"Mean correlation of run {rId} with empirical FC matrices is {mean_corr:.02}\")"
   ]
  },
  {
   "cell_type": "code",
   "execution_count": 35,
   "metadata": {},
   "outputs": [
    {
     "data": {
      "text/plain": [
       "{'x_ext': array([0., 0., 0., 0., 0., 0., 0., 0., 0., 0., 0., 0., 0., 0., 0., 0., 0.,\n",
       "        0., 0., 0., 0., 0., 0., 0., 0., 0., 0., 0., 0., 0., 0., 0., 0., 0.,\n",
       "        0., 0., 0., 0., 0., 0., 0., 0., 0., 0., 0., 0., 0., 0., 0., 0., 0.,\n",
       "        0., 0., 0., 0., 0., 0., 0., 0., 0., 0., 0., 0., 0., 0., 0., 0., 0.,\n",
       "        0., 0., 0., 0., 0., 0., 0., 0., 0., 0., 0., 0.]),\n",
       " 'K_gl': 1.2000000000000002,\n",
       " 'coupling': 'additive'}"
      ]
     },
     "execution_count": 35,
     "metadata": {},
     "output_type": "execute_result"
    }
   ],
   "source": [
    "search.getRun(6).params"
   ]
  },
  {
   "cell_type": "code",
   "execution_count": 36,
   "metadata": {},
   "outputs": [
    {
     "name": "stderr",
     "output_type": "stream",
     "text": [
      "MainProcess root INFO     Bold transient: 0 ms\n",
      "100%|██████████| 242/242 [00:01<00:00, 143.73it/s]\n"
     ]
    }
   ],
   "source": [
    "search.dfResults = eu.processExplorationResults(search.results, search.dfResults, model=model, ds=ds, bold_transient=0)"
   ]
  },
  {
   "cell_type": "code",
   "execution_count": 37,
   "metadata": {},
   "outputs": [
    {
     "data": {
      "text/html": [
       "<div>\n",
       "<style scoped>\n",
       "    .dataframe tbody tr th:only-of-type {\n",
       "        vertical-align: middle;\n",
       "    }\n",
       "\n",
       "    .dataframe tbody tr th {\n",
       "        vertical-align: top;\n",
       "    }\n",
       "\n",
       "    .dataframe thead th {\n",
       "        text-align: right;\n",
       "    }\n",
       "</style>\n",
       "<table border=\"1\" class=\"dataframe\">\n",
       "  <thead>\n",
       "    <tr style=\"text-align: right;\">\n",
       "      <th></th>\n",
       "      <th>x_ext</th>\n",
       "      <th>K_gl</th>\n",
       "      <th>coupling</th>\n",
       "      <th>fc</th>\n",
       "      <th>max_x</th>\n",
       "      <th>amp_x</th>\n",
       "    </tr>\n",
       "  </thead>\n",
       "  <tbody>\n",
       "    <tr>\n",
       "      <th>0</th>\n",
       "      <td>0.0</td>\n",
       "      <td>0.0</td>\n",
       "      <td>additive</td>\n",
       "      <td>0.236095</td>\n",
       "      <td>-1.820890e-260</td>\n",
       "      <td>2.170764e-234</td>\n",
       "    </tr>\n",
       "    <tr>\n",
       "      <th>1</th>\n",
       "      <td>0.0</td>\n",
       "      <td>0.0</td>\n",
       "      <td>diffusive</td>\n",
       "      <td>0.236095</td>\n",
       "      <td>-1.820890e-260</td>\n",
       "      <td>2.170764e-234</td>\n",
       "    </tr>\n",
       "    <tr>\n",
       "      <th>2</th>\n",
       "      <td>0.0</td>\n",
       "      <td>0.4</td>\n",
       "      <td>additive</td>\n",
       "      <td>0.064604</td>\n",
       "      <td>6.697106e-200</td>\n",
       "      <td>1.288688e-199</td>\n",
       "    </tr>\n",
       "    <tr>\n",
       "      <th>3</th>\n",
       "      <td>0.0</td>\n",
       "      <td>0.4</td>\n",
       "      <td>diffusive</td>\n",
       "      <td>0.249016</td>\n",
       "      <td>2.206569e-158</td>\n",
       "      <td>3.734191e-158</td>\n",
       "    </tr>\n",
       "    <tr>\n",
       "      <th>4</th>\n",
       "      <td>0.0</td>\n",
       "      <td>0.8</td>\n",
       "      <td>additive</td>\n",
       "      <td>0.417381</td>\n",
       "      <td>1.551109e+00</td>\n",
       "      <td>2.142259e+00</td>\n",
       "    </tr>\n",
       "    <tr>\n",
       "      <th>...</th>\n",
       "      <td>...</td>\n",
       "      <td>...</td>\n",
       "      <td>...</td>\n",
       "      <td>...</td>\n",
       "      <td>...</td>\n",
       "      <td>...</td>\n",
       "    </tr>\n",
       "    <tr>\n",
       "      <th>237</th>\n",
       "      <td>2.0</td>\n",
       "      <td>3.2</td>\n",
       "      <td>diffusive</td>\n",
       "      <td>0.264141</td>\n",
       "      <td>8.721103e-01</td>\n",
       "      <td>3.652634e-14</td>\n",
       "    </tr>\n",
       "    <tr>\n",
       "      <th>238</th>\n",
       "      <td>2.0</td>\n",
       "      <td>3.6</td>\n",
       "      <td>additive</td>\n",
       "      <td>0.323457</td>\n",
       "      <td>3.120108e+00</td>\n",
       "      <td>2.025981e+00</td>\n",
       "    </tr>\n",
       "    <tr>\n",
       "      <th>239</th>\n",
       "      <td>2.0</td>\n",
       "      <td>3.6</td>\n",
       "      <td>diffusive</td>\n",
       "      <td>0.291424</td>\n",
       "      <td>8.721103e-01</td>\n",
       "      <td>3.219647e-14</td>\n",
       "    </tr>\n",
       "    <tr>\n",
       "      <th>240</th>\n",
       "      <td>2.0</td>\n",
       "      <td>4.0</td>\n",
       "      <td>additive</td>\n",
       "      <td>0.339092</td>\n",
       "      <td>3.293598e+00</td>\n",
       "      <td>2.174969e+00</td>\n",
       "    </tr>\n",
       "    <tr>\n",
       "      <th>241</th>\n",
       "      <td>2.0</td>\n",
       "      <td>4.0</td>\n",
       "      <td>diffusive</td>\n",
       "      <td>0.312954</td>\n",
       "      <td>8.721103e-01</td>\n",
       "      <td>3.086420e-14</td>\n",
       "    </tr>\n",
       "  </tbody>\n",
       "</table>\n",
       "<p>242 rows × 6 columns</p>\n",
       "</div>"
      ],
      "text/plain": [
       "     x_ext  K_gl   coupling        fc          max_x          amp_x\n",
       "0      0.0   0.0   additive  0.236095 -1.820890e-260  2.170764e-234\n",
       "1      0.0   0.0  diffusive  0.236095 -1.820890e-260  2.170764e-234\n",
       "2      0.0   0.4   additive  0.064604  6.697106e-200  1.288688e-199\n",
       "3      0.0   0.4  diffusive  0.249016  2.206569e-158  3.734191e-158\n",
       "4      0.0   0.8   additive  0.417381   1.551109e+00   2.142259e+00\n",
       "..     ...   ...        ...       ...            ...            ...\n",
       "237    2.0   3.2  diffusive  0.264141   8.721103e-01   3.652634e-14\n",
       "238    2.0   3.6   additive  0.323457   3.120108e+00   2.025981e+00\n",
       "239    2.0   3.6  diffusive  0.291424   8.721103e-01   3.219647e-14\n",
       "240    2.0   4.0   additive  0.339092   3.293598e+00   2.174969e+00\n",
       "241    2.0   4.0  diffusive  0.312954   8.721103e-01   3.086420e-14\n",
       "\n",
       "[242 rows x 6 columns]"
      ]
     },
     "execution_count": 37,
     "metadata": {},
     "output_type": "execute_result"
    }
   ],
   "source": [
    "search.dfResults"
   ]
  },
  {
   "cell_type": "code",
   "execution_count": 23,
   "metadata": {},
   "outputs": [
    {
     "data": {
      "image/png": "[encoded data removed]",
      "text/plain": [
       "<Figure size 1200x525 with 4 Axes>"
      ]
     },
     "metadata": {
      "needs_background": "light"
     },
     "output_type": "display_data"
    }
   ],
   "source": [
    "plot_key_label = \"Mean FC correlation\"\n",
    "eu.plotExplorationResults(search.dfResults, par1=['x_ext', '$x_{ext}$'], par2=['K_gl', '$K$'], plot_key='max_x',  by=['coupling'], by_label = ['coupling'], plot_key_label=plot_key_label, one_figure=True)"
   ]
  }
 ],
 "metadata": {
  "kernelspec": {
   "display_name": "Python 3",
   "language": "python",
   "name": "python3"
  },
  "language_info": {
   "codemirror_mode": {
    "name": "ipython",
    "version": 3
   },
   "file_extension": ".py",
   "mimetype": "text/x-python",
   "name": "python",
   "nbconvert_exporter": "python",
   "pygments_lexer": "ipython3",
   "version": "3.7.3"
  }
 },
 "nbformat": 4,
 "nbformat_minor": 4
}
