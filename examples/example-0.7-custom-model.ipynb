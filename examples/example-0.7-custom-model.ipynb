{
 "cells": [
  {
   "cell_type": "markdown",
   "metadata": {},
   "source": [
    "# Minimal model implementation"
   ]
  },
  {
   "cell_type": "markdown",
   "metadata": {},
   "source": [
    "This notebook demonstrates how to implement your own model in `neurolib`. There are two main parts of each model: its class that inherits from the `Model` base class and its `timeIntegration()` function. "
   ]
  },
  {
   "cell_type": "code",
   "execution_count": 5,
   "metadata": {},
   "outputs": [],
   "source": [
    "# change to the root directory of the project\n",
    "import os\n",
    "if os.getcwd().split(\"/\")[-2] == \"neurolib\":\n",
    "    os.chdir('..')\n",
    "\n",
    "%load_ext autoreload\n",
    "%autoreload 2"
   ]
  },
  {
   "cell_type": "code",
   "execution_count": 6,
   "metadata": {},
   "outputs": [],
   "source": [
    "try:\n",
    "    import matplotlib.pyplot as plt\n",
    "except ImportError:\n",
    "    import sys\n",
    "    !{sys.executable} -m pip install matplotlib\n",
    "    import matplotlib.pyplot as plt"
   ]
  },
  {
   "cell_type": "markdown",
   "metadata": {},
   "source": [
    "## Model equations"
   ]
  },
  {
   "cell_type": "markdown",
   "metadata": {},
   "source": [
    "In this example we will implement a linear model with the following equation:\n",
    "\n",
    "$\\frac{d}{dt} x_i(t) = - \\frac{x_i(t)}{\\tau} + \\sum_{j=0}^{N} K G_{ij} x_j(t)$.\n",
    "\n",
    "Here, we simulate $N$ nodes that are coupled in a network. $x_i$ are the elements of an $N$-dimensional state vector, $\\tau$ is the decay time constant, $G$ is the adjacency matrix and $K$ is the global coupling strength."
   ]
  },
  {
   "cell_type": "markdown",
   "metadata": {},
   "source": [
    "## Implementation"
   ]
  },
  {
   "cell_type": "markdown",
   "metadata": {},
   "source": [
    "We first create a class for the model called `LinearModel` which inherits lots of functionality from the `Model` base class. We define `state_vars` and `default_output` so that `neurolib` knows how to handle the variables of the system. Next, we define `init_vars` in order to use the autochunk integration scheme, so we can save a lot of RAM when we run very long simulations. \n",
    "```\n",
    "class LinearModel(Model):\n",
    "    state_vars = [\"x\"]\n",
    "    default_output = \"x\"\n",
    "    init_vars = [\"x_init\"]\n",
    "```\n",
    "Next we define a simple parameter dictionary called `params`. In here, we can define all the necessary parameters of the model and change their values later. In this example, we set the timescale $\\tau$, the coupling strength $K$, the integration time step `dt` (in ms) and the duration to 100 ms.\n",
    "```\n",
    "params = dict(tau=10, K=1e-2, dt=1e-1, duration=100)\n",
    "```\n",
    "We are now ready to set up the constructor of our model! This method is supposed to set up the model and prepare it for integration. All the magic happens in the background! We pass the `self.timeIntegration` function and the parameter dictionary `self.params` to the base class using `super().__init__()`.\n",
    "```\n",
    "def __init__(self, Cmat=np.zeros((1,1))):\n",
    "        self.params['Cmat'] = Cmat\n",
    "        super().__init__(self.timeIntegration, self.params)\n",
    "```\n",
    "That wasn't too bad, was it? We are finally ready to define the time integration method that prepares all variables and passes it to the last function that will crunch the numbers. Here we prepare the numpy arrays that will hold the simulation results. We have to prepare them before we can execute the numba code. \n",
    "\n",
    "```\n",
    "def timeIntegration(self, p):\n",
    "    N = p['Cmat'].shape[0]\n",
    "    t = np.arange(1, p['duration']/p['dt']) # holds time steps\n",
    "    x = np.ndarray((N, len(t)+1)) # holds variable x\n",
    "```\n",
    "Next, we make use of a neurolib convention to prepare the initial conditions of our model. If you remember, we defined `init_vars` above in order to use the autochunk feature. The autochunk feature will automatically fill this parameter with the last state of the last simulated chunk so the model integration can be continued without having to remember the entire output and state variables of the model indefinitely. In this line, we check whether x_init is set or not (which it will be, when we use chunkwise integration). If it is not set, we simply use random initial conditions using `rand((N, 1))`. Remember that the convention for array dimensions is `array[space, time]`, meaning that we only fill in the first time step with the initial condition. \n",
    "```\n",
    "# either use predefined initial conditions or random ones\n",
    "x[:, :1] = p.get('x_init') if p.get('x_init') is not None else rand((N, 1))\n",
    "```\n",
    "We're ready to call our accelerated integration part and return the results 🚀!\n",
    "```\n",
    "return njit_integrate(x, t, p['tau'], p['K'], N, p['Cmat'], p['dt'])\n",
    "```"
   ]
  },
  {
   "cell_type": "markdown",
   "metadata": {},
   "source": [
    "## Numba time integration "
   ]
  },
  {
   "cell_type": "markdown",
   "metadata": {},
   "source": [
    "Remember to put this function outside of the class definition, so we can use use `numba` acceleration to greatly increase the performance of our code. We first have to let `numba` know which part of the code to precompile. We do this by simply placing the decorator `@numba.njit` in the line above the integration function. Easy way of getting 100x faster code! ❤️ `numba`! \n",
    "```\n",
    "@numba.njit\n",
    "def njit_integrate(x, t, tau, K, N, Cmat, dt):\n",
    "```\n",
    "Next, we do some simple math. We first loop over all time steps. If you have prepared the array `t` as described above, you can simply loop over its length. In the next line, we calculate the coupling term from the model equation above. However, instead of looping over the sum, we use a little trick here and simply compute the dot product between the coupling matrix `G` and the state vector `x`. This results in a `N`-dimensional vector that carries the amount of input each node receives at each time step. Finally, we loop over all nodes so we can finally add up everything.\n",
    "\n",
    "```\n",
    "for i in range(1, 1 + len(t)): # loop over time\n",
    "    inp = Cmat.dot(x[:, i-1]) # input vector\n",
    "    for n in range(N): # loop over nodes\n",
    "```\n",
    "In the next line, we integrate the equation that we have shown above. This integration scheme is called Euler integration and is the most simple way of solving an ODE. The idea is easy and is best expressed as `x_next = x_before + f(x) * dt` where `f(x)` is simply the time derivative $\\frac{d}{dt} x_i(t)$ shown above.\n",
    "```\n",
    "x[n, i] = x[n, i-1] + (- x[n, i-1] / tau + K * inp[n]) * dt # model equations\n",
    "```\n",
    "We're done! The only thing left to do is to return the data so that neurolib can take over from here on. The outputs of this simulation will be available in the `model.outputs` attribute. You can see an example time series below. \n",
    "```\n",
    "return t, x\n",
    "```"
   ]
  },
  {
   "cell_type": "markdown",
   "metadata": {},
   "source": [
    "## Code"
   ]
  },
  {
   "cell_type": "code",
   "execution_count": 8,
   "metadata": {},
   "outputs": [],
   "source": [
    "import numba\n",
    "import numpy as np\n",
    "from numpy.random import random as rand\n",
    "from neurolib.models.model import Model\n",
    "\n",
    "class LinearModel(Model):\n",
    "    state_vars = [\"x\"]\n",
    "    default_output = \"x\"\n",
    "    init_vars = [\"x_init\"]\n",
    "    params = dict(tau=10, K=1e-2, dt=1e-1, duration=100)\n",
    "    def __init__(self, Cmat=np.zeros((1,1))):\n",
    "        self.params['Cmat'] = Cmat\n",
    "        super().__init__(self.timeIntegration, self.params)\n",
    "        \n",
    "    def timeIntegration(self, p):\n",
    "        p['N'] = p['Cmat'].shape[0] # number of nodes\n",
    "        t = np.arange(1, p['duration']/p['dt'] + 1) # holds time steps\n",
    "        x = np.ndarray((p['N'], len(t)+1)) # holds variable x\n",
    "        # either use predefined initial conditions or random ones\n",
    "        x[:, :1] = p['x_init'] if 'x_init' in p else rand((p['N'], 1))\n",
    "        return njit_integrate(x, t, p['tau'], p['K'], p['N'], p['Cmat'], p['dt'])\n",
    "\n",
    "@numba.njit\n",
    "def njit_integrate(x, t, tau, K, N, Cmat, dt):\n",
    "    for i in range(1, 1 + len(t)): # loop over time\n",
    "        inp = Cmat.dot(x[:, i-1]) # input vector\n",
    "        for n in range(N): # loop over nodes\n",
    "            x[n, i] = x[n, i-1] +\\\n",
    "            (- x[n, i-1] / tau + K * inp[n]) * dt # model equations\n",
    "    return t, x"
   ]
  },
  {
   "cell_type": "markdown",
   "metadata": {},
   "source": [
    "## Running the model"
   ]
  },
  {
   "cell_type": "markdown",
   "metadata": {},
   "source": [
    "We prepare a \"mock\" connectivity matrix, simply consisting of 12x12 random numbers, meaning that we will simulate 12 `LinearModel`'s in a network."
   ]
  },
  {
   "cell_type": "code",
   "execution_count": 12,
   "metadata": {},
   "outputs": [],
   "source": [
    "Cmat = rand((12, 12)) # use a random connectivity matrix\n",
    "model = LinearModel(Cmat) # initialize the model"
   ]
  },
  {
   "cell_type": "markdown",
   "metadata": {},
   "source": [
    "That's it, we are finally ready to run the model."
   ]
  },
  {
   "cell_type": "code",
   "execution_count": 10,
   "metadata": {
    "scrolled": true
   },
   "outputs": [],
   "source": [
    "model.run()"
   ]
  },
  {
   "cell_type": "markdown",
   "metadata": {},
   "source": [
    "## Plot outputs"
   ]
  },
  {
   "cell_type": "code",
   "execution_count": 11,
   "metadata": {},
   "outputs": [
    {
     "data": {
      "text/plain": [
       "Text(0, 0.5, 'Activity $x$')"
      ]
     },
     "execution_count": 11,
     "metadata": {},
     "output_type": "execute_result"
    },
    {
     "data": {
      "image/png": "[encoded data removed]",
      "text/plain": [
       "<Figure size 432x288 with 1 Axes>"
      ]
     },
     "metadata": {
      "needs_background": "light"
     },
     "output_type": "display_data"
    }
   ],
   "source": [
    "plt.plot(model.t, model.output.T);\n",
    "plt.xlabel(\"Time [ms]\")\n",
    "plt.ylabel(\"Activity $x$\")"
   ]
  },
  {
   "cell_type": "markdown",
   "metadata": {},
   "source": [
    "## BOLD and autochunk"
   ]
  },
  {
   "cell_type": "markdown",
   "metadata": {},
   "source": [
    "Since we've followed the model implementation guidelines, the model is also compatible with chunkwise integration and can produce a BOLD signal. Let's try it out!"
   ]
  },
  {
   "cell_type": "code",
   "execution_count": 73,
   "metadata": {},
   "outputs": [],
   "source": [
    "model.params.duration=200000\n",
    "model.run(chunkwise=True, append_outputs=True, bold=True)"
   ]
  },
  {
   "cell_type": "code",
   "execution_count": 75,
   "metadata": {},
   "outputs": [
    {
     "data": {
      "text/plain": [
       "Text(0, 0.5, 'BOLD activity')"
      ]
     },
     "execution_count": 75,
     "metadata": {},
     "output_type": "execute_result"
    },
    {
     "data": {
      "image/png": "[encoded data removed]",
      "text/plain": [
       "<Figure size 432x288 with 1 Axes>"
      ]
     },
     "metadata": {
      "needs_background": "light"
     },
     "output_type": "display_data"
    }
   ],
   "source": [
    "plt.plot(model.BOLD.t_BOLD, model.BOLD.BOLD.T);\n",
    "plt.xlabel(\"Time [ms]\")\n",
    "plt.ylabel(\"BOLD activity\")"
   ]
  }
 ],
 "metadata": {
  "kernelspec": {
   "display_name": "Python 3",
   "language": "python",
   "name": "python3"
  },
  "language_info": {
   "codemirror_mode": {
    "name": "ipython",
    "version": 3
   },
   "file_extension": ".py",
   "mimetype": "text/x-python",
   "name": "python",
   "nbconvert_exporter": "python",
   "pygments_lexer": "ipython3",
   "version": "3.7.3"
  }
 },
 "nbformat": 4,
 "nbformat_minor": 5
}
