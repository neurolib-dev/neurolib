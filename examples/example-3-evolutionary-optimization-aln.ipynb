{
 "cells": [
  {
   "cell_type": "markdown",
   "metadata": {},
   "source": [
    "# Evolutionary parameter search with a single neural mass model\n",
    "This notebook provides a simple example for the use of the evolutionary optimization framework builtin to the library. Under the hood, the implementation of the evolutionary algorithm is powered by `deap` and `pypet` cares about the parallelization and storage of the simulation data for us.\n",
    "\n",
    "We want to optimize for a simple target, namely finding a parameter configuration that prouces actiity with a peak power frequency spectrum at 25 Hz."
   ]
  },
  {
   "cell_type": "code",
   "execution_count": 14,
   "metadata": {},
   "outputs": [],
   "source": [
    "# change into root directory to the project\n",
    "import os\n",
    "if os.getcwd().split(\"/\")[-1] == \"examples\":\n",
    "    print(\"chdir\")\n",
    "    os.chdir('..')"
   ]
  },
  {
   "cell_type": "code",
   "execution_count": 2,
   "metadata": {},
   "outputs": [],
   "source": [
    "import logging\n",
    "#logger = logging.getLogger()\n",
    "#logger.setLevel(logging.DEBUG)\n",
    "\n",
    "%load_ext autoreload\n",
    "%autoreload 2"
   ]
  },
  {
   "cell_type": "code",
   "execution_count": 3,
   "metadata": {},
   "outputs": [
    {
     "name": "stderr",
     "output_type": "stream",
     "text": [
      "/Users/caglar/anaconda/lib/python3.7/site-packages/deap/tools/_hypervolume/pyhv.py:33: ImportWarning: Falling back to the python version of hypervolume module. Expect this to be very slow.\n",
      "  \"module. Expect this to be very slow.\", ImportWarning)\n"
     ]
    }
   ],
   "source": [
    "import numpy as np\n",
    "import matplotlib.pyplot as plt\n",
    "\n",
    "from neurolib.models.aln import ALNModel\n",
    "from neurolib.utils.parameterSpace import ParameterSpace\n",
    "from neurolib.optimize.evolution import Evolution\n",
    "import neurolib.utils.functions as func\n",
    "\n",
    "#import neurolib. as du\n",
    "\n",
    "# sett dpi for notebooks on server\n",
    "plt.rcParams['svg.fonttype'] = 'none'\n",
    "plt.rcParams['savefig.dpi'] = 600\n",
    "plt.rcParams['image.cmap'] = 'plasma'"
   ]
  },
  {
   "cell_type": "markdown",
   "metadata": {},
   "source": [
    "## Model definition"
   ]
  },
  {
   "cell_type": "code",
   "execution_count": 4,
   "metadata": {},
   "outputs": [],
   "source": [
    "aln = ALNModel()\n",
    "aln.run()"
   ]
  },
  {
   "cell_type": "code",
   "execution_count": 5,
   "metadata": {},
   "outputs": [
    {
     "data": {
      "text/plain": [
       "{'t': array([0.0000e+00, 1.0000e-01, 2.0000e-01, ..., 1.9997e+03, 1.9998e+03,\n",
       "        1.9999e+03]),\n",
       " 'rates_exc': array([[5.31265544, 5.31265544, 5.31265544, ..., 5.26771554, 5.18859683,\n",
       "         5.10831371]]),\n",
       " 'rates_inh': array([[4.92837804, 4.92837804, 4.92837804, ..., 9.2707452 , 9.30451598,\n",
       "         9.33616944]])}"
      ]
     },
     "execution_count": 5,
     "metadata": {},
     "output_type": "execute_result"
    }
   ],
   "source": [
    "aln.outputs"
   ]
  },
  {
   "cell_type": "code",
   "execution_count": 6,
   "metadata": {},
   "outputs": [],
   "source": [
    "# Here we define our evaluation function. This function will\n",
    "# be called reapedly and perform a single simulation. The object\n",
    "# that is passed to the function, `traj`, is a pypet trajectory\n",
    "# and serves as a \"bridge\" to load the parameter set of this \n",
    "# particular trajectory and execute a run.\n",
    "# Then the power spectrum of the run is computed and its maximum\n",
    "# is fitted to the target of 25 Hz peak frequency.\n",
    "def evaluateSimulation(traj):\n",
    "    # The trajectory id is provided as an attribute\n",
    "    rid = traj.id\n",
    "    logging.info(\"Running run id {}\".format(rid))\n",
    "    # this function provides the a model with the partuclar\n",
    "    # parameter set for this given run\n",
    "    model = evolution.getModelFromTraj(traj)\n",
    "    # parameters can also be modified after loading\n",
    "    model.params['dt'] = 0.1\n",
    "    model.params['duration'] = 2*1000.\n",
    "    # and the simulation is run\n",
    "    model.run()\n",
    "    \n",
    "    # compute power spectrum\n",
    "    frs, powers = func.getPowerSpectrum(model.rates_exc[:, -int(1000/model.params['dt']):], dt=model.params['dt'])\n",
    "    # find the peak frequency\n",
    "    domfr = frs[np.argmax(powers)] \n",
    "    # fitness evaluation: let's try to find a 25 Hz oscillation\n",
    "    fitness = abs(domfr - 25) \n",
    "    # deap needs a fitness *tuple*!\n",
    "    fitness_tuple = ()\n",
    "    # more fitness values could be added\n",
    "    fitness_tuple += (fitness,)\n",
    "    # we need to return the fitness tuple and the outputs of the model\n",
    "    return fitness_tuple, model.outputs"
   ]
  },
  {
   "cell_type": "markdown",
   "metadata": {},
   "source": [
    "## Initialize and run evolution"
   ]
  },
  {
   "cell_type": "markdown",
   "metadata": {},
   "source": [
    "The evolutionary algorithm tries to find the optimal parameter set that will maximize (or minimize) a certain fitness function. \n",
    "\n",
    "This achieved by seeding an initial population of size `POP_INIT_SIZE` that is randomly initiated in the parameter space `parameterSpace`. INIT: After simulating the initial population using `evalFunction`, only a subset of the individuals is kept, defined by `POP_SIZE`. \n",
    "\n",
    "START: Members of the remaining population are chosen based on their fitness (using rank selection) to mate and produce `offspring`. These `offspring` have parameters that are drawn from a normal distribution defined by the mean of the parameters between the two parents. Then the `offspring` population is evaluated and the process loops back to START: \n",
    "\n",
    "This process is repeated for `NGEN` generations."
   ]
  },
  {
   "cell_type": "code",
   "execution_count": 7,
   "metadata": {},
   "outputs": [
    {
     "name": "stderr",
     "output_type": "stream",
     "text": [
      "MainProcess pypet.storageservice.HDF5StorageService INFO     I will use the hdf5 file `./data/hdf/evolution.hdf`.\n",
      "MainProcess pypet.environment.Environment INFO     Environment initialized.\n",
      "MainProcess root INFO     Evaluating initial population of size 6 ...\n",
      "MainProcess pypet.trajectory.Trajectory INFO     Your trajectory has not been explored, yet. I will call `f_explore` instead.\n",
      "MainProcess pypet.environment.Environment INFO     I am preparing the Trajectory for the experiment and initialise the store.\n",
      "MainProcess pypet.environment.Environment INFO     Initialising the storage for the trajectory.\n",
      "MainProcess pypet.storageservice.HDF5StorageService INFO     Initialising storage or updating meta data of Trajectory `results-2020-02-03-00H-26M-03S`.\n",
      "MainProcess pypet.storageservice.HDF5StorageService INFO     Finished init or meta data update for `results-2020-02-03-00H-26M-03S`.\n",
      "MainProcess pypet.environment.Environment INFO     \n",
      "************************************************************\n",
      "STARTING runs of trajectory\n",
      "`results-2020-02-03-00H-26M-03S`.\n",
      "************************************************************\n",
      "\n",
      "MainProcess pypet.storageservice.HDF5StorageService INFO     Initialising storage or updating meta data of Trajectory `results-2020-02-03-00H-26M-03S`.\n",
      "MainProcess pypet.storageservice.HDF5StorageService INFO     Finished init or meta data update for `results-2020-02-03-00H-26M-03S`.\n",
      "MainProcess pypet.environment.Environment INFO     Starting Pool with 8 processes\n",
      "MainProcess pypet INFO     PROGRESS: Finished 0/6 runs [                    ]  0.0%\n",
      "MainProcess pypet INFO     PROGRESS: Finished 1/6 runs [===                 ] 16.7%, remaining: 0:00:12\n",
      "MainProcess pypet INFO     PROGRESS: Finished 2/6 runs [======              ] 33.3%, remaining: 0:00:04\n",
      "MainProcess pypet INFO     PROGRESS: Finished 3/6 runs [==========          ] 50.0%, remaining: 0:00:02\n",
      "MainProcess pypet INFO     PROGRESS: Finished 4/6 runs [=============       ] 66.7%, remaining: 0:00:01\n",
      "MainProcess pypet INFO     PROGRESS: Finished 5/6 runs [================    ] 83.3%, remaining: 0:00:00\n",
      "MainProcess pypet INFO     PROGRESS: Finished 6/6 runs [====================]100.0%\n",
      "MainProcess pypet.environment.Environment INFO     Pool has joined, will delete it.\n",
      "MainProcess pypet.storageservice.HDF5StorageService INFO     Initialising storage or updating meta data of Trajectory `results-2020-02-03-00H-26M-03S`.\n",
      "MainProcess pypet.storageservice.HDF5StorageService INFO     Finished init or meta data update for `results-2020-02-03-00H-26M-03S`.\n",
      "MainProcess pypet.environment.Environment INFO     \n",
      "************************************************************\n",
      "FINISHED all runs of trajectory\n",
      "`results-2020-02-03-00H-26M-03S`.\n",
      "************************************************************\n",
      "\n",
      "MainProcess pypet.environment.Environment INFO     \n",
      "************************************************************\n",
      "STARTING FINAL STORING of trajectory\n",
      "`results-2020-02-03-00H-26M-03S`\n",
      "************************************************************\n",
      "\n",
      "MainProcess pypet.storageservice.HDF5StorageService INFO     Start storing Trajectory `results-2020-02-03-00H-26M-03S`.\n",
      "MainProcess pypet.storageservice.HDF5StorageService INFO     Storing branch `config`.\n",
      "MainProcess pypet.storageservice.HDF5StorageService INFO     Storing branch `parameters`.\n",
      "MainProcess pypet.storageservice.HDF5StorageService INFO     Storing branch `results`.\n",
      "/Users/caglar/anaconda/lib/python3.7/site-packages/pypet/storageservice.py:3110: FutureWarning: Conversion of the second argument of issubdtype from `str` to `str` is deprecated. In future, it will be treated as `np.str_ == np.dtype(str).type`.\n",
      "  np.issubdtype(data.dtype, str)):\n",
      "/Users/caglar/anaconda/lib/python3.7/site-packages/pypet/storageservice.py:4597: FutureWarning: Conversion of the second argument of issubdtype from `str` to `str` is deprecated. In future, it will be treated as `np.str_ == np.dtype(str).type`.\n",
      "  if (np.issubdtype(val.dtype, str) or\n",
      "/Users/caglar/anaconda/lib/python3.7/site-packages/pypet/storageservice.py:4598: FutureWarning: Conversion of the second argument of issubdtype from `bytes` to `bytes` is deprecated. In future, it will be treated as `np.bytes_ == np.dtype(bytes).type`.\n",
      "  np.issubdtype(val.dtype, bytes)):\n",
      "MainProcess pypet.storageservice.HDF5StorageService INFO     Storing branch `derived_parameters`.\n",
      "MainProcess pypet.storageservice.HDF5StorageService INFO     Finished storing Trajectory `results-2020-02-03-00H-26M-03S`.\n",
      "MainProcess pypet.environment.Environment INFO     \n",
      "************************************************************\n",
      "FINISHED FINAL STORING of trajectory\n",
      "`results-2020-02-03-00H-26M-03S`.\n",
      "************************************************************\n",
      "\n",
      "MainProcess pypet.environment.Environment INFO     All runs of trajectory `results-2020-02-03-00H-26M-03S` were completed successfully.\n",
      "MainProcess pypet.storageservice.HDF5StorageService INFO     Start storing Trajectory `results-2020-02-03-00H-26M-03S`.\n",
      "MainProcess pypet.storageservice.HDF5StorageService INFO     Storing branch `config`.\n",
      "MainProcess pypet.storageservice.HDF5StorageService INFO     Storing branch `parameters`.\n",
      "MainProcess pypet.storageservice.HDF5StorageService INFO     Storing branch `results`.\n",
      "MainProcess pypet.storageservice.HDF5StorageService INFO     Storing branch `derived_parameters`.\n",
      "MainProcess pypet.storageservice.HDF5StorageService INFO     Finished storing Trajectory `results-2020-02-03-00H-26M-03S`.\n",
      "MainProcess root INFO     Start of evolution\n",
      "MainProcess root INFO     Replacing 0 invalid individuals.\n",
      "MainProcess root INFO     ----------- Generation 1 -----------\n",
      "MainProcess pypet.environment.Environment INFO     I am preparing the Trajectory for the experiment and initialise the store.\n",
      "MainProcess pypet.environment.Environment INFO     Initialising the storage for the trajectory.\n",
      "MainProcess pypet.storageservice.HDF5StorageService INFO     Initialising storage or updating meta data of Trajectory `results-2020-02-03-00H-26M-03S`.\n",
      "MainProcess pypet.storageservice.HDF5StorageService INFO     Finished init or meta data update for `results-2020-02-03-00H-26M-03S`.\n",
      "MainProcess pypet.environment.Environment INFO     \n",
      "************************************************************\n",
      "STARTING runs of trajectory\n",
      "`results-2020-02-03-00H-26M-03S`.\n",
      "************************************************************\n",
      "\n",
      "MainProcess pypet.storageservice.HDF5StorageService INFO     Initialising storage or updating meta data of Trajectory `results-2020-02-03-00H-26M-03S`.\n",
      "MainProcess pypet.storageservice.HDF5StorageService INFO     Finished init or meta data update for `results-2020-02-03-00H-26M-03S`.\n",
      "MainProcess pypet.environment.Environment INFO     Starting Pool with 8 processes\n",
      "MainProcess pypet INFO     PROGRESS: Finished 6/10 runs [============        ] 60.0%\n",
      "MainProcess pypet INFO     PROGRESS: Finished 7/10 runs [==============      ] 70.0%, remaining: 0:00:05\n",
      "MainProcess pypet INFO     PROGRESS: Finished 8/10 runs [================    ] 80.0%, remaining: 0:00:01\n",
      "MainProcess pypet INFO     PROGRESS: Finished 9/10 runs [==================  ] 90.0%, remaining: 0:00:00\n",
      "MainProcess pypet INFO     PROGRESS: Finished 10/10 runs [====================]100.0%\n",
      "MainProcess pypet.environment.Environment INFO     Pool has joined, will delete it.\n",
      "MainProcess pypet.storageservice.HDF5StorageService INFO     Initialising storage or updating meta data of Trajectory `results-2020-02-03-00H-26M-03S`.\n",
      "MainProcess pypet.storageservice.HDF5StorageService INFO     Finished init or meta data update for `results-2020-02-03-00H-26M-03S`.\n",
      "MainProcess pypet.environment.Environment INFO     \n",
      "************************************************************\n",
      "FINISHED all runs of trajectory\n",
      "`results-2020-02-03-00H-26M-03S`.\n",
      "************************************************************\n",
      "\n",
      "MainProcess pypet.environment.Environment INFO     \n",
      "************************************************************\n",
      "STARTING FINAL STORING of trajectory\n",
      "`results-2020-02-03-00H-26M-03S`\n",
      "************************************************************\n",
      "\n",
      "MainProcess pypet.storageservice.HDF5StorageService INFO     Start storing Trajectory `results-2020-02-03-00H-26M-03S`.\n",
      "MainProcess pypet.storageservice.HDF5StorageService INFO     Storing branch `config`.\n",
      "MainProcess pypet.storageservice.HDF5StorageService INFO     Storing branch `parameters`.\n",
      "MainProcess pypet.storageservice.HDF5StorageService INFO     Storing branch `results`.\n",
      "MainProcess pypet.storageservice.HDF5StorageService INFO     Storing branch `derived_parameters`.\n",
      "MainProcess pypet.storageservice.HDF5StorageService INFO     Finished storing Trajectory `results-2020-02-03-00H-26M-03S`.\n",
      "MainProcess pypet.environment.Environment INFO     \n",
      "************************************************************\n",
      "FINISHED FINAL STORING of trajectory\n",
      "`results-2020-02-03-00H-26M-03S`.\n",
      "************************************************************\n",
      "\n",
      "MainProcess pypet.environment.Environment INFO     All runs of trajectory `results-2020-02-03-00H-26M-03S` were completed successfully.\n",
      "MainProcess root INFO     Best individual is [3.644734684319668, 2.617852870277746, 1.3333333333333333, 1.3333333333333333]\n",
      "MainProcess root INFO     Score: -24.0\n",
      "MainProcess root INFO     Fitness: (24.0,)\n",
      "MainProcess root INFO     --- Population statistics ---\n",
      "MainProcess pypet.storageservice.HDF5StorageService INFO     Start storing Trajectory `results-2020-02-03-00H-26M-03S`.\n",
      "MainProcess pypet.storageservice.HDF5StorageService INFO     Storing branch `config`.\n",
      "MainProcess pypet.storageservice.HDF5StorageService INFO     Storing branch `parameters`.\n",
      "MainProcess pypet.storageservice.HDF5StorageService INFO     Storing branch `results`.\n",
      "MainProcess pypet.storageservice.HDF5StorageService INFO     Storing branch `derived_parameters`.\n",
      "MainProcess pypet.storageservice.HDF5StorageService INFO     Finished storing Trajectory `results-2020-02-03-00H-26M-03S`.\n",
      "MainProcess root INFO     Replacing 0 invalid individuals.\n",
      "MainProcess root INFO     ----------- Generation 2 -----------\n",
      "MainProcess pypet.environment.Environment INFO     I am preparing the Trajectory for the experiment and initialise the store.\n",
      "MainProcess pypet.environment.Environment INFO     Initialising the storage for the trajectory.\n",
      "MainProcess pypet.storageservice.HDF5StorageService INFO     Initialising storage or updating meta data of Trajectory `results-2020-02-03-00H-26M-03S`.\n",
      "MainProcess pypet.storageservice.HDF5StorageService INFO     Finished init or meta data update for `results-2020-02-03-00H-26M-03S`.\n",
      "MainProcess pypet.environment.Environment INFO     \n",
      "************************************************************\n",
      "STARTING runs of trajectory\n",
      "`results-2020-02-03-00H-26M-03S`.\n",
      "************************************************************\n",
      "\n",
      "MainProcess pypet.storageservice.HDF5StorageService INFO     Initialising storage or updating meta data of Trajectory `results-2020-02-03-00H-26M-03S`.\n",
      "MainProcess pypet.storageservice.HDF5StorageService INFO     Finished init or meta data update for `results-2020-02-03-00H-26M-03S`.\n",
      "MainProcess pypet.environment.Environment INFO     Starting Pool with 8 processes\n",
      "MainProcess pypet INFO     PROGRESS: Finished 10/14 runs [==============      ] 71.4%\n",
      "MainProcess pypet INFO     PROGRESS: Finished 11/14 runs [===============     ] 78.6%, remaining: 0:00:05\n",
      "MainProcess pypet INFO     PROGRESS: Finished 12/14 runs [=================   ] 85.7%, remaining: 0:00:01\n",
      "MainProcess pypet INFO     PROGRESS: Finished 13/14 runs [==================  ] 92.9%, remaining: 0:00:00\n",
      "MainProcess pypet INFO     PROGRESS: Finished 14/14 runs [====================]100.0%\n",
      "MainProcess pypet.environment.Environment INFO     Pool has joined, will delete it.\n",
      "MainProcess pypet.storageservice.HDF5StorageService INFO     Initialising storage or updating meta data of Trajectory `results-2020-02-03-00H-26M-03S`.\n",
      "MainProcess pypet.storageservice.HDF5StorageService INFO     Finished init or meta data update for `results-2020-02-03-00H-26M-03S`.\n",
      "MainProcess pypet.environment.Environment INFO     \n",
      "************************************************************\n",
      "FINISHED all runs of trajectory\n",
      "`results-2020-02-03-00H-26M-03S`.\n",
      "************************************************************\n",
      "\n",
      "MainProcess pypet.environment.Environment INFO     \n",
      "************************************************************\n",
      "STARTING FINAL STORING of trajectory\n",
      "`results-2020-02-03-00H-26M-03S`\n",
      "************************************************************\n",
      "\n",
      "MainProcess pypet.storageservice.HDF5StorageService INFO     Start storing Trajectory `results-2020-02-03-00H-26M-03S`.\n",
      "MainProcess pypet.storageservice.HDF5StorageService INFO     Storing branch `config`.\n",
      "MainProcess pypet.storageservice.HDF5StorageService INFO     Storing branch `parameters`.\n",
      "MainProcess pypet.storageservice.HDF5StorageService INFO     Storing branch `results`.\n",
      "MainProcess pypet.storageservice.HDF5StorageService INFO     Storing branch `derived_parameters`.\n",
      "MainProcess pypet.storageservice.HDF5StorageService INFO     Finished storing Trajectory `results-2020-02-03-00H-26M-03S`.\n",
      "MainProcess pypet.environment.Environment INFO     \n",
      "************************************************************\n",
      "FINISHED FINAL STORING of trajectory\n",
      "`results-2020-02-03-00H-26M-03S`.\n",
      "************************************************************\n",
      "\n",
      "MainProcess pypet.environment.Environment INFO     All runs of trajectory `results-2020-02-03-00H-26M-03S` were completed successfully.\n",
      "MainProcess root INFO     Best individual is [3.644734684319668, 2.617852870277746, 1.3333333333333333, 1.3333333333333333]\n",
      "MainProcess root INFO     Score: -24.0\n",
      "MainProcess root INFO     Fitness: (24.0,)\n",
      "MainProcess root INFO     --- Population statistics ---\n",
      "MainProcess pypet.storageservice.HDF5StorageService INFO     Start storing Trajectory `results-2020-02-03-00H-26M-03S`.\n",
      "MainProcess pypet.storageservice.HDF5StorageService INFO     Storing branch `config`.\n",
      "MainProcess pypet.storageservice.HDF5StorageService INFO     Storing branch `parameters`.\n",
      "MainProcess pypet.storageservice.HDF5StorageService INFO     Storing branch `results`.\n",
      "MainProcess pypet.storageservice.HDF5StorageService INFO     Storing branch `derived_parameters`.\n",
      "MainProcess pypet.storageservice.HDF5StorageService INFO     Finished storing Trajectory `results-2020-02-03-00H-26M-03S`.\n",
      "MainProcess root INFO     --- End of evolution ---\n",
      "MainProcess root INFO     Best individual is [3.644734684319668, 2.617852870277746, 1.3333333333333333, 1.3333333333333333], (24.0,)\n",
      "MainProcess root INFO     --- End of evolution ---\n",
      "MainProcess pypet.storageservice.HDF5StorageService INFO     Start storing Trajectory `results-2020-02-03-00H-26M-03S`.\n",
      "MainProcess pypet.storageservice.HDF5StorageService INFO     Storing branch `config`.\n",
      "MainProcess pypet.storageservice.HDF5StorageService INFO     Storing branch `parameters`.\n",
      "MainProcess pypet.storageservice.HDF5StorageService INFO     Storing branch `results`.\n",
      "MainProcess pypet.storageservice.HDF5StorageService INFO     Storing branch `derived_parameters`.\n",
      "MainProcess pypet.storageservice.HDF5StorageService INFO     Finished storing Trajectory `results-2020-02-03-00H-26M-03S`.\n"
     ]
    }
   ],
   "source": [
    "# Here we define the parameters and the range in which we want\n",
    "# to perform the evolutionary optimization.\n",
    "# Create a `ParameterSpace` \n",
    "pars = ParameterSpace(['mue_ext_mean', 'mui_ext_mean'], [[0.0, 4.0], [0.0, 4.0]])\n",
    "# Iitialize evolution with\n",
    "# :evaluateSimulation: The function that returns a fitness, \n",
    "# :pars: The parameter space and its boundaries to optimize\n",
    "# :model: The model that should be passed to the evaluation function\n",
    "# :weightList: A list of optimization weights for the `fitness_tuple`,\n",
    "#              positive values will lead to a maximization, negative \n",
    "#              values to a minimzation. The length of this list must\n",
    "#              be the same as the length of the `fitness_tuple`.\n",
    "# \n",
    "# :POP_INIT_SIZE: The size of the initial population that will be \n",
    "#              randomly sampled in the parameter space `pars`.\n",
    "#              Should be higher than POP_SIZE. 50-200 might be a good\n",
    "#              range to start experimenting with.\n",
    "# :POP_SIZE: Size of the population that should evolve. Must be an\n",
    "#              even number. 20-100 might be a good range to start with.\n",
    "# :NGEN: Number of generations to simulate the evolution for. A good\n",
    "#              range to start with might be 20-100.\n",
    "\n",
    "evolution = Evolution(evalFunction = evaluateSimulation, parameterSpace = pars, model = aln, weightList = [-1.0], POP_INIT_SIZE=6, POP_SIZE = 4, NGEN=3)\n",
    "# Enabling `verbose = True` will print statistics and generate plots \n",
    "# of the current population for each generation.\n",
    "evolution.run(verbose = False)"
   ]
  },
  {
   "cell_type": "markdown",
   "metadata": {},
   "source": [
    "# Analysis"
   ]
  },
  {
   "cell_type": "markdown",
   "metadata": {},
   "source": [
    "### Population"
   ]
  },
  {
   "cell_type": "code",
   "execution_count": 8,
   "metadata": {},
   "outputs": [
    {
     "name": "stdout",
     "output_type": "stream",
     "text": [
      "Best individual [3.644734684319668, 2.617852870277746, 1.3333333333333333, 1.3333333333333333] fitness (24.0,)\n"
     ]
    }
   ],
   "source": [
    "# the current population is always accesible via\n",
    "pop = evolution.pop\n",
    "# we can also use the functions registered to deap\n",
    "# to select the best of the population:\n",
    "best_10 = evolution.toolbox.selBest(pop, k=10)\n",
    "# Remember, we performed a minimization so a fitness\n",
    "# of 0 is optimal\n",
    "print(\"Best individual\", best_10[0], \"fitness\", best_10[0].fitness)"
   ]
  },
  {
   "cell_type": "code",
   "execution_count": 9,
   "metadata": {},
   "outputs": [
    {
     "name": "stdout",
     "output_type": "stream",
     "text": [
      "Parameters dictribution (Generation 2):\n",
      "mue_ext_mean: \t mean: 2.814,\t std: 0.5774\n",
      "mui_ext_mean: \t mean: 1.949,\t std: 0.6523\n",
      "There are 4 valid individuals\n",
      "Mean score across population: -2.4e+01\n"
     ]
    },
    {
     "data": {
      "image/png": "[encoded data removed]",
      "text/plain": [
       "<Figure size 288x144 with 1 Axes>"
      ]
     },
     "metadata": {
      "needs_background": "light"
     },
     "output_type": "display_data"
    },
    {
     "data": {
      "text/plain": [
       "<Figure size 432x288 with 0 Axes>"
      ]
     },
     "metadata": {},
     "output_type": "display_data"
    },
    {
     "data": {
      "image/png": "[encoded data removed]",
      "text/plain": [
       "<Figure size 360x360 with 6 Axes>"
      ]
     },
     "metadata": {
      "needs_background": "light"
     },
     "output_type": "display_data"
    },
    {
     "data": {
      "image/png": "[encoded data removed]",
      "text/plain": [
       "<Figure size 360x360 with 6 Axes>"
      ]
     },
     "metadata": {
      "needs_background": "light"
     },
     "output_type": "display_data"
    },
    {
     "name": "stdout",
     "output_type": "stream",
     "text": [
      "--------------------------\n",
      "Best 20 individuals:\n",
      "Printing 4 individuals\n",
      "Individual 0 pars mue_ext_mean 3.645, mui_ext_mean 2.618\n",
      "\tFitness values:  24.0\n",
      "Individual 1 pars mue_ext_mean 2.307, mui_ext_mean 0.9892\n",
      "\tFitness values:  24.0\n",
      "Individual 2 pars mue_ext_mean 3.062, mui_ext_mean 2.476\n",
      "\tFitness values:  24.0\n",
      "Individual 3 pars mue_ext_mean 2.244, mui_ext_mean 1.714\n",
      "\tFitness values:  24.0\n"
     ]
    }
   ],
   "source": [
    "# a sinple overview of the current population (in this case the \n",
    "# last one) is given via the `info()` method. This provides a \n",
    "# a histogram of the score (= mean fitness) and scatterplots\n",
    "# and density estimates across orthogonal parameter space cross \n",
    "# sections.\n",
    "evolution.info(plot=True)"
   ]
  },
  {
   "cell_type": "markdown",
   "metadata": {},
   "source": [
    "### Load results from disk"
   ]
  },
  {
   "cell_type": "code",
   "execution_count": 10,
   "metadata": {},
   "outputs": [
    {
     "name": "stderr",
     "output_type": "stream",
     "text": [
      "MainProcess root INFO     Loading results from ./data/hdf/evolution.hdf\n",
      "MainProcess root INFO     Analyzing trajectory results-2020-02-03-00H-26M-03S\n",
      "MainProcess pypet.storageservice.HDF5StorageService INFO     I will use the hdf5 file `./data/hdf/evolution.hdf`.\n",
      "MainProcess pypet.storageservice.HDF5StorageService INFO     Loading trajectory `results-2020-02-03-00H-26M-03S`.\n",
      "MainProcess pypet.storageservice.HDF5StorageService INFO     Loading branch `config` in mode `2`.\n",
      "MainProcess pypet.storageservice.HDF5StorageService INFO     Loading branch `derived_parameters` in mode `1`.\n",
      "MainProcess pypet.storageservice.HDF5StorageService INFO     Loading branch `parameters` in mode `2`.\n",
      "MainProcess pypet.storageservice.HDF5StorageService INFO     Loading branch `results` in mode `1`.\n"
     ]
    }
   ],
   "source": [
    "# This will load results from disk in case the session is \n",
    "# started newly and the trajectory is not in memory\n",
    "traj = evolution.loadResults()"
   ]
  },
  {
   "cell_type": "code",
   "execution_count": 11,
   "metadata": {},
   "outputs": [],
   "source": [
    "gens, all_scores = evolution.getScoresDuringEvolution()"
   ]
  },
  {
   "cell_type": "code",
   "execution_count": 12,
   "metadata": {},
   "outputs": [
    {
     "data": {
      "text/plain": [
       "Text(0, 0.5, 'Score')"
      ]
     },
     "execution_count": 12,
     "metadata": {},
     "output_type": "execute_result"
    },
    {
     "data": {
      "image/png": "[encoded data removed]",
      "text/plain": [
       "<Figure size 1600x800 with 1 Axes>"
      ]
     },
     "metadata": {
      "needs_background": "light"
     },
     "output_type": "display_data"
    }
   ],
   "source": [
    "plt.figure(figsize=(8, 4), dpi=200)   \n",
    "plt.plot(gens, np.nanmean(all_scores, axis=1))\n",
    "plt.fill_between(gens, np.nanmin(all_scores, axis=1), np.nanmax(all_scores, axis=1), alpha=0.3)\n",
    "plt.xlabel(\"Generation #\")\n",
    "plt.ylabel(\"Score\")"
   ]
  },
  {
   "cell_type": "code",
   "execution_count": 13,
   "metadata": {},
   "outputs": [],
   "source": [
    "# if we were lazy, we could just dump the whole evolution object into a file:\n",
    "# import dill\n",
    "# dill.dump(evolution, open(\"evolution.dill\", \"wb\"))"
   ]
  },
  {
   "cell_type": "code",
   "execution_count": null,
   "metadata": {},
   "outputs": [],
   "source": []
  }
 ],
 "metadata": {
  "kernelspec": {
   "display_name": "Python 3",
   "language": "python",
   "name": "python3"
  },
  "language_info": {
   "codemirror_mode": {
    "name": "ipython",
    "version": 3
   },
   "file_extension": ".py",
   "mimetype": "text/x-python",
   "name": "python",
   "nbconvert_exporter": "python",
   "pygments_lexer": "ipython3",
   "version": "3.7.3"
  }
 },
 "nbformat": 4,
 "nbformat_minor": 4
}
